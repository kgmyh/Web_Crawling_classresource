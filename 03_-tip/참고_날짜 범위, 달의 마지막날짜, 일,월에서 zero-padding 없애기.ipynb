{
 "cells": [
  {
   "cell_type": "code",
   "execution_count": 1,
   "metadata": {},
   "outputs": [],
   "source": [
    "import datetime"
   ]
  },
  {
   "cell_type": "code",
   "execution_count": 30,
   "metadata": {},
   "outputs": [],
   "source": [
    "s_date = datetime.date(1998,10,1)\n",
    "e_date = datetime.date.today()"
   ]
  },
  {
   "cell_type": "code",
   "execution_count": 27,
   "metadata": {},
   "outputs": [],
   "source": [
    "date_list = []\n",
    "temp_date = s_date\n",
    "day_dff = datetime.timedelta(days=1) #날짜 차이\n",
    "while temp_date != e_date:\n",
    "    #월쪽의 0을 없앤다. (lstrip('0'))\n",
    "    #안쪽 0은 |0 으로 만들어 |0을 제거한다. (30일의 0은 놔둬야 하므로)\n",
    "    #2자리는 |21 식으로 |이 남아 있으므로 마지막에 | 제거.\n",
    "    d = temp_date.strftime('%m-|%d-%Y').lstrip(\"0\").replace(\"|0\", \"\").replace('|','')\n",
    "    date_list.append(d)\n",
    "    temp_date = temp_date + day_dff\n",
    "    "
   ]
  },
  {
   "cell_type": "code",
   "execution_count": null,
   "metadata": {},
   "outputs": [],
   "source": [
    "s_date"
   ]
  },
  {
   "cell_type": "code",
   "execution_count": 28,
   "metadata": {},
   "outputs": [
    {
     "data": {
      "text/plain": [
       "['9-1-2019',\n",
       " '9-2-2019',\n",
       " '9-3-2019',\n",
       " '9-4-2019',\n",
       " '9-5-2019',\n",
       " '9-6-2019',\n",
       " '9-7-2019',\n",
       " '9-8-2019',\n",
       " '9-9-2019',\n",
       " '9-10-2019',\n",
       " '9-11-2019',\n",
       " '9-12-2019',\n",
       " '9-13-2019',\n",
       " '9-14-2019',\n",
       " '9-15-2019',\n",
       " '9-16-2019',\n",
       " '9-17-2019',\n",
       " '9-18-2019',\n",
       " '9-19-2019',\n",
       " '9-20-2019',\n",
       " '9-21-2019',\n",
       " '9-22-2019',\n",
       " '9-23-2019',\n",
       " '9-24-2019',\n",
       " '9-25-2019',\n",
       " '9-26-2019',\n",
       " '9-27-2019',\n",
       " '9-28-2019',\n",
       " '9-29-2019',\n",
       " '9-30-2019',\n",
       " '10-1-2019',\n",
       " '10-2-2019',\n",
       " '10-3-2019',\n",
       " '10-4-2019',\n",
       " '10-5-2019',\n",
       " '10-6-2019',\n",
       " '10-7-2019',\n",
       " '10-8-2019',\n",
       " '10-9-2019',\n",
       " '10-10-2019',\n",
       " '10-11-2019',\n",
       " '10-12-2019',\n",
       " '10-13-2019',\n",
       " '10-14-2019',\n",
       " '10-15-2019',\n",
       " '10-16-2019',\n",
       " '10-17-2019',\n",
       " '10-18-2019',\n",
       " '10-19-2019',\n",
       " '10-20-2019',\n",
       " '10-21-2019',\n",
       " '10-22-2019',\n",
       " '10-23-2019',\n",
       " '10-24-2019',\n",
       " '10-25-2019',\n",
       " '10-26-2019',\n",
       " '10-27-2019',\n",
       " '10-28-2019',\n",
       " '10-29-2019',\n",
       " '10-30-2019']"
      ]
     },
     "execution_count": 28,
     "metadata": {},
     "output_type": "execute_result"
    }
   ],
   "source": [
    "date_list"
   ]
  },
  {
   "cell_type": "code",
   "execution_count": 10,
   "metadata": {},
   "outputs": [],
   "source": [
    "mydatetime = datetime.datetime(2019,9,2)\n",
    "s = mydatetime.strftime('%m/%d/%Y %I:%M%p').lstrip(\"0\").replace(\" 0\", \" \")"
   ]
  },
  {
   "cell_type": "code",
   "execution_count": 11,
   "metadata": {},
   "outputs": [
    {
     "data": {
      "text/plain": [
       "'09/02/2019 12:00AM'"
      ]
     },
     "execution_count": 11,
     "metadata": {},
     "output_type": "execute_result"
    }
   ],
   "source": [
    "s"
   ]
  },
  {
   "cell_type": "code",
   "execution_count": 39,
   "metadata": {},
   "outputs": [
    {
     "data": {
      "text/plain": [
       "(6, 30)"
      ]
     },
     "execution_count": 39,
     "metadata": {},
     "output_type": "execute_result"
    }
   ],
   "source": [
    "import calendar\n",
    "calendar.monthrange(2019, 9)  #그해 그달 1일의 요일(Mon(0)~Sun(6)), 그해 그달의 마지막날"
   ]
  },
  {
   "cell_type": "code",
   "execution_count": null,
   "metadata": {},
   "outputs": [],
   "source": []
  }
 ],
 "metadata": {
  "kernelspec": {
   "display_name": "Python 3",
   "language": "python",
   "name": "python3"
  },
  "language_info": {
   "codemirror_mode": {
    "name": "ipython",
    "version": 3
   },
   "file_extension": ".py",
   "mimetype": "text/x-python",
   "name": "python",
   "nbconvert_exporter": "python",
   "pygments_lexer": "ipython3",
   "version": "3.7.3"
  }
 },
 "nbformat": 4,
 "nbformat_minor": 2
}
