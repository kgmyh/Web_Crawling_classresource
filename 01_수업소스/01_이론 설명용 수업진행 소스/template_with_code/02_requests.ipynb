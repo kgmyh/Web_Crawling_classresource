{
 "cells": [
  {
   "cell_type": "code",
   "execution_count": null,
   "metadata": {},
   "outputs": [],
   "source": []
  },
  {
   "cell_type": "markdown",
   "metadata": {
    "slideshow": {
     "slide_type": "slide"
    }
   },
   "source": [
    "# requests 모듈을 이용한 웹 요청\n",
    "- [Requests 홈페이지](https://requests.kennethreitz.org/en/master/)\n",
    "- **HTTP 요청을 처리하는 파이썬 패키지**\n",
    "- get/post 방식 모두를 지원하며 쿠키, 헤더정보등을 HTTP의 다양한 요청처리를 지원한다.\n",
    "- 설치\n",
    "    - `pip install requests`\n",
    "    - `conda install -c conda-forge requests`"
   ]
  },
  {
   "cell_type": "markdown",
   "metadata": {},
   "source": [
    "## Crawling을 위한 requests 코딩 패턴\n",
    "1. requests의 get()/post() 함수를 이용해 url을 넣어 서버 요청한다.\n",
    "3. 응답받은 내용을 처리.\n",
    "    - text(HTML)은 BeautifulSoup에 넣어 parsing\n",
    "    - binary 파일의 경우 파일출력을 이용해 local에 저장"
   ]
  },
  {
   "cell_type": "markdown",
   "metadata": {
    "slideshow": {
     "slide_type": "slide"
    }
   },
   "source": [
    "## 요청 함수\n",
    "- HTTP 요청 방식에 따라 두개 함수를 사용.\n",
    "- get(): GET방식 요청\n",
    "    - GET 방식(기본방식): 목적 - client가 자원을 요청하는 것 목적(달라는 것.)\n",
    "- post(): POST방식 요청\n",
    "    - POST 방식: 목적 - client가 자기의 자원을 server로 전송하는 것이 목적."
   ]
  },
  {
   "cell_type": "markdown",
   "metadata": {
    "slideshow": {
     "slide_type": "slide"
    }
   },
   "source": [
    "### requests.get(URL)\n",
    "- **GET 방식 요청**\n",
    "- **주요 매개변수**\n",
    "    - params: 요청파라미터를 dictionary로 전달\n",
    "    - headers: HTTP 요청 header를 dictionary로 전달\n",
    "        - 'User-Agent', 'Referer' 등 헤더 설정\n",
    "    - cookies: 쿠키정보를 전달\n",
    "- **반환값(Return Value)**\n",
    "    - [Response](#Response객체): 응답결과"
   ]
  },
  {
   "cell_type": "markdown",
   "metadata": {},
   "source": [
    "### requests.post(URL)\n",
    "- **POST 방식 요청**\n",
    "- **주요 매개변수**\n",
    "    - datas : 요청파라미터를 dictionary로 전달\n",
    "    - files : 업로드할 파일을 dictionary로 전달\n",
    "        - key: 이름, value: 파일과 연결된 InputStream(TextIOWrapper)\n",
    "    - headers: HTTP 요청 header를 dictionary로 전달\n",
    "        - 'User-Agent', 'Referer' 등 헤더 설정\n",
    "    - cookies: 쿠키정보를 전달\n",
    "- **반환값(Return Value)**\n",
    "    - [Response](#Response객체): 응답결과"
   ]
  },
  {
   "cell_type": "markdown",
   "metadata": {
    "slideshow": {
     "slide_type": "subslide"
    }
   },
   "source": [
    "> ### 요청파라미터(Request Parameter)\n",
    "> - 요청파라미터란?\n",
    ">     - 서버가 일하기 위해 클라이언트로 부터 받아야하는 값들\n",
    ">     - `name=value` 형태이며 여러개일 경우 `&`로 연결해서 전송됨\n",
    "> - Get 요청시 queryString 으로 전달\n",
    ">     - querystring : URL 뒤에 붙여서 전송한다.\n",
    ">     - ex) https://search.naver.com/search.naver?sm=top_hty&fbm=1&ie=utf8&query=python\n",
    ">     - requests.get() 요청시 \n",
    ">         1. url 뒤에 querystring으로 붙여서 전송\n",
    ">         2. dictionary 에 name=value 형태로 만들어 매개변수 params에 전달\n",
    "> - Post 요청시 요청정보의 body에 넣어 전달"
   ]
  },
  {
   "cell_type": "markdown",
   "metadata": {},
   "source": [
    "> ### HTTP 요청 헤더(Request Header)\n",
    "> HTTP 요청시 웹브라우저가 client의 여러 부가적인 정보들을 Key-Value 쌍 형식으로 전달한다.\n",
    "> - accept: 클라이언트가 처리가능한 content 타입 (Mime-type 형식으로 전달)\n",
    "> - accept-language: 클라이언트가 지원하는 언어(ex: ko, en-US)\n",
    "> - host: 요청한 host \n",
    "> - user-agent: 웹브라우저 종류"
   ]
  },
  {
   "cell_type": "markdown",
   "metadata": {
    "slideshow": {
     "slide_type": "slide"
    }
   },
   "source": [
    "## Response객체 -  응답데이터\n",
    "- get()/post() 의 요청에 대한 서버의 응답 결과를 Response에 담아 반환\n",
    "    - Response의 속성을 이용해 응답결과를 조회\n",
    "- 주요 속성(Attribut)\n",
    "    - **url**\n",
    "        - 응답 받은(요청한) url \n",
    "    - **status_code**\n",
    "        - HTTP 응답 상태코드\n",
    "    - **headers**\n",
    "        - 응답 header 정보를 dictionary로 반환\n",
    "- **응답 결과 조회**\n",
    "    - **text**\n",
    "        - 응답내용(html을 str로 반환)\n",
    "    - **content**\n",
    "        - 응답내용(응답결과가 binary-image, 동영상등- 일 경우사용하며 bytes로 반환)\n",
    "    - **json()**\n",
    "        - 응답 결과가 JSON 인 경우 dictionary로 변환해서 반환"
   ]
  },
  {
   "cell_type": "markdown",
   "metadata": {},
   "source": [
    "> ### JSON(JavaScript Object Notation)\n",
    "> key-value 형태 또는 배열 형태의 text이며 이 기종간 데이터 교환에 많이 사용된다. 자바스크립트 언어에서 Object와 array를 생성하는 문법을 이용해 만듬. \n",
    "- [JSON 공식사이트](http://json.org)\n",
    ">\n",
    "> ### json 모듈\n",
    "> JSON 형식 문자열을 다루는 모듈\n",
    "> - json.loads(json문자열)\n",
    ">    - JSON 형식 문자열을 dictionary로 변환\n",
    "> - json.dumps(dictionary)\n",
    ">    - dictionary를 JSON 형식 문자열로 변환"
   ]
  },
  {
   "cell_type": "markdown",
   "metadata": {},
   "source": [
    "> ### HTTP 응답 상태코드\n",
    "> - https://developer.mozilla.org/ko/docs/Web/HTTP/Status \n",
    "- 2XX: 성공\n",
    "    - 200: OK\n",
    "- 3XX: 다른 주소로 이동 (이사)\n",
    "    - 300번대이면 자동으로 이동해 준다. 크롤링시는 볼일이 별로 없다.\n",
    "- 4XX: 클라이언트 오류 (사용자가 잘못한 것)\n",
    "  - 404: 존재하지 않는 주소\n",
    "- 5XX: 서버 오류 (서버에서 문제생긴 것)\n",
    "  - 500: 서버가 처리방법을 모르는 오류\n",
    "  - 503: 서버가 다운 등의 문제로 서비스 불가 상태"
   ]
  },
  {
   "cell_type": "markdown",
   "metadata": {},
   "source": [
    "### Get 방식 요청 예제"
   ]
  },
  {
   "cell_type": "code",
   "execution_count": 17,
   "metadata": {},
   "outputs": [
    {
     "name": "stdout",
     "output_type": "stream",
     "text": [
      "<class 'requests.models.Response'>\n",
      "<class 'str'> 108069\n",
      "<!doctype html> <html lang=\"ko\"><head> <meta charset=\"utf-8\"> <meta name=\"referrer\" content=\"always\">  <meta name=\"format-detection\" content=\"telephone=no,address=no,email=no\"> <meta property=\"og:titl\n",
      "108069\n"
     ]
    }
   ],
   "source": [
    "import requests\n",
    "\n",
    "url = \"https://www.naver.com/\"\n",
    "# url = \"https://www.naver.com/adfasdfasdf\"\n",
    "url = \"https://search.naver.com/search.naver?where=nexearch&sm=top_hty&fbm=0&ie=utf8&query={}\"\n",
    "res = requests.get(url) \n",
    "if res.status_code == 200:  # 정상 응답이 왔다면\n",
    "    print(type(res))\n",
    "    print(type(res.text), len(res.text))\n",
    "    print(res.text[:200])\n",
    "    print(len(res.text))\n",
    "else:\n",
    "    print(\"응답을 받지 못함.\", res.status_code)\n"
   ]
  },
  {
   "cell_type": "code",
   "execution_count": null,
   "metadata": {},
   "outputs": [],
   "source": [
    "res.status_code  \n",
    "# HTTP 에서 정의한 응답 코드(응답 상태마다 정의한 정수 코드값)"
   ]
  },
  {
   "cell_type": "code",
   "execution_count": 13,
   "metadata": {},
   "outputs": [
    {
     "name": "stdout",
     "output_type": "stream",
     "text": [
      "<!DOCTYPE html\n",
      "    PUBLIC \"-//W3C//DTD XHTML 1.0 Transitional//EN\" \"http://www.w3.org/TR/xhtml1/DTD/xhtml1-transitional.dtd\">\n",
      "<html xmlns=\"http://www.w3.org/1999/xhtml\">\n",
      "\n",
      "<head>\n",
      "    <meta http-equiv=\"\n",
      "3613\n"
     ]
    }
   ],
   "source": [
    "# print(type(res))\n",
    "# print(type(res.text), len(res.text))\n",
    "print(res.text[:200])\n",
    "print(len(res.text))"
   ]
  },
  {
   "cell_type": "code",
   "execution_count": 36,
   "metadata": {},
   "outputs": [
    {
     "name": "stdout",
     "output_type": "stream",
     "text": [
      "https://httpbin.org/get\n",
      "응답상태코드: 200\n",
      "============응답데이터(text)==========\n",
      "{\n",
      "  \"args\": {\n",
      "    \"fbm\": \"0\", \n",
      "    \"page\": \"3\", \n",
      "    \"query\": \"python\"\n",
      "  }, \n",
      "  \"headers\": {\n",
      "    \"Accept\": \"*/*\", \n",
      "    \"Accept-Encoding\": \"gzip, deflate\", \n",
      "    \"Host\": \"httpbin.org\", \n",
      "    \"Referer\": \"https://www.google.com/\", \n",
      "    \"User-Agent\": \"Mozilla/5.0 (Windows NT 10.0; Win64; x64) AppleWebKit/537.36 (KHTML, like Gecko) Chrome/123.0.0.0 Safari/537.36\", \n",
      "    \"X-Amzn-Trace-Id\": \"Root=1-66027c5c-4e79dfc922cf306c5611dbe8\"\n",
      "  }, \n",
      "  \"origin\": \"222.112.208.67\", \n",
      "  \"url\": \"https://httpbin.org/get?query=python&fbm=0&page=3\"\n",
      "}\n",
      "\n",
      "==========응답헤더============\n",
      "{'Date': 'Tue, 26 Mar 2024 07:42:20 GMT', 'Content-Type': 'application/json', 'Content-Length': '526', 'Connection': 'keep-alive', 'Server': 'gunicorn/19.9.0', 'Access-Control-Allow-Origin': '*', 'Access-Control-Allow-Credentials': 'true'}\n"
     ]
    }
   ],
   "source": [
    "####### httpbin.org를 이용해 요청 처리\n",
    "#### GET 방식 요청\n",
    "import requests\n",
    "from pprint import pprint\n",
    "\n",
    "base_url = \"https://httpbin.org/{}\"\n",
    "url = base_url.format(\"get\")\n",
    "print(url)\n",
    "##### 요청파라미터 정의(get방식-url뒤에 붙이기. dictionary 정의 후 get()의 argument로 전달.)\n",
    "params = {\n",
    "    \"query\":\"python\",  # name : value\n",
    "    \"fbm\": 0,\n",
    "    \"page\": 3\n",
    "}\n",
    "# \"https://httpbin.org/get?name=value&name2=value2\"\n",
    "\n",
    "# google 검색 키워드: my user agent (웹브라우저의 user agent를 알려줌.)\n",
    "## 요청 헤더(Request Header) 설정: dictionary\n",
    "req_headers = {\n",
    "    \"user-agent\":\"Mozilla/5.0 (Windows NT 10.0; Win64; x64) AppleWebKit/537.36 (KHTML, like Gecko) Chrome/123.0.0.0 Safari/537.36\"\n",
    "    , \"Referer\":\"https://www.google.com/\"\n",
    "}\n",
    "\n",
    "res = requests.get(url,  # url\n",
    "                   params=params, # 요청파라미터들\n",
    "                   headers=req_headers) # 요청 header 정보들 \n",
    "print(\"응답상태코드:\",  res.status_code)\n",
    "if res.status_code == 200:\n",
    "    print(\"============응답데이터(text)==========\")\n",
    "    print(res.text)\n",
    "    print(\"==========응답헤더============\")\n",
    "    print(res.headers)"
   ]
  },
  {
   "cell_type": "code",
   "execution_count": 21,
   "metadata": {},
   "outputs": [
    {
     "name": "stdout",
     "output_type": "stream",
     "text": [
      "<class 'str'>\n",
      "<class 'requests.structures.CaseInsensitiveDict'>\n"
     ]
    }
   ],
   "source": [
    "print(type(res.text))\n",
    "print(type(res.headers)) # CaseInsensitiveDict: dict"
   ]
  },
  {
   "cell_type": "code",
   "execution_count": 26,
   "metadata": {},
   "outputs": [
    {
     "data": {
      "text/plain": [
       "dict"
      ]
     },
     "execution_count": 26,
     "metadata": {},
     "output_type": "execute_result"
    }
   ],
   "source": [
    "type(res.json())\n",
    "## 응답 데이터가 JSON 형식 text일 때 \n",
    "### res.text  : str\n",
    "### res.json(): dict"
   ]
  },
  {
   "cell_type": "code",
   "execution_count": 34,
   "metadata": {},
   "outputs": [
    {
     "name": "stdout",
     "output_type": "stream",
     "text": [
      "<class 'dict'>\n"
     ]
    },
    {
     "data": {
      "text/plain": [
       "(str,\n",
       " '{\"args\": {}, \"headers\": {\"Accept\": \"*/*\", \"Accept-Encoding\": \"gzip, deflate\", \"Host\": \"httpbin.org\", \"User-Agent\": \"python-requests/2.31.0\", \"X-Amzn-Trace-Id\": \"Root=1-66027565-1278a7807f2b48f20e9a6224\"}, \"origin\": \"222.112.208.67\", \"url\": \"https://httpbin.org/get\"}')"
      ]
     },
     "execution_count": 34,
     "metadata": {},
     "output_type": "execute_result"
    }
   ],
   "source": [
    "# JSON 모듈\n",
    "import json\n",
    "### json 형식 str -> dict\n",
    "d = json.loads(res.text)\n",
    "print(type(d))\n",
    "\n",
    "#### dict -> json형식 str\n",
    "t = json.dumps(d)\n",
    "type(t), t\n"
   ]
  },
  {
   "cell_type": "markdown",
   "metadata": {
    "heading_collapsed": true
   },
   "source": [
    "### Post 요청 예"
   ]
  },
  {
   "cell_type": "code",
   "execution_count": 38,
   "metadata": {},
   "outputs": [
    {
     "name": "stdout",
     "output_type": "stream",
     "text": [
      "https://httpbin.org/post\n",
      "{\n",
      "  \"args\": {}, \n",
      "  \"data\": \"\", \n",
      "  \"files\": {}, \n",
      "  \"form\": {\n",
      "    \"fbm\": \"0\", \n",
      "    \"page\": \"3\", \n",
      "    \"query\": \"python\"\n",
      "  }, \n",
      "  \"headers\": {\n",
      "    \"Accept\": \"*/*\", \n",
      "    \"Accept-Encoding\": \"gzip, deflate\", \n",
      "    \"Content-Length\": \"25\", \n",
      "    \"Content-Type\": \"application/x-www-form-urlencoded\", \n",
      "    \"Host\": \"httpbin.org\", \n",
      "    \"Referer\": \"https://www.google.com/\", \n",
      "    \"User-Agent\": \"Mozilla/5.0 (Windows NT 10.0; Win64; x64) AppleWebKit/537.36 (KHTML, like Gecko) Chrome/123.0.0.0 Safari/537.36\", \n",
      "    \"X-Amzn-Trace-Id\": \"Root=1-66027e0f-7bbb32aa3dd08f033741f184\"\n",
      "  }, \n",
      "  \"json\": null, \n",
      "  \"origin\": \"222.112.208.67\", \n",
      "  \"url\": \"https://httpbin.org/post\"\n",
      "}\n",
      "\n"
     ]
    }
   ],
   "source": [
    "url = base_url.format(\"post\")\n",
    "print(url)\n",
    "\n",
    "params = {\n",
    "    \"query\":\"python\",\n",
    "    \"fbm\": 0,\n",
    "    \"page\": 3\n",
    "}\n",
    "req_headers = {\n",
    "    \"user-agent\":\"Mozilla/5.0 (Windows NT 10.0; Win64; x64) AppleWebKit/537.36 (KHTML, like Gecko) Chrome/123.0.0.0 Safari/537.36\"\n",
    "    , \"Referer\":\"https://www.google.com/\"\n",
    "}\n",
    "\n",
    "## post 요청 (서버로 데이터를 전달하는 목적의 요청.)\n",
    "res = requests.post(url, \n",
    "                    data=params,       # 요청파라미터 \n",
    "                    headers=req_headers # 요청 헤더정보들\n",
    "                    )\n",
    "if res.status_code == 200:\n",
    "    print(res.text)\n",
    "else:\n",
    "    print(\"실패:\", res.status_code)"
   ]
  },
  {
   "cell_type": "markdown",
   "metadata": {
    "slideshow": {
     "slide_type": "slide"
    }
   },
   "source": [
    "### 응답결과(Response) 조회"
   ]
  },
  {
   "cell_type": "code",
   "execution_count": 1,
   "metadata": {},
   "outputs": [],
   "source": [
    "from bs4 import BeautifulSoup\n",
    "import requests\n",
    "# 1. url 분석 (url, 요청파라미터,)\n",
    "url = 'http://www.pythonscraping.com/pages/warandpeace.html'\n",
    "\n",
    "# user-agent 설정\n",
    "## 검색: 개발자도구 > 콘솔 : navigator.userAgent  실행. \n",
    "user_agent = \"Mozilla/5.0 (Windows NT 10.0; Win64; x64) AppleWebKit/537.36 (KHTML, like Gecko) Chrome/123.0.0.0 Safari/537.36\"\n",
    "\n",
    "## 요청\n",
    "res = requests.get(url, headers={\"user-agent\":user_agent})\n",
    "## 응답 데이터 처리\n",
    "if res.status_code == 200:\n",
    "    # 2. 내가 필요한 데이터를 어떻게 가져올지.(css selector)\n",
    "    ### BeautifulSoup을 이용해서 원하는 정보를 조회\n",
    "    #### 녹색으로 표시된 이름들. \n",
    "    soup = BeautifulSoup(res.text, \"lxml\")\n",
    "        \n",
    "    green_list = soup.select(\"span.green\")\n",
    "    \n",
    "    search_names = []\n",
    "    for tag in green_list:\n",
    "        search_names.append(tag.text)\n",
    "else:\n",
    "    print(\"실패:\", res.status_code)"
   ]
  },
  {
   "cell_type": "code",
   "execution_count": 2,
   "metadata": {},
   "outputs": [
    {
     "data": {
      "text/plain": [
       "['Anna\\nPavlovna Scherer',\n",
       " 'Empress Marya\\nFedorovna',\n",
       " 'Prince Vasili Kuragin',\n",
       " 'Anna Pavlovna',\n",
       " 'St. Petersburg',\n",
       " 'the prince',\n",
       " 'Anna Pavlovna',\n",
       " 'Anna Pavlovna',\n",
       " 'the prince',\n",
       " 'the prince',\n",
       " 'the prince',\n",
       " 'Prince Vasili',\n",
       " 'Anna Pavlovna',\n",
       " 'Anna Pavlovna',\n",
       " 'the prince',\n",
       " 'Wintzingerode',\n",
       " 'King of Prussia',\n",
       " 'le Vicomte de Mortemart',\n",
       " 'Montmorencys',\n",
       " 'Rohans',\n",
       " 'Abbe Morio',\n",
       " 'the Emperor',\n",
       " 'the prince',\n",
       " 'Prince Vasili',\n",
       " 'Dowager Empress Marya Fedorovna',\n",
       " 'the baron',\n",
       " 'Anna Pavlovna',\n",
       " 'the Empress',\n",
       " 'the Empress',\n",
       " \"Anna Pavlovna's\",\n",
       " 'Her Majesty',\n",
       " 'Baron\\nFunke',\n",
       " 'The prince',\n",
       " 'Anna\\nPavlovna',\n",
       " 'the Empress',\n",
       " 'The prince',\n",
       " 'Anatole',\n",
       " 'the prince',\n",
       " 'The prince',\n",
       " 'Anna\\nPavlovna',\n",
       " 'Anna Pavlovna']"
      ]
     },
     "execution_count": 2,
     "metadata": {},
     "output_type": "execute_result"
    }
   ],
   "source": [
    "search_names"
   ]
  },
  {
   "cell_type": "code",
   "execution_count": 3,
   "metadata": {},
   "outputs": [
    {
     "data": {
      "text/plain": [
       "['Anna Pavlovna Scherer',\n",
       " 'Empress Marya Fedorovna',\n",
       " 'Prince Vasili Kuragin',\n",
       " 'Anna Pavlovna',\n",
       " 'St. Petersburg',\n",
       " 'the prince',\n",
       " 'Anna Pavlovna',\n",
       " 'Anna Pavlovna',\n",
       " 'the prince',\n",
       " 'the prince',\n",
       " 'the prince',\n",
       " 'Prince Vasili',\n",
       " 'Anna Pavlovna',\n",
       " 'Anna Pavlovna',\n",
       " 'the prince',\n",
       " 'Wintzingerode',\n",
       " 'King of Prussia',\n",
       " 'le Vicomte de Mortemart',\n",
       " 'Montmorencys',\n",
       " 'Rohans',\n",
       " 'Abbe Morio',\n",
       " 'the Emperor',\n",
       " 'the prince',\n",
       " 'Prince Vasili',\n",
       " 'Dowager Empress Marya Fedorovna',\n",
       " 'the baron',\n",
       " 'Anna Pavlovna',\n",
       " 'the Empress',\n",
       " 'the Empress',\n",
       " \"Anna Pavlovna's\",\n",
       " 'Her Majesty',\n",
       " 'Baron Funke',\n",
       " 'The prince',\n",
       " 'Anna Pavlovna',\n",
       " 'the Empress',\n",
       " 'The prince',\n",
       " 'Anatole',\n",
       " 'the prince',\n",
       " 'The prince',\n",
       " 'Anna Pavlovna',\n",
       " 'Anna Pavlovna']"
      ]
     },
     "execution_count": 3,
     "metadata": {},
     "output_type": "execute_result"
    }
   ],
   "source": [
    "result = [name.replace(\"\\n\", \" \") for name in search_names]\n",
    "result"
   ]
  },
  {
   "cell_type": "markdown",
   "metadata": {},
   "source": [
    "## binary date 를 다운로드"
   ]
  },
  {
   "cell_type": "code",
   "execution_count": 59,
   "metadata": {},
   "outputs": [
    {
     "name": "stdout",
     "output_type": "stream",
     "text": [
      "<class 'bytes'>\n"
     ]
    }
   ],
   "source": [
    "url = \"https://www.kia.com/content/dam/kwp/kr/ko/main-kv-contents/202311/kv_the_new_carnival_pc.jpg\"\n",
    "\n",
    "res = requests.get(url, headers={\"user-agent\":user_agent})\n",
    "\n",
    "if res.status_code == 200:\n",
    "    # binary 파일: res.content => bytes 로 반환.\n",
    "    file = res.content\n",
    "    print(type(file))\n",
    "    # 파일 저장.\n",
    "    with open(\"car.jpg\", \"wb\") as fo:\n",
    "        fo.write(file)"
   ]
  },
  {
   "cell_type": "code",
   "execution_count": null,
   "metadata": {},
   "outputs": [],
   "source": [
    "# res.text : html\n",
    "# res.json() : json text -> dictionay (open api)\n",
    "# res.content : binary data(file)"
   ]
  },
  {
   "cell_type": "code",
   "execution_count": null,
   "metadata": {},
   "outputs": [],
   "source": []
  }
 ],
 "metadata": {
  "kernelspec": {
   "display_name": "Python 3 (ipykernel)",
   "language": "python",
   "name": "python3"
  },
  "language_info": {
   "codemirror_mode": {
    "name": "ipython",
    "version": 3
   },
   "file_extension": ".py",
   "mimetype": "text/x-python",
   "name": "python",
   "nbconvert_exporter": "python",
   "pygments_lexer": "ipython3",
   "version": "3.11.8"
  },
  "toc": {
   "base_numbering": 1,
   "nav_menu": {},
   "number_sections": true,
   "sideBar": false,
   "skip_h1_title": false,
   "title_cell": "Table of Contents",
   "title_sidebar": "Contents",
   "toc_cell": false,
   "toc_position": {},
   "toc_section_display": false,
   "toc_window_display": false
  },
  "varInspector": {
   "cols": {
    "lenName": 16,
    "lenType": 16,
    "lenVar": 40
   },
   "kernels_config": {
    "python": {
     "delete_cmd_postfix": "",
     "delete_cmd_prefix": "del ",
     "library": "var_list.py",
     "varRefreshCmd": "print(var_dic_list())"
    },
    "r": {
     "delete_cmd_postfix": ") ",
     "delete_cmd_prefix": "rm(",
     "library": "var_list.r",
     "varRefreshCmd": "cat(var_dic_list()) "
    }
   },
   "types_to_exclude": [
    "module",
    "function",
    "builtin_function_or_method",
    "instance",
    "_Feature"
   ],
   "window_display": false
  }
 },
 "nbformat": 4,
 "nbformat_minor": 2
}
