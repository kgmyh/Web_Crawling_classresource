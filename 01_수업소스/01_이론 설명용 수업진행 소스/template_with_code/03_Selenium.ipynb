{
 "cells": [
  {
   "cell_type": "markdown",
   "metadata": {},
   "source": [
    "# [Selenium](https://www.selenium.dev/)\n",
    "\n",
    "-   **웹 브라우저 제어 도구**\n",
    "    -   원래는 웹 어플리케이션 자동 테스트를 위한 목적으로 만들어진 프레임워크.\n",
    "    -   웹브라우저를 프로그램을 이용해 제어할 수 있다.\n",
    "-   **requests 모듈의 한계**\n",
    "    -   Javascript를 이용한 AJAX 기법의 비동기적 요청 처리 페이지 크롤링이 힘들다.\n",
    "    -   로그인 후 요청이 가능한 페이지들에 대한 크롤링이 번거롭다.\n",
    "    -   Selenium을 활용하면 이 두가지 모두 쉽게 처리할 수 있다.\n",
    "-   **Selenium 단점**\n",
    "    -   속도가 느림\n",
    "-   **설치**\n",
    "    -   `conda install selenium`\n",
    "    -   `pip install selenium`\n",
    "-   [튜토리얼](https://selenium-python.readthedocs.io/)\n",
    "    > -   주의: selenium은 3에서 4버전으로 업그레이드 되면서 드라이버 설정과 element 조회 메서드등이 많이 바뀜.\n"
   ]
  },
  {
   "cell_type": "code",
   "execution_count": null,
   "metadata": {},
   "outputs": [],
   "source": []
  },
  {
   "cell_type": "markdown",
   "metadata": {},
   "source": [
    "# Driver\n",
    "\n",
    "-   Driver\n",
    "    -   웹브라우저를 제어하는 프로그램으로 웹 브라우저별로 제공된다.\n",
    "    -   Selenium 패키지의 Driver객체를 이용해 제어하게 된다.\n",
    "\n",
    "## 설치\n",
    "\n",
    "1. **DriverManager 이용**\n",
    "    - `pip install webdriver-manager`\n"
   ]
  },
  {
   "cell_type": "markdown",
   "metadata": {},
   "source": [
    "2. **Hard coding**\n",
    "    1. 브라우져별로 드라이버를 다운로드 받는다.\n",
    "        - https://www.selenium.dev/documentation/webdriver/getting_started/install_drivers/#quick-reference\n",
    "    2. Local 컴퓨터에 설치된 크롬브라우져 버전에 맞는 드라이버 선택\n"
   ]
  },
  {
   "cell_type": "markdown",
   "metadata": {},
   "source": [
    "### DriverManager를 이용해 WebDriver 생성\n"
   ]
  },
  {
   "cell_type": "code",
   "execution_count": 3,
   "metadata": {},
   "outputs": [
    {
     "name": "stdout",
     "output_type": "stream",
     "text": [
      "<class 'str'>\n",
      "C:\\Users\\USER\\.wdm\\drivers\\chromedriver\\win64\\123.0.6312.86\\chromedriver-win32/chromedriver.exe\n"
     ]
    }
   ],
   "source": [
    "from webdriver_manager.chrome import ChromeDriverManager\n",
    "\n",
    "# 없으면 다운받고 그 경로를 반환\n",
    "# 이미 다운 받았으면 경로를 반환\n",
    "driver_path = ChromeDriverManager().install()\n",
    "print(type(driver_path))\n",
    "print(driver_path)"
   ]
  },
  {
   "cell_type": "markdown",
   "metadata": {},
   "source": [
    "### 다운 받은 Driver이용해 WebDriver생성\n"
   ]
  },
  {
   "cell_type": "code",
   "execution_count": 4,
   "metadata": {},
   "outputs": [],
   "source": [
    "# WebDriver 객체를 생성. => chromedriver.exe driver를 컨트롤하는 객체\n",
    "from selenium.webdriver.chrome.service import Service\n",
    "from selenium import webdriver\n",
    "\n",
    "service = Service(executable_path=driver_path)\n",
    "browser = webdriver.Chrome(service=service)"
   ]
  },
  {
   "cell_type": "code",
   "execution_count": 5,
   "metadata": {},
   "outputs": [],
   "source": [
    "# 특정 url로 이동\n",
    "browser.get(\"https://www.naver.com\")"
   ]
  },
  {
   "cell_type": "code",
   "execution_count": 6,
   "metadata": {},
   "outputs": [],
   "source": [
    "browser.get(\"https://www.daum.net\")"
   ]
  },
  {
   "cell_type": "code",
   "execution_count": 7,
   "metadata": {},
   "outputs": [],
   "source": [
    "# browser 종료\n",
    "browser.close()"
   ]
  },
  {
   "cell_type": "markdown",
   "metadata": {
    "heading_collapsed": true
   },
   "source": [
    "## WebDriver 주요 속성/메소드\n",
    "\n",
    "-   **page_source** : 현재 페이지의 html 소스를 반환\n",
    "    -   page_source로 html을 받아서 BeautifulSoup으로 크롤링할 원소를 찾을 수 있다.\n",
    "-   **get_screenshot_as_file(파일경로)**\n",
    "    -   현재 웹브라우저 화면을 지정한 캡처해서 지정한 파일 경로에 저장한다.\n",
    "-   **set_window_size(width, height)**\n",
    "    -   웹브라우저 윈도우 크기 조정\n",
    "-   **maximize_window()**\n",
    "    -   웹브라우저 화면 최대 크기로 만들기.\n",
    "-   **get_window_size()**\n",
    "    -   웹브라우저 윈도우 크기 조회. (width, height)\n",
    "-   **execute_script(\"자바스크립트코드\")**\n",
    "    -   문자열로 전달한 **javascript 코드**를 실행시킨다.\n",
    "-   **quit()**, **close()**\n",
    "    -   웹브라우저를 종료한다.\n"
   ]
  },
  {
   "cell_type": "markdown",
   "metadata": {
    "heading_collapsed": true
   },
   "source": [
    "## Page의 Element 조회 메소드\n",
    "\n",
    "-   BeautifulSoup을 이용하지 않고 셀레늄 자체 parser를 이용할 수 있다.\n",
    "-   **find_element()**: 조건을 만족하는 첫번째 요소를 반환한다.\n",
    "    -   매개변수\n",
    "        -   **by**: 검색방식\n",
    "            -   **By.ID**\n",
    "            -   **By.CLASS_NAME**\n",
    "            -   **By.TAG_NAME**\n",
    "            -   **By.CSS_SELECTOR**\n",
    "            -   **By.XPATH**\n",
    "            -   **By.LINK_TEXT**\n",
    "            -   **By.PARTIAL_LINK_TEXT**\n",
    "        -   **value**: str - 검색조건\n",
    "    -   반환타입: **WebElement**\n",
    "-   **find_elements()**: 조건을 만족하는 모든 요소를 찾는다.\n",
    "    -   매개변수: find_element()와 동일\n",
    "    -   반환타입\n",
    "        -   **list of WebElement**\n"
   ]
  },
  {
   "cell_type": "markdown",
   "metadata": {
    "heading_collapsed": true
   },
   "source": [
    "### WebElement (조회결과) 메소드 / 속성\n",
    "\n",
    "-   메소드\n",
    "    -   **get_attribute('속성명')**: 태그의 속성값 조회\n",
    "    -   **send_keys(\"문자열\")**: 입력폼에 문자열 값을 입력.\n",
    "    -   **click()**: element를 클릭\n",
    "    -   **submit()**: element가 Form인 경우 폼 전송\n",
    "    -   **clear()**: element가 입력폼인 경우 텍스트를 지운다.\n",
    "    -   위 조회 메소드들 : 하위의 elements들 조회\n",
    "-   속성\n",
    "    -   **text**: 태그내의 텍스트\n",
    "    -   **tag_name**: 태그이름\n"
   ]
  },
  {
   "cell_type": "code",
   "execution_count": 8,
   "metadata": {},
   "outputs": [],
   "source": [
    "from webdriver_manager.chrome import ChromeDriverManager\n",
    "from selenium.webdriver.chrome.service import Service\n",
    "from selenium import webdriver\n",
    "from selenium.webdriver.common.by import By\n",
    "from selenium.webdriver.common.keys import Keys"
   ]
  },
  {
   "cell_type": "code",
   "execution_count": 9,
   "metadata": {},
   "outputs": [],
   "source": [
    "# browser 실행\n",
    "service = Service(executable_path=ChromeDriverManager().install())\n",
    "browser = webdriver.Chrome(service=service)\n",
    "\n",
    "# naver로 이동\n",
    "browser.get(\"https://www.naver.com\")"
   ]
  },
  {
   "cell_type": "code",
   "execution_count": 10,
   "metadata": {},
   "outputs": [
    {
     "name": "stdout",
     "output_type": "stream",
     "text": [
      "<html lang=\"ko\" class=\"fzoom\" data-dark=\"false\"><head><script async=\"\" src=\"https://ntm.pstatic.net/\n"
     ]
    }
   ],
   "source": [
    "# 현재 페이지의 소스를 조회 \n",
    "#                     -> BeautifulSoup을 이용해 크롤링 할 경우\n",
    "html = browser.page_source\n",
    "print(html[:100]) #str 반환"
   ]
  },
  {
   "cell_type": "code",
   "execution_count": 11,
   "metadata": {},
   "outputs": [
    {
     "data": {
      "text/plain": [
       "True"
      ]
     },
     "execution_count": 11,
     "metadata": {},
     "output_type": "execute_result"
    }
   ],
   "source": [
    "# 스크린샷 - 저장경로\n",
    "browser.get_screenshot_as_file(\"naver_main.png\") "
   ]
  },
  {
   "cell_type": "code",
   "execution_count": 12,
   "metadata": {},
   "outputs": [],
   "source": [
    "# 브라우저 최대화\n",
    "browser.maximize_window()"
   ]
  },
  {
   "cell_type": "code",
   "execution_count": 13,
   "metadata": {},
   "outputs": [
    {
     "name": "stdout",
     "output_type": "stream",
     "text": [
      "{'width': 1936, 'height': 1048}\n"
     ]
    }
   ],
   "source": [
    "# 브라우저 윈도우 사이즈 조회 (width, height)\n",
    "size = browser.get_window_size()\n",
    "print(size)"
   ]
  },
  {
   "cell_type": "code",
   "execution_count": 15,
   "metadata": {},
   "outputs": [],
   "source": [
    "# 자바스크립트 코드를 실행.\n",
    "browser.execute_script(\"alert('안녕하세요');\")"
   ]
  },
  {
   "cell_type": "code",
   "execution_count": 23,
   "metadata": {},
   "outputs": [
    {
     "name": "stdout",
     "output_type": "stream",
     "text": [
      "<class 'selenium.webdriver.remote.webelement.WebElement'>\n",
      "input\n",
      "query\n"
     ]
    }
   ],
   "source": [
    "### element 처리\n",
    "# element조회\n",
    "## 검색키워드 입력 input을 조회 -> id=query\n",
    "query_textfield = browser.find_element(By.ID, \"query\")\n",
    "print(type(query_textfield))\n",
    "# element의 정보: 태그이름 - tag_name, \n",
    "#                 속성값: get_attribute(속성명)\n",
    "#                 content text: text\n",
    "print(query_textfield.tag_name)\n",
    "print(query_textfield.get_attribute(\"id\"))\n",
    "\n",
    "# text를 입력 (element에 문자열을 전송)\n",
    "query_textfield.send_keys(\"날씨 예보\")  # 키보드 친다.\n",
    "query_textfield.send_keys(Keys.ENTER)"
   ]
  },
  {
   "cell_type": "code",
   "execution_count": 25,
   "metadata": {},
   "outputs": [],
   "source": [
    "# 이동한 페이지의 키워드 입력 input 태그 조회\n",
    "query_textfield2 = browser.find_element(By.ID, \"nx_query\")\n",
    "# input의 내용을 삭제\n",
    "query_textfield2.clear()\n",
    "query_textfield2.send_keys(\"미세먼지\")\n",
    "query_textfield2.send_keys(Keys.ENTER)"
   ]
  },
  {
   "cell_type": "code",
   "execution_count": 27,
   "metadata": {},
   "outputs": [],
   "source": [
    "# 검색 버튼 조회 class=bt_search\n",
    "search_btn = browser.find_element(By.CLASS_NAME, \"bt_search\")\n",
    "# element.click() -> 클릭\n",
    "search_btn.click()"
   ]
  },
  {
   "cell_type": "code",
   "execution_count": 28,
   "metadata": {},
   "outputs": [],
   "source": [
    "browser.close()"
   ]
  },
  {
   "cell_type": "code",
   "execution_count": null,
   "metadata": {},
   "outputs": [],
   "source": []
  },
  {
   "cell_type": "markdown",
   "metadata": {},
   "source": [
    "## TODO: 구글 검색\n",
    "\n",
    "1. https://www.google.co.kr 페이지로 이동\n",
    "2. 파이썬을 검색한다.\n",
    "3. 검색결과 title들을 출력한다.\n"
   ]
  },
  {
   "cell_type": "code",
   "execution_count": 29,
   "metadata": {},
   "outputs": [],
   "source": [
    "from webdriver_manager.chrome import ChromeDriverManager\n",
    "from selenium.webdriver.chrome.service import Service\n",
    "from selenium import webdriver\n",
    "from selenium.webdriver.common.by import By\n",
    "from selenium.webdriver.common.keys import Keys"
   ]
  },
  {
   "cell_type": "code",
   "execution_count": 31,
   "metadata": {},
   "outputs": [],
   "source": [
    "# browser 실행\n",
    "service = Service(executable_path=ChromeDriverManager().install())\n",
    "# service = Service(executable_path=\"chromedriver.exe\")\n",
    "browser = webdriver.Chrome(service=service)\n",
    "\n",
    "# 구글로 이동\n",
    "browser.get(\"https://www.google.co.kr\")"
   ]
  },
  {
   "cell_type": "code",
   "execution_count": 32,
   "metadata": {},
   "outputs": [],
   "source": [
    "# 키워드 입력폼(textarea[name=q])\n",
    "keyword_input = browser.find_element(By.NAME, \"q\")\n",
    "keyword_input.send_keys(\"파이썬\")\n",
    "keyword_input.send_keys(Keys.ENTER)\n"
   ]
  },
  {
   "cell_type": "code",
   "execution_count": 34,
   "metadata": {},
   "outputs": [
    {
     "data": {
      "text/plain": [
       "8"
      ]
     },
     "execution_count": 34,
     "metadata": {},
     "output_type": "execute_result"
    }
   ],
   "source": [
    "# 제목 조회\n",
    "ele_list = browser.find_elements(By.CSS_SELECTOR,\n",
    "                    \"#arc-srp_110 > div > div > div > div > div.kb0PBd.cvP2Ce.A9Y9g.jGGQ5e > div > div > span > a > h3\")\n",
    "len(ele_list)"
   ]
  },
  {
   "cell_type": "code",
   "execution_count": 35,
   "metadata": {},
   "outputs": [
    {
     "name": "stdout",
     "output_type": "stream",
     "text": [
      "온라인 파이썬 컴파일러\n",
      "HongLab 홍정모 연구소\n",
      "01-4 파이썬 설치하기\n",
      "모두를 위한 프로그래밍 : 파이썬 강좌소개\n",
      "1 장 파이썬(Python) 입문 | 파이썬 프로그래밍 기초\n",
      "파이썬 프로그래밍\n",
      "파이썬\n",
      "Python(파이썬) | 국내도서 - 모바일교보문고\n"
     ]
    }
   ],
   "source": [
    "# element의 text content 조회\n",
    "for ele in ele_list:\n",
    "    print(ele.text)"
   ]
  },
  {
   "cell_type": "code",
   "execution_count": 36,
   "metadata": {},
   "outputs": [
    {
     "name": "stdout",
     "output_type": "stream",
     "text": [
      "온라인 파이썬 컴파일러\n",
      "HongLab 홍정모 연구소\n",
      "01-4 파이썬 설치하기\n",
      "모두를 위한 프로그래밍 : 파이썬 강좌소개\n",
      "1 장 파이썬(Python) 입문 | 파이썬 프로그래밍 기초\n",
      "파이썬 프로그래밍\n",
      "파이썬\n",
      "Python(파이썬) | 국내도서 - 모바일교보문고\n"
     ]
    }
   ],
   "source": [
    "# beautifulsoup\n",
    "from bs4 import BeautifulSoup\n",
    "soup = BeautifulSoup(browser.page_source, \"lxml\")\n",
    "ele_list2 = soup.select(\"#arc-srp_110 > div > div > div > div > div.kb0PBd.cvP2Ce.A9Y9g.jGGQ5e > div > div > span > a > h3\")\n",
    "for ele2 in ele_list2:\n",
    "    print(ele2.text)"
   ]
  },
  {
   "cell_type": "code",
   "execution_count": 37,
   "metadata": {},
   "outputs": [],
   "source": [
    "browser.close()"
   ]
  },
  {
   "cell_type": "markdown",
   "metadata": {},
   "source": [
    "## 브라우저의 headless 모드를 이용.\n",
    "\n",
    "-   Headless 브라우저\n",
    "    -   브라우저의 창을 띄우지 않고 실제 브라우저와 동일하게 동작하도록 하는 방식\n",
    "    -   CLI(command line interface) 기반의 OS (리눅스 서버)를 지원하기 위한 브라우저\n",
    "    -   크롬은 버전 60부터 headless 모드 지원\n",
    "-   selenium에서 headless 모드\n",
    "    -   webdriver options에 headless 설정\n",
    "\n",
    "> -   **Brower Option**: https://www.selenium.dev/documentation/webdriver/drivers/options/\n"
   ]
  },
  {
   "cell_type": "code",
   "execution_count": 41,
   "metadata": {},
   "outputs": [
    {
     "name": "stdout",
     "output_type": "stream",
     "text": [
      "완료\n"
     ]
    }
   ],
   "source": [
    "from selenium import webdriver\n",
    "import time \n",
    "option = webdriver.ChromeOptions()\n",
    "option.add_argument(\"--headless\")\n",
    "service = Service(executable_path=ChromeDriverManager().install())\n",
    "browser = webdriver.Chrome(service=service, \n",
    "                           options=option)\n",
    "browser.maximize_window()\n",
    "browser.get(\"https://www.daum.net\")\n",
    "# time.sleep(1)\n",
    "browser.get_screenshot_as_file(\"daum_main2.png\")\n",
    "browser.close()\n",
    "print(\"완료\")"
   ]
  },
  {
   "cell_type": "markdown",
   "metadata": {
    "hidden": true
   },
   "source": [
    "# 대기 하기\n",
    "\n",
    "## Explicit Wait\n",
    "\n",
    "-   특정 조건/상황을 만족할 때 까지 대기\n",
    "-   `WebDriverWait(driver, 초).until(expected_contition)` 구문 사용\n",
    "-   expected_condition 함수\n",
    "    -   selenium.webdriver.support.expected_conditions 모듈에 정의된 함수 사용.\n",
    "        -   https://selenium-python.readthedocs.io/api.html#module-selenium.webdriver.support.expected_conditions\n",
    "\n",
    "## Implicit Wait\n",
    "\n",
    "-   현재 페이지에 없는 element나 elememt들이 loading 되기를 설정한 시간만큼 기다린다.\n",
    "-   설정한 시간 이내에 elements가 loading되면 대기가 종료된다.\n",
    "-   `implicit_wait(초)` 구문 사용\n",
    "-   한번 설정하면 설정된 WebDriver가 close될때 까지 그 설정이 유지된다.\n",
    "-   https://selenium-python.readthedocs.io/waits.html\n",
    "\n",
    "### 예)\n",
    "\n",
    "```python\n",
    "browser.implicitly_wait(5)\n",
    "# 페이지 로딩(dom tree완성)될 때까지 최대 5초간 기다린다. (로딩이 되면 5초가 되지 않아도 대기를 끝낸다.)\n",
    "```\n",
    "\n",
    "<hr>\n",
    "\n",
    "```python\n",
    "from selenium.webdriver.support import expected_conditions as EC\n",
    "\n",
    "...\n",
    "\n",
    "try:\n",
    "    # element가 반환될 때 까지 최대 10초 기다린다.\n",
    "    element = WebDriverWait(driver, 10).until(\n",
    "        EC.presence_of_element_located((By.ID, \"myDynamicElement\"))\n",
    "    )\n",
    "finally:\n",
    "    driver.quit()\n",
    "```\n"
   ]
  },
  {
   "cell_type": "markdown",
   "metadata": {},
   "source": [
    "# 무한 스크롤\n",
    "\n",
    "-   javascript 에서 현재 페이지의 높이(scroll pane(scroll bar가 움직이는 공간)의 길이)\n",
    "    -   `document.documentElement.scrollHeight`\n",
    "-   scroll bar를 이동\n",
    "    -   `window.scrollTo(가로 스크롤바를 이동시킬 위치:정수,\n",
    "        세로 스코롤바를 이동시킬 위치:정수)\n"
   ]
  },
  {
   "cell_type": "code",
   "execution_count": 48,
   "metadata": {},
   "outputs": [],
   "source": [
    "from selenium import webdriver\n",
    "from selenium.webdriver.chrome.service import Service\n",
    "from selenium.webdriver.common.by import By\n",
    "from selenium.webdriver.common.keys import Keys\n",
    "from webdriver_manager.chrome import ChromeDriverManager\n",
    "import time\n",
    "\n",
    "service = Service(executable_path=ChromeDriverManager().install())\n",
    "browser = webdriver.Chrome(service=service)\n",
    "# implicit wait\n",
    "browser.implicitly_wait(5)  # 로딩될 때 까지 최대 5초 대기. \n",
    "\n",
    "browser.maximize_window()\n",
    "# 유튜브로 이동.\n",
    "browser.get('https://pokemonkorea.co.kr/pokedex')\n",
    "\n",
    "time.sleep(2)\n",
    "\n",
    "# 현재 페이지의 높이 조회 -> javascript\n",
    "scroll_pane_height = browser.execute_script(\n",
    "    \"return document.documentElement.scrollHeight\"\n",
    ")\n",
    "# 높이 scrollbar를 페이지의 맨 아래로 내린다. \n",
    "# 페이지의 높이가 안변할 때 까지 반복\n",
    "while True:\n",
    "    # 스크롤 내리기\n",
    "    browser.execute_script(\"window.scrollTo(0, document.documentElement.scrollHeight)\")\n",
    "    # 이동 후 height 를 조회\n",
    "    time.sleep(1)\n",
    "    new_scroll_pane_height = browser.execute_script(\n",
    "        \"return document.documentElement.scrollHeight\"\n",
    "    )\n",
    "    # 이전 높이와 이동 후 높이가 같다면 종료\n",
    "    if scroll_pane_height == new_scroll_pane_height:\n",
    "        break\n",
    "    scroll_pane_height = new_scroll_pane_height\n",
    "\n",
    "    # 조회\n",
    "browser.close()"
   ]
  }
 ],
 "metadata": {
  "kernelspec": {
   "display_name": "Python 3 (ipykernel)",
   "language": "python",
   "name": "python3"
  },
  "language_info": {
   "codemirror_mode": {
    "name": "ipython",
    "version": 3
   },
   "file_extension": ".py",
   "mimetype": "text/x-python",
   "name": "python",
   "nbconvert_exporter": "python",
   "pygments_lexer": "ipython3",
   "version": "3.11.8"
  },
  "toc": {
   "base_numbering": 1,
   "nav_menu": {},
   "number_sections": false,
   "sideBar": false,
   "skip_h1_title": false,
   "title_cell": "Table of Contents",
   "title_sidebar": "Contents",
   "toc_cell": false,
   "toc_position": {},
   "toc_section_display": true,
   "toc_window_display": false
  },
  "varInspector": {
   "cols": {
    "lenName": 16,
    "lenType": 16,
    "lenVar": 40
   },
   "kernels_config": {
    "python": {
     "delete_cmd_postfix": "",
     "delete_cmd_prefix": "del ",
     "library": "var_list.py",
     "varRefreshCmd": "print(var_dic_list())"
    },
    "r": {
     "delete_cmd_postfix": ") ",
     "delete_cmd_prefix": "rm(",
     "library": "var_list.r",
     "varRefreshCmd": "cat(var_dic_list()) "
    }
   },
   "types_to_exclude": [
    "module",
    "function",
    "builtin_function_or_method",
    "instance",
    "_Feature"
   ],
   "window_display": false
  }
 },
 "nbformat": 4,
 "nbformat_minor": 2
}
