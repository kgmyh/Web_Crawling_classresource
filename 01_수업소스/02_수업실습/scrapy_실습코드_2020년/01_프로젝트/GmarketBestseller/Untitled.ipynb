{
 "cells": [
  {
   "cell_type": "markdown",
   "metadata": {},
   "source": [
    "# scrapy project\n",
    "- 프로젝트 생성\n",
    "- 구조\n",
    "- gmarket 베스트 상품 링크, 상세정보 수집"
   ]
  },
  {
   "cell_type": "markdown",
   "metadata": {
    "ExecuteTime": {
     "end_time": "2020-07-15T12:06:17.962707Z",
     "start_time": "2020-07-15T12:06:17.958716Z"
    }
   },
   "source": [
    "## 프로젝트 생성"
   ]
  },
  {
   "cell_type": "code",
   "execution_count": 2,
   "metadata": {
    "ExecuteTime": {
     "end_time": "2020-07-15T12:06:55.201279Z",
     "start_time": "2020-07-15T12:06:53.670339Z"
    }
   },
   "outputs": [
    {
     "name": "stdout",
     "output_type": "stream",
     "text": [
      "New Scrapy project 'crawler', using template directory 'c:\\users\\kgmyh\\anaconda3\\lib\\site-packages\\scrapy\\templates\\project', created in:\n",
      "    E:\\OneDrive - 둔전초등학교\\01_과목별 수업자료\\03_크롤링\\03_차후 수업 추가할 것\\scarappy_exam\\crawler\n",
      "\n",
      "You can start your first spider with:\n",
      "    cd crawler\n",
      "    scrapy genspider example example.com\n"
     ]
    }
   ],
   "source": [
    "!scrapy startproject crawler"
   ]
  },
  {
   "cell_type": "code",
   "execution_count": 6,
   "metadata": {
    "ExecuteTime": {
     "end_time": "2020-07-15T12:08:51.569293Z",
     "start_time": "2020-07-15T12:08:51.535383Z"
    }
   },
   "outputs": [
    {
     "name": "stdout",
     "output_type": "stream",
     "text": [
      "UX200P 볼륨에 대한 폴더 경로의 목록입니다.\n",
      "볼륨 일련 번호는 1858-08E9입니다.\n",
      "E:\\ONEDRIVE - 둔전초등학교\\01_과목별 수업자료\\03_크롤링\\03_차후 수업 추가할 것\\SCARAPPY_EXAM\\CRAWLER\n",
      "└─crawler\n",
      "    ├─spiders\n",
      "    │  └─__pycache__\n",
      "    └─__pycache__\n"
     ]
    }
   ],
   "source": [
    "!tree crawler"
   ]
  },
  {
   "cell_type": "markdown",
   "metadata": {},
   "source": [
    "### 구조\n",
    "- spiders 디렉토리\n",
    "    - 어떤 웹서비스를 어떻게 크롤링 할 것인지를 작성 (.py로 작성)\n",
    "- items.py\n",
    "    - 어떤 데이터를 저장할 지 Model에 해당. 저장하는 데이터의 구조를 설정\n",
    "- pipelines.py\n",
    "    - 스크래핑한 결과물을 item 형태로 구성하고 처리하는 방법에 대한 코드\n",
    "    - 처리한 다는 것은 DB에 저장할지 메일로 보낼지등에 대한 처리방법\n",
    "- middlewares.py\n",
    "    - HW 관련 설정. 이건 그대로 둔다.\n",
    "- settings.py\n",
    "    - 스크래핑 할 때의 환경설정값을 지정.\n",
    "    - robots.txt 를 따를지 안따를지 등"
   ]
  },
  {
   "cell_type": "markdown",
   "metadata": {},
   "source": [
    "### 절차\n",
    "- spiders/xxxx.py -> 크롤링 절차를 작성한다. (ex: gmarket.py)\n",
    "- 가져온 데이터는 items.py에 정의한 스키마에 따라 item으로 만들어 진다.\n",
    "- 이것을 던지면 출력되는데 pipelines.py에 정의한 것이 있으면 여기를 거쳐 처리가 된뒤 출력된다.\n",
    "- 내부적으로 Thread로 처리된다.\n",
    "\n",
    "### 구현\n",
    "- spiders\\gmarkets.py 에 구현\n",
    "- items.py 구현"
   ]
  },
  {
   "cell_type": "markdown",
   "metadata": {},
   "source": [
    "### gmarket 베스트셀러 상품수집\n",
    "- 상품명, 상세페이지 URL, 원가, 판매가, 할인률\n",
    "- xpath 확인\n",
    "- items.py 변경\n",
    "- spider.py 구현\n",
    "- 크롤러 실행"
   ]
  },
  {
   "cell_type": "markdown",
   "metadata": {},
   "source": [
    "#### 1. xpath 확인\n",
    "- http://corners.gmarket.co.kr/Bestsellers"
   ]
  },
  {
   "cell_type": "code",
   "execution_count": 9,
   "metadata": {
    "ExecuteTime": {
     "end_time": "2020-07-15T12:20:04.547279Z",
     "start_time": "2020-07-15T12:20:04.092447Z"
    }
   },
   "outputs": [],
   "source": [
    "import scrapy\n",
    "import requests\n",
    "from scrapy.http import TextResponse"
   ]
  },
  {
   "cell_type": "code",
   "execution_count": 10,
   "metadata": {
    "ExecuteTime": {
     "end_time": "2020-07-15T12:20:05.079082Z",
     "start_time": "2020-07-15T12:20:05.074094Z"
    }
   },
   "outputs": [],
   "source": [
    "url = 'http://corners.gmarket.co.kr/Bestsellers'"
   ]
  },
  {
   "cell_type": "code",
   "execution_count": 11,
   "metadata": {
    "ExecuteTime": {
     "end_time": "2020-07-15T12:20:06.135223Z",
     "start_time": "2020-07-15T12:20:05.882899Z"
    }
   },
   "outputs": [],
   "source": [
    "req = requests.get(url)\n",
    "response = TextResponse(req.url, body=req.text, encoding='utf-8')"
   ]
  },
  {
   "cell_type": "code",
   "execution_count": 17,
   "metadata": {
    "ExecuteTime": {
     "end_time": "2020-07-15T12:23:01.747410Z",
     "start_time": "2020-07-15T12:23:01.720481Z"
    }
   },
   "outputs": [
    {
     "data": {
      "text/plain": [
       "200"
      ]
     },
     "execution_count": 17,
     "metadata": {},
     "output_type": "execute_result"
    }
   ],
   "source": [
    "links = response.xpath('//*[@id=\"gBestWrap\"]/div/div[3]/div[2]/ul/li/div[1]/a/@href').extract()\n",
    "len(links)"
   ]
  },
  {
   "cell_type": "code",
   "execution_count": 18,
   "metadata": {
    "ExecuteTime": {
     "end_time": "2020-07-15T12:23:02.416101Z",
     "start_time": "2020-07-15T12:23:02.411112Z"
    }
   },
   "outputs": [
    {
     "data": {
      "text/plain": [
       "'http://item.gmarket.co.kr/Item?goodscode=884451980&ver=637304448090964285'"
      ]
     },
     "execution_count": 18,
     "metadata": {},
     "output_type": "execute_result"
    }
   ],
   "source": [
    "links[0]"
   ]
  },
  {
   "cell_type": "code",
   "execution_count": 31,
   "metadata": {
    "ExecuteTime": {
     "end_time": "2020-07-15T12:34:01.252575Z",
     "start_time": "2020-07-15T12:33:59.778854Z"
    }
   },
   "outputs": [
    {
     "name": "stdout",
     "output_type": "stream",
     "text": [
      "[구운감자] 해태 구운감자 24g 30개 과자 간식 한박스 오늘만 할인  14900 37300 60.0%\n"
     ]
    }
   ],
   "source": [
    "req = requests.get(links[0])\n",
    "response = TextResponse(req.url, body=req.text, encoding='utf-8')\n",
    "title = response.xpath('//*[@id=\"itemcase_basic\"]/h1/text()')[0].extract()\n",
    "sales_price = response.xpath('//*[@id=\"itemcase_basic\"]/p/span/strong/text()')[0].extract().replace(',','')\n",
    "orginal_price = response.xpath('//*[@id=\"itemcase_basic\"]/p/span/span/text()')[0].extract().replace(',','')\n",
    "discount_rate = str(round(1-int(sales_price)/int(orginal_price), 2)*100) + '%' # 1-정가에 대한 판매가의 비율  (정가가 100 판매가가 40 100-40=60원 할인 할인된 60원은 정가 대비 비율이? 60/100 => 이걸 1-세일가/판매가)\n",
    "print(title, sales_price, orginal_price, discount_rate)"
   ]
  },
  {
   "cell_type": "code",
   "execution_count": 32,
   "metadata": {
    "ExecuteTime": {
     "end_time": "2020-07-15T12:34:16.521265Z",
     "start_time": "2020-07-15T12:34:16.517278Z"
    }
   },
   "outputs": [],
   "source": [
    "# items.py 작성"
   ]
  },
  {
   "cell_type": "code",
   "execution_count": 41,
   "metadata": {
    "ExecuteTime": {
     "end_time": "2020-07-15T12:40:27.340709Z",
     "start_time": "2020-07-15T12:40:27.320731Z"
    }
   },
   "outputs": [
    {
     "name": "stdout",
     "output_type": "stream",
     "text": [
      "# Define here the models for your scraped items\n",
      "#\n",
      "# See documentation in:\n",
      "# https://docs.scrapy.org/en/latest/topics/items.html\n",
      "\n",
      "import scrapy\n",
      "\n",
      "\n",
      "class CrawlerItem(scrapy.Item):\n",
      "    # define the fields for your item here like:\n",
      "    # name = scrapy.Field()\n",
      "    pass\n"
     ]
    }
   ],
   "source": [
    "!type .\\crawler\\crawler\\items.py\n",
    "# 경로 \\ 로 해야 함. / 안됨(윈도우경로)"
   ]
  },
  {
   "cell_type": "code",
   "execution_count": 37,
   "metadata": {
    "ExecuteTime": {
     "end_time": "2020-07-15T12:39:23.416685Z",
     "start_time": "2020-07-15T12:39:23.412725Z"
    }
   },
   "outputs": [
    {
     "name": "stdout",
     "output_type": "stream",
     "text": [
      "E:\\OneDrive - 둔전초등학교\\01_과목별 수업자료\\03_크롤링\\03_차후 수업 추가할 것\\scarappy_exam\n"
     ]
    }
   ],
   "source": [
    "import os\n",
    "print(os.getcwd())"
   ]
  },
  {
   "cell_type": "code",
   "execution_count": 61,
   "metadata": {
    "ExecuteTime": {
     "end_time": "2020-07-15T13:02:42.959146Z",
     "start_time": "2020-07-15T13:02:42.952164Z"
    }
   },
   "outputs": [
    {
     "name": "stdout",
     "output_type": "stream",
     "text": [
      "Overwriting crawler/crawler/items.py\n"
     ]
    }
   ],
   "source": [
    "%%writefile crawler/crawler/items.py\n",
    "# 셀의 내용을 파일에 출력(덮어쓰기) 매직 커맨드는 첫줄에\n",
    "import scrapy\n",
    "\n",
    "# scrapy.Item 상속해서 만든다. 클래스 이름은 상관없다.\n",
    "class CrawlerItem(scrapy.Item):\n",
    "    title = scrapy.Field()\n",
    "    sales_price = scrapy.Field()\n",
    "    original_price = scrapy.Field()\n",
    "    discount_rate = scrapy.Field()\n",
    "    link  = scrapy.Field()\n",
    "    "
   ]
  },
  {
   "cell_type": "code",
   "execution_count": 69,
   "metadata": {
    "ExecuteTime": {
     "end_time": "2020-07-15T13:10:14.615228Z",
     "start_time": "2020-07-15T13:10:14.608246Z"
    }
   },
   "outputs": [
    {
     "name": "stdout",
     "output_type": "stream",
     "text": [
      "Overwriting crawler/crawler/spiders/spider.py\n"
     ]
    }
   ],
   "source": [
    "%%writefile crawler/crawler/spiders/spider.py\n",
    "import scrapy\n",
    "from crawler.items import CrawlerItem  #item import\n",
    "\n",
    "class Spider(scrapy.Spider):\n",
    "    name = \"GmarketBestSellers\" #실행시킬 이름\n",
    "    allow_domain = ['gmarket.co.kr'] # 이 도메인 내의 내용만 크롤링 하겠다.\n",
    "    start_urls = ['http://corners.gmarket.co.kr/Bestsellers'] #최초에 크롤링할 페이지의 url. 여러개 등록 가능. 여러 url이면 동시에 여러개가 실행된다.\n",
    "    \n",
    "    # request에 대한 response를 받아 이 메소드가 실행된다.\n",
    "    def parse(self, response):\n",
    "        # 목록의 링크들 가져와서 반복문 돌린다.\n",
    "        links = links = response.xpath('//*[@id=\"gBestWrap\"]/div/div[3]/div[2]/ul/li/div[1]/a/@href').extract()\n",
    "        # 하나의 링크를 가져와 요청한뒤 그 response를 callback 에게 전달한다.\n",
    "        for link in links[:10]:\n",
    "            yield scrapy.Request(link, callback=self.page_content)\n",
    "    \n",
    "    # 상세페이지의 response를 받아서 원하는 처리를 하면된다.\n",
    "    def page_content(self, response):\n",
    "        item = CrawlerItem()\n",
    "        item['title'] =  response.xpath('//*[@id=\"itemcase_basic\"]/h1/text()')[0].extract()\n",
    "        item['sales_price'] = response.xpath('//*[@id=\"itemcase_basic\"]/p/span/strong/text()')[0].extract().replace(',','')\n",
    "        try:\n",
    "        # 오리지날 가격이 없는 경우 element가 없어서 예외 발생한다. 이런 경우 sales_price를 넣는다.\n",
    "            item['original_price'] = response.xpath('//*[@id=\"itemcase_basic\"]/p/span/span/text()')[0].extract().replace(',','')\n",
    "        except:\n",
    "            item['original_price'] = item['sales_price']\n",
    "        item['discount_rate'] = str(round(1-int(item['sales_price'])/int(item['original_price']), 2)*100) + '%'\n",
    "        item['link'] = response.url # 요청한 url을 받을 수 있다. \n",
    "        yield item"
   ]
  },
  {
   "cell_type": "markdown",
   "metadata": {},
   "source": [
    "### scrapy 실행"
   ]
  },
  {
   "cell_type": "code",
   "execution_count": 52,
   "metadata": {
    "ExecuteTime": {
     "end_time": "2020-07-15T12:57:30.615165Z",
     "start_time": "2020-07-15T12:57:30.594191Z"
    }
   },
   "outputs": [
    {
     "name": "stdout",
     "output_type": "stream",
     "text": [
      " E 드라이브의 볼륨: UX200P\n",
      " 볼륨 일련 번호: 1858-08E9\n",
      "\n",
      " E:\\OneDrive - 둔전초등학교\\01_과목별 수업자료\\03_크롤링\\03_차후 수업 추가할 것\\scarappy_exam\\crawler 디렉터리\n",
      "\n",
      "2020-07-15  오후 09:06    <DIR>          .\n",
      "2020-07-15  오후 09:06    <DIR>          ..\n",
      "2020-07-15  오후 09:06    <DIR>          crawler\n",
      "2020-07-15  오후 09:06               257 scrapy.cfg\n",
      "               1개 파일                 257 바이트\n",
      "               3개 디렉터리  144,591,044,608 바이트 남음\n"
     ]
    }
   ],
   "source": [
    "!dir crawler\n",
    "# scrapy.cfg 파일이 있는 디렉토리에서 실행한다."
   ]
  },
  {
   "cell_type": "code",
   "execution_count": 55,
   "metadata": {
    "ExecuteTime": {
     "end_time": "2020-07-15T13:00:14.980982Z",
     "start_time": "2020-07-15T13:00:14.974997Z"
    }
   },
   "outputs": [
    {
     "name": "stdout",
     "output_type": "stream",
     "text": [
      "Overwriting run.bat\n"
     ]
    }
   ],
   "source": [
    "%%writefile run.bat\n",
    "\n",
    "cd crawler\n",
    "scrapy crawl GmarketBestSellers"
   ]
  },
  {
   "cell_type": "markdown",
   "metadata": {
    "ExecuteTime": {
     "end_time": "2020-07-15T13:03:44.304234Z",
     "start_time": "2020-07-15T13:03:44.300231Z"
    }
   },
   "source": [
    "### 실행"
   ]
  },
  {
   "cell_type": "code",
   "execution_count": 70,
   "metadata": {
    "ExecuteTime": {
     "end_time": "2020-07-15T13:10:22.265572Z",
     "start_time": "2020-07-15T13:10:18.184465Z"
    }
   },
   "outputs": [
    {
     "name": "stdout",
     "output_type": "stream",
     "text": [
      "\n",
      "(base) E:\\OneDrive - 둔전초등학교\\01_과목별 수업자료\\03_크롤링\\03_차후 수업 추가할 것\\scarappy_exam>cd crawler \n",
      "\n",
      "(base) E:\\OneDrive - 둔전초등학교\\01_과목별 수업자료\\03_크롤링\\03_차후 수업 추가할 것\\scarappy_exam\\crawler>scrapy crawl GmarketBestSellers \n"
     ]
    },
    {
     "name": "stderr",
     "output_type": "stream",
     "text": [
      "2020-07-15 22:10:19 [scrapy.utils.log] INFO: Scrapy 2.2.0 started (bot: crawler)\n",
      "2020-07-15 22:10:19 [scrapy.utils.log] INFO: Versions: lxml 4.5.0.0, libxml2 2.9.9, cssselect 1.1.0, parsel 1.6.0, w3lib 1.22.0, Twisted 20.3.0, Python 3.7.7 (default, May  6 2020, 11:45:54) [MSC v.1916 64 bit (AMD64)], pyOpenSSL 19.1.0 (OpenSSL 1.1.1g  21 Apr 2020), cryptography 2.9.2, Platform Windows-10-10.0.18362-SP0\n",
      "2020-07-15 22:10:19 [scrapy.utils.log] DEBUG: Using reactor: twisted.internet.selectreactor.SelectReactor\n",
      "2020-07-15 22:10:19 [scrapy.crawler] INFO: Overridden settings:\n",
      "{'BOT_NAME': 'crawler',\n",
      " 'NEWSPIDER_MODULE': 'crawler.spiders',\n",
      " 'ROBOTSTXT_OBEY': True,\n",
      " 'SPIDER_MODULES': ['crawler.spiders']}\n",
      "2020-07-15 22:10:19 [scrapy.extensions.telnet] INFO: Telnet Password: b0744890281b08f2\n",
      "2020-07-15 22:10:19 [scrapy.middleware] INFO: Enabled extensions:\n",
      "['scrapy.extensions.corestats.CoreStats',\n",
      " 'scrapy.extensions.telnet.TelnetConsole',\n",
      " 'scrapy.extensions.logstats.LogStats']\n",
      "2020-07-15 22:10:19 [scrapy.middleware] INFO: Enabled downloader middlewares:\n",
      "['scrapy.downloadermiddlewares.robotstxt.RobotsTxtMiddleware',\n",
      " 'scrapy.downloadermiddlewares.httpauth.HttpAuthMiddleware',\n",
      " 'scrapy.downloadermiddlewares.downloadtimeout.DownloadTimeoutMiddleware',\n",
      " 'scrapy.downloadermiddlewares.defaultheaders.DefaultHeadersMiddleware',\n",
      " 'scrapy.downloadermiddlewares.useragent.UserAgentMiddleware',\n",
      " 'scrapy.downloadermiddlewares.retry.RetryMiddleware',\n",
      " 'scrapy.downloadermiddlewares.redirect.MetaRefreshMiddleware',\n",
      " 'scrapy.downloadermiddlewares.httpcompression.HttpCompressionMiddleware',\n",
      " 'scrapy.downloadermiddlewares.redirect.RedirectMiddleware',\n",
      " 'scrapy.downloadermiddlewares.cookies.CookiesMiddleware',\n",
      " 'scrapy.downloadermiddlewares.httpproxy.HttpProxyMiddleware',\n",
      " 'scrapy.downloadermiddlewares.stats.DownloaderStats']\n",
      "2020-07-15 22:10:19 [scrapy.middleware] INFO: Enabled spider middlewares:\n",
      "['scrapy.spidermiddlewares.httperror.HttpErrorMiddleware',\n",
      " 'scrapy.spidermiddlewares.offsite.OffsiteMiddleware',\n",
      " 'scrapy.spidermiddlewares.referer.RefererMiddleware',\n",
      " 'scrapy.spidermiddlewares.urllength.UrlLengthMiddleware',\n",
      " 'scrapy.spidermiddlewares.depth.DepthMiddleware']\n",
      "2020-07-15 22:10:19 [scrapy.middleware] INFO: Enabled item pipelines:\n",
      "[]\n",
      "2020-07-15 22:10:19 [scrapy.core.engine] INFO: Spider opened\n",
      "2020-07-15 22:10:19 [scrapy.extensions.logstats] INFO: Crawled 0 pages (at 0 pages/min), scraped 0 items (at 0 items/min)\n",
      "2020-07-15 22:10:19 [scrapy.extensions.telnet] INFO: Telnet console listening on 127.0.0.1:6023\n",
      "2020-07-15 22:10:19 [scrapy.core.engine] DEBUG: Crawled (200) <GET http://corners.gmarket.co.kr/robots.txt> (referer: None)\n",
      "2020-07-15 22:10:19 [protego] DEBUG: Rule at line 3 without any user agent to enforce it on.\n",
      "2020-07-15 22:10:19 [scrapy.core.engine] DEBUG: Crawled (200) <GET http://corners.gmarket.co.kr/Bestsellers> (referer: None)\n",
      "2020-07-15 22:10:19 [scrapy.core.engine] DEBUG: Crawled (200) <GET http://item.gmarket.co.kr/robots.txt> (referer: None)\n",
      "2020-07-15 22:10:19 [protego] DEBUG: Rule at line 1 without any user agent to enforce it on.\n",
      "2020-07-15 22:10:19 [protego] DEBUG: Rule at line 2 without any user agent to enforce it on.\n",
      "2020-07-15 22:10:21 [scrapy.core.engine] DEBUG: Crawled (200) <GET http://item.gmarket.co.kr/Item?goodscode=1840147374&ver=637304478227437473> (referer: http://corners.gmarket.co.kr/Bestsellers)\n",
      "2020-07-15 22:10:21 [scrapy.core.engine] DEBUG: Crawled (200) <GET http://item.gmarket.co.kr/Item?goodscode=1786479054&ver=637304478227437473> (referer: http://corners.gmarket.co.kr/Bestsellers)\n",
      "2020-07-15 22:10:21 [scrapy.core.engine] DEBUG: Crawled (200) <GET http://item.gmarket.co.kr/Item?goodscode=1844715501&ver=637304478227437473> (referer: http://corners.gmarket.co.kr/Bestsellers)\n",
      "2020-07-15 22:10:21 [scrapy.core.engine] DEBUG: Crawled (200) <GET http://item.gmarket.co.kr/Item?goodscode=1516002555&ver=637304478227437473> (referer: http://corners.gmarket.co.kr/Bestsellers)\n",
      "2020-07-15 22:10:21 [scrapy.core.engine] DEBUG: Crawled (200) <GET http://item.gmarket.co.kr/Item?goodscode=884451980&ver=637304478227437473> (referer: http://corners.gmarket.co.kr/Bestsellers)\n",
      "2020-07-15 22:10:21 [scrapy.core.scraper] DEBUG: Scraped from <200 http://item.gmarket.co.kr/Item?goodscode=1840147374&ver=637304478227437473>\n",
      "\n",
      "{'discount_rate': '0.0%',\n",
      " 'link': 'http://item.gmarket.co.kr/Item?goodscode=1840147374&ver=637304478227437473',\n",
      " 'original_price': '50000',\n",
      " 'sales_price': '50000',\n",
      " 'title': '[한국투자증권] (한국투자증권) 온라인 금융상품권 5만원권 '}\n",
      "2020-07-15 22:10:21 [scrapy.core.scraper] DEBUG: Scraped from <200 http://item.gmarket.co.kr/Item?goodscode=1786479054&ver=637304478227437473>\n",
      "\n",
      "{'discount_rate': '2.0%',\n",
      " 'link': 'http://item.gmarket.co.kr/Item?goodscode=1786479054&ver=637304478227437473',\n",
      " 'original_price': '60900',\n",
      " 'sales_price': '59900',\n",
      " 'title': '오플 BBQ 통살닭다리구이 소금구이맛 10팩 + 매콤양념맛 10팩 '}\n",
      "2020-07-15 22:10:21 [scrapy.core.scraper] DEBUG: Scraped from <200 http://item.gmarket.co.kr/Item?goodscode=1844715501&ver=637304478227437473>\n",
      "\n",
      "{'discount_rate': '5.0%',\n",
      " 'link': 'http://item.gmarket.co.kr/Item?goodscode=1844715501&ver=637304478227437473',\n",
      " 'original_price': '43900',\n",
      " 'sales_price': '41710',\n",
      " 'title': 'kf94 마스크 블랙 대형 합리적인 비말차단 국내산 40매 '}\n",
      "2020-07-15 22:10:21 [scrapy.core.engine] DEBUG: Crawled (200) <GET http://item.gmarket.co.kr/Item?goodscode=215673140&ver=637304478227437473> (referer: http://corners.gmarket.co.kr/Bestsellers)\n",
      "2020-07-15 22:10:21 [scrapy.core.engine] DEBUG: Crawled (200) <GET http://item.gmarket.co.kr/Item?goodscode=1725467202&ver=637304478227437473> (referer: http://corners.gmarket.co.kr/Bestsellers)\n",
      "2020-07-15 22:10:21 [scrapy.core.scraper] DEBUG: Scraped from <200 http://item.gmarket.co.kr/Item?goodscode=1516002555&ver=637304478227437473>\n",
      "\n",
      "{'discount_rate': '21.0%',\n",
      " 'link': 'http://item.gmarket.co.kr/Item?goodscode=1516002555&ver=637304478227437473',\n",
      " 'original_price': '10700',\n",
      " 'sales_price': '8500',\n",
      " 'title': '[애경] 주방세제 순샘 대용량 3L x2개(라임1베리1) '}\n",
      "2020-07-15 22:10:21 [scrapy.core.scraper] DEBUG: Scraped from <200 http://item.gmarket.co.kr/Item?goodscode=884451980&ver=637304478227437473>\n",
      "\n",
      "{'discount_rate': '60.0%',\n",
      " 'link': 'http://item.gmarket.co.kr/Item?goodscode=884451980&ver=637304478227437473',\n",
      " 'original_price': '37300',\n",
      " 'sales_price': '14900',\n",
      " 'title': '[구운감자] 해태 구운감자 24g 30개 과자 간식 한박스 오늘만 할인 '}\n",
      "2020-07-15 22:10:21 [scrapy.core.scraper] DEBUG: Scraped from <200 http://item.gmarket.co.kr/Item?goodscode=215673140&ver=637304478227437473>\n",
      "\n",
      "{'discount_rate': '70.0%',\n",
      " 'link': 'http://item.gmarket.co.kr/Item?goodscode=215673140&ver=637304478227437473',\n",
      " 'original_price': '23000',\n",
      " 'sales_price': '6900',\n",
      " 'title': '스위트바니 여름신상5900원~롱원피스/티셔츠/박스티 '}\n",
      "2020-07-15 22:10:21 [scrapy.core.scraper] DEBUG: Scraped from <200 http://item.gmarket.co.kr/Item?goodscode=1725467202&ver=637304478227437473>\n",
      "\n",
      "{'discount_rate': '70.0%',\n",
      " 'link': 'http://item.gmarket.co.kr/Item?goodscode=1725467202&ver=637304478227437473',\n",
      " 'original_price': '19600',\n",
      " 'sales_price': '5900',\n",
      " 'title': '루나샵 15일딱하루 5900원~티셔츠/원피스/박스티/롱티 '}\n",
      "2020-07-15 22:10:21 [scrapy.core.engine] DEBUG: Crawled (200) <GET http://item.gmarket.co.kr/Item?goodscode=818391700&ver=637304478227437473> (referer: http://corners.gmarket.co.kr/Bestsellers)\n",
      "2020-07-15 22:10:21 [scrapy.core.engine] DEBUG: Crawled (200) <GET http://item.gmarket.co.kr/Item?goodscode=1704892603&ver=637304478227437473> (referer: http://corners.gmarket.co.kr/Bestsellers)\n",
      "2020-07-15 22:10:22 [scrapy.core.scraper] DEBUG: Scraped from <200 http://item.gmarket.co.kr/Item?goodscode=818391700&ver=637304478227437473>\n",
      "\n",
      "{'discount_rate': '70.0%',\n",
      " 'link': 'http://item.gmarket.co.kr/Item?goodscode=818391700&ver=637304478227437473',\n",
      " 'original_price': '26000',\n",
      " 'sales_price': '7900',\n",
      " 'title': '[라벨영] 빵꾸솝 쿨버전 비누 1+1/모공축소+블랙헤드+피지 제거 '}\n",
      "2020-07-15 22:10:22 [scrapy.core.engine] DEBUG: Crawled (200) <GET http://item.gmarket.co.kr/Item?goodscode=1791746014&ver=637304478227437473> (referer: http://corners.gmarket.co.kr/Bestsellers)\n",
      "2020-07-15 22:10:22 [scrapy.core.scraper] DEBUG: Scraped from <200 http://item.gmarket.co.kr/Item?goodscode=1704892603&ver=637304478227437473>\n",
      "\n",
      "{'discount_rate': '8.0%',\n",
      " 'link': 'http://item.gmarket.co.kr/Item?goodscode=1704892603&ver=637304478227437473',\n",
      " 'original_price': '119000',\n",
      " 'sales_price': '109000',\n",
      " 'title': '락토핏   프롤린유산균  종근당건강  생유산균 코어 (2 000mg 60포 6통  약 1 '}\n",
      "2020-07-15 22:10:22 [scrapy.core.scraper] DEBUG: Scraped from <200 http://item.gmarket.co.kr/Item?goodscode=1791746014&ver=637304478227437473>\n",
      "\n",
      "{'discount_rate': '37.0%',\n",
      " 'link': 'http://item.gmarket.co.kr/Item?goodscode=1791746014&ver=637304478227437473',\n",
      " 'original_price': '23600',\n",
      " 'sales_price': '14900',\n",
      " 'title': '[유한킴벌리] 크리넥스 펭수뽑아쓰는키친타월 140매X4입X2팩 '}\n",
      "2020-07-15 22:10:22 [scrapy.core.engine] INFO: Closing spider (finished)\n",
      "2020-07-15 22:10:22 [scrapy.statscollectors] INFO: Dumping Scrapy stats:\n",
      "{'downloader/request_bytes': 4265,\n",
      " 'downloader/request_count': 13,\n",
      " 'downloader/request_method_count/GET': 13,\n",
      " 'downloader/response_bytes': 407154,\n",
      " 'downloader/response_count': 13,\n",
      " 'downloader/response_status_count/200': 13,\n",
      " 'elapsed_time_seconds': 2.735748,\n",
      " 'finish_reason': 'finished',\n",
      " 'finish_time': datetime.datetime(2020, 7, 15, 13, 10, 22, 173789),\n",
      " 'item_scraped_count': 10,\n",
      " 'log_count/DEBUG': 26,\n",
      " 'log_count/INFO': 10,\n",
      " 'request_depth_max': 1,\n",
      " 'response_received_count': 13,\n",
      " 'robotstxt/request_count': 2,\n",
      " 'robotstxt/response_count': 2,\n",
      " 'robotstxt/response_status_count/200': 2,\n",
      " 'scheduler/dequeued': 11,\n",
      " 'scheduler/dequeued/memory': 11,\n",
      " 'scheduler/enqueued': 11,\n",
      " 'scheduler/enqueued/memory': 11,\n",
      " 'start_time': datetime.datetime(2020, 7, 15, 13, 10, 19, 438041)}\n",
      "2020-07-15 22:10:22 [scrapy.core.engine] INFO: Spider closed (finished)\n"
     ]
    }
   ],
   "source": [
    "!run.bat"
   ]
  },
  {
   "cell_type": "code",
   "execution_count": 73,
   "metadata": {
    "ExecuteTime": {
     "end_time": "2020-07-15T13:29:24.258499Z",
     "start_time": "2020-07-15T13:29:24.255501Z"
    }
   },
   "outputs": [],
   "source": [
    "# 파일 cell 로 불러오는 매직커맨드\n",
    "# 불러오고 매직커맨드 명령어는 주석처리된다."
   ]
  },
  {
   "cell_type": "code",
   "execution_count": null,
   "metadata": {
    "ExecuteTime": {
     "end_time": "2020-07-15T13:29:35.222070Z",
     "start_time": "2020-07-15T13:29:35.217086Z"
    }
   },
   "outputs": [],
   "source": [
    "%load crawler/crawler/spiders/spider.py "
   ]
  },
  {
   "cell_type": "markdown",
   "metadata": {},
   "source": [
    "### 결과를 csv로 저장하도록 처리"
   ]
  },
  {
   "cell_type": "code",
   "execution_count": 76,
   "metadata": {
    "ExecuteTime": {
     "end_time": "2020-07-15T13:32:39.126385Z",
     "start_time": "2020-07-15T13:32:39.118670Z"
    }
   },
   "outputs": [
    {
     "name": "stdout",
     "output_type": "stream",
     "text": [
      "Overwriting run.bat\n"
     ]
    }
   ],
   "source": [
    "%%writefile run.bat\n",
    "\n",
    "cd crawler\n",
    "scrapy crawl GmarketBestSellers -o GmarketBestSellers.csv\n"
   ]
  },
  {
   "cell_type": "code",
   "execution_count": 77,
   "metadata": {
    "ExecuteTime": {
     "end_time": "2020-07-15T13:32:49.128227Z",
     "start_time": "2020-07-15T13:32:45.067162Z"
    }
   },
   "outputs": [
    {
     "name": "stdout",
     "output_type": "stream",
     "text": [
      "\n",
      "(base) E:\\OneDrive - 둔전초등학교\\01_과목별 수업자료\\03_크롤링\\03_차후 수업 추가할 것\\scarappy_exam>cd crawler \n",
      "\n",
      "(base) E:\\OneDrive - 둔전초등학교\\01_과목별 수업자료\\03_크롤링\\03_차후 수업 추가할 것\\scarappy_exam\\crawler>scrapy crawl GmarketBestSellers -o GmarketBestSellers.csv \n"
     ]
    },
    {
     "name": "stderr",
     "output_type": "stream",
     "text": [
      "2020-07-15 22:32:46 [scrapy.utils.log] INFO: Scrapy 2.2.0 started (bot: crawler)\n",
      "2020-07-15 22:32:46 [scrapy.utils.log] INFO: Versions: lxml 4.5.0.0, libxml2 2.9.9, cssselect 1.1.0, parsel 1.6.0, w3lib 1.22.0, Twisted 20.3.0, Python 3.7.7 (default, May  6 2020, 11:45:54) [MSC v.1916 64 bit (AMD64)], pyOpenSSL 19.1.0 (OpenSSL 1.1.1g  21 Apr 2020), cryptography 2.9.2, Platform Windows-10-10.0.18362-SP0\n",
      "2020-07-15 22:32:46 [scrapy.utils.log] DEBUG: Using reactor: twisted.internet.selectreactor.SelectReactor\n",
      "2020-07-15 22:32:46 [scrapy.crawler] INFO: Overridden settings:\n",
      "{'BOT_NAME': 'crawler',\n",
      " 'NEWSPIDER_MODULE': 'crawler.spiders',\n",
      " 'ROBOTSTXT_OBEY': True,\n",
      " 'SPIDER_MODULES': ['crawler.spiders']}\n",
      "2020-07-15 22:32:46 [scrapy.extensions.telnet] INFO: Telnet Password: 8da9d2e6f926145c\n",
      "2020-07-15 22:32:46 [scrapy.middleware] INFO: Enabled extensions:\n",
      "['scrapy.extensions.corestats.CoreStats',\n",
      " 'scrapy.extensions.telnet.TelnetConsole',\n",
      " 'scrapy.extensions.feedexport.FeedExporter',\n",
      " 'scrapy.extensions.logstats.LogStats']\n",
      "2020-07-15 22:32:46 [scrapy.middleware] INFO: Enabled downloader middlewares:\n",
      "['scrapy.downloadermiddlewares.robotstxt.RobotsTxtMiddleware',\n",
      " 'scrapy.downloadermiddlewares.httpauth.HttpAuthMiddleware',\n",
      " 'scrapy.downloadermiddlewares.downloadtimeout.DownloadTimeoutMiddleware',\n",
      " 'scrapy.downloadermiddlewares.defaultheaders.DefaultHeadersMiddleware',\n",
      " 'scrapy.downloadermiddlewares.useragent.UserAgentMiddleware',\n",
      " 'scrapy.downloadermiddlewares.retry.RetryMiddleware',\n",
      " 'scrapy.downloadermiddlewares.redirect.MetaRefreshMiddleware',\n",
      " 'scrapy.downloadermiddlewares.httpcompression.HttpCompressionMiddleware',\n",
      " 'scrapy.downloadermiddlewares.redirect.RedirectMiddleware',\n",
      " 'scrapy.downloadermiddlewares.cookies.CookiesMiddleware',\n",
      " 'scrapy.downloadermiddlewares.httpproxy.HttpProxyMiddleware',\n",
      " 'scrapy.downloadermiddlewares.stats.DownloaderStats']\n",
      "2020-07-15 22:32:46 [scrapy.middleware] INFO: Enabled spider middlewares:\n",
      "['scrapy.spidermiddlewares.httperror.HttpErrorMiddleware',\n",
      " 'scrapy.spidermiddlewares.offsite.OffsiteMiddleware',\n",
      " 'scrapy.spidermiddlewares.referer.RefererMiddleware',\n",
      " 'scrapy.spidermiddlewares.urllength.UrlLengthMiddleware',\n",
      " 'scrapy.spidermiddlewares.depth.DepthMiddleware']\n",
      "2020-07-15 22:32:46 [scrapy.middleware] INFO: Enabled item pipelines:\n",
      "[]\n",
      "2020-07-15 22:32:46 [scrapy.core.engine] INFO: Spider opened\n",
      "2020-07-15 22:32:46 [scrapy.extensions.logstats] INFO: Crawled 0 pages (at 0 pages/min), scraped 0 items (at 0 items/min)\n",
      "2020-07-15 22:32:46 [scrapy.extensions.telnet] INFO: Telnet console listening on 127.0.0.1:6023\n",
      "2020-07-15 22:32:46 [scrapy.core.engine] DEBUG: Crawled (200) <GET http://corners.gmarket.co.kr/robots.txt> (referer: None)\n",
      "2020-07-15 22:32:46 [protego] DEBUG: Rule at line 3 without any user agent to enforce it on.\n",
      "2020-07-15 22:32:46 [scrapy.core.engine] DEBUG: Crawled (200) <GET http://corners.gmarket.co.kr/Bestsellers> (referer: None)\n",
      "2020-07-15 22:32:46 [scrapy.core.engine] DEBUG: Crawled (200) <GET http://item.gmarket.co.kr/robots.txt> (referer: None)\n",
      "2020-07-15 22:32:46 [protego] DEBUG: Rule at line 1 without any user agent to enforce it on.\n",
      "2020-07-15 22:32:46 [protego] DEBUG: Rule at line 2 without any user agent to enforce it on.\n",
      "2020-07-15 22:32:47 [scrapy.core.engine] DEBUG: Crawled (200) <GET http://item.gmarket.co.kr/Item?goodscode=1840147374&ver=637304491696254929> (referer: http://corners.gmarket.co.kr/Bestsellers)\n",
      "2020-07-15 22:32:47 [scrapy.core.engine] DEBUG: Crawled (200) <GET http://item.gmarket.co.kr/Item?goodscode=1516002555&ver=637304491696254929> (referer: http://corners.gmarket.co.kr/Bestsellers)\n",
      "2020-07-15 22:32:47 [scrapy.core.engine] DEBUG: Crawled (200) <GET http://item.gmarket.co.kr/Item?goodscode=1725467202&ver=637304491696254929> (referer: http://corners.gmarket.co.kr/Bestsellers)\n",
      "2020-07-15 22:32:47 [scrapy.core.engine] DEBUG: Crawled (200) <GET http://item.gmarket.co.kr/Item?goodscode=1786479054&ver=637304491696254929> (referer: http://corners.gmarket.co.kr/Bestsellers)\n",
      "2020-07-15 22:32:47 [scrapy.core.engine] DEBUG: Crawled (200) <GET http://item.gmarket.co.kr/Item?goodscode=215673140&ver=637304491696254929> (referer: http://corners.gmarket.co.kr/Bestsellers)\n",
      "2020-07-15 22:32:47 [scrapy.core.engine] DEBUG: Crawled (200) <GET http://item.gmarket.co.kr/Item?goodscode=884451980&ver=637304491696254929> (referer: http://corners.gmarket.co.kr/Bestsellers)\n",
      "2020-07-15 22:32:48 [scrapy.core.scraper] DEBUG: Scraped from <200 http://item.gmarket.co.kr/Item?goodscode=1840147374&ver=637304491696254929>\n",
      "\n",
      "{'discount_rate': '0.0%',\n",
      " 'link': 'http://item.gmarket.co.kr/Item?goodscode=1840147374&ver=637304491696254929',\n",
      " 'original_price': '50000',\n",
      " 'sales_price': '50000',\n",
      " 'title': '[한국투자증권] (한국투자증권) 온라인 금융상품권 5만원권 '}\n",
      "2020-07-15 22:32:48 [scrapy.core.scraper] DEBUG: Scraped from <200 http://item.gmarket.co.kr/Item?goodscode=1516002555&ver=637304491696254929>\n",
      "\n",
      "{'discount_rate': '21.0%',\n",
      " 'link': 'http://item.gmarket.co.kr/Item?goodscode=1516002555&ver=637304491696254929',\n",
      " 'original_price': '10700',\n",
      " 'sales_price': '8500',\n",
      " 'title': '[애경] 주방세제 순샘 대용량 3L x2개(라임1베리1) '}\n",
      "2020-07-15 22:32:48 [scrapy.core.scraper] DEBUG: Scraped from <200 http://item.gmarket.co.kr/Item?goodscode=1725467202&ver=637304491696254929>\n",
      "\n",
      "{'discount_rate': '70.0%',\n",
      " 'link': 'http://item.gmarket.co.kr/Item?goodscode=1725467202&ver=637304491696254929',\n",
      " 'original_price': '19600',\n",
      " 'sales_price': '5900',\n",
      " 'title': '루나샵 15일딱하루 5900원~티셔츠/원피스/박스티/롱티 '}\n",
      "2020-07-15 22:32:48 [scrapy.core.scraper] DEBUG: Scraped from <200 http://item.gmarket.co.kr/Item?goodscode=1786479054&ver=637304491696254929>\n",
      "\n",
      "{'discount_rate': '2.0%',\n",
      " 'link': 'http://item.gmarket.co.kr/Item?goodscode=1786479054&ver=637304491696254929',\n",
      " 'original_price': '60900',\n",
      " 'sales_price': '59900',\n",
      " 'title': '오플 BBQ 통살닭다리구이 소금구이맛 10팩 + 매콤양념맛 10팩 '}\n",
      "2020-07-15 22:32:48 [scrapy.core.scraper] DEBUG: Scraped from <200 http://item.gmarket.co.kr/Item?goodscode=215673140&ver=637304491696254929>\n",
      "\n",
      "{'discount_rate': '70.0%',\n",
      " 'link': 'http://item.gmarket.co.kr/Item?goodscode=215673140&ver=637304491696254929',\n",
      " 'original_price': '23000',\n",
      " 'sales_price': '6900',\n",
      " 'title': '스위트바니 여름신상5900원~롱원피스/티셔츠/박스티 '}\n",
      "2020-07-15 22:32:48 [scrapy.core.scraper] DEBUG: Scraped from <200 http://item.gmarket.co.kr/Item?goodscode=884451980&ver=637304491696254929>\n",
      "\n",
      "{'discount_rate': '60.0%',\n",
      " 'link': 'http://item.gmarket.co.kr/Item?goodscode=884451980&ver=637304491696254929',\n",
      " 'original_price': '37300',\n",
      " 'sales_price': '14900',\n",
      " 'title': '[구운감자] 해태 구운감자 24g 30개 과자 간식 한박스 오늘만 할인 '}\n",
      "2020-07-15 22:32:48 [scrapy.core.engine] DEBUG: Crawled (200) <GET http://item.gmarket.co.kr/Item?goodscode=1704892603&ver=637304491696254929> (referer: http://corners.gmarket.co.kr/Bestsellers)\n",
      "2020-07-15 22:32:48 [scrapy.core.engine] DEBUG: Crawled (200) <GET http://item.gmarket.co.kr/Item?goodscode=1791746014&ver=637304491696254929> (referer: http://corners.gmarket.co.kr/Bestsellers)\n",
      "2020-07-15 22:32:48 [scrapy.core.engine] DEBUG: Crawled (200) <GET http://item.gmarket.co.kr/Item?goodscode=1844715501&ver=637304491696254929> (referer: http://corners.gmarket.co.kr/Bestsellers)\n",
      "2020-07-15 22:32:48 [scrapy.core.scraper] DEBUG: Scraped from <200 http://item.gmarket.co.kr/Item?goodscode=1704892603&ver=637304491696254929>\n",
      "\n",
      "{'discount_rate': '8.0%',\n",
      " 'link': 'http://item.gmarket.co.kr/Item?goodscode=1704892603&ver=637304491696254929',\n",
      " 'original_price': '119000',\n",
      " 'sales_price': '109000',\n",
      " 'title': '락토핏   프롤린유산균  종근당건강  생유산균 코어 (2 000mg 60포 6통  약 1 '}\n",
      "2020-07-15 22:32:48 [scrapy.core.scraper] DEBUG: Scraped from <200 http://item.gmarket.co.kr/Item?goodscode=1791746014&ver=637304491696254929>\n",
      "\n",
      "{'discount_rate': '37.0%',\n",
      " 'link': 'http://item.gmarket.co.kr/Item?goodscode=1791746014&ver=637304491696254929',\n",
      " 'original_price': '23600',\n",
      " 'sales_price': '14900',\n",
      " 'title': '[유한킴벌리] 크리넥스 펭수뽑아쓰는키친타월 140매X4입X2팩 '}\n",
      "2020-07-15 22:32:48 [scrapy.core.engine] DEBUG: Crawled (200) <GET http://item.gmarket.co.kr/Item?goodscode=818391700&ver=637304491696254929> (referer: http://corners.gmarket.co.kr/Bestsellers)\n",
      "2020-07-15 22:32:48 [scrapy.core.scraper] DEBUG: Scraped from <200 http://item.gmarket.co.kr/Item?goodscode=1844715501&ver=637304491696254929>\n",
      "\n",
      "{'discount_rate': '5.0%',\n",
      " 'link': 'http://item.gmarket.co.kr/Item?goodscode=1844715501&ver=637304491696254929',\n",
      " 'original_price': '43900',\n",
      " 'sales_price': '41710',\n",
      " 'title': 'kf94 마스크 블랙 대형 합리적인 비말차단 국내산 40매 '}\n",
      "2020-07-15 22:32:49 [scrapy.core.scraper] DEBUG: Scraped from <200 http://item.gmarket.co.kr/Item?goodscode=818391700&ver=637304491696254929>\n",
      "\n",
      "{'discount_rate': '70.0%',\n",
      " 'link': 'http://item.gmarket.co.kr/Item?goodscode=818391700&ver=637304491696254929',\n",
      " 'original_price': '26000',\n",
      " 'sales_price': '7900',\n",
      " 'title': '[라벨영] 빵꾸솝 쿨버전 비누 1+1/모공축소+블랙헤드+피지 제거 '}\n",
      "2020-07-15 22:32:49 [scrapy.core.engine] INFO: Closing spider (finished)\n",
      "2020-07-15 22:32:49 [scrapy.extensions.feedexport] INFO: Stored csv feed (10 items) in: GmarketBestSellers.csv\n",
      "2020-07-15 22:32:49 [scrapy.statscollectors] INFO: Dumping Scrapy stats:\n",
      "{'downloader/request_bytes': 4265,\n",
      " 'downloader/request_count': 13,\n",
      " 'downloader/request_method_count/GET': 13,\n",
      " 'downloader/response_bytes': 407052,\n",
      " 'downloader/response_count': 13,\n",
      " 'downloader/response_status_count/200': 13,\n",
      " 'elapsed_time_seconds': 2.732013,\n",
      " 'finish_reason': 'finished',\n",
      " 'finish_time': datetime.datetime(2020, 7, 15, 13, 32, 49, 4018),\n",
      " 'item_scraped_count': 10,\n",
      " 'log_count/DEBUG': 26,\n",
      " 'log_count/INFO': 11,\n",
      " 'request_depth_max': 1,\n",
      " 'response_received_count': 13,\n",
      " 'robotstxt/request_count': 2,\n",
      " 'robotstxt/response_count': 2,\n",
      " 'robotstxt/response_status_count/200': 2,\n",
      " 'scheduler/dequeued': 11,\n",
      " 'scheduler/dequeued/memory': 11,\n",
      " 'scheduler/enqueued': 11,\n",
      " 'scheduler/enqueued/memory': 11,\n",
      " 'start_time': datetime.datetime(2020, 7, 15, 13, 32, 46, 272005)}\n",
      "2020-07-15 22:32:49 [scrapy.core.engine] INFO: Spider closed (finished)\n"
     ]
    }
   ],
   "source": [
    "!run.bat"
   ]
  },
  {
   "cell_type": "code",
   "execution_count": 79,
   "metadata": {
    "ExecuteTime": {
     "end_time": "2020-07-15T13:33:17.202909Z",
     "start_time": "2020-07-15T13:33:17.180940Z"
    }
   },
   "outputs": [
    {
     "name": "stdout",
     "output_type": "stream",
     "text": [
      " E 드라이브의 볼륨: UX200P\n",
      " 볼륨 일련 번호: 1858-08E9\n",
      "\n",
      " E:\\OneDrive - 둔전초등학교\\01_과목별 수업자료\\03_크롤링\\03_차후 수업 추가할 것\\scarappy_exam\\crawler 디렉터리\n",
      "\n",
      "2020-07-15  오후 10:32    <DIR>          .\n",
      "2020-07-15  오후 10:32    <DIR>          ..\n",
      "2020-07-15  오후 09:06    <DIR>          crawler\n",
      "2020-07-15  오후 10:32             1,770 GmarketBestSellers.csv\n",
      "2020-07-15  오후 09:06               257 scrapy.cfg\n",
      "               2개 파일               2,027 바이트\n",
      "               3개 디렉터리  144,591,007,744 바이트 남음\n"
     ]
    }
   ],
   "source": [
    "!dir crawler"
   ]
  },
  {
   "cell_type": "code",
   "execution_count": 81,
   "metadata": {
    "ExecuteTime": {
     "end_time": "2020-07-15T13:33:49.281117Z",
     "start_time": "2020-07-15T13:33:49.265160Z"
    }
   },
   "outputs": [
    {
     "data": {
      "text/html": [
       "<div>\n",
       "<style scoped>\n",
       "    .dataframe tbody tr th:only-of-type {\n",
       "        vertical-align: middle;\n",
       "    }\n",
       "\n",
       "    .dataframe tbody tr th {\n",
       "        vertical-align: top;\n",
       "    }\n",
       "\n",
       "    .dataframe thead th {\n",
       "        text-align: right;\n",
       "    }\n",
       "</style>\n",
       "<table border=\"1\" class=\"dataframe\">\n",
       "  <thead>\n",
       "    <tr style=\"text-align: right;\">\n",
       "      <th></th>\n",
       "      <th>discount_rate</th>\n",
       "      <th>link</th>\n",
       "      <th>original_price</th>\n",
       "      <th>sales_price</th>\n",
       "      <th>title</th>\n",
       "    </tr>\n",
       "  </thead>\n",
       "  <tbody>\n",
       "    <tr>\n",
       "      <th>0</th>\n",
       "      <td>0.0%</td>\n",
       "      <td>http://item.gmarket.co.kr/Item?goodscode=18401...</td>\n",
       "      <td>50000</td>\n",
       "      <td>50000</td>\n",
       "      <td>[한국투자증권] (한국투자증권) 온라인 금융상품권 5만원권</td>\n",
       "    </tr>\n",
       "    <tr>\n",
       "      <th>1</th>\n",
       "      <td>21.0%</td>\n",
       "      <td>http://item.gmarket.co.kr/Item?goodscode=15160...</td>\n",
       "      <td>10700</td>\n",
       "      <td>8500</td>\n",
       "      <td>[애경] 주방세제 순샘 대용량 3L x2개(라임1베리1)</td>\n",
       "    </tr>\n",
       "  </tbody>\n",
       "</table>\n",
       "</div>"
      ],
      "text/plain": [
       "  discount_rate                                               link  \\\n",
       "0          0.0%  http://item.gmarket.co.kr/Item?goodscode=18401...   \n",
       "1         21.0%  http://item.gmarket.co.kr/Item?goodscode=15160...   \n",
       "\n",
       "   original_price  sales_price                              title  \n",
       "0           50000        50000  [한국투자증권] (한국투자증권) 온라인 금융상품권 5만원권   \n",
       "1           10700         8500   [애경] 주방세제 순샘 대용량 3L x2개(라임1베리1)   "
      ]
     },
     "execution_count": 81,
     "metadata": {},
     "output_type": "execute_result"
    }
   ],
   "source": [
    "import pandas as pd\n",
    "df = pd.read_csv('crawler/GmarketBestSellers.csv')\n",
    "df.head(2)"
   ]
  },
  {
   "cell_type": "code",
   "execution_count": 88,
   "metadata": {
    "ExecuteTime": {
     "end_time": "2020-07-15T13:35:57.456779Z",
     "start_time": "2020-07-15T13:35:57.434807Z"
    }
   },
   "outputs": [
    {
     "name": "stdout",
     "output_type": "stream",
     "text": [
      "E:\\OneDrive - 둔전초등학교\\01_과목별 수업자료\\03_크롤링\\03_차후 수업 추가할 것\\scarappy_exam\n"
     ]
    }
   ],
   "source": [
    "!echo %cd%"
   ]
  },
  {
   "cell_type": "code",
   "execution_count": 90,
   "metadata": {
    "ExecuteTime": {
     "end_time": "2020-07-15T13:37:45.560625Z",
     "start_time": "2020-07-15T13:37:45.544670Z"
    }
   },
   "outputs": [
    {
     "data": {
      "text/html": [
       "<div>\n",
       "<style scoped>\n",
       "    .dataframe tbody tr th:only-of-type {\n",
       "        vertical-align: middle;\n",
       "    }\n",
       "\n",
       "    .dataframe tbody tr th {\n",
       "        vertical-align: top;\n",
       "    }\n",
       "\n",
       "    .dataframe thead th {\n",
       "        text-align: right;\n",
       "    }\n",
       "</style>\n",
       "<table border=\"1\" class=\"dataframe\">\n",
       "  <thead>\n",
       "    <tr style=\"text-align: right;\">\n",
       "      <th></th>\n",
       "      <th>title</th>\n",
       "      <th>original_price</th>\n",
       "      <th>sales_price</th>\n",
       "      <th>discount_rate</th>\n",
       "      <th>link</th>\n",
       "    </tr>\n",
       "  </thead>\n",
       "  <tbody>\n",
       "    <tr>\n",
       "      <th>0</th>\n",
       "      <td>[한국투자증권] (한국투자증권) 온라인 금융상품권 5만원권</td>\n",
       "      <td>50000</td>\n",
       "      <td>50000</td>\n",
       "      <td>0.0%</td>\n",
       "      <td>http://item.gmarket.co.kr/Item?goodscode=18401...</td>\n",
       "    </tr>\n",
       "    <tr>\n",
       "      <th>1</th>\n",
       "      <td>[애경] 주방세제 순샘 대용량 3L x2개(라임1베리1)</td>\n",
       "      <td>10700</td>\n",
       "      <td>8500</td>\n",
       "      <td>21.0%</td>\n",
       "      <td>http://item.gmarket.co.kr/Item?goodscode=15160...</td>\n",
       "    </tr>\n",
       "    <tr>\n",
       "      <th>2</th>\n",
       "      <td>루나샵 15일딱하루 5900원~티셔츠/원피스/박스티/롱티</td>\n",
       "      <td>19600</td>\n",
       "      <td>5900</td>\n",
       "      <td>70.0%</td>\n",
       "      <td>http://item.gmarket.co.kr/Item?goodscode=17254...</td>\n",
       "    </tr>\n",
       "  </tbody>\n",
       "</table>\n",
       "</div>"
      ],
      "text/plain": [
       "                               title  original_price  sales_price  \\\n",
       "0  [한국투자증권] (한국투자증권) 온라인 금융상품권 5만원권            50000        50000   \n",
       "1   [애경] 주방세제 순샘 대용량 3L x2개(라임1베리1)            10700         8500   \n",
       "2   루나샵 15일딱하루 5900원~티셔츠/원피스/박스티/롱티            19600         5900   \n",
       "\n",
       "  discount_rate                                               link  \n",
       "0          0.0%  http://item.gmarket.co.kr/Item?goodscode=18401...  \n",
       "1         21.0%  http://item.gmarket.co.kr/Item?goodscode=15160...  \n",
       "2         70.0%  http://item.gmarket.co.kr/Item?goodscode=17254...  "
      ]
     },
     "execution_count": 90,
     "metadata": {},
     "output_type": "execute_result"
    }
   ],
   "source": [
    "df = df[['title','original_price', 'sales_price', 'discount_rate', 'link']]\n",
    "df.head(3)"
   ]
  },
  {
   "cell_type": "markdown",
   "metadata": {},
   "source": [
    "### 파이프라인스\n",
    "- item을 출력하기 전에 실행되는 코드를 정의\n",
    "- item을 원하는 형태로 처리 (메일 전송, 디비 저장등)\n",
    "- 작성후 settings.py 에 등록"
   ]
  },
  {
   "cell_type": "code",
   "execution_count": 92,
   "metadata": {
    "ExecuteTime": {
     "end_time": "2020-07-15T13:43:24.543299Z",
     "start_time": "2020-07-15T13:43:24.523334Z"
    }
   },
   "outputs": [
    {
     "name": "stdout",
     "output_type": "stream",
     "text": [
      "# Define your item pipelines here\n",
      "#\n",
      "# Don't forget to add your pipeline to the ITEM_PIPELINES setting\n",
      "# See: https://docs.scrapy.org/en/latest/topics/item-pipeline.html\n",
      "\n",
      "\n",
      "# useful for handling different item types with a single interface\n",
      "from itemadapter import ItemAdapter\n",
      "\n",
      "\n",
      "class CrawlerPipeline:\n",
      "    def process_item(self, item, spider):\n",
      "        return item\n"
     ]
    }
   ],
   "source": [
    "!type crawler\\crawler\\pipelines.py"
   ]
  },
  {
   "cell_type": "code",
   "execution_count": 105,
   "metadata": {
    "ExecuteTime": {
     "end_time": "2020-07-15T13:58:52.828307Z",
     "start_time": "2020-07-15T13:58:52.821326Z"
    }
   },
   "outputs": [
    {
     "name": "stdout",
     "output_type": "stream",
     "text": [
      "Overwriting crawler/crawler/pipelines.py\n"
     ]
    }
   ],
   "source": [
    "%%writefile crawler/crawler/pipelines.py\n",
    "class CrawlerPipeline:\n",
    "    \n",
    "    # item-크롤링한 item\n",
    "    # return item은 최종 프린트되는 곳으로 넘겨준다.\n",
    "    def process_item(self, item, spider):\n",
    "        print('='*50)\n",
    "        print(item['sales_price'])\n",
    "        print('='*50)\n",
    "        if int(item['sales_price'] ) <= 50000: #50000이하만 저장\n",
    "            with open('high_price.txt', 'at') as f: # append 모드로.\n",
    "                f.write(item['title']+\" - \"+item['sales_price']+'\\n')\n",
    "        return item"
   ]
  },
  {
   "cell_type": "markdown",
   "metadata": {
    "ExecuteTime": {
     "end_time": "2020-07-15T13:49:43.371913Z",
     "start_time": "2020-07-15T13:49:43.363921Z"
    }
   },
   "source": [
    "- settings.py에 pipeline 설정\n",
    "```\n",
    "ITEM_PIPELINES = {\n",
    "    'crawler.pipelines.CrawlerPipeline':300,\n",
    "}\n",
    "```\n",
    "300 => 파이프라인 실행순서 (1 ~ 1000 사이숫자). 파이프라인이 여러개일때 실행 순서"
   ]
  },
  {
   "cell_type": "code",
   "execution_count": 106,
   "metadata": {
    "ExecuteTime": {
     "end_time": "2020-07-15T13:58:59.139889Z",
     "start_time": "2020-07-15T13:58:55.187433Z"
    },
    "scrolled": true
   },
   "outputs": [
    {
     "name": "stdout",
     "output_type": "stream",
     "text": [
      "\n",
      "(base) E:\\OneDrive - 둔전초등학교\\01_과목별 수업자료\\03_크롤링\\03_차후 수업 추가할 것\\scarappy_exam>cd crawler \n",
      "\n",
      "(base) E:\\OneDrive - 둔전초등학교\\01_과목별 수업자료\\03_크롤링\\03_차후 수업 추가할 것\\scarappy_exam\\crawler>scrapy crawl GmarketBestSellers -o GmarketBestSellers.csv \n",
      "==================================================\n",
      "50000\n",
      "==================================================\n",
      "==================================================\n",
      "5900\n",
      "==================================================\n",
      "==================================================\n",
      "8500\n",
      "==================================================\n",
      "==================================================\n",
      "6900\n",
      "==================================================\n",
      "=================================================="
     ]
    },
    {
     "name": "stderr",
     "output_type": "stream",
     "text": [
      "2020-07-15 22:58:56 [scrapy.utils.log] INFO: Scrapy 2.2.0 started (bot: crawler)\n",
      "2020-07-15 22:58:56 [scrapy.utils.log] INFO: Versions: lxml 4.5.0.0, libxml2 2.9.9, cssselect 1.1.0, parsel 1.6.0, w3lib 1.22.0, Twisted 20.3.0, Python 3.7.7 (default, May  6 2020, 11:45:54) [MSC v.1916 64 bit (AMD64)], pyOpenSSL 19.1.0 (OpenSSL 1.1.1g  21 Apr 2020), cryptography 2.9.2, Platform Windows-10-10.0.18362-SP0\n",
      "2020-07-15 22:58:56 [scrapy.utils.log] DEBUG: Using reactor: twisted.internet.selectreactor.SelectReactor\n",
      "2020-07-15 22:58:56 [scrapy.crawler] INFO: Overridden settings:\n",
      "{'BOT_NAME': 'crawler',\n",
      " 'NEWSPIDER_MODULE': 'crawler.spiders',\n",
      " 'ROBOTSTXT_OBEY': True,\n",
      " 'SPIDER_MODULES': ['crawler.spiders']}\n",
      "2020-07-15 22:58:56 [scrapy.extensions.telnet] INFO: Telnet Password: cb8916b686a882d2\n",
      "2020-07-15 22:58:56 [scrapy.middleware] INFO: Enabled extensions:\n",
      "['scrapy.extensions.corestats.CoreStats',\n",
      " 'scrapy.extensions.telnet.TelnetConsole',\n",
      " 'scrapy.extensions.feedexport.FeedExporter',\n",
      " 'scrapy.extensions.logstats.LogStats']\n",
      "2020-07-15 22:58:56 [scrapy.middleware] INFO: Enabled downloader middlewares:\n",
      "['scrapy.downloadermiddlewares.robotstxt.RobotsTxtMiddleware',\n",
      " 'scrapy.downloadermiddlewares.httpauth.HttpAuthMiddleware',\n",
      " 'scrapy.downloadermiddlewares.downloadtimeout.DownloadTimeoutMiddleware',\n",
      " 'scrapy.downloadermiddlewares.defaultheaders.DefaultHeadersMiddleware',\n",
      " 'scrapy.downloadermiddlewares.useragent.UserAgentMiddleware',\n",
      " 'scrapy.downloadermiddlewares.retry.RetryMiddleware',\n",
      " 'scrapy.downloadermiddlewares.redirect.MetaRefreshMiddleware',\n"
     ]
    },
    {
     "name": "stdout",
     "output_type": "stream",
     "text": [
      "\n",
      "59900\n",
      "==================================================\n",
      "==================================================\n",
      "41710\n",
      "==================================================\n",
      "==================================================\n",
      "109000\n",
      "==================================================\n",
      "==================================================\n",
      "14900\n",
      "==================================================\n",
      "==================================================\n",
      "7900\n",
      "==================================================\n",
      "==================================================\n",
      "14900\n",
      "==================================================\n"
     ]
    },
    {
     "name": "stderr",
     "output_type": "stream",
     "text": [
      " 'scrapy.downloadermiddlewares.httpcompression.HttpCompressionMiddleware',\n",
      " 'scrapy.downloadermiddlewares.redirect.RedirectMiddleware',\n",
      " 'scrapy.downloadermiddlewares.cookies.CookiesMiddleware',\n",
      " 'scrapy.downloadermiddlewares.httpproxy.HttpProxyMiddleware',\n",
      " 'scrapy.downloadermiddlewares.stats.DownloaderStats']\n",
      "2020-07-15 22:58:56 [scrapy.middleware] INFO: Enabled spider middlewares:\n",
      "['scrapy.spidermiddlewares.httperror.HttpErrorMiddleware',\n",
      " 'scrapy.spidermiddlewares.offsite.OffsiteMiddleware',\n",
      " 'scrapy.spidermiddlewares.referer.RefererMiddleware',\n",
      " 'scrapy.spidermiddlewares.urllength.UrlLengthMiddleware',\n",
      " 'scrapy.spidermiddlewares.depth.DepthMiddleware']\n",
      "2020-07-15 22:58:56 [scrapy.middleware] INFO: Enabled item pipelines:\n",
      "['crawler.pipelines.CrawlerPipeline']\n",
      "2020-07-15 22:58:56 [scrapy.core.engine] INFO: Spider opened\n",
      "2020-07-15 22:58:56 [scrapy.extensions.logstats] INFO: Crawled 0 pages (at 0 pages/min), scraped 0 items (at 0 items/min)\n",
      "2020-07-15 22:58:56 [scrapy.extensions.telnet] INFO: Telnet console listening on 127.0.0.1:6023\n",
      "2020-07-15 22:58:56 [scrapy.core.engine] DEBUG: Crawled (200) <GET http://corners.gmarket.co.kr/robots.txt> (referer: None)\n",
      "2020-07-15 22:58:56 [protego] DEBUG: Rule at line 3 without any user agent to enforce it on.\n",
      "2020-07-15 22:58:56 [scrapy.core.engine] DEBUG: Crawled (200) <GET http://corners.gmarket.co.kr/Bestsellers> (referer: None)\n",
      "2020-07-15 22:58:57 [scrapy.core.engine] DEBUG: Crawled (200) <GET http://item.gmarket.co.kr/robots.txt> (referer: None)\n",
      "2020-07-15 22:58:57 [protego] DEBUG: Rule at line 1 without any user agent to enforce it on.\n",
      "2020-07-15 22:58:57 [protego] DEBUG: Rule at line 2 without any user agent to enforce it on.\n",
      "2020-07-15 22:58:58 [scrapy.core.engine] DEBUG: Crawled (200) <GET http://item.gmarket.co.kr/Item?goodscode=1840147374&ver=637304507397510461> (referer: http://corners.gmarket.co.kr/Bestsellers)\n",
      "2020-07-15 22:58:58 [scrapy.core.engine] DEBUG: Crawled (200) <GET http://item.gmarket.co.kr/Item?goodscode=1725467202&ver=637304507397510461> (referer: http://corners.gmarket.co.kr/Bestsellers)\n",
      "2020-07-15 22:58:58 [scrapy.core.scraper] DEBUG: Scraped from <200 http://item.gmarket.co.kr/Item?goodscode=1840147374&ver=637304507397510461>\n",
      "\n",
      "{'discount_rate': '0.0%',\n",
      " 'link': 'http://item.gmarket.co.kr/Item?goodscode=1840147374&ver=637304507397510461',\n",
      " 'original_price': '50000',\n",
      " 'sales_price': '50000',\n",
      " 'title': '[한국투자증권] (한국투자증권) 온라인 금융상품권 5만원권 '}\n",
      "2020-07-15 22:58:58 [scrapy.core.engine] DEBUG: Crawled (200) <GET http://item.gmarket.co.kr/Item?goodscode=1516002555&ver=637304507397510461> (referer: http://corners.gmarket.co.kr/Bestsellers)\n",
      "2020-07-15 22:58:58 [scrapy.core.scraper] DEBUG: Scraped from <200 http://item.gmarket.co.kr/Item?goodscode=1725467202&ver=637304507397510461>\n",
      "\n",
      "{'discount_rate': '70.0%',\n",
      " 'link': 'http://item.gmarket.co.kr/Item?goodscode=1725467202&ver=637304507397510461',\n",
      " 'original_price': '19600',\n",
      " 'sales_price': '5900',\n",
      " 'title': '루나샵 15일딱하루 5900원~티셔츠/원피스/박스티/롱티 '}\n",
      "2020-07-15 22:58:58 [scrapy.core.engine] DEBUG: Crawled (200) <GET http://item.gmarket.co.kr/Item?goodscode=215673140&ver=637304507397510461> (referer: http://corners.gmarket.co.kr/Bestsellers)\n",
      "2020-07-15 22:58:58 [scrapy.core.scraper] DEBUG: Scraped from <200 http://item.gmarket.co.kr/Item?goodscode=1516002555&ver=637304507397510461>\n",
      "\n",
      "{'discount_rate': '21.0%',\n",
      " 'link': 'http://item.gmarket.co.kr/Item?goodscode=1516002555&ver=637304507397510461',\n",
      " 'original_price': '10700',\n",
      " 'sales_price': '8500',\n",
      " 'title': '[애경] 주방세제 순샘 대용량 3L x2개(라임1베리1) '}\n",
      "2020-07-15 22:58:58 [scrapy.core.scraper] DEBUG: Scraped from <200 http://item.gmarket.co.kr/Item?goodscode=215673140&ver=637304507397510461>\n",
      "\n",
      "{'discount_rate': '70.0%',\n",
      " 'link': 'http://item.gmarket.co.kr/Item?goodscode=215673140&ver=637304507397510461',\n",
      " 'original_price': '23000',\n",
      " 'sales_price': '6900',\n",
      " 'title': '스위트바니 여름신상5900원~롱원피스/티셔츠/박스티 '}\n",
      "2020-07-15 22:58:58 [scrapy.core.engine] DEBUG: Crawled (200) <GET http://item.gmarket.co.kr/Item?goodscode=1786479054&ver=637304507397510461> (referer: http://corners.gmarket.co.kr/Bestsellers)\n",
      "2020-07-15 22:58:58 [scrapy.core.engine] DEBUG: Crawled (200) <GET http://item.gmarket.co.kr/Item?goodscode=1844715501&ver=637304507397510461> (referer: http://corners.gmarket.co.kr/Bestsellers)\n",
      "2020-07-15 22:58:58 [scrapy.core.engine] DEBUG: Crawled (200) <GET http://item.gmarket.co.kr/Item?goodscode=1704892603&ver=637304507397510461> (referer: http://corners.gmarket.co.kr/Bestsellers)\n",
      "2020-07-15 22:58:58 [scrapy.core.engine] DEBUG: Crawled (200) <GET http://item.gmarket.co.kr/Item?goodscode=884451980&ver=637304507397510461> (referer: http://corners.gmarket.co.kr/Bestsellers)\n",
      "2020-07-15 22:58:58 [scrapy.core.scraper] DEBUG: Scraped from <200 http://item.gmarket.co.kr/Item?goodscode=1786479054&ver=637304507397510461>\n",
      "\n",
      "{'discount_rate': '2.0%',\n",
      " 'link': 'http://item.gmarket.co.kr/Item?goodscode=1786479054&ver=637304507397510461',\n",
      " 'original_price': '60900',\n",
      " 'sales_price': '59900',\n",
      " 'title': '오플 BBQ 통살닭다리구이 소금구이맛 10팩 + 매콤양념맛 10팩 '}\n",
      "2020-07-15 22:58:58 [scrapy.core.scraper] DEBUG: Scraped from <200 http://item.gmarket.co.kr/Item?goodscode=1844715501&ver=637304507397510461>\n",
      "\n",
      "{'discount_rate': '5.0%',\n",
      " 'link': 'http://item.gmarket.co.kr/Item?goodscode=1844715501&ver=637304507397510461',\n",
      " 'original_price': '43900',\n",
      " 'sales_price': '41710',\n",
      " 'title': 'kf94 마스크 블랙 대형 합리적인 비말차단 국내산 40매 '}\n",
      "2020-07-15 22:58:58 [scrapy.core.scraper] DEBUG: Scraped from <200 http://item.gmarket.co.kr/Item?goodscode=1704892603&ver=637304507397510461>\n",
      "\n",
      "{'discount_rate': '8.0%',\n",
      " 'link': 'http://item.gmarket.co.kr/Item?goodscode=1704892603&ver=637304507397510461',\n",
      " 'original_price': '119000',\n",
      " 'sales_price': '109000',\n",
      " 'title': '락토핏   프롤린유산균  종근당건강  생유산균 코어 (2 000mg 60포 6통  약 1 '}\n",
      "2020-07-15 22:58:58 [scrapy.core.scraper] DEBUG: Scraped from <200 http://item.gmarket.co.kr/Item?goodscode=884451980&ver=637304507397510461>\n",
      "\n",
      "{'discount_rate': '60.0%',\n",
      " 'link': 'http://item.gmarket.co.kr/Item?goodscode=884451980&ver=637304507397510461',\n",
      " 'original_price': '37300',\n",
      " 'sales_price': '14900',\n",
      " 'title': '[구운감자] 해태 구운감자 24g 30개 과자 간식 한박스 오늘만 할인 '}\n",
      "2020-07-15 22:58:58 [scrapy.core.engine] DEBUG: Crawled (200) <GET http://item.gmarket.co.kr/Item?goodscode=818391700&ver=637304507397510461> (referer: http://corners.gmarket.co.kr/Bestsellers)\n",
      "2020-07-15 22:58:58 [scrapy.core.engine] DEBUG: Crawled (200) <GET http://item.gmarket.co.kr/Item?goodscode=1791746014&ver=637304507397510461> (referer: http://corners.gmarket.co.kr/Bestsellers)\n",
      "2020-07-15 22:58:59 [scrapy.core.scraper] DEBUG: Scraped from <200 http://item.gmarket.co.kr/Item?goodscode=818391700&ver=637304507397510461>\n",
      "\n",
      "{'discount_rate': '70.0%',\n",
      " 'link': 'http://item.gmarket.co.kr/Item?goodscode=818391700&ver=637304507397510461',\n",
      " 'original_price': '26000',\n",
      " 'sales_price': '7900',\n",
      " 'title': '[라벨영] 빵꾸솝 쿨버전 비누 1+1/모공축소+블랙헤드+피지 제거 '}\n",
      "2020-07-15 22:58:59 [scrapy.core.scraper] DEBUG: Scraped from <200 http://item.gmarket.co.kr/Item?goodscode=1791746014&ver=637304507397510461>\n",
      "\n",
      "{'discount_rate': '37.0%',\n",
      " 'link': 'http://item.gmarket.co.kr/Item?goodscode=1791746014&ver=637304507397510461',\n",
      " 'original_price': '23600',\n",
      " 'sales_price': '14900',\n",
      " 'title': '[유한킴벌리] 크리넥스 펭수뽑아쓰는키친타월 140매X4입X2팩 '}\n",
      "2020-07-15 22:58:59 [scrapy.core.engine] INFO: Closing spider (finished)\n",
      "2020-07-15 22:58:59 [scrapy.extensions.feedexport] INFO: Stored csv feed (10 items) in: GmarketBestSellers.csv\n",
      "2020-07-15 22:58:59 [scrapy.statscollectors] INFO: Dumping Scrapy stats:\n",
      "{'downloader/request_bytes': 4265,\n",
      " 'downloader/request_count': 13,\n",
      " 'downloader/request_method_count/GET': 13,\n",
      " 'downloader/response_bytes': 406042,\n",
      " 'downloader/response_count': 13,\n",
      " 'downloader/response_status_count/200': 13,\n",
      " 'elapsed_time_seconds': 2.543199,\n",
      " 'finish_reason': 'finished',\n",
      " 'finish_time': datetime.datetime(2020, 7, 15, 13, 58, 59, 44149),\n",
      " 'item_scraped_count': 10,\n",
      " 'log_count/DEBUG': 26,\n",
      " 'log_count/INFO': 11,\n",
      " 'request_depth_max': 1,\n",
      " 'response_received_count': 13,\n",
      " 'robotstxt/request_count': 2,\n",
      " 'robotstxt/response_count': 2,\n",
      " 'robotstxt/response_status_count/200': 2,\n",
      " 'scheduler/dequeued': 11,\n",
      " 'scheduler/dequeued/memory': 11,\n",
      " 'scheduler/enqueued': 11,\n",
      " 'scheduler/enqueued/memory': 11,\n",
      " 'start_time': datetime.datetime(2020, 7, 15, 13, 58, 56, 500950)}\n",
      "2020-07-15 22:58:59 [scrapy.core.engine] INFO: Spider closed (finished)\n"
     ]
    }
   ],
   "source": [
    "!run.bat"
   ]
  },
  {
   "cell_type": "code",
   "execution_count": null,
   "metadata": {},
   "outputs": [],
   "source": []
  }
 ],
 "metadata": {
  "kernelspec": {
   "display_name": "Python 3",
   "language": "python",
   "name": "python3"
  },
  "language_info": {
   "codemirror_mode": {
    "name": "ipython",
    "version": 3
   },
   "file_extension": ".py",
   "mimetype": "text/x-python",
   "name": "python",
   "nbconvert_exporter": "python",
   "pygments_lexer": "ipython3",
   "version": "3.7.7"
  }
 },
 "nbformat": 4,
 "nbformat_minor": 4
}
