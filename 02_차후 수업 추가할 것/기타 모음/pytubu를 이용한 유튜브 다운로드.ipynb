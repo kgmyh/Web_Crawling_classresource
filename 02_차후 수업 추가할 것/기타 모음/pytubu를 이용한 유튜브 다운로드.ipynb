{
 "cells": [
  {
   "cell_type": "markdown",
   "metadata": {},
   "source": [
    "- pytube : https://github.com/nficano/pytube\n",
    "- 설치\n",
    "    - `pip install pytube`"
   ]
  },
  {
   "cell_type": "code",
   "execution_count": 42,
   "metadata": {
    "ExecuteTime": {
     "end_time": "2019-06-29T10:57:26.369104Z",
     "start_time": "2019-06-29T10:57:26.365065Z"
    }
   },
   "outputs": [],
   "source": [
    "import pytube"
   ]
  },
  {
   "cell_type": "code",
   "execution_count": 79,
   "metadata": {
    "ExecuteTime": {
     "end_time": "2019-06-29T13:15:38.456790Z",
     "start_time": "2019-06-29T13:15:38.453797Z"
    }
   },
   "outputs": [],
   "source": [
    "url = 'https://www.youtube.com/watch?v=pBuZEGYXA6E'\n",
    "url = 'https://www.youtube.com/watch?v=AusmsFqKs10'\n",
    "url = 'https://www.youtube.com/watch?v=S8e1geEpnTA'\n",
    "url = 'https://www.youtube.com/watch?v=LUv4xlCFbq8'\n",
    "url = 'https://www.youtube.com/watch?v=Ac33GwOPiWA&list=PLkYwuAkUCQ9fl6AxZCe1h8WL4VEL0glxA'\n",
    "down_dir = r'C:\\Temp\\youtube';"
   ]
  },
  {
   "cell_type": "code",
   "execution_count": 80,
   "metadata": {
    "ExecuteTime": {
     "end_time": "2019-06-29T13:15:43.017167Z",
     "start_time": "2019-06-29T13:15:39.138964Z"
    }
   },
   "outputs": [],
   "source": [
    "yt = pytube.YouTube(url) # 연결"
   ]
  },
  {
   "cell_type": "code",
   "execution_count": 81,
   "metadata": {
    "ExecuteTime": {
     "end_time": "2019-06-29T13:15:43.032126Z",
     "start_time": "2019-06-29T13:15:43.026109Z"
    },
    "scrolled": true
   },
   "outputs": [
    {
     "data": {
      "text/plain": [
       "(list, pytube.streams.Stream)"
      ]
     },
     "execution_count": 81,
     "metadata": {},
     "output_type": "execute_result"
    }
   ],
   "source": [
    "# 전체 stream 목록 다운\n",
    "videos = yt.streams.all()\n",
    "type(videos) , type(videos[0])\n",
    "# 연결 Stream들을 가진 리스트들 반환\n",
    "# 화질등에 따라 다양한 버전 제공."
   ]
  },
  {
   "cell_type": "code",
   "execution_count": 92,
   "metadata": {
    "ExecuteTime": {
     "end_time": "2019-06-29T13:18:49.951468Z",
     "start_time": "2019-06-29T13:18:49.946479Z"
    }
   },
   "outputs": [],
   "source": [
    "videos = yt.streams.filter(progressive=True, subtype='mp4').order_by('resolution').desc().all()"
   ]
  },
  {
   "cell_type": "code",
   "execution_count": 93,
   "metadata": {
    "ExecuteTime": {
     "end_time": "2019-06-29T13:18:50.469566Z",
     "start_time": "2019-06-29T13:18:50.464607Z"
    }
   },
   "outputs": [
    {
     "name": "stdout",
     "output_type": "stream",
     "text": [
      "<Stream: itag=\"22\" mime_type=\"video/mp4\" res=\"720p\" fps=\"30fps\" vcodec=\"avc1.64001F\" acodec=\"mp4a.40.2\"> <class 'pytube.streams.Stream'>\n",
      "<Stream: itag=\"18\" mime_type=\"video/mp4\" res=\"360p\" fps=\"30fps\" vcodec=\"avc1.42001E\" acodec=\"mp4a.40.2\"> <class 'pytube.streams.Stream'>\n"
     ]
    }
   ],
   "source": [
    "for video in videos:\n",
    "    print(video, type(video))"
   ]
  },
  {
   "cell_type": "code",
   "execution_count": 94,
   "metadata": {
    "ExecuteTime": {
     "end_time": "2019-06-29T13:19:00.517487Z",
     "start_time": "2019-06-29T13:18:59.122309Z"
    }
   },
   "outputs": [
    {
     "name": "stdout",
     "output_type": "stream",
     "text": [
      "다운받을 Stream 번호를 입력하세요.0\n"
     ]
    }
   ],
   "source": [
    "num = int(input(\"다운받을 Stream 번호를 입력하세요.\"))"
   ]
  },
  {
   "cell_type": "code",
   "execution_count": 95,
   "metadata": {
    "ExecuteTime": {
     "end_time": "2019-06-29T13:20:36.855947Z",
     "start_time": "2019-06-29T13:19:01.147654Z"
    }
   },
   "outputs": [
    {
     "data": {
      "text/plain": [
       "'C:\\\\Temp\\\\youtube\\\\KBS TV유치원 캐리와 냠냠 밥상 제1화 오징어 편 CarrieAndToys.mp4'"
      ]
     },
     "execution_count": 95,
     "metadata": {},
     "output_type": "execute_result"
    }
   ],
   "source": [
    "# 다운 로드(첫번째 stream으로 다운)\n",
    "videos[0].download(down_dir)\n",
    "# videos[num].download(down_dir)"
   ]
  },
  {
   "cell_type": "code",
   "execution_count": null,
   "metadata": {},
   "outputs": [],
   "source": []
  }
 ],
 "metadata": {
  "kernelspec": {
   "display_name": "Python 3",
   "language": "python",
   "name": "python3"
  },
  "language_info": {
   "codemirror_mode": {
    "name": "ipython",
    "version": 3
   },
   "file_extension": ".py",
   "mimetype": "text/x-python",
   "name": "python",
   "nbconvert_exporter": "python",
   "pygments_lexer": "ipython3",
   "version": "3.7.3"
  },
  "toc": {
   "base_numbering": 1,
   "nav_menu": {},
   "number_sections": false,
   "sideBar": false,
   "skip_h1_title": false,
   "title_cell": "Table of Contents",
   "title_sidebar": "Contents",
   "toc_cell": false,
   "toc_position": {},
   "toc_section_display": true,
   "toc_window_display": false
  },
  "varInspector": {
   "cols": {
    "lenName": 16,
    "lenType": 16,
    "lenVar": 40
   },
   "kernels_config": {
    "python": {
     "delete_cmd_postfix": "",
     "delete_cmd_prefix": "del ",
     "library": "var_list.py",
     "varRefreshCmd": "print(var_dic_list())"
    },
    "r": {
     "delete_cmd_postfix": ") ",
     "delete_cmd_prefix": "rm(",
     "library": "var_list.r",
     "varRefreshCmd": "cat(var_dic_list()) "
    }
   },
   "types_to_exclude": [
    "module",
    "function",
    "builtin_function_or_method",
    "instance",
    "_Feature"
   ],
   "window_display": false
  }
 },
 "nbformat": 4,
 "nbformat_minor": 2
}
