{
 "cells": [
  {
   "cell_type": "code",
   "execution_count": 12,
   "metadata": {
    "ExecuteTime": {
     "end_time": "2019-07-04T07:49:47.607337Z",
     "start_time": "2019-07-04T07:49:47.596377Z"
    }
   },
   "outputs": [],
   "source": [
    "from bs4 import BeautifulSoup\n",
    "import requests\n",
    "# 10000img.com 에서 이미지 받는 함수\n",
    "def get_image(max_cnt = 1):\n",
    "    base_url = 'http://10000img.com/' #image가 상대 경로이다. 그래서 img src의 값 앞에 붙일 이미지 다운 주소\n",
    "    url = 'http://10000img.com/ran.php' #새로 고침 링크 페이지(이거 클릭시 마다 다시 요청이 가서 이미지가 바뀐다.)\n",
    "    \n",
    "    for i in range(max_cnt):\n",
    "        html_doc = requests.get(url).text\n",
    "        soup = BeautifulSoup(html_doc)\n",
    "    #    파싱\n",
    "        img_tag = soup.find('img') #img 태그\n",
    "        img_src = img_tag.get('src') #img의 src 속성값(링크)\n",
    "        img_url = base_url+img_src\n",
    "        img_name = img_src.replace('/','')  #그림파일 이름. 경로에서 / 제거\n",
    "\n",
    "        # 다운로드\n",
    "        download(img_url, img_name)\n",
    "    \n",
    "    print('크롤링 완료')\n",
    "        \n",
    "def download(url, file_name, save_dir='./10000img/'):\n",
    "    with open(save_dir+file_name, 'wb') as f:\n",
    "        res = requests.get(url)        #url 연결\n",
    "        f.write(res.content)        #읽어온 파일 저장."
   ]
  },
  {
   "cell_type": "code",
   "execution_count": 14,
   "metadata": {
    "ExecuteTime": {
     "end_time": "2019-07-04T07:53:07.148543Z",
     "start_time": "2019-07-04T07:50:12.131795Z"
    }
   },
   "outputs": [
    {
     "name": "stdout",
     "output_type": "stream",
     "text": [
      "크롤링 완료\n"
     ]
    }
   ],
   "source": [
    "get_image(1000)"
   ]
  },
  {
   "cell_type": "code",
   "execution_count": null,
   "metadata": {},
   "outputs": [],
   "source": []
  }
 ],
 "metadata": {
  "kernelspec": {
   "display_name": "Python 3",
   "language": "python",
   "name": "python3"
  },
  "language_info": {
   "codemirror_mode": {
    "name": "ipython",
    "version": 3
   },
   "file_extension": ".py",
   "mimetype": "text/x-python",
   "name": "python",
   "nbconvert_exporter": "python",
   "pygments_lexer": "ipython3",
   "version": "3.7.3"
  },
  "toc": {
   "base_numbering": 1,
   "nav_menu": {},
   "number_sections": false,
   "sideBar": false,
   "skip_h1_title": false,
   "title_cell": "Table of Contents",
   "title_sidebar": "Contents",
   "toc_cell": false,
   "toc_position": {},
   "toc_section_display": true,
   "toc_window_display": false
  },
  "varInspector": {
   "cols": {
    "lenName": 16,
    "lenType": 16,
    "lenVar": 40
   },
   "kernels_config": {
    "python": {
     "delete_cmd_postfix": "",
     "delete_cmd_prefix": "del ",
     "library": "var_list.py",
     "varRefreshCmd": "print(var_dic_list())"
    },
    "r": {
     "delete_cmd_postfix": ") ",
     "delete_cmd_prefix": "rm(",
     "library": "var_list.r",
     "varRefreshCmd": "cat(var_dic_list()) "
    }
   },
   "types_to_exclude": [
    "module",
    "function",
    "builtin_function_or_method",
    "instance",
    "_Feature"
   ],
   "window_display": false
  }
 },
 "nbformat": 4,
 "nbformat_minor": 2
}
