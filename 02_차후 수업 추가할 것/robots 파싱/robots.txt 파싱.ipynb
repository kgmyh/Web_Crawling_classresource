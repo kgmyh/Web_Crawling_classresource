{
 "cells": [
  {
   "cell_type": "markdown",
   "metadata": {},
   "source": [
    "# [robots.txt](http://www.robotstxt.org/robotstxt.html)\n",
    "- 웹사이트가 크롤러를 대상으로 특정 페이지의 크롤링 가능 여부를 작성한 문서\n",
    "- 웹사이트 최상위 디렉토리에 위치시킨다.\n",
    "    - http://domain.com/robots.txt\n",
    "    \n",
    "## robots.txt의 대표적인 디렉티브\n",
    "|디렉티브|설명|\n",
    "|-|-|\n",
    "|User-agent|디렉티브 정보의 대상이 되는 크롤러를 지정|\n",
    "|Disallow|크롤링을 거부할 경로 지정|\n",
    "|Allow|크롤링 가능한 경로를 지정|\n",
    "|Crawl-delay|크롤링 시간 간격을 지정|\n",
    "|Sitemap|XML sitemap의 url - robots.txt의 xml 버전|\n",
    "\n",
    "\n",
    "<hr>\n",
    "\n",
    "```\n",
    "User-agent: *    #모든 크롤러\n",
    "Disallow: /      # / 로 시작하는(모든경로)에 대해 허용하지 않는다.\n",
    "```\n",
    "\n",
    "<hr>\n",
    "\n",
    "```\n",
    "User-agent: *    #모든 크롤러\n",
    "Disallow:        # Disallow가 비어 있으면 어떤 것도 금지 하지 않는다.\n",
    "```\n",
    "\n",
    "<hr>\n",
    "\n",
    "```\n",
    "User-agent: *       #모든 크롤러\n",
    "Disallow: /old      # /old/ /new/ 아래 경로의 자원에 대해 허용하지 않는다.\n",
    "Disallow: /new\n",
    "\n",
    "User-agent: annoying-bot  # annoying-bot 문자열을 포함한 크롤러는 모든 경로의 자원 요청을 허가안한다.\n",
    "Disallow: /\n",
    "```\n",
    "\n",
    "<hr>\n",
    "\n",
    "```\n",
    "User-agent: *    #모든 크롤러\n",
    "Allow: /articles\n",
    "Disallow: /       # /articles 하위의 자원에 대해 허용하지만 나머진 허용하지 않는다.\n",
    "```\n"
   ]
  },
  {
   "cell_type": "markdown",
   "metadata": {},
   "source": [
    "### 쿠팡 예\n",
    "- https://www.coupang.com/robots.txt\n",
    "\n",
    "```\n",
    "User-agent: *\n",
    "Disallow: /\n",
    "\n",
    "User-agent: Googlebot\n",
    "Crawl-delay: 1\n",
    "Allow: /vp/products/\n",
    "Allow: /vm/products/\n",
    "Disallow: /*.css$\n",
    "Disallow: /*.js$\n",
    "\n",
    "User-agent: Googlebot-image\n",
    "Crawl-delay: 1\n",
    "Allow: /vp/products/\n",
    "Allow: /vm/products/\n",
    "Disallow: /*.css$\n",
    "Disallow: /*.js$\n",
    "\n",
    "User-agent: NaverBot\n",
    "Crawl-delay: 1\n",
    "Disallow: /*.gif$\n",
    "Disallow: /*.jpg$\n",
    "Disallow: /*.css$\n",
    "Disallow: /*.js$\n",
    "\n",
    "User-agent: Yeti\n",
    "Crawl-delay: 1\n",
    "Disallow: /*.gif$\n",
    "Disallow: /*.jpg$\n",
    "Disallow: /*.css$\n",
    "Disallow: /*.js$\n",
    "```"
   ]
  },
  {
   "cell_type": "markdown",
   "metadata": {},
   "source": [
    "## robots.txt 파싱\n",
    "- urllib.robotparser의 RobotFileParser 클래스 사용"
   ]
  },
  {
   "cell_type": "code",
   "execution_count": 15,
   "metadata": {
    "ExecuteTime": {
     "end_time": "2020-07-24T12:44:20.859336Z",
     "start_time": "2020-07-24T12:44:20.807506Z"
    }
   },
   "outputs": [
    {
     "name": "stdout",
     "output_type": "stream",
     "text": [
      "False\n",
      "False\n"
     ]
    }
   ],
   "source": [
    "# 흠..... 잘 안되네..\n",
    "from urllib.robotparser import RobotFileParser\n",
    "\n",
    "rp = RobotFileParser()\n",
    "# set_url() : robots.txt 설정\n",
    "rp.set_url('https://www.coupang.com/robots.txt')\n",
    "# read(): robots.txt를 읽는다.\n",
    "rp.read()\n",
    "# can_fetch(User-agent의 문자열, url) : 크롤링 가능 여부 반환\n",
    "v1 = rp.can_fetch('chrome','https://www.coupang.com/')\n",
    "print(v1)\n",
    "v2 = rp.can_fetch('Googlebot', 'https://www.coupang.com/vp/products/')\n",
    "print(v2)"
   ]
  },
  {
   "cell_type": "code",
   "execution_count": null,
   "metadata": {},
   "outputs": [],
   "source": []
  }
 ],
 "metadata": {
  "kernelspec": {
   "display_name": "Python 3",
   "language": "python",
   "name": "python3"
  },
  "language_info": {
   "codemirror_mode": {
    "name": "ipython",
    "version": 3
   },
   "file_extension": ".py",
   "mimetype": "text/x-python",
   "name": "python",
   "nbconvert_exporter": "python",
   "pygments_lexer": "ipython3",
   "version": "3.7.7"
  }
 },
 "nbformat": 4,
 "nbformat_minor": 4
}
