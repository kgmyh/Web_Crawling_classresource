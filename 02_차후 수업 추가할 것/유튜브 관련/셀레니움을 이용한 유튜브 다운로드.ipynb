{
 "cells": [
  {
   "cell_type": "code",
   "execution_count": 1,
   "metadata": {
    "ExecuteTime": {
     "end_time": "2019-08-04T14:40:54.855214Z",
     "start_time": "2019-08-04T14:40:54.761402Z"
    }
   },
   "outputs": [],
   "source": [
    "from selenium import webdriver\n",
    "from selenium.webdriver.common.keys import Keys\n",
    "\n",
    "import time\n",
    "import os"
   ]
  },
  {
   "cell_type": "code",
   "execution_count": 2,
   "metadata": {
    "ExecuteTime": {
     "end_time": "2019-08-04T14:41:11.037754Z",
     "start_time": "2019-08-04T14:41:11.032741Z"
    }
   },
   "outputs": [],
   "source": [
    "def make_dir(subdir, num=0):\n",
    "    download_base_dir = r'c:\\Temp\\youtube'\n",
    "    temp_subdir = None\n",
    "    if not num==0:\n",
    "        temp_subdir=subdir+str(num)\n",
    "    else:\n",
    "        temp_subdir = subdir\n",
    "        \n",
    "    download_dir = os.path.join(download_base_dir, temp_subdir)\n",
    "    if not os.path.isdir(download_dir):\n",
    "        os.makedirs(download_dir)\n",
    "    else:\n",
    "        num=num+1;\n",
    "        download_dir = make_dir(subdir, num)\n",
    "       \n",
    "    return download_dir"
   ]
  },
  {
   "cell_type": "code",
   "execution_count": 3,
   "metadata": {
    "ExecuteTime": {
     "end_time": "2019-08-04T14:41:26.336759Z",
     "start_time": "2019-08-04T14:41:13.123003Z"
    }
   },
   "outputs": [
    {
     "name": "stdout",
     "output_type": "stream",
     "text": [
      "검색어 입력 :뽀로로\n"
     ]
    }
   ],
   "source": [
    "query = input('검색어 입력 :')"
   ]
  },
  {
   "cell_type": "code",
   "execution_count": 4,
   "metadata": {
    "ExecuteTime": {
     "end_time": "2019-08-04T14:41:30.396621Z",
     "start_time": "2019-08-04T14:41:30.386617Z"
    }
   },
   "outputs": [
    {
     "data": {
      "text/plain": [
       "'c:\\\\Temp\\\\youtube\\\\뽀로로'"
      ]
     },
     "execution_count": 4,
     "metadata": {},
     "output_type": "execute_result"
    }
   ],
   "source": [
    "make_dir(query)"
   ]
  },
  {
   "cell_type": "code",
   "execution_count": 13,
   "metadata": {
    "ExecuteTime": {
     "end_time": "2019-08-04T14:47:16.234326Z",
     "start_time": "2019-08-04T14:47:11.914205Z"
    }
   },
   "outputs": [],
   "source": [
    "# 유튜브 연결\n",
    "browser = webdriver.Chrome() # 크롬드라이버 있는 경로를 알려준다. 패스로 잡혀있으면 안해도됨\n",
    "\n",
    "base_url = 'https://www.youtube.com/'\n",
    "\n",
    "browser.get(base_url)\n",
    "# 암묵적으로 3초간 웹 자원로드를 위해 3초까지 기다려 준다.\n",
    "browser.implicitly_wait(3)"
   ]
  },
  {
   "cell_type": "code",
   "execution_count": 14,
   "metadata": {
    "ExecuteTime": {
     "end_time": "2019-08-04T14:47:17.026904Z",
     "start_time": "2019-08-04T14:47:16.674109Z"
    }
   },
   "outputs": [],
   "source": [
    "# 검색어 입력 \n",
    "#검색어 input 폼 조회\n",
    "search_tag = browser.find_element_by_id('search')\n",
    "#input에 글 입력\n",
    "search_query = query\n",
    "search_tag.send_keys(search_query)\n",
    "#검색버튼 클릭\n",
    "search_btn = browser.find_element_by_id('search-icon-legacy')\n",
    "search_btn.click()"
   ]
  },
  {
   "cell_type": "code",
   "execution_count": 11,
   "metadata": {
    "ExecuteTime": {
     "end_time": "2019-08-04T14:46:19.010388Z",
     "start_time": "2019-08-04T14:46:06.438893Z"
    }
   },
   "outputs": [
    {
     "name": "stdout",
     "output_type": "stream",
     "text": [
      "0\n",
      "2865.60009765625\n",
      "<html style=\"font-size: 10px;font-family: Roboto, Arial, sans-serif; \" lang=\"ko-KR\"><head><script data-original-src=\"/yts/jsbin/player_ias-vflPI0brM/ko_KR/miniplayer.js\" src=\"/yts/jsbin/player_ias-vflPI0brM/ko_KR/miniplayer.js\"></script><script data-original-src=\"/yts/jsbin/player_ias-vflPI0brM/ko_K\n",
      "종료하려면 아무거나 입력해a\n"
     ]
    }
   ],
   "source": [
    "# 스크롤을 내린 뒤 페이지 소스 스크래핑\n",
    "body = browser.find_element_by_tag_name('body')\n",
    "browser.implicitly_wait(1)\n",
    "\n",
    "#내릴 스크롤 수 지정 \n",
    "scroll_count = 7\n",
    "#현재 body 스크롤높이 조회\n",
    "print(browser.execute_script(\"return window.scrollY\"))\n",
    "while scroll_count:\n",
    "    body.send_keys(Keys.PAGE_DOWN)\n",
    "    time.sleep(0.5)\n",
    "    scroll_count -= 1\n",
    "\n",
    "html_doc = browser.page_source\n",
    "print(browser.execute_script(\"return window.scrollY\"))\n",
    "print(html_doc[:300])\n",
    "\n",
    "# input('종료하려면 아무거나 입력해')\n",
    "# browser.close()\n",
    "# 글입력, 이벤트 발생 모드 send_keys()인 듯"
   ]
  },
  {
   "cell_type": "code",
   "execution_count": 42,
   "metadata": {
    "ExecuteTime": {
     "end_time": "2019-06-30T03:41:47.241739Z",
     "start_time": "2019-06-30T03:41:47.236753Z"
    }
   },
   "outputs": [
    {
     "name": "stdout",
     "output_type": "stream",
     "text": [
      "34\n",
      "5\n"
     ]
    }
   ],
   "source": [
    "print(html_doc.count('contents'))\n",
    "print(html_doc.count('이강인'))"
   ]
  },
  {
   "cell_type": "code",
   "execution_count": 12,
   "metadata": {
    "ExecuteTime": {
     "end_time": "2019-08-04T14:46:26.576624Z",
     "start_time": "2019-08-04T14:46:26.341264Z"
    }
   },
   "outputs": [],
   "source": [
    "# beautifulSoup을 이용해 처리.\n",
    "import re\n",
    "from bs4 import BeautifulSoup\n",
    "bs = BeautifulSoup(html_doc, 'lxml')"
   ]
  },
  {
   "cell_type": "code",
   "execution_count": 47,
   "metadata": {
    "ExecuteTime": {
     "end_time": "2019-06-30T03:43:00.210518Z",
     "start_time": "2019-06-30T03:43:00.170620Z"
    }
   },
   "outputs": [],
   "source": [
    "# tag_list = bs.select('ytd-item-section-renderer div#contents')\n",
    "# for tag in tag_list:\n",
    "#     a_tags = tag.find_all('a', {'href':re.compile(r'\\watch')})\n",
    "#     for a_tag in a_tags:\n",
    "#         print(a_tag.get('href'), a_tag.get('aria-label'), sep=\"++==++\")"
   ]
  },
  {
   "cell_type": "code",
   "execution_count": 15,
   "metadata": {
    "ExecuteTime": {
     "end_time": "2019-08-04T14:48:54.870874Z",
     "start_time": "2019-08-04T14:48:54.849932Z"
    },
    "scrolled": false
   },
   "outputs": [],
   "source": [
    "# url 추출\n",
    "a_tags = bs.find(id='contents').find_all('a', {'href':re.compile(r'\\watch')}) #이미지 제목 링크 : href=\"/watch?v=fwCfsI30nBA\"\n",
    "\n",
    "urls = set()\n",
    "titles = set()\n",
    "\n",
    "for a_tag in a_tags:\n",
    "#     print(a_tag.get('href'), a_tag.get('aria-label'), sep=\"++==++\")\n",
    "    urls.add(a_tag.get('href'))\n",
    "    titles.add(a_tag.get('aria-label'))"
   ]
  },
  {
   "cell_type": "code",
   "execution_count": 16,
   "metadata": {
    "ExecuteTime": {
     "end_time": "2019-08-04T14:48:56.914292Z",
     "start_time": "2019-08-04T14:48:56.910306Z"
    }
   },
   "outputs": [
    {
     "data": {
      "text/plain": [
       "21"
      ]
     },
     "execution_count": 16,
     "metadata": {},
     "output_type": "execute_result"
    }
   ],
   "source": [
    "len(urls)"
   ]
  },
  {
   "cell_type": "code",
   "execution_count": 17,
   "metadata": {
    "ExecuteTime": {
     "end_time": "2019-08-04T14:48:59.486214Z",
     "start_time": "2019-08-04T14:48:59.481219Z"
    }
   },
   "outputs": [
    {
     "data": {
      "text/plain": [
       "22"
      ]
     },
     "execution_count": 17,
     "metadata": {},
     "output_type": "execute_result"
    }
   ],
   "source": [
    "len(titles)"
   ]
  },
  {
   "cell_type": "code",
   "execution_count": 18,
   "metadata": {
    "ExecuteTime": {
     "end_time": "2019-08-04T14:49:07.928035Z",
     "start_time": "2019-08-04T14:49:07.923048Z"
    }
   },
   "outputs": [
    {
     "data": {
      "text/plain": [
       "{'/watch?v=-SXzOZo3VWM',\n",
       " '/watch?v=0ROpiRNoiXs',\n",
       " '/watch?v=3pR99UhI31E',\n",
       " '/watch?v=7PG8Hn8sB40',\n",
       " '/watch?v=BgZlK8c-Vvg',\n",
       " '/watch?v=DVuSedAPmaY',\n",
       " '/watch?v=Ek3Y1MxzSOU',\n",
       " '/watch?v=Evbc2UEofwg',\n",
       " '/watch?v=Ey86EKJPgZ0',\n",
       " '/watch?v=N0LTDhWMsqk',\n",
       " '/watch?v=OhIMQTBu1So',\n",
       " '/watch?v=RCq72iwRoSo',\n",
       " '/watch?v=VB_tSqtLIQU',\n",
       " '/watch?v=VYSk3KrePFM',\n",
       " '/watch?v=YCogkgtW64w',\n",
       " '/watch?v=Zk7-xromLSo',\n",
       " '/watch?v=dhnB1ePEFiY',\n",
       " '/watch?v=scd_35Q6Njk',\n",
       " '/watch?v=tKsazQ4-B38',\n",
       " '/watch?v=wZvhQemT80s',\n",
       " '/watch?v=y792FTfLqeA'}"
      ]
     },
     "execution_count": 18,
     "metadata": {},
     "output_type": "execute_result"
    }
   ],
   "source": [
    "urls"
   ]
  },
  {
   "cell_type": "code",
   "execution_count": null,
   "metadata": {},
   "outputs": [],
   "source": []
  }
 ],
 "metadata": {
  "kernelspec": {
   "display_name": "Python 3",
   "language": "python",
   "name": "python3"
  },
  "language_info": {
   "codemirror_mode": {
    "name": "ipython",
    "version": 3
   },
   "file_extension": ".py",
   "mimetype": "text/x-python",
   "name": "python",
   "nbconvert_exporter": "python",
   "pygments_lexer": "ipython3",
   "version": "3.7.3"
  },
  "toc": {
   "base_numbering": 1,
   "nav_menu": {},
   "number_sections": false,
   "sideBar": false,
   "skip_h1_title": false,
   "title_cell": "Table of Contents",
   "title_sidebar": "Contents",
   "toc_cell": false,
   "toc_position": {},
   "toc_section_display": true,
   "toc_window_display": false
  },
  "varInspector": {
   "cols": {
    "lenName": 16,
    "lenType": 16,
    "lenVar": 40
   },
   "kernels_config": {
    "python": {
     "delete_cmd_postfix": "",
     "delete_cmd_prefix": "del ",
     "library": "var_list.py",
     "varRefreshCmd": "print(var_dic_list())"
    },
    "r": {
     "delete_cmd_postfix": ") ",
     "delete_cmd_prefix": "rm(",
     "library": "var_list.r",
     "varRefreshCmd": "cat(var_dic_list()) "
    }
   },
   "position": {
    "height": "567px",
    "left": "954px",
    "right": "20px",
    "top": "149px",
    "width": "350px"
   },
   "types_to_exclude": [
    "module",
    "function",
    "builtin_function_or_method",
    "instance",
    "_Feature"
   ],
   "window_display": false
  }
 },
 "nbformat": 4,
 "nbformat_minor": 2
}
