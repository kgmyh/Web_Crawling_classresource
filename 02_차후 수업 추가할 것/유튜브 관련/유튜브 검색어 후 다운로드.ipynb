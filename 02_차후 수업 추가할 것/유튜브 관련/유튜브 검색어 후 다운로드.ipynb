{
 "cells": [
  {
   "cell_type": "code",
   "execution_count": 2,
   "metadata": {
    "ExecuteTime": {
     "end_time": "2019-08-05T14:05:14.029160Z",
     "start_time": "2019-08-05T14:05:13.548376Z"
    }
   },
   "outputs": [],
   "source": [
    "import requests\n",
    "from bs4 import BeautifulSoup\n",
    "import re\n",
    "import os\n",
    "import urllib.parse\n",
    "import pytube"
   ]
  },
  {
   "cell_type": "code",
   "execution_count": 3,
   "metadata": {
    "ExecuteTime": {
     "end_time": "2019-08-05T14:05:18.322611Z",
     "start_time": "2019-08-05T14:05:18.317381Z"
    }
   },
   "outputs": [],
   "source": [
    "def make_dir(subdir, num=0):\n",
    "    download_base_dir = r'c:\\Temp\\youtube'\n",
    "    temp_subdir = None\n",
    "    if not num==0:\n",
    "        temp_subdir=subdir+str(num)\n",
    "    else:\n",
    "        temp_subdir = subdir\n",
    "        \n",
    "    download_dir = os.path.join(download_base_dir, temp_subdir)\n",
    "    if not os.path.isdir(download_dir):\n",
    "        os.makedirs(download_dir)\n",
    "    else:\n",
    "        num=num+1;\n",
    "        download_dir = make_dir(subdir, num)\n",
    "       \n",
    "    return download_dir"
   ]
  },
  {
   "cell_type": "code",
   "execution_count": 4,
   "metadata": {
    "ExecuteTime": {
     "end_time": "2019-08-05T14:06:23.901352Z",
     "start_time": "2019-08-05T14:06:23.893372Z"
    }
   },
   "outputs": [],
   "source": [
    "def download_youtube(search_query):\n",
    "    url = 'https://www.youtube.com/results'\n",
    "    base_url = 'https://www.youtube.com/'\n",
    "    download_dir = make_dir(search_query)\n",
    "    \n",
    "    res = requests.get(url, params={'search_query':search_query})\n",
    "    bs = BeautifulSoup(res.text, 'lxml')\n",
    "    ol = bs.find('ol', {'class':'item-section'})\n",
    "    a_tags = ol.find_all('a',{'href':re.compile('\\/watch')})\n",
    "\n",
    "    links = []\n",
    "    for a_tag in a_tags:\n",
    "        links.append(urllib.parse.urljoin(base_url, a_tag.get('href')))\n",
    "    \n",
    "    print(links[1])\n",
    "    yt = pytube.YouTube(links[0])\n",
    "    for link in links:\n",
    "        yt = pytube.YouTube(link)\n",
    "        try:\n",
    "            yt.streams.filter(progressive=True, subtype='mp4').order_by('resolution').desc().first().download(download_dir)       \n",
    "        except Exception as e:\n",
    "            print(e)"
   ]
  },
  {
   "cell_type": "code",
   "execution_count": 5,
   "metadata": {
    "ExecuteTime": {
     "end_time": "2019-08-05T14:06:27.187676Z",
     "start_time": "2019-08-05T14:06:24.989448Z"
    }
   },
   "outputs": [
    {
     "name": "stdout",
     "output_type": "stream",
     "text": [
      "검색어: 뽀로로\n"
     ]
    }
   ],
   "source": [
    "q = input(\"검색어: \")"
   ]
  },
  {
   "cell_type": "code",
   "execution_count": 6,
   "metadata": {
    "ExecuteTime": {
     "end_time": "2019-08-05T14:25:00.482753Z",
     "start_time": "2019-08-05T14:06:28.222798Z"
    }
   },
   "outputs": [
    {
     "name": "stdout",
     "output_type": "stream",
     "text": [
      "https://www.googleadservices.com/pagead/aclk?sa=L&ai=CPbrQY4FqXe21B5SygAPB34Agr8HZ9VfJy_X-hQrAjbcBEAEgAGCb8-eEuCmCARdjYS1wdWItNjIxOTgxMTc0NzA0OTM3MaABtZnawgOpAlxX5ZRlXQw-qAMEqgTTAU_QXepmN5JnnAMIv2DHWfRlsd0i7aPF4o5jWg3niwUDX3Ybp8IrMgXRfDOiS_e_NW7sQvpcstcewKQC_74e87JNtdLBJWhnkAinsVAFcWFwqqhUm9u-5rDf_ofIGsfRNWowpKuyjADFSJNoGN3o7cs1qoIf632QU0tAlrmSMBWfOt3mHYqcoYvX5otr15VFJE9LDOLCAuaoKdppdMCM4eK-VOd4gmX3haqNV-jXV0nCjdDI8CYI50nBF2PRUcLfNoguRxzD7nwGFKZEEUeCTFy0DVWSBQwIEjCwqOyKgcKqokaSBQcIE3izrIs8oAZVgAez5qU9kAcEqAeo0huoB9nLG6gHz8wbqAe2B6gH4M8bqAfp1BuoB7bXG6gHjM0bqAfVzhuoB4HGG6gHmM4bqAerxRuoB97OG6gHv9UbkggLUmtTcUVCRmJGREHSCAUIgEEQAbEJtHTMfQLF23PICRe4E____________wGwFAPAFQHYFQGYFgE&num=1&cid=CAASFeRo575HO1dE49XAGTuLnx_qp_zPgA&sig=AOD64_2lTHBj5Vk2WAxdIL6-_EfjT0jzog&adurl=http://www.youtube.com/watch%3Fv%3DRkSqEBFbFDA&ctype=21&video_id=RkSqEBFbFDA&client=ca-pub-6219811747049371\n"
     ]
    },
    {
     "ename": "RegexMatchError",
     "evalue": "regex pattern ((?:v=|\\/)([0-9A-Za-z_-]{11}).*) had zero matches",
     "output_type": "error",
     "traceback": [
      "\u001b[1;31m---------------------------------------------------------------------------\u001b[0m",
      "\u001b[1;31mRegexMatchError\u001b[0m                           Traceback (most recent call last)",
      "\u001b[1;32m<ipython-input-6-652b40205f37>\u001b[0m in \u001b[0;36m<module>\u001b[1;34m\u001b[0m\n\u001b[1;32m----> 1\u001b[1;33m \u001b[0mdownload_youtube\u001b[0m\u001b[1;33m(\u001b[0m\u001b[0mq\u001b[0m\u001b[1;33m)\u001b[0m\u001b[1;33m\u001b[0m\u001b[1;33m\u001b[0m\u001b[0m\n\u001b[0m",
      "\u001b[1;32m<ipython-input-4-ad687710d741>\u001b[0m in \u001b[0;36mdownload_youtube\u001b[1;34m(search_query)\u001b[0m\n\u001b[0;32m     14\u001b[0m \u001b[1;33m\u001b[0m\u001b[0m\n\u001b[0;32m     15\u001b[0m     \u001b[0mprint\u001b[0m\u001b[1;33m(\u001b[0m\u001b[0mlinks\u001b[0m\u001b[1;33m[\u001b[0m\u001b[1;36m1\u001b[0m\u001b[1;33m]\u001b[0m\u001b[1;33m)\u001b[0m\u001b[1;33m\u001b[0m\u001b[1;33m\u001b[0m\u001b[0m\n\u001b[1;32m---> 16\u001b[1;33m     \u001b[0myt\u001b[0m \u001b[1;33m=\u001b[0m \u001b[0mpytube\u001b[0m\u001b[1;33m.\u001b[0m\u001b[0mYouTube\u001b[0m\u001b[1;33m(\u001b[0m\u001b[0mlinks\u001b[0m\u001b[1;33m[\u001b[0m\u001b[1;36m0\u001b[0m\u001b[1;33m]\u001b[0m\u001b[1;33m)\u001b[0m\u001b[1;33m\u001b[0m\u001b[1;33m\u001b[0m\u001b[0m\n\u001b[0m\u001b[0;32m     17\u001b[0m     \u001b[1;32mfor\u001b[0m \u001b[0mlink\u001b[0m \u001b[1;32min\u001b[0m \u001b[0mlinks\u001b[0m\u001b[1;33m:\u001b[0m\u001b[1;33m\u001b[0m\u001b[1;33m\u001b[0m\u001b[0m\n\u001b[0;32m     18\u001b[0m         \u001b[0myt\u001b[0m \u001b[1;33m=\u001b[0m \u001b[0mpytube\u001b[0m\u001b[1;33m.\u001b[0m\u001b[0mYouTube\u001b[0m\u001b[1;33m(\u001b[0m\u001b[0mlink\u001b[0m\u001b[1;33m)\u001b[0m\u001b[1;33m\u001b[0m\u001b[1;33m\u001b[0m\u001b[0m\n",
      "\u001b[1;32m~\\Anaconda3\\lib\\site-packages\\pytube\\__main__.py\u001b[0m in \u001b[0;36m__init__\u001b[1;34m(self, url, defer_prefetch_init, on_progress_callback, on_complete_callback, proxies)\u001b[0m\n\u001b[0;32m     68\u001b[0m \u001b[1;33m\u001b[0m\u001b[0m\n\u001b[0;32m     69\u001b[0m         \u001b[1;31m# video_id part of /watch?v=<video_id>\u001b[0m\u001b[1;33m\u001b[0m\u001b[1;33m\u001b[0m\u001b[1;33m\u001b[0m\u001b[0m\n\u001b[1;32m---> 70\u001b[1;33m         \u001b[0mself\u001b[0m\u001b[1;33m.\u001b[0m\u001b[0mvideo_id\u001b[0m \u001b[1;33m=\u001b[0m \u001b[0mextract\u001b[0m\u001b[1;33m.\u001b[0m\u001b[0mvideo_id\u001b[0m\u001b[1;33m(\u001b[0m\u001b[0murl\u001b[0m\u001b[1;33m)\u001b[0m\u001b[1;33m\u001b[0m\u001b[1;33m\u001b[0m\u001b[0m\n\u001b[0m\u001b[0;32m     71\u001b[0m \u001b[1;33m\u001b[0m\u001b[0m\n\u001b[0;32m     72\u001b[0m         \u001b[1;31m# https://www.youtube.com/watch?v=<video_id>\u001b[0m\u001b[1;33m\u001b[0m\u001b[1;33m\u001b[0m\u001b[1;33m\u001b[0m\u001b[0m\n",
      "\u001b[1;32m~\\Anaconda3\\lib\\site-packages\\pytube\\extract.py\u001b[0m in \u001b[0;36mvideo_id\u001b[1;34m(url)\u001b[0m\n\u001b[0;32m     69\u001b[0m         \u001b[0mYouTube\u001b[0m \u001b[0mvideo\u001b[0m \u001b[0mid\u001b[0m\u001b[1;33m.\u001b[0m\u001b[1;33m\u001b[0m\u001b[1;33m\u001b[0m\u001b[0m\n\u001b[0;32m     70\u001b[0m     \"\"\"\n\u001b[1;32m---> 71\u001b[1;33m     \u001b[1;32mreturn\u001b[0m \u001b[0mregex_search\u001b[0m\u001b[1;33m(\u001b[0m\u001b[1;34mr'(?:v=|\\/)([0-9A-Za-z_-]{11}).*'\u001b[0m\u001b[1;33m,\u001b[0m \u001b[0murl\u001b[0m\u001b[1;33m,\u001b[0m \u001b[0mgroup\u001b[0m\u001b[1;33m=\u001b[0m\u001b[1;36m1\u001b[0m\u001b[1;33m)\u001b[0m\u001b[1;33m\u001b[0m\u001b[1;33m\u001b[0m\u001b[0m\n\u001b[0m\u001b[0;32m     72\u001b[0m \u001b[1;33m\u001b[0m\u001b[0m\n\u001b[0;32m     73\u001b[0m \u001b[1;33m\u001b[0m\u001b[0m\n",
      "\u001b[1;32m~\\Anaconda3\\lib\\site-packages\\pytube\\helpers.py\u001b[0m in \u001b[0;36mregex_search\u001b[1;34m(pattern, string, groups, group, flags)\u001b[0m\n\u001b[0;32m     63\u001b[0m             raise RegexMatchError(\n\u001b[0;32m     64\u001b[0m                 \u001b[1;34m'regex pattern ({pattern}) had zero matches'\u001b[0m\u001b[1;33m\u001b[0m\u001b[1;33m\u001b[0m\u001b[0m\n\u001b[1;32m---> 65\u001b[1;33m                 \u001b[1;33m.\u001b[0m\u001b[0mformat\u001b[0m\u001b[1;33m(\u001b[0m\u001b[0mpattern\u001b[0m\u001b[1;33m=\u001b[0m\u001b[0mpattern\u001b[0m\u001b[1;33m)\u001b[0m\u001b[1;33m,\u001b[0m\u001b[1;33m\u001b[0m\u001b[1;33m\u001b[0m\u001b[0m\n\u001b[0m\u001b[0;32m     66\u001b[0m             )\n\u001b[0;32m     67\u001b[0m         \u001b[1;32melse\u001b[0m\u001b[1;33m:\u001b[0m\u001b[1;33m\u001b[0m\u001b[1;33m\u001b[0m\u001b[0m\n",
      "\u001b[1;31mRegexMatchError\u001b[0m: regex pattern ((?:v=|\\/)([0-9A-Za-z_-]{11}).*) had zero matches"
     ]
    }
   ],
   "source": [
    "download_youtube(q)"
   ]
  },
  {
   "cell_type": "code",
   "execution_count": null,
   "metadata": {},
   "outputs": [],
   "source": []
  },
  {
   "cell_type": "code",
   "execution_count": null,
   "metadata": {},
   "outputs": [],
   "source": []
  },
  {
   "cell_type": "code",
   "execution_count": null,
   "metadata": {},
   "outputs": [],
   "source": []
  },
  {
   "cell_type": "code",
   "execution_count": null,
   "metadata": {},
   "outputs": [],
   "source": []
  },
  {
   "cell_type": "code",
   "execution_count": null,
   "metadata": {},
   "outputs": [],
   "source": []
  },
  {
   "cell_type": "code",
   "execution_count": null,
   "metadata": {},
   "outputs": [],
   "source": []
  },
  {
   "cell_type": "code",
   "execution_count": null,
   "metadata": {},
   "outputs": [],
   "source": [
    "# 아래는 검색해서 링크 조회하는 것 연습 "
   ]
  },
  {
   "cell_type": "code",
   "execution_count": null,
   "metadata": {
    "ExecuteTime": {
     "end_time": "2019-06-29T13:28:30.885656Z",
     "start_time": "2019-06-29T13:28:30.119650Z"
    }
   },
   "outputs": [],
   "source": [
    "\n",
    "url = 'https://www.youtube.com/results'\n",
    "res = requests.get(url, params={'search_query':'캐리와 냠냠'})"
   ]
  },
  {
   "cell_type": "code",
   "execution_count": 9,
   "metadata": {
    "ExecuteTime": {
     "end_time": "2019-06-29T13:28:31.786192Z",
     "start_time": "2019-06-29T13:28:31.782202Z"
    }
   },
   "outputs": [
    {
     "name": "stdout",
     "output_type": "stream",
     "text": [
      "200\n"
     ]
    }
   ],
   "source": [
    "print(res.status_code)"
   ]
  },
  {
   "cell_type": "code",
   "execution_count": 30,
   "metadata": {
    "ExecuteTime": {
     "end_time": "2019-06-29T13:47:58.477427Z",
     "start_time": "2019-06-29T13:47:58.367690Z"
    }
   },
   "outputs": [
    {
     "name": "stdout",
     "output_type": "stream",
     "text": [
      "https://www.youtube.com/watch?v=noRVbRLfnXc\n",
      "https://www.youtube.com/watch?v=noRVbRLfnXc\n",
      "https://www.youtube.com/watch?v=De9GazPez3I\n",
      "https://www.youtube.com/watch?v=De9GazPez3I\n",
      "https://www.youtube.com/watch?v=VNirCk8uiHU\n",
      "https://www.youtube.com/watch?v=VNirCk8uiHU\n",
      "https://www.youtube.com/watch?v=TsDltTHwzLI\n",
      "https://www.youtube.com/watch?v=TsDltTHwzLI\n",
      "https://www.youtube.com/watch?v=-yYUg4QHd_I\n",
      "https://www.youtube.com/watch?v=-yYUg4QHd_I\n",
      "https://www.youtube.com/watch?v=Ac33GwOPiWA\n",
      "https://www.youtube.com/watch?v=Ac33GwOPiWA\n",
      "https://www.youtube.com/watch?v=JCZRsvwSTaw\n",
      "https://www.youtube.com/watch?v=JCZRsvwSTaw\n",
      "https://www.youtube.com/watch?v=e0VgIUvShCA\n",
      "https://www.youtube.com/watch?v=e0VgIUvShCA\n",
      "https://www.youtube.com/watch?v=bdRG5fw5_dw\n",
      "https://www.youtube.com/watch?v=bdRG5fw5_dw\n",
      "https://www.youtube.com/watch?v=BemPYuPpzjg\n",
      "https://www.youtube.com/watch?v=BemPYuPpzjg\n",
      "https://www.youtube.com/watch?v=fCSwxyTJKW4\n",
      "https://www.youtube.com/watch?v=fCSwxyTJKW4\n",
      "https://www.youtube.com/watch?v=YsEY4EG-J6s\n",
      "https://www.youtube.com/watch?v=YsEY4EG-J6s\n",
      "https://www.youtube.com/watch?v=7R9hq6D9LWA\n",
      "https://www.youtube.com/watch?v=7R9hq6D9LWA\n",
      "https://www.youtube.com/watch?v=eS8gwlAeUTk\n",
      "https://www.youtube.com/watch?v=eS8gwlAeUTk\n",
      "https://www.youtube.com/watch?v=d5EtfgOowjI\n",
      "https://www.youtube.com/watch?v=d5EtfgOowjI\n",
      "https://www.youtube.com/watch?v=tRpDJFEGfxM\n",
      "https://www.youtube.com/watch?v=tRpDJFEGfxM\n",
      "https://www.youtube.com/watch?v=Vc1n0WqmEdc\n",
      "https://www.youtube.com/watch?v=Vc1n0WqmEdc\n",
      "https://www.youtube.com/watch?v=tQPm97sXO8A\n",
      "https://www.youtube.com/watch?v=tQPm97sXO8A\n",
      "https://www.youtube.com/watch?v=SjG4LGxFbbA\n",
      "https://www.youtube.com/watch?v=SjG4LGxFbbA\n",
      "https://www.youtube.com/watch?v=cC0-fMa6yKM\n",
      "https://www.youtube.com/watch?v=cC0-fMa6yKM\n"
     ]
    }
   ],
   "source": [
    "bs = BeautifulSoup(res.text, 'lxml')\n",
    "base_url = 'https://www.youtube.com/'\n",
    "\n",
    "ol = bs.find('ol', {'class':'item-section'})\n",
    "a_tags = ol.find_all('a',{'href':re.compile('\\/watch')})\n",
    "\n",
    "links = []\n",
    "for a_tag in a_tags:\n",
    "    print(urllib.parse.urljoin(base_url, a_tag.get('href')))"
   ]
  },
  {
   "cell_type": "code",
   "execution_count": null,
   "metadata": {},
   "outputs": [],
   "source": []
  }
 ],
 "metadata": {
  "kernelspec": {
   "display_name": "Python 3",
   "language": "python",
   "name": "python3"
  },
  "language_info": {
   "codemirror_mode": {
    "name": "ipython",
    "version": 3
   },
   "file_extension": ".py",
   "mimetype": "text/x-python",
   "name": "python",
   "nbconvert_exporter": "python",
   "pygments_lexer": "ipython3",
   "version": "3.7.3"
  },
  "toc": {
   "base_numbering": 1,
   "nav_menu": {},
   "number_sections": false,
   "sideBar": false,
   "skip_h1_title": false,
   "title_cell": "Table of Contents",
   "title_sidebar": "Contents",
   "toc_cell": false,
   "toc_position": {},
   "toc_section_display": true,
   "toc_window_display": false
  },
  "varInspector": {
   "cols": {
    "lenName": 16,
    "lenType": 16,
    "lenVar": 40
   },
   "kernels_config": {
    "python": {
     "delete_cmd_postfix": "",
     "delete_cmd_prefix": "del ",
     "library": "var_list.py",
     "varRefreshCmd": "print(var_dic_list())"
    },
    "r": {
     "delete_cmd_postfix": ") ",
     "delete_cmd_prefix": "rm(",
     "library": "var_list.r",
     "varRefreshCmd": "cat(var_dic_list()) "
    }
   },
   "types_to_exclude": [
    "module",
    "function",
    "builtin_function_or_method",
    "instance",
    "_Feature"
   ],
   "window_display": false
  }
 },
 "nbformat": 4,
 "nbformat_minor": 2
}
