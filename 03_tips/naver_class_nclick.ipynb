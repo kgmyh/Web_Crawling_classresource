{
 "cells": [
  {
   "cell_type": "code",
   "execution_count": 1,
   "metadata": {},
   "outputs": [],
   "source": [
    "import requests\n",
    "from bs4 import BeautifulSoup"
   ]
  },
  {
   "cell_type": "code",
   "execution_count": 3,
   "metadata": {},
   "outputs": [
    {
     "data": {
      "text/plain": [
       "200"
      ]
     },
     "execution_count": 3,
     "metadata": {},
     "output_type": "execute_result"
    }
   ],
   "source": [
    "url = 'https://news.naver.com/main/ranking/popularMemo.nhn'\n",
    "res = requests.get(url)\n",
    "res.status_code"
   ]
  },
  {
   "cell_type": "code",
   "execution_count": 4,
   "metadata": {},
   "outputs": [],
   "source": [
    "soup = BeautifulSoup(res.text, 'lxml')"
   ]
  },
  {
   "cell_type": "code",
   "execution_count": 10,
   "metadata": {},
   "outputs": [
    {
     "data": {
      "text/plain": [
       "[<a class=\"nclicks(cmt.gov)\" href=\"/main/ranking/popularMemo.nhn?rankingType=popular_memo&amp;sectionId=100&amp;date=20191112\">정치<span class=\"blind\">선택됨</span></a>,\n",
       " <a class=\"nclicks(cmt.gov)\" href=\"/main/ranking/read.nhn?sid1=&amp;rankingType=popular_memo&amp;oid=022&amp;aid=0003413391&amp;date=20191112&amp;type=1&amp;rankingSectionId=100&amp;rankingSeq=1\" title=\"소통·공감 밝힌 文대통령… '반성'은 없었다\">\n",
       " <img alt=\"\" height=\"72\" onerror=\"javascript:this.src='https://imgnews.pstatic.net/image/news/2009/noimage_106x72.png';\" src=\"https://imgnews.pstatic.net/image/origin/022/2019/11/12/3413391.jpg?type=nf106_72\" title=\"소통·공감 밝힌 文대통령… '반성'은 없었다\" width=\"106\"/>\n",
       " </a>,\n",
       " <a class=\"nclicks(cmt.gov)\" href=\"/main/ranking/read.nhn?sid1=&amp;rankingType=popular_memo&amp;oid=022&amp;aid=0003413391&amp;date=20191112&amp;type=1&amp;rankingSectionId=100&amp;rankingSeq=1\" title=\"소통·공감 밝힌 文대통령… '반성'은 없었다\">소통·공감 밝힌 文대통령… '반성'은 없었다</a>,\n",
       " <a class=\"nclicks(cmt.gov)\" href=\"/main/ranking/read.nhn?sid1=&amp;rankingType=popular_memo&amp;oid=023&amp;aid=0003486185&amp;date=20191112&amp;type=1&amp;rankingSectionId=100&amp;rankingSeq=2\" title=\"北선원들 귀순 의사 밝혔는데… 포승줄에 안대 가린채 판문점으로\"> 北선원들 귀순 의사 밝혔는데… 포승줄에 안대 가린채 판문점으로</a>,\n",
       " <a class=\"nclicks(cmt.gov)\" href=\"/main/ranking/read.nhn?sid1=&amp;rankingType=popular_memo&amp;oid=020&amp;aid=0003252682&amp;date=20191112&amp;type=1&amp;rankingSectionId=100&amp;rankingSeq=3\" title=\"[단독]“南에 머물겠냐” 조사관 질문에, 北선원 2명 “여기 있겠다”\"> [단독]“南에 머물겠냐” 조사관 질문에, 北선원 2명 “여기 있겠다”</a>,\n",
       " <a class=\"nclicks(cmt.gov)\" href=\"/main/ranking/read.nhn?sid1=&amp;rankingType=popular_memo&amp;oid=025&amp;aid=0002951987&amp;date=20191112&amp;type=1&amp;rankingSectionId=100&amp;rankingSeq=4\" title='500억 기부한 91세 배우 신영균 \"내 관에 성경책만 넣어달라\"'> 500억 기부한 91세 배우 신영균 \"내 관에 성경책만 넣어달라\"</a>,\n",
       " <a class=\"nclicks(cmt.gov)\" href=\"/main/ranking/read.nhn?sid1=&amp;rankingType=popular_memo&amp;oid=023&amp;aid=0003486183&amp;date=20191112&amp;type=1&amp;rankingSectionId=100&amp;rankingSeq=5\" title='황교안, 靑회동 하루만에 文비판 \"경제정책 낭떠러지에 섰다\"'> 황교안, 靑회동 하루만에 文비판 \"경제정책 낭떠러지에 섰다\"</a>]"
      ]
     },
     "execution_count": 10,
     "metadata": {},
     "output_type": "execute_result"
    }
   ],
   "source": [
    "soup.find_all('a', attrs={'class','nclicks(cmt.gov)'})"
   ]
  },
  {
   "cell_type": "code",
   "execution_count": 6,
   "metadata": {
    "scrolled": true
   },
   "outputs": [
    {
     "ename": "SelectorSyntaxError",
     "evalue": "Invalid character '(' position 7\n  line 1:\nnclicks(cmt.gov)\n       ^ (<string>)",
     "output_type": "error",
     "traceback": [
      "Traceback \u001b[1;36m(most recent call last)\u001b[0m:\n",
      "  File \u001b[0;32m\"C:\\Users\\Playdata\\Anaconda3\\lib\\site-packages\\IPython\\core\\interactiveshell.py\"\u001b[0m, line \u001b[0;32m3326\u001b[0m, in \u001b[0;35mrun_code\u001b[0m\n    exec(code_obj, self.user_global_ns, self.user_ns)\n",
      "  File \u001b[0;32m\"<ipython-input-6-09b5b668e0f2>\"\u001b[0m, line \u001b[0;32m1\u001b[0m, in \u001b[0;35m<module>\u001b[0m\n    soup.select('nclicks(cmt.gov)')\n",
      "  File \u001b[0;32m\"C:\\Users\\Playdata\\Anaconda3\\lib\\site-packages\\bs4\\element.py\"\u001b[0m, line \u001b[0;32m1334\u001b[0m, in \u001b[0;35mselect\u001b[0m\n    return soupsieve.select(selector, self, namespaces, limit, **kwargs)\n",
      "  File \u001b[0;32m\"C:\\Users\\Playdata\\Anaconda3\\lib\\site-packages\\soupsieve\\__init__.py\"\u001b[0m, line \u001b[0;32m114\u001b[0m, in \u001b[0;35mselect\u001b[0m\n    return compile(select, namespaces, flags, **kwargs).select(tag, limit)\n",
      "  File \u001b[0;32m\"C:\\Users\\Playdata\\Anaconda3\\lib\\site-packages\\soupsieve\\__init__.py\"\u001b[0m, line \u001b[0;32m63\u001b[0m, in \u001b[0;35mcompile\u001b[0m\n    return cp._cached_css_compile(pattern, namespaces, custom, flags)\n",
      "  File \u001b[0;32m\"C:\\Users\\Playdata\\Anaconda3\\lib\\site-packages\\soupsieve\\css_parser.py\"\u001b[0m, line \u001b[0;32m205\u001b[0m, in \u001b[0;35m_cached_css_compile\u001b[0m\n    CSSParser(pattern, custom=custom_selectors, flags=flags).process_selectors(),\n",
      "  File \u001b[0;32m\"C:\\Users\\Playdata\\Anaconda3\\lib\\site-packages\\soupsieve\\css_parser.py\"\u001b[0m, line \u001b[0;32m1064\u001b[0m, in \u001b[0;35mprocess_selectors\u001b[0m\n    return self.parse_selectors(self.selector_iter(self.pattern), index, flags)\n",
      "  File \u001b[0;32m\"C:\\Users\\Playdata\\Anaconda3\\lib\\site-packages\\soupsieve\\css_parser.py\"\u001b[0m, line \u001b[0;32m915\u001b[0m, in \u001b[0;35mparse_selectors\u001b[0m\n    key, m = next(iselector)\n",
      "\u001b[1;36m  File \u001b[1;32m\"C:\\Users\\Playdata\\Anaconda3\\lib\\site-packages\\soupsieve\\css_parser.py\"\u001b[1;36m, line \u001b[1;32m1057\u001b[1;36m, in \u001b[1;35mselector_iter\u001b[1;36m\u001b[0m\n\u001b[1;33m    raise SelectorSyntaxError(msg, self.pattern, index)\u001b[0m\n",
      "\u001b[1;36m  File \u001b[1;32m\"<string>\"\u001b[1;36m, line \u001b[1;32munknown\u001b[0m\n\u001b[1;31mSelectorSyntaxError\u001b[0m\u001b[1;31m:\u001b[0m Invalid character '(' position 7\n  line 1:\nnclicks(cmt.gov)\n       ^\n"
     ]
    }
   ],
   "source": [
    "#soup.select('nclicks(cmt.gov)')"
   ]
  },
  {
   "cell_type": "code",
   "execution_count": null,
   "metadata": {},
   "outputs": [],
   "source": []
  }
 ],
 "metadata": {
  "kernelspec": {
   "display_name": "Python 3",
   "language": "python",
   "name": "python3"
  },
  "language_info": {
   "codemirror_mode": {
    "name": "ipython",
    "version": 3
   },
   "file_extension": ".py",
   "mimetype": "text/x-python",
   "name": "python",
   "nbconvert_exporter": "python",
   "pygments_lexer": "ipython3",
   "version": "3.7.3"
  }
 },
 "nbformat": 4,
 "nbformat_minor": 2
}
