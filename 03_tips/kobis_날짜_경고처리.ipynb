{
 "cells": [
  {
   "cell_type": "code",
   "execution_count": 4,
   "metadata": {},
   "outputs": [],
   "source": [
    "from selenium.webdriver import Chrome\n",
    "from selenium.webdriver.common.keys import Keys"
   ]
  },
  {
   "cell_type": "code",
   "execution_count": 2,
   "metadata": {},
   "outputs": [],
   "source": [
    "driver = Chrome()\n",
    "driver.get('http://www.kobis.or.kr/kobis/business/stat/boxs/findDailyBoxOfficeList.do')"
   ]
  },
  {
   "cell_type": "markdown",
   "metadata": {},
   "source": [
    "clear()시 alert이 뜨며 다음으로 넘어가지 않는다. `UnexpectedAlertPresentException` 발생   \n",
    "clear시 포커스가 가지 않는 상태에서 입력하려고 해서 문제가 생기는듯.    \n",
    "해결은 backspace로 없앤뒤 쓴다.    \n",
    "\n",
    "\n",
    "(참고로 alert은 `driver.switch_to.alert()`) 을 사용하면 없앨 수 있다."
   ]
  },
  {
   "cell_type": "code",
   "execution_count": 14,
   "metadata": {},
   "outputs": [],
   "source": [
    "#날짜 포멧이 yyyy-mm-dd 10글자 이므로 백스페이스 10번 후 새 날짜 입력 (직접한 것과 반복문 쓴 것)\n",
    "in_from = driver.find_element_by_id('sSearchFrom')\n",
    "# in_from.clear()\n",
    "in_from.send_keys(Keys.BACKSPACE)\n",
    "in_from.send_keys(Keys.BACKSPACE)\n",
    "in_from.send_keys(Keys.BACKSPACE)\n",
    "in_from.send_keys(Keys.BACKSPACE)\n",
    "in_from.send_keys(Keys.BACKSPACE)\n",
    "in_from.send_keys(Keys.BACKSPACE)\n",
    "in_from.send_keys(Keys.BACKSPACE)\n",
    "in_from.send_keys(Keys.BACKSPACE)\n",
    "in_from.send_keys(Keys.BACKSPACE)\n",
    "in_from.send_keys(Keys.BACKSPACE)\n",
    "in_from.send_keys('2010-10-10')\n",
    "\n",
    "in_to = driver.find_element_by_id('sSearchTo')\n",
    "for _ in range(10):\n",
    "    in_to.send_keys(Keys.BACKSPACE)\n",
    "    if _ == 9:\n",
    "        in_to.send_keys(\"2010-10-13\")"
   ]
  },
  {
   "cell_type": "code",
   "execution_count": null,
   "metadata": {},
   "outputs": [],
   "source": []
  }
 ],
 "metadata": {
  "kernelspec": {
   "display_name": "Python 3",
   "language": "python",
   "name": "python3"
  },
  "language_info": {
   "codemirror_mode": {
    "name": "ipython",
    "version": 3
   },
   "file_extension": ".py",
   "mimetype": "text/x-python",
   "name": "python",
   "nbconvert_exporter": "python",
   "pygments_lexer": "ipython3",
   "version": "3.7.3"
  }
 },
 "nbformat": 4,
 "nbformat_minor": 2
}
