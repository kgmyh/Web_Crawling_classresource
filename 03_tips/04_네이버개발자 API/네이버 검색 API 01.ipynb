{
 "cells": [
  {
   "cell_type": "markdown",
   "metadata": {},
   "source": [
    "- get_naver_news_01, 02, 03 합친것"
   ]
  },
  {
   "cell_type": "code",
   "execution_count": 1,
   "metadata": {
    "ExecuteTime": {
     "end_time": "2020-07-26T06:26:55.694955Z",
     "start_time": "2020-07-26T06:26:55.687975Z"
    }
   },
   "outputs": [],
   "source": [
    "with open('./account.txt') as f:\n",
    "    client_id = f.readline().strip()\n",
    "    client_secret = f.readline().strip()"
   ]
  },
  {
   "cell_type": "code",
   "execution_count": 2,
   "metadata": {
    "ExecuteTime": {
     "end_time": "2020-07-26T06:26:56.126313Z",
     "start_time": "2020-07-26T06:26:56.114344Z"
    }
   },
   "outputs": [
    {
     "data": {
      "text/plain": [
       "('gcGsZyq_7t0yY5z9NLLw', 'bgFjG8GN7G')"
      ]
     },
     "execution_count": 2,
     "metadata": {},
     "output_type": "execute_result"
    }
   ],
   "source": [
    "client_id, client_secret"
   ]
  },
  {
   "cell_type": "code",
   "execution_count": 3,
   "metadata": {
    "ExecuteTime": {
     "end_time": "2020-07-26T06:26:57.318123Z",
     "start_time": "2020-07-26T06:26:56.446457Z"
    }
   },
   "outputs": [
    {
     "name": "stdout",
     "output_type": "stream",
     "text": [
      "{'display': 10,\n",
      " 'items': [{'description': \"자동차용으로 개발한 이 `노터치 터치스크린'에 쓰인 기술은 <b>인공지능</b>을 활용한 \"\n",
      "                           \"`예측 터치' 기술이다. 이용자가 선택하려는 항목을 손가락으로 가리키기만 하면, \"\n",
      "                           '<b>인공지능</b>이 제스처 추적 센서 등으로 재빨리 이를 파악해... ',\n",
      "            'link': 'https://news.naver.com/main/read.nhn?mode=LSD&mid=sec&sid1=105&oid=028&aid=0002506424',\n",
      "            'originallink': 'http://www.hani.co.kr/arti/science/technology/955232.html',\n",
      "            'pubDate': 'Sun, 26 Jul 2020 15:22:00 +0900',\n",
      "            'title': '‘노터치’ 터치스크린 개발'},\n",
      "           {'description': '2016년 <b>인공지능</b> 알파고의 등장에 이어 최근 코로나19 사태를 겪으면서 '\n",
      "                           \"바이오와 배터리, 인터넷, 게임 등 특정 종목에 대한 '쏠림' 현상이 가속화하고 있다는 \"\n",
      "                           '분석이다. 이런 쏠림은 강세장이 아닌 회복장에서... ',\n",
      "            'link': 'https://news.naver.com/main/read.nhn?mode=LSD&mid=sec&sid1=101&oid=076&aid=0003605678',\n",
      "            'originallink': 'http://sports.chosun.com/news/ntype.htm?id=202007270100240160016431&servicedate=20200726',\n",
      "            'pubDate': 'Sun, 26 Jul 2020 15:17:00 +0900',\n",
      "            'title': '유가증권시장서 시총 비중 0.5% 이상 종목, 4년 만에 30% 줄어…46개→32개'},\n",
      "           {'description': '이번 연수는 학교 관리자의 미래 사회를 대비해 창의력과 상상력을 갖춘 창의융합형 인재 '\n",
      "                           '양성을 위해 융합교육과 <b>인공지능</b>기반교육의 중요성을 인식시키고, 학교 현장에 '\n",
      "                           '융합교육과 <b>인공지능</b>기반교육의 성공적인... ',\n",
      "            'link': 'http://www.ybsn.tv/news/articleView.html?idxno=24214',\n",
      "            'originallink': 'http://www.ybsn.tv/news/articleView.html?idxno=24214',\n",
      "            'pubDate': 'Sun, 26 Jul 2020 15:13:00 +0900',\n",
      "            'title': '관리자 연수를 통한 융합교육, <b>인공지능</b>(AI)기반교육에 날개 달기!'},\n",
      "           {'description': '<b>인공지능</b>쿡 기능을 탑재한 디오스 광파오븐은 와이파이를 탑재한 광파오븐에 LG '\n",
      "                           '씽큐 앱을 연동 시켜 사용할 수 있다. 고객이 스마트폰 카메라로 풀무원식품의 간편식에 있는 '\n",
      "                           '바코드를 찍기만 하면 광파오븐이... ',\n",
      "            'link': 'https://news.naver.com/main/read.nhn?mode=LSD&mid=sec&sid1=105&oid=293&aid=0000029938',\n",
      "            'originallink': 'http://www.bloter.net/archives/397494',\n",
      "            'pubDate': 'Sun, 26 Jul 2020 15:10:00 +0900',\n",
      "            'title': \"&quot;주방가전으로 스마트한 캠핑을&quot;…'LG 디오스' 이색행사\"},\n",
      "           {'description': '사진제공=KAIST KAIST는 <b>인공지능</b>(AI) 대학원 김기응 교수 연구진이 '\n",
      "                           \"AI 기반 전력망 운영관리 기술을 겨루는 국제경진대회인 `L2RPN 챌린지 2020'에서 \"\n",
      "                           '우승했다고 26일 밝혔다. 각종 경진대회를 주관하는 비영리단체... ',\n",
      "            'link': 'https://news.mtn.co.kr/newscenter/news_viewer.mtn?gidx=2020072417444673679',\n",
      "            'originallink': 'https://news.mtn.co.kr/newscenter/news_viewer.mtn?gidx=2020072417444673679',\n",
      "            'pubDate': 'Sun, 26 Jul 2020 15:02:00 +0900',\n",
      "            'title': 'KAIST, AI 전력망 운영관리 국제대회에서 우승'},\n",
      "           {'description': '최근에는 클라우드, <b>인공지능</b>(AI), 핀테크, 소셜미디어 등 첨단 기술 '\n",
      "                           '테마부터 환경보고, 시민권 등 사회적 대의를 테마로 한 ETF가 급부상하고 있다. 테마 '\n",
      "                           'ETF 업체인 글로벌X에 따르면 테마 ETF 운용 자산 규모는... ',\n",
      "            'link': 'http://www.g-enews.com/ko-kr/news/article/news_all/202007260409074212be84d87674_1/article.html',\n",
      "            'originallink': 'http://www.g-enews.com/ko-kr/news/article/news_all/202007260409074212be84d87674_1/article.html',\n",
      "            'pubDate': 'Sun, 26 Jul 2020 15:01:00 +0900',\n",
      "            'title': \"[뉴욕증시] 클라우드·AI·핀테크·소셜미디어 등 '테마' ETF가 뜬다\"},\n",
      "           {'description': '참가자의 목소리는 가족들의 노력과 KT의 <b>인공지능</b> 기술로 완성됐다. 목소리 '\n",
      "                           '찾기는 청력을 잃었거나 사고나 질병 등으로 후천적으로 목소리를 잃은 농인의 목소리를 만들어 '\n",
      "                           '주는 프로젝트다. 이 프로젝트는 삶에 도움이... ',\n",
      "            'link': 'http://www.finomy.com/news/articleView.html?idxno=80855',\n",
      "            'originallink': 'http://www.finomy.com/news/articleView.html?idxno=80855',\n",
      "            'pubDate': 'Sun, 26 Jul 2020 14:56:00 +0900',\n",
      "            'title': \"KT, 청각장애인 소통 지원 '마음톡앱' 오픈\"},\n",
      "           {'description': '<b>인공지능</b> 통합돌봄 서비스 사업 현장. 경남도 제공 경남도는 지난해 11월 '\n",
      "                           'SK텔레콤과 창원시·김해시 등 6개 시·군, 사회적기업이 참여한 <b>인공지능</b> '\n",
      "                           '통합돌봄서비스 구축을 협약하고 돌봄이 필요한 취약계층 1000가구를... ',\n",
      "            'link': 'https://news.naver.com/main/read.nhn?mode=LSD&mid=sec&sid1=102&oid=082&aid=0001018076',\n",
      "            'originallink': 'http://www.busan.com/view/busan/view.php?code=2020072614492723434',\n",
      "            'pubDate': 'Sun, 26 Jul 2020 14:54:00 +0900',\n",
      "            'title': '경남도, AI 통합돌봄서비스 구축 취약계층 1000가구 대상 시범사업'},\n",
      "           {'description': '또 내년에는 산단 스마트화를 위한 표준제조혁신 공정모듈센터 구축 등 스마트 제조혁신 사업과 '\n",
      "                           '<b>인공지능</b>(AI) 기반 자동차 특화 스마트 인재양성, 스마트 가로등·교통체계 '\n",
      "                           '개선 등 기반시설 스마트화 사업도 단계적으로... ',\n",
      "            'link': 'https://news.naver.com/main/read.nhn?mode=LSD&mid=sec&sid1=102&oid=011&aid=0003774053',\n",
      "            'originallink': 'https://www.sedaily.com/NewsView/1Z5GC5Y367',\n",
      "            'pubDate': 'Sun, 26 Jul 2020 14:47:00 +0900',\n",
      "            'title': \"&quot;한국판 뉴딜 선도하자&quot;...광주 '산단 대개조' 시동\"},\n",
      "           {'description': 'AI(<b>인공지능</b>)와 AR(증강현실) 등 최신 ICT(정보통신기술)을 활용해 기존 '\n",
      "                           '‘홈트’의 아쉬움 중 하나였던 ‘1대 1 코치’의 부재 문제를 해결했기 때문이다. 김병준 '\n",
      "                           '카카오 VX 헬스케어사업본부장은 &quot;‘스마트홈트’의... ',\n",
      "            'link': 'http://www.ekn.kr/news/article.html?no=513417',\n",
      "            'originallink': 'http://www.ekn.kr/news/article.html?no=513417',\n",
      "            'pubDate': 'Sun, 26 Jul 2020 14:46:00 +0900',\n",
      "            'title': '카카오 VX ‘스마트홈트’ 유료 구독 모델 도입한 이유?…&quot;작심삼일 막으려고...'}],\n",
      " 'lastBuildDate': 'Sun, 26 Jul 2020 15:26:58 +0900',\n",
      " 'start': 1,\n",
      " 'total': 917963}\n",
      "10\n",
      "['https://news.naver.com/main/read.nhn?mode=LSD&mid=sec&sid1=105&oid=028&aid=0002506424',\n",
      " 'https://news.naver.com/main/read.nhn?mode=LSD&mid=sec&sid1=101&oid=076&aid=0003605678',\n",
      " 'http://www.ybsn.tv/news/articleView.html?idxno=24214',\n",
      " 'https://news.naver.com/main/read.nhn?mode=LSD&mid=sec&sid1=105&oid=293&aid=0000029938',\n",
      " 'https://news.mtn.co.kr/newscenter/news_viewer.mtn?gidx=2020072417444673679',\n",
      " 'http://www.g-enews.com/ko-kr/news/article/news_all/202007260409074212be84d87674_1/article.html',\n",
      " 'http://www.finomy.com/news/articleView.html?idxno=80855',\n",
      " 'https://news.naver.com/main/read.nhn?mode=LSD&mid=sec&sid1=102&oid=082&aid=0001018076',\n",
      " 'https://news.naver.com/main/read.nhn?mode=LSD&mid=sec&sid1=102&oid=011&aid=0003774053',\n",
      " 'http://www.ekn.kr/news/article.html?no=513417']\n"
     ]
    }
   ],
   "source": [
    "# Documnets에서 서비스 API 의 검색 클릭하면 기본 예제 나온다. \n",
    "# 거기서 url과 header값 설명\n",
    "\n",
    "\n",
    "import requests\n",
    "import pandas as pd\n",
    "from pprint import pprint\n",
    "# keyword = input('검색할 단어:')\n",
    "keyword = \"인공지능\"\n",
    "\n",
    "# url 뒤의 blog를 news로 변경 (news 검색이므로)\n",
    "url = \"https://openapi.naver.com/v1/search/news.json?query={}\".format(keyword) # json 결과\n",
    "\n",
    "headers = {\n",
    "    \"X-Naver-Client-Id\":client_id,\n",
    "    \"X-Naver-Client-Secret\":client_secret\n",
    "}\n",
    "res = requests.get(url, headers=headers)\n",
    "\n",
    "if(res.status_code==200):\n",
    "    result = res.json() #json을 dictionary로 읽어줌\n",
    "    pprint(result)\n",
    "#     pprint(result) \n",
    "    # 이거 찍어 보고(가져오는 내용 설명하고) **뉴스 링크만** 가져 오는 아래 코드 추가\n",
    "    items = result['items']\n",
    "    df = pd.DataFrame(items)\n",
    "    news_link_list = [] #url 저장할 리스트\n",
    "    for item in items:\n",
    "        link = item['link']\n",
    "        news_link_list.append(link)\n",
    "#         if 'news.naver.com' in link:   #링크중 naver 링크가 아닌 것들이 있다. 그것들은 문서 포멧이 다르므로 내용 조회가 안된다. (제목, 내용들을 나중에 상세에서 따로 조회한다고 했을때) 그래서 뺀다.\n",
    "#             news_link_list.append(link)\n",
    "# #     news_link = [item['link'] for item in items if 'naver' in item['link']]\n",
    "    print(len(news_link_list))\n",
    "    pprint(news_link_list)\n",
    "else:\n",
    "    print(\"Error Code:%d\" % res.status_code)\n",
    "    print(res.text)    "
   ]
  },
  {
   "cell_type": "code",
   "execution_count": 4,
   "metadata": {
    "ExecuteTime": {
     "end_time": "2020-07-26T06:26:57.342061Z",
     "start_time": "2020-07-26T06:26:57.322114Z"
    }
   },
   "outputs": [
    {
     "data": {
      "text/html": [
       "<div>\n",
       "<style scoped>\n",
       "    .dataframe tbody tr th:only-of-type {\n",
       "        vertical-align: middle;\n",
       "    }\n",
       "\n",
       "    .dataframe tbody tr th {\n",
       "        vertical-align: top;\n",
       "    }\n",
       "\n",
       "    .dataframe thead th {\n",
       "        text-align: right;\n",
       "    }\n",
       "</style>\n",
       "<table border=\"1\" class=\"dataframe\">\n",
       "  <thead>\n",
       "    <tr style=\"text-align: right;\">\n",
       "      <th></th>\n",
       "      <th>title</th>\n",
       "      <th>originallink</th>\n",
       "      <th>link</th>\n",
       "      <th>description</th>\n",
       "      <th>pubDate</th>\n",
       "    </tr>\n",
       "  </thead>\n",
       "  <tbody>\n",
       "    <tr>\n",
       "      <th>0</th>\n",
       "      <td>‘노터치’ 터치스크린 개발</td>\n",
       "      <td>http://www.hani.co.kr/arti/science/technology/...</td>\n",
       "      <td>https://news.naver.com/main/read.nhn?mode=LSD&amp;...</td>\n",
       "      <td>자동차용으로 개발한 이 `노터치 터치스크린'에 쓰인 기술은 &lt;b&gt;인공지능&lt;/b&gt;을 ...</td>\n",
       "      <td>Sun, 26 Jul 2020 15:22:00 +0900</td>\n",
       "    </tr>\n",
       "    <tr>\n",
       "      <th>1</th>\n",
       "      <td>유가증권시장서 시총 비중 0.5% 이상 종목, 4년 만에 30% 줄어…46개→32개</td>\n",
       "      <td>http://sports.chosun.com/news/ntype.htm?id=202...</td>\n",
       "      <td>https://news.naver.com/main/read.nhn?mode=LSD&amp;...</td>\n",
       "      <td>2016년 &lt;b&gt;인공지능&lt;/b&gt; 알파고의 등장에 이어 최근 코로나19 사태를 겪으면...</td>\n",
       "      <td>Sun, 26 Jul 2020 15:17:00 +0900</td>\n",
       "    </tr>\n",
       "    <tr>\n",
       "      <th>2</th>\n",
       "      <td>관리자 연수를 통한 융합교육, &lt;b&gt;인공지능&lt;/b&gt;(AI)기반교육에 날개 달기!</td>\n",
       "      <td>http://www.ybsn.tv/news/articleView.html?idxno...</td>\n",
       "      <td>http://www.ybsn.tv/news/articleView.html?idxno...</td>\n",
       "      <td>이번 연수는 학교 관리자의 미래 사회를 대비해 창의력과 상상력을 갖춘 창의융합형 인...</td>\n",
       "      <td>Sun, 26 Jul 2020 15:13:00 +0900</td>\n",
       "    </tr>\n",
       "    <tr>\n",
       "      <th>3</th>\n",
       "      <td>&amp;quot;주방가전으로 스마트한 캠핑을&amp;quot;…'LG 디오스' 이색행사</td>\n",
       "      <td>http://www.bloter.net/archives/397494</td>\n",
       "      <td>https://news.naver.com/main/read.nhn?mode=LSD&amp;...</td>\n",
       "      <td>&lt;b&gt;인공지능&lt;/b&gt;쿡 기능을 탑재한 디오스 광파오븐은 와이파이를 탑재한 광파오븐에...</td>\n",
       "      <td>Sun, 26 Jul 2020 15:10:00 +0900</td>\n",
       "    </tr>\n",
       "    <tr>\n",
       "      <th>4</th>\n",
       "      <td>KAIST, AI 전력망 운영관리 국제대회에서 우승</td>\n",
       "      <td>https://news.mtn.co.kr/newscenter/news_viewer....</td>\n",
       "      <td>https://news.mtn.co.kr/newscenter/news_viewer....</td>\n",
       "      <td>사진제공=KAIST KAIST는 &lt;b&gt;인공지능&lt;/b&gt;(AI) 대학원 김기응 교수 연...</td>\n",
       "      <td>Sun, 26 Jul 2020 15:02:00 +0900</td>\n",
       "    </tr>\n",
       "    <tr>\n",
       "      <th>5</th>\n",
       "      <td>[뉴욕증시] 클라우드·AI·핀테크·소셜미디어 등 '테마' ETF가 뜬다</td>\n",
       "      <td>http://www.g-enews.com/ko-kr/news/article/news...</td>\n",
       "      <td>http://www.g-enews.com/ko-kr/news/article/news...</td>\n",
       "      <td>최근에는 클라우드, &lt;b&gt;인공지능&lt;/b&gt;(AI), 핀테크, 소셜미디어 등 첨단 기술...</td>\n",
       "      <td>Sun, 26 Jul 2020 15:01:00 +0900</td>\n",
       "    </tr>\n",
       "    <tr>\n",
       "      <th>6</th>\n",
       "      <td>KT, 청각장애인 소통 지원 '마음톡앱' 오픈</td>\n",
       "      <td>http://www.finomy.com/news/articleView.html?id...</td>\n",
       "      <td>http://www.finomy.com/news/articleView.html?id...</td>\n",
       "      <td>참가자의 목소리는 가족들의 노력과 KT의 &lt;b&gt;인공지능&lt;/b&gt; 기술로 완성됐다. 목...</td>\n",
       "      <td>Sun, 26 Jul 2020 14:56:00 +0900</td>\n",
       "    </tr>\n",
       "    <tr>\n",
       "      <th>7</th>\n",
       "      <td>경남도, AI 통합돌봄서비스 구축 취약계층 1000가구 대상 시범사업</td>\n",
       "      <td>http://www.busan.com/view/busan/view.php?code=...</td>\n",
       "      <td>https://news.naver.com/main/read.nhn?mode=LSD&amp;...</td>\n",
       "      <td>&lt;b&gt;인공지능&lt;/b&gt; 통합돌봄 서비스 사업 현장. 경남도 제공 경남도는 지난해 11...</td>\n",
       "      <td>Sun, 26 Jul 2020 14:54:00 +0900</td>\n",
       "    </tr>\n",
       "    <tr>\n",
       "      <th>8</th>\n",
       "      <td>&amp;quot;한국판 뉴딜 선도하자&amp;quot;...광주 '산단 대개조' 시동</td>\n",
       "      <td>https://www.sedaily.com/NewsView/1Z5GC5Y367</td>\n",
       "      <td>https://news.naver.com/main/read.nhn?mode=LSD&amp;...</td>\n",
       "      <td>또 내년에는 산단 스마트화를 위한 표준제조혁신 공정모듈센터 구축 등 스마트 제조혁신...</td>\n",
       "      <td>Sun, 26 Jul 2020 14:47:00 +0900</td>\n",
       "    </tr>\n",
       "    <tr>\n",
       "      <th>9</th>\n",
       "      <td>카카오 VX ‘스마트홈트’ 유료 구독 모델 도입한 이유?…&amp;quot;작심삼일 막으려...</td>\n",
       "      <td>http://www.ekn.kr/news/article.html?no=513417</td>\n",
       "      <td>http://www.ekn.kr/news/article.html?no=513417</td>\n",
       "      <td>AI(&lt;b&gt;인공지능&lt;/b&gt;)와 AR(증강현실) 등 최신 ICT(정보통신기술)을 활용...</td>\n",
       "      <td>Sun, 26 Jul 2020 14:46:00 +0900</td>\n",
       "    </tr>\n",
       "  </tbody>\n",
       "</table>\n",
       "</div>"
      ],
      "text/plain": [
       "                                               title  \\\n",
       "0                                     ‘노터치’ 터치스크린 개발   \n",
       "1     유가증권시장서 시총 비중 0.5% 이상 종목, 4년 만에 30% 줄어…46개→32개   \n",
       "2       관리자 연수를 통한 융합교육, <b>인공지능</b>(AI)기반교육에 날개 달기!   \n",
       "3          &quot;주방가전으로 스마트한 캠핑을&quot;…'LG 디오스' 이색행사   \n",
       "4                       KAIST, AI 전력망 운영관리 국제대회에서 우승   \n",
       "5            [뉴욕증시] 클라우드·AI·핀테크·소셜미디어 등 '테마' ETF가 뜬다   \n",
       "6                          KT, 청각장애인 소통 지원 '마음톡앱' 오픈   \n",
       "7             경남도, AI 통합돌봄서비스 구축 취약계층 1000가구 대상 시범사업   \n",
       "8           &quot;한국판 뉴딜 선도하자&quot;...광주 '산단 대개조' 시동   \n",
       "9  카카오 VX ‘스마트홈트’ 유료 구독 모델 도입한 이유?…&quot;작심삼일 막으려...   \n",
       "\n",
       "                                        originallink  \\\n",
       "0  http://www.hani.co.kr/arti/science/technology/...   \n",
       "1  http://sports.chosun.com/news/ntype.htm?id=202...   \n",
       "2  http://www.ybsn.tv/news/articleView.html?idxno...   \n",
       "3              http://www.bloter.net/archives/397494   \n",
       "4  https://news.mtn.co.kr/newscenter/news_viewer....   \n",
       "5  http://www.g-enews.com/ko-kr/news/article/news...   \n",
       "6  http://www.finomy.com/news/articleView.html?id...   \n",
       "7  http://www.busan.com/view/busan/view.php?code=...   \n",
       "8        https://www.sedaily.com/NewsView/1Z5GC5Y367   \n",
       "9      http://www.ekn.kr/news/article.html?no=513417   \n",
       "\n",
       "                                                link  \\\n",
       "0  https://news.naver.com/main/read.nhn?mode=LSD&...   \n",
       "1  https://news.naver.com/main/read.nhn?mode=LSD&...   \n",
       "2  http://www.ybsn.tv/news/articleView.html?idxno...   \n",
       "3  https://news.naver.com/main/read.nhn?mode=LSD&...   \n",
       "4  https://news.mtn.co.kr/newscenter/news_viewer....   \n",
       "5  http://www.g-enews.com/ko-kr/news/article/news...   \n",
       "6  http://www.finomy.com/news/articleView.html?id...   \n",
       "7  https://news.naver.com/main/read.nhn?mode=LSD&...   \n",
       "8  https://news.naver.com/main/read.nhn?mode=LSD&...   \n",
       "9      http://www.ekn.kr/news/article.html?no=513417   \n",
       "\n",
       "                                         description  \\\n",
       "0  자동차용으로 개발한 이 `노터치 터치스크린'에 쓰인 기술은 <b>인공지능</b>을 ...   \n",
       "1  2016년 <b>인공지능</b> 알파고의 등장에 이어 최근 코로나19 사태를 겪으면...   \n",
       "2  이번 연수는 학교 관리자의 미래 사회를 대비해 창의력과 상상력을 갖춘 창의융합형 인...   \n",
       "3  <b>인공지능</b>쿡 기능을 탑재한 디오스 광파오븐은 와이파이를 탑재한 광파오븐에...   \n",
       "4  사진제공=KAIST KAIST는 <b>인공지능</b>(AI) 대학원 김기응 교수 연...   \n",
       "5  최근에는 클라우드, <b>인공지능</b>(AI), 핀테크, 소셜미디어 등 첨단 기술...   \n",
       "6  참가자의 목소리는 가족들의 노력과 KT의 <b>인공지능</b> 기술로 완성됐다. 목...   \n",
       "7  <b>인공지능</b> 통합돌봄 서비스 사업 현장. 경남도 제공 경남도는 지난해 11...   \n",
       "8  또 내년에는 산단 스마트화를 위한 표준제조혁신 공정모듈센터 구축 등 스마트 제조혁신...   \n",
       "9  AI(<b>인공지능</b>)와 AR(증강현실) 등 최신 ICT(정보통신기술)을 활용...   \n",
       "\n",
       "                           pubDate  \n",
       "0  Sun, 26 Jul 2020 15:22:00 +0900  \n",
       "1  Sun, 26 Jul 2020 15:17:00 +0900  \n",
       "2  Sun, 26 Jul 2020 15:13:00 +0900  \n",
       "3  Sun, 26 Jul 2020 15:10:00 +0900  \n",
       "4  Sun, 26 Jul 2020 15:02:00 +0900  \n",
       "5  Sun, 26 Jul 2020 15:01:00 +0900  \n",
       "6  Sun, 26 Jul 2020 14:56:00 +0900  \n",
       "7  Sun, 26 Jul 2020 14:54:00 +0900  \n",
       "8  Sun, 26 Jul 2020 14:47:00 +0900  \n",
       "9  Sun, 26 Jul 2020 14:46:00 +0900  "
      ]
     },
     "execution_count": 4,
     "metadata": {},
     "output_type": "execute_result"
    }
   ],
   "source": [
    "df"
   ]
  },
  {
   "cell_type": "code",
   "execution_count": 5,
   "metadata": {
    "ExecuteTime": {
     "end_time": "2020-07-26T06:27:06.557409Z",
     "start_time": "2020-07-26T06:26:57.628295Z"
    }
   },
   "outputs": [
    {
     "name": "stdout",
     "output_type": "stream",
     "text": [
      "검색키워드: 인공지능\n",
      "인공지능_news_list_2020-07-26-15.pkl\n"
     ]
    }
   ],
   "source": [
    "# %%writefile get_naver_news_02.py\n",
    "# %load get_naver_news_02.py\n",
    "# paging을 이용해 조회\n",
    "\n",
    "# 요청파라미터\n",
    "#  - start : 시작기사 (1 ~ 1000 까지 가능)\n",
    "#  - display: 한번에 가져올 검색 개수 (1 ~ 100 까지 가능)\n",
    "import requests\n",
    "import time\n",
    "from datetime import datetime\n",
    "import pickle  #이번엔 피클로 저장\n",
    "\n",
    "# 01 복습 및 start display를 이용해 여러개 가져오기\n",
    "with open('./account.txt') as f:\n",
    "    client_id = f.readline().strip()\n",
    "    client_secret = f.readline().strip()\n",
    "\n",
    "#요청파라미터\n",
    "#start: 검색 시작 위치로 최대 1000까지 가능\n",
    "#display: 1 ~100\n",
    "def get_news(keyword, start=1, display=100):\n",
    "    \"\"\"뉴스 검색 함수\n",
    "    \n",
    "    Arguments:\n",
    "        keyword {str} -- [검색할 검색어]\n",
    "    \n",
    "    Keyword Arguments:\n",
    "        start {int} -- [가져올 뉴스의 시작 번째, 1 ~ 1000] (default: {1})\n",
    "        display {int} -- [한번에 가져올 개수. 1 ~ 100] (default: {100})\n",
    "    \"\"\"\n",
    "# https://developers.naver.com/docs/search/news/ 문서 확인\n",
    "\n",
    "    url = \"https://openapi.naver.com/v1/search/news.json\"\n",
    "    headers = {\n",
    "        \"X-Naver-Client-Id\":'gcGsZyq_7t0yY5z9NLLw',\n",
    "        \"X-Naver-Client-Secret\":'bgFjG8GN7G'\n",
    "    }\n",
    "    news_link_list = [] #뉴스 링크들을 저장할 리스트\n",
    "    # 1000까지 가능하므로\n",
    "    while start <= 1000: \n",
    "        params = {\n",
    "            'query':keyword,\n",
    "            'start':start,\n",
    "            'display':display \n",
    "        }\n",
    "        res = requests.get(url, headers=headers, params=params)\n",
    "\n",
    "        if(res.status_code==200):\n",
    "            result = res.json()\n",
    "            items = result['items']\n",
    "\n",
    "            for item in items:\n",
    "                link = item['link']\n",
    "                if 'news.naver.com' in link:\n",
    "                    news_link_list.append(link)\n",
    "            # print(start)        \n",
    "            start = start + display #start값 증가해서 다음 100개 가져오기 \n",
    "\n",
    "            # 초당 10번 호출만 가능. 그래서 시간간격을 약간준다.\n",
    "            time.sleep(0.1) \n",
    "        else:\n",
    "            print(\"Error Code:%d\" % res.status_code)\n",
    "            print(res.text)\n",
    "            raise Exception(res.text)\n",
    "\n",
    "    # 파일로 저장 - pickle이용.\n",
    "    filename = '{}_news_list_{}.pkl'.format(keyword, datetime.now().strftime('%Y-%m-%d-%H'))\n",
    "    print(filename)\n",
    "    with open(filename, 'wb') as f:\n",
    "        pickle.dump(news_link_list, f)   \n",
    "if __name__ == '__main__':\n",
    "    keyword = input(\"검색키워드: \")\n",
    "    get_news(keyword)"
   ]
  },
  {
   "cell_type": "code",
   "execution_count": 7,
   "metadata": {
    "ExecuteTime": {
     "end_time": "2020-07-26T06:27:34.010150Z",
     "start_time": "2020-07-26T06:27:34.005132Z"
    }
   },
   "outputs": [
    {
     "name": "stdout",
     "output_type": "stream",
     "text": [
      "314\n"
     ]
    }
   ],
   "source": [
    "filename = '인공지능_news_list_2020-07-26-15.pkl'\n",
    "with open(filename, 'rb') as f:\n",
    "    news_links = pickle.load(f)\n",
    "    print(len(news_links))"
   ]
  },
  {
   "cell_type": "code",
   "execution_count": 8,
   "metadata": {
    "ExecuteTime": {
     "end_time": "2020-07-26T06:27:35.549998Z",
     "start_time": "2020-07-26T06:27:35.546009Z"
    }
   },
   "outputs": [
    {
     "name": "stdout",
     "output_type": "stream",
     "text": [
      "https://news.naver.com/main/read.nhn?mode=LSD&mid=sec&sid1=105&oid=028&aid=0002506424\n",
      "https://news.naver.com/main/read.nhn?mode=LSD&mid=sec&sid1=101&oid=076&aid=0003605678\n",
      "https://news.naver.com/main/read.nhn?mode=LSD&mid=sec&sid1=105&oid=293&aid=0000029938\n"
     ]
    }
   ],
   "source": [
    "for i in range(3):\n",
    "    print(news_links[i])"
   ]
  },
  {
   "cell_type": "markdown",
   "metadata": {},
   "source": [
    "## 위의 naver 뉴스 기사를 받아 기사 크롤링\n",
    "\n",
    "- 네이버 뉴스는 일반뉴스/연예/스포츠 의 구조가 다르다. \n",
    "    - 여기선 일반뉴스 (url - news.naver 인 것만 조회한다.)\n",
    "        - 예외처리로 한다. (스포츠나 연예는 selector 했을 때 없으므로)\n",
    "    - 모든 뉴스는 news.naver.com 인데 **연예/스포츠 뉴스는 redirect 되어 다시 요청한다.**\n",
    "    - 만약 연예나 스포츠의 경우도 받으려면 res.url 로 요청 url 확인 뒤 시작이 sports나 entertain(sports.naver.com\\/entertain.naver.com) 으로 시작하면 그것에 맞게 따로 처리한다.\n",
    "\n",
    "### selector\n",
    "\n",
    "- 제목: h3#articleTitle\n",
    "- 입력일: span.t11\n",
    "- 기사: div#articleBodyContents"
   ]
  },
  {
   "cell_type": "markdown",
   "metadata": {},
   "source": [
    "- 각각 파싱할 경우\n",
    "\n",
    "```python\n",
    "if 'news.naver.com' in res.url:\n",
    "    parse_news(res.text)\n",
    "elif 'sports.naver.com' in res.url:\n",
    "    parse_sports_news(res.text)\n",
    "elif 'entertain.naver.com' in res.url:\n",
    "    parse_entertain_news(res.text)\n",
    "```"
   ]
  },
  {
   "cell_type": "code",
   "execution_count": 9,
   "metadata": {
    "ExecuteTime": {
     "end_time": "2020-07-26T06:27:38.300248Z",
     "start_time": "2020-07-26T06:27:38.172560Z"
    }
   },
   "outputs": [],
   "source": [
    "import requests\n",
    "from bs4 import BeautifulSoup\n",
    "\n",
    "def get_naver_news(url):\n",
    "    \"\"\"\n",
    "    네이버 뉴스의 url을 받아 뉴스제목, 입력일시, 뉴스내용을 반환하는 메소드.\n",
    "    연예, 스포츠 기사는 제외하고 반환한다.\n",
    "    [매개변수]\n",
    "        url : 뉴스기사 url\n",
    "    [반환값]\n",
    "        tuple : 뉴스제목, 입력일시, 뉴스내용\n",
    "    [예외]\n",
    "        Exception - 연예/스포츠 기사일 경우 발생 시킬 예외\n",
    "    \"\"\"\n",
    "    res = requests.get(url)\n",
    "#     print(res.url)\n",
    "    if res.status_code == 200:\n",
    "#         print('news.naver.com' not in res.url, res.url)\n",
    "\n",
    "        if 'news.naver.com' not in res.url:\n",
    "            raise Exception('{} 은 요청할 수 없는 url 입니다.'.format(res.url))\n",
    "        soup = BeautifulSoup(res.text, 'lxml')\n",
    "        \n",
    "        title = soup.select_one('h3#articleTitle').text.strip()\n",
    "        input_date = soup.select_one('span.t11').text.strip()\n",
    "        article = article.replace('// flash 오류를 우회하기 위한 함수 추가\\nfunction _flash_removeCallback() {}','')\n",
    "        \n",
    "        return title, input_date, article\n",
    "    \n",
    "    else:\n",
    "        raise Exception(\"요청 실패: {}\".format(res.status_code))"
   ]
  },
  {
   "cell_type": "code",
   "execution_count": null,
   "metadata": {
    "ExecuteTime": {
     "end_time": "2020-07-26T06:29:45.071052Z",
     "start_time": "2020-07-26T06:28:11.027665Z"
    }
   },
   "outputs": [],
   "source": [
    "import pandas as pd\n",
    "\n",
    "result = []\n",
    "error_cnt = 0\n",
    "for link in news_links:\n",
    "#     print(link)\n",
    "    try:\n",
    "        data = get_naver_news(link)\n",
    "        result.append(data)\n",
    "    except:\n",
    "        error_cnt += 1\n",
    "        \n",
    "print('error_cnt: {}'.format(error_cnt))\n",
    "# 파일 저장\n",
    "df = pd.DataFrame(result,  columns=['기사제목','입력일', '기사내용'])\n",
    "df.to_csv('news.csv', encoding='UTF-8', index=False)\n",
    "print('종료')"
   ]
  },
  {
   "cell_type": "code",
   "execution_count": 12,
   "metadata": {
    "ExecuteTime": {
     "end_time": "2020-07-26T06:30:47.997740Z",
     "start_time": "2020-07-26T06:30:47.957849Z"
    }
   },
   "outputs": [
    {
     "name": "stdout",
     "output_type": "stream",
     "text": [
      "종료\n"
     ]
    }
   ],
   "source": [
    "df = pd.DataFrame(result,  columns=['기사제목','입력일', '기사내용'])\n",
    "df.to_csv('news.csv', encoding='UTF-8', index=False)\n",
    "print('종료')"
   ]
  },
  {
   "cell_type": "code",
   "execution_count": 13,
   "metadata": {
    "ExecuteTime": {
     "end_time": "2020-07-26T06:30:53.406305Z",
     "start_time": "2020-07-26T06:30:53.395302Z"
    }
   },
   "outputs": [
    {
     "data": {
      "text/html": [
       "<div>\n",
       "<style scoped>\n",
       "    .dataframe tbody tr th:only-of-type {\n",
       "        vertical-align: middle;\n",
       "    }\n",
       "\n",
       "    .dataframe tbody tr th {\n",
       "        vertical-align: top;\n",
       "    }\n",
       "\n",
       "    .dataframe thead th {\n",
       "        text-align: right;\n",
       "    }\n",
       "</style>\n",
       "<table border=\"1\" class=\"dataframe\">\n",
       "  <thead>\n",
       "    <tr style=\"text-align: right;\">\n",
       "      <th></th>\n",
       "      <th>기사제목</th>\n",
       "      <th>입력일</th>\n",
       "      <th>기사내용</th>\n",
       "    </tr>\n",
       "  </thead>\n",
       "  <tbody>\n",
       "    <tr>\n",
       "      <th>0</th>\n",
       "      <td>‘노터치’ 터치스크린 개발</td>\n",
       "      <td>2020.07.26. 오후 3:22</td>\n",
       "      <td>인공지능이 손가락 가리키는 곳 파악 시행 “기기 작동에 드는 시간·노력 50% 줄여...</td>\n",
       "    </tr>\n",
       "    <tr>\n",
       "      <th>1</th>\n",
       "      <td>유가증권시장서 시총 비중 0.5% 이상 종목, 4년 만에 30% 줄어…46개→32개</td>\n",
       "      <td>2020.07.26. 오후 3:17</td>\n",
       "      <td>우리나라 유가증권시장에서 시가총액 비중이 0.5% 이상을 차지하는 종목 수가 4년여...</td>\n",
       "    </tr>\n",
       "    <tr>\n",
       "      <th>2</th>\n",
       "      <td>\"주방가전으로 스마트한 캠핑을\"…'LG 디오스' 이색행사</td>\n",
       "      <td>2020.07.26. 오후 3:10</td>\n",
       "      <td>/사진=LG전자 제공LG전자가 주방가전 LG 디오스 제품을 야외에서 체험할 수 있는...</td>\n",
       "    </tr>\n",
       "    <tr>\n",
       "      <th>3</th>\n",
       "      <td>경남도, AI 통합돌봄서비스 구축 취약계층 1000가구 대상 시범사업</td>\n",
       "      <td>2020.07.26. 오후 2:54</td>\n",
       "      <td>인공지능 통합돌봄 서비스 사업 현장. 경남도 제공경남도는 지난해 11월 SK텔레콤과...</td>\n",
       "    </tr>\n",
       "    <tr>\n",
       "      <th>4</th>\n",
       "      <td>\"한국판 뉴딜 선도하자\"...광주 '산단 대개조' 시동</td>\n",
       "      <td>2020.07.26. 오후 2:47</td>\n",
       "      <td>스마트에너지 플랫폼 구축 등3년간 33개 사업 7,656억 투입광주광역시청[서울경제...</td>\n",
       "    </tr>\n",
       "  </tbody>\n",
       "</table>\n",
       "</div>"
      ],
      "text/plain": [
       "                                             기사제목                  입력일  \\\n",
       "0                                  ‘노터치’ 터치스크린 개발  2020.07.26. 오후 3:22   \n",
       "1  유가증권시장서 시총 비중 0.5% 이상 종목, 4년 만에 30% 줄어…46개→32개  2020.07.26. 오후 3:17   \n",
       "2                 \"주방가전으로 스마트한 캠핑을\"…'LG 디오스' 이색행사  2020.07.26. 오후 3:10   \n",
       "3          경남도, AI 통합돌봄서비스 구축 취약계층 1000가구 대상 시범사업  2020.07.26. 오후 2:54   \n",
       "4                  \"한국판 뉴딜 선도하자\"...광주 '산단 대개조' 시동  2020.07.26. 오후 2:47   \n",
       "\n",
       "                                                기사내용  \n",
       "0  인공지능이 손가락 가리키는 곳 파악 시행 “기기 작동에 드는 시간·노력 50% 줄여...  \n",
       "1  우리나라 유가증권시장에서 시가총액 비중이 0.5% 이상을 차지하는 종목 수가 4년여...  \n",
       "2  /사진=LG전자 제공LG전자가 주방가전 LG 디오스 제품을 야외에서 체험할 수 있는...  \n",
       "3  인공지능 통합돌봄 서비스 사업 현장. 경남도 제공경남도는 지난해 11월 SK텔레콤과...  \n",
       "4  스마트에너지 플랫폼 구축 등3년간 33개 사업 7,656억 투입광주광역시청[서울경제...  "
      ]
     },
     "execution_count": 13,
     "metadata": {},
     "output_type": "execute_result"
    }
   ],
   "source": [
    "df.head()"
   ]
  },
  {
   "cell_type": "code",
   "execution_count": 15,
   "metadata": {
    "ExecuteTime": {
     "end_time": "2020-07-26T06:31:26.418959Z",
     "start_time": "2020-07-26T06:31:26.414971Z"
    }
   },
   "outputs": [
    {
     "name": "stdout",
     "output_type": "stream",
     "text": [
      "인공지능이 손가락 가리키는 곳 파악 시행 “기기 작동에 드는 시간·노력 50% 줄여줘”인공지능이 손가락이 가리키는 항목을 정확히 파악해 시행한다. 재규어랜드로버 제공  요즘 전자기기의 화면들은 대부분 터치스크린 방식을 채택하고 있다. 그런데 주행중 자동차 내비게이션 기기나 냉난방 조절 모니터를 작동하려면 차의 가속이나 흔들림 등으로 정확하게 원하는 항목을 터치하는 데 애를 먹는다. 자칫하다간 전방 주의력이 산만해져 위험을 자초할 수도 있다. 일상적으로 사용하는 휴대폰이나 태블릿 화면에는 눈에 보이지 않는 오염물질이 가득해 손으로 터치하는 과정에서 바이러스나 세균이 묻을 위험도 있다. 이런 위험과 수고를 덜어줄 수 있는 스크린이 선보였다.영국 케임브리지대 연구원들과 자동차업체 재규어 랜드로버 연구진은 손대지 않아도 되는 터치스크린을 개발했다고 최근 발표했다. 자동차용으로 개발한 이 `노터치 터치스크린'에 쓰인 기술은 인공지능을 활용한 `예측 터치' 기술이다. 이용자가 선택하려는 항목을 손가락으로 가리키기만 하면, 인공지능이 제스처 추적 센서 등으로 재빨리 이를 파악해 시행한다. 원래는 자동차용으로 개발했지만, 스마트폰이나 키오스크 등에도 활용할 수 있다. 캠브리지대 제공 _______바이러스 감염 위험 줄이는 데도 유용할 듯연구진은 주행 시뮬레이터와 도로 주행을 통해 시험한 결과, 화면을 손으로 터치하는 데 필요한 노력과 시간을 50% 줄일 수 있는 것으로 나타났다고 밝혔다. 연구진은 보도자료를 통해 \"기존 인터페이스 디자인을 그대로 쓸 수 있고 이용자 학습도 필요 없기 때문에 기존에 나온 제스처 인식 기술보다 이점이 많다\"고 밝혔다.연구진은 이 기술을 자동차 내비게이션 등에 적용할 경우 사고 위험을 줄일 수 있을 뿐 아니라, 스마트폰 같은 모바일기기와 식당 주문기, 공항 발권기 등 무인 단말기(키오스크)에 활용하면 바이러스 등에 의한 감염 위험을 줄이는 데도 한몫할 것으로 기대했다. 또 파킨슨병 등의 질환으로 손 떨림 장애가 있는 사람들에게도 유용하게 쓰일 수 있을 것이라고 덧붙였다.곽노필 선임기자 nopil@hani.co.kr▶더불어 행복한 세상을 만드는 언론, 한겨레 구독하세요!▶네이버 채널 한겨레21 구독▶2005년 이전 <한겨레> 기사 보기[ⓒ한겨레신문 : 무단전재 및 재배포 금지]\n"
     ]
    }
   ],
   "source": [
    "print(df['기사내용'][0])"
   ]
  },
  {
   "cell_type": "code",
   "execution_count": null,
   "metadata": {},
   "outputs": [],
   "source": []
  },
  {
   "cell_type": "code",
   "execution_count": null,
   "metadata": {},
   "outputs": [],
   "source": []
  },
  {
   "cell_type": "code",
   "execution_count": null,
   "metadata": {},
   "outputs": [],
   "source": []
  },
  {
   "cell_type": "code",
   "execution_count": null,
   "metadata": {},
   "outputs": [],
   "source": []
  },
  {
   "cell_type": "code",
   "execution_count": 9,
   "metadata": {
    "ExecuteTime": {
     "end_time": "2020-07-23T13:39:58.163005Z",
     "start_time": "2020-07-23T13:39:58.159763Z"
    }
   },
   "outputs": [],
   "source": [
    "import sys"
   ]
  },
  {
   "cell_type": "code",
   "execution_count": 17,
   "metadata": {},
   "outputs": [
    {
     "data": {
      "text/plain": [
       "<module 'sys' (built-in)>"
      ]
     },
     "execution_count": 17,
     "metadata": {},
     "output_type": "execute_result"
    }
   ],
   "source": [
    "sys"
   ]
  },
  {
   "cell_type": "code",
   "execution_count": 21,
   "metadata": {},
   "outputs": [
    {
     "data": {
      "text/plain": [
       "'C:\\\\Users\\\\Playdata\\\\anaconda3\\\\python.exe'"
      ]
     },
     "execution_count": 21,
     "metadata": {},
     "output_type": "execute_result"
    }
   ],
   "source": [
    "sys.executable"
   ]
  },
  {
   "cell_type": "code",
   "execution_count": 22,
   "metadata": {},
   "outputs": [
    {
     "name": "stdout",
     "output_type": "stream",
     "text": [
      "C:\\Users\\Playdata\\anaconda3\\python.exe\n",
      "C:\\Users\\Playdata\\AppData\\Local\\Microsoft\\WindowsApps\\python.exe\n"
     ]
    }
   ],
   "source": [
    "!where python"
   ]
  },
  {
   "cell_type": "code",
   "execution_count": 23,
   "metadata": {},
   "outputs": [
    {
     "name": "stdout",
     "output_type": "stream",
     "text": [
      "C:\\Users\\Playdata\\anaconda3\\Scripts\\jupyter.exe\n"
     ]
    }
   ],
   "source": [
    "!where jupyter"
   ]
  }
 ],
 "metadata": {
  "kernelspec": {
   "display_name": "Python 3",
   "language": "python",
   "name": "python3"
  },
  "language_info": {
   "codemirror_mode": {
    "name": "ipython",
    "version": 3
   },
   "file_extension": ".py",
   "mimetype": "text/x-python",
   "name": "python",
   "nbconvert_exporter": "python",
   "pygments_lexer": "ipython3",
   "version": "3.7.6"
  }
 },
 "nbformat": 4,
 "nbformat_minor": 4
}
