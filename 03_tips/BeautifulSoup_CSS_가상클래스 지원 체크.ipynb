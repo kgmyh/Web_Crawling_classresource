{
 "cells": [
  {
   "cell_type": "markdown",
   "metadata": {},
   "source": [
    "뷰티플스프 가상클래스 지원여부"
   ]
  },
  {
   "cell_type": "code",
   "execution_count": 1,
   "metadata": {
    "ExecuteTime": {
     "end_time": "2019-08-07T14:03:40.220046Z",
     "start_time": "2019-08-07T14:03:40.052385Z"
    }
   },
   "outputs": [],
   "source": [
    "from bs4 import BeautifulSoup"
   ]
  },
  {
   "cell_type": "code",
   "execution_count": 14,
   "metadata": {
    "ExecuteTime": {
     "end_time": "2019-08-07T14:07:34.100744Z",
     "start_time": "2019-08-07T14:07:34.096755Z"
    }
   },
   "outputs": [],
   "source": [
    "html_doc='''<html><body><div>a</div><span>aa</span><div>b</div><div>c</div><div>d</div><div>e</div></body></html>'''"
   ]
  },
  {
   "cell_type": "code",
   "execution_count": 15,
   "metadata": {
    "ExecuteTime": {
     "end_time": "2019-08-07T14:07:34.496686Z",
     "start_time": "2019-08-07T14:07:34.491700Z"
    }
   },
   "outputs": [],
   "source": [
    "soup = BeautifulSoup(html_doc)"
   ]
  },
  {
   "cell_type": "code",
   "execution_count": 11,
   "metadata": {
    "ExecuteTime": {
     "end_time": "2019-08-07T14:05:56.742995Z",
     "start_time": "2019-08-07T14:05:56.738009Z"
    }
   },
   "outputs": [
    {
     "data": {
      "text/plain": [
       "[]"
      ]
     },
     "execution_count": 11,
     "metadata": {},
     "output_type": "execute_result"
    }
   ],
   "source": [
    "soup.select('div:nth-child(2)')"
   ]
  },
  {
   "cell_type": "code",
   "execution_count": 16,
   "metadata": {
    "ExecuteTime": {
     "end_time": "2019-08-07T14:07:45.979004Z",
     "start_time": "2019-08-07T14:07:45.974005Z"
    }
   },
   "outputs": [
    {
     "data": {
      "text/plain": [
       "[<div>c</div>, <div>e</div>]"
      ]
     },
     "execution_count": 16,
     "metadata": {},
     "output_type": "execute_result"
    }
   ],
   "source": [
    "soup.select('div:nth-child(even)')"
   ]
  },
  {
   "cell_type": "code",
   "execution_count": 17,
   "metadata": {
    "ExecuteTime": {
     "end_time": "2019-08-07T14:07:51.561103Z",
     "start_time": "2019-08-07T14:07:51.556090Z"
    }
   },
   "outputs": [
    {
     "data": {
      "text/plain": [
       "[<div>a</div>, <div>b</div>, <div>d</div>]"
      ]
     },
     "execution_count": 17,
     "metadata": {},
     "output_type": "execute_result"
    }
   ],
   "source": [
    "soup.select('div:nth-child(odd)')"
   ]
  },
  {
   "cell_type": "code",
   "execution_count": 18,
   "metadata": {
    "ExecuteTime": {
     "end_time": "2019-08-07T14:07:59.301381Z",
     "start_time": "2019-08-07T14:07:59.296396Z"
    }
   },
   "outputs": [
    {
     "data": {
      "text/plain": [
       "[<div>b</div>, <div>e</div>]"
      ]
     },
     "execution_count": 18,
     "metadata": {},
     "output_type": "execute_result"
    }
   ],
   "source": [
    "soup.select('div:nth-child(3n)')"
   ]
  },
  {
   "cell_type": "code",
   "execution_count": 19,
   "metadata": {
    "ExecuteTime": {
     "end_time": "2019-08-07T14:08:22.763691Z",
     "start_time": "2019-08-07T14:08:22.759676Z"
    }
   },
   "outputs": [
    {
     "data": {
      "text/plain": [
       "[<div>b</div>]"
      ]
     },
     "execution_count": 19,
     "metadata": {},
     "output_type": "execute_result"
    }
   ],
   "source": [
    "soup.select('div:nth-of-type(2)')"
   ]
  },
  {
   "cell_type": "code",
   "execution_count": 20,
   "metadata": {
    "ExecuteTime": {
     "end_time": "2019-08-07T14:08:26.486710Z",
     "start_time": "2019-08-07T14:08:26.481723Z"
    }
   },
   "outputs": [
    {
     "data": {
      "text/plain": [
       "[<div>b</div>, <div>d</div>]"
      ]
     },
     "execution_count": 20,
     "metadata": {},
     "output_type": "execute_result"
    }
   ],
   "source": [
    "soup.select('div:nth-of-type(even)')"
   ]
  },
  {
   "cell_type": "code",
   "execution_count": 21,
   "metadata": {
    "ExecuteTime": {
     "end_time": "2019-08-07T14:08:32.352031Z",
     "start_time": "2019-08-07T14:08:32.347045Z"
    }
   },
   "outputs": [
    {
     "data": {
      "text/plain": [
       "[<div>a</div>, <div>c</div>, <div>e</div>]"
      ]
     },
     "execution_count": 21,
     "metadata": {},
     "output_type": "execute_result"
    }
   ],
   "source": [
    "soup.select('div:nth-of-type(odd)')"
   ]
  },
  {
   "cell_type": "code",
   "execution_count": 22,
   "metadata": {
    "ExecuteTime": {
     "end_time": "2019-08-07T14:08:43.317754Z",
     "start_time": "2019-08-07T14:08:43.312732Z"
    }
   },
   "outputs": [
    {
     "data": {
      "text/plain": [
       "[<div>c</div>]"
      ]
     },
     "execution_count": 22,
     "metadata": {},
     "output_type": "execute_result"
    }
   ],
   "source": [
    "soup.select('div:nth-of-type(3n)')"
   ]
  },
  {
   "cell_type": "code",
   "execution_count": 28,
   "metadata": {
    "ExecuteTime": {
     "end_time": "2019-08-07T14:09:49.368184Z",
     "start_time": "2019-08-07T14:09:49.364171Z"
    }
   },
   "outputs": [
    {
     "data": {
      "text/plain": [
       "[<div>e</div>]"
      ]
     },
     "execution_count": 28,
     "metadata": {},
     "output_type": "execute_result"
    }
   ],
   "source": [
    "soup.select('div:last-child')"
   ]
  },
  {
   "cell_type": "code",
   "execution_count": null,
   "metadata": {},
   "outputs": [],
   "source": []
  }
 ],
 "metadata": {
  "kernelspec": {
   "display_name": "Python 3",
   "language": "python",
   "name": "python3"
  },
  "language_info": {
   "codemirror_mode": {
    "name": "ipython",
    "version": 3
   },
   "file_extension": ".py",
   "mimetype": "text/x-python",
   "name": "python",
   "nbconvert_exporter": "python",
   "pygments_lexer": "ipython3",
   "version": "3.7.3"
  },
  "toc": {
   "base_numbering": 1,
   "nav_menu": {},
   "number_sections": false,
   "sideBar": false,
   "skip_h1_title": false,
   "title_cell": "Table of Contents",
   "title_sidebar": "Contents",
   "toc_cell": false,
   "toc_position": {},
   "toc_section_display": true,
   "toc_window_display": false
  },
  "varInspector": {
   "cols": {
    "lenName": 16,
    "lenType": 16,
    "lenVar": 40
   },
   "kernels_config": {
    "python": {
     "delete_cmd_postfix": "",
     "delete_cmd_prefix": "del ",
     "library": "var_list.py",
     "varRefreshCmd": "print(var_dic_list())"
    },
    "r": {
     "delete_cmd_postfix": ") ",
     "delete_cmd_prefix": "rm(",
     "library": "var_list.r",
     "varRefreshCmd": "cat(var_dic_list()) "
    }
   },
   "types_to_exclude": [
    "module",
    "function",
    "builtin_function_or_method",
    "instance",
    "_Feature"
   ],
   "window_display": false
  }
 },
 "nbformat": 4,
 "nbformat_minor": 2
}
