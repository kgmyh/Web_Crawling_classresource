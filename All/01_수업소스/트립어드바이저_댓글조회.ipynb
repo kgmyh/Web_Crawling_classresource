{
 "cells": [
  {
   "cell_type": "markdown",
   "metadata": {},
   "source": [
    "# 한페이지의 댓글 가져오기\n",
    "- 크롬브라우저 띄우기\n",
    "- 식당 페이지로 이동\n",
    "- 댓글 더보기 버튼 클릭\n",
    "- 댓글 가져오기\n",
    "- 브라우저 종료"
   ]
  },
  {
   "cell_type": "code",
   "execution_count": 2,
   "metadata": {},
   "outputs": [],
   "source": [
    "import time\n",
    "from selenium.webdriver import Chrome\n",
    "from bs4 import BeautifulSoup"
   ]
  },
  {
   "cell_type": "code",
   "execution_count": 11,
   "metadata": {
    "collapsed": true
   },
   "outputs": [
    {
     "name": "stdout",
     "output_type": "stream",
     "text": [
      "{'width': 1050, 'height': 805}\n",
      "더 보기\n",
      "['8월초 토요일에 런치메뉴를 먹었습니다. 주말은 예약이 늘 차있어서 약 3주전에 예약해야 갈 수 있었어요. 총 5가지 코스가 나왔고 평소 싱겁게 먹는편도 아닌데 간이 짜다는 느낌이 상당했네요. (4코스,5코스 중 선택할 수 있습니다.)서비스는 딱딱하고 건조했어요. 정말 안좋았던 기억은, 마지막 디저트였던 파이를 포크로 가르는 순간 엄청 긴 머리카락이 나왔습니다. 일행이 파이를 시켰고 저는 돌하르방 아이스크림을 선택했는데 만약 제 아이스크림에서 그런것이 나왔다고 생각하면... 엄청 화가 났을겁니다.컴플레인은 아니고 그냥 조용히 말씀 드렸는데 죄송하다고 다시 만들어드리겠다고 그 한마디로 모든 상황이 종료 되더군요.뉴욕에서는 2스타 미슐랭이라고 들었는데 서울의 정식당은 아닌것 같네요. 그런 일이 있었는데도 디저트에 대한 모든 비용이 청구된건 저로썬 이해가 되지 않습니다. 그리고 결제할때 그 부분에 대한 언급이 단한번도 없었다는게 저는 놀라울 따름이에요... 그냥 작은 이물질이었다면 말도 안하죠. 레스토랑 입장에서도 다떠나서, 참 부끄러운 일이지 않을까요. 마지막 디저트 건을 떠나서 둘이 런치 5코스를 먹고 총 24만원이 나왔는데(투뿔등심과 랍스터를 선택해서 추가요금이 발생한 부분은 있어요) 과연 그 값어치가 있나 몇번이나 생각해봤지만 개인적으로 저는 전혀 아닌것 같아요. 참고로 일행과 먹은 메뉴가 전부 같았으나 딱 하나 다른건 성게비빔밥이었는데 그날 배탈이 심하게 낫네요... 물론 그것 때문이라고 장담할수는 없지만 더운 여름철 충분히 의심은 갈만 했습니다. 주방 바로 앞에 위치했던 저희 2인석 테이블은 자리가 너무나 비좁았고 가방을 놓을 곳 하나 챙겨주는 배려 또한 없었습니다.', '와인 페어링으로 저녁 메뉴를 4명이 즐겼습니다.와인 페어링은 잔으로 음식에 맞추어서 서빙이 되는데 좋았습니다.다만 남자 소믈리에 분이 조금 기계적이라할까 서빙에 즐거움이 없으시더군요.그리고 음식 하나 하나와 페어링은 했었겠지만 코스를 먹으면서 페어링을 했을까?하는 의구심이 들었습니다. 손님에게 즐거움을 주지 못하면 무슨 소용이 있을까요.음식은 훌륭하고 창의적입니다. 다만 메뉴의 큰 변화가 없어서 많이 방문을 하여도1년에 2번정도 밖에 방문하지는 않을 듯 합니다.플로워 서비스 메니저님은 관록이 있으시고 매우 세련된 서브를 하셨고 부메니저로 보이는 여자분도 서브는 나쁘지 않았지만 아르바이트로 보이는 분의 서빙은 아쉬움이 컸습니다. 그래도 한국 서울에 이런 레스토랑이 있다는게 어디인가 싶은 생각이 듭니다. 조금 더 직원 교육을 통해서 세련된 다이닝 레스토랑이 되었으면 합니다.', '한식이지만 한식같지 않은...코스요리로 빵부터 후식까지 제공됨. 가격대는 좀 있지만 만족스러운 맛과 서비스로 상쇄가능. 식당도 한적하고 공간을 넓게 써서 느긋하게 식사하기에 안성맞춤. 도산공원 근처임.', '뉴욕에서 미슐랭 2스타를 받은 정식당그 한국 본점을 방문했음한식 재료로 다양한 식감을 살린 것이 새로웠으며메인에서는 식자재는 한국에서도 자주 사용하는 재료들을 가니쉬로 활용했지만메인 재료는 전통적인 양식 조리 방식을 따라서새로움과 안정을 함께 한 접시에 담았음미슐랭 스타급 레스토랑을 많이 가보지는 못했지만추천할 만한 곳임다만 시즌별로 바뀌는 메뉴의 폭이 크지 않아여러번 방문할 만한 것인가는 의문이 있음', '한식과 웨스턴의 경계를 허문것인지 불분명한 것인지 딱 집어말하기는 어렵지만한식에 근접한 새로운 해석을 통한 미각에 즐거움을 주는한번쯤 가볼만한!', '공간이 좁은 감은 있습니다 인테리어가 크게 세련되지 않습니다 식단보가 가죽 비슷한 건데 좋게 생각되지 않았습니다 하지만 음식은 좋았습니다 .', '음식 서비스 모두 만족 할만한 레스토랑이다한식의 세계화에 노력하는 모습이 그대로 음식에 보여진다다만 화장실은 바빠서 많은 사람이 사용해서 그런지 지져분 했다', '점심 메뉴가 reasonable 한 price에 맛있는 요리를 먹을수 있어 좋아요..삼겹살 요리가 참 맛있어고..무엇보다계절에 따라 달라지는 디저트 메뉴가 너무 예뻐요..음식자체는 뉴욕 지점이 좀 더 세련된듯 합니다.', '점심시간에 갔는데 함박스테이크 예쁘게 나오기도하고 맛도좋았어요. 테이블이 적어서 점심시간에는 줄 서야하는듯해요. 맛있었어요', '남친과 6주년을 기념하기 위해서 미리 예약해서 그런지 자리를 창가자리로 배정해주어서 좋았어요. 그리고 매번 메뉴가 나올때마다 자세히 설명해주어서 보다 음식을 맛있게 먹을 수 있었어요. 그리고 음식들 데코가 정말 아기자기하니 참 예뻐서 먹기 아까울 정도였어요. 특히, 정식당의 디저트 중 돌하르방은 참 인상깊었어요ㅎㅎ코스 중 가장 맛있게 먹은건 초리조 김치 빠에야였어요. 김치에 치킨 크루통을 넣어서 바삭바삭하니 식감도 좋고, 적당히 매콤하고, 밥도 촉촉해서 정말 만족스러웠어요. 다음에도 기념일에 또 방문하고 싶어요.']\n"
     ]
    }
   ],
   "source": [
    "url = 'https://www.tripadvisor.co.kr/Restaurant_Review-g294197-d3200324-Reviews-or50-Jungsik-Seoul.html'\n",
    "\n",
    "#driver 생성 - 웹브라우저 실행\n",
    "driver = Chrome()\n",
    "# 브라우저 크기 지정\n",
    "print(driver.get_window_size())\n",
    "driver.set_window_size(width=1920, height=1080)\n",
    "#이동\n",
    "driver.get(url)\n",
    "# 더보기 버튼을 찾아서 클릭\n",
    "# <span class='taLnk  ulBlueLinks'> 클래스를 두개 설정. (공백이 구분자임.)\n",
    "more_btn = driver.find_elements_by_css_selector('span.taLnk.ulBlueLinks')\n",
    "print(more_btn[0].text)\n",
    "\n",
    "# 더보기 링크가 활성화(클릭가능상태) 될때까지 기다린다. \n",
    "time.sleep(1)\n",
    "more_btn[0].click() #클릭 동작.\n",
    "\n",
    "time.sleep(0.5) #더보기 클릭후 모든 댓글을 받아올때 까지 기다린다.\n",
    "\n",
    "# BeautifulSoup을 이용해 댓글 가져오기\n",
    "# 전체 페이지 조회\n",
    "# driver.page_source\n",
    "soup = BeautifulSoup(driver.page_source, 'lxml')\n",
    "# 댓글 1개  css: p.partial_entry\n",
    "comment_tag_list = soup.select('p.partial_entry')\n",
    "comment_list = [] #각 댓글을 저장.\n",
    "\n",
    "for tag in comment_tag_list:\n",
    "    comment_list.append(tag.get_text().strip())\n",
    "    \n",
    "print(comment_list)    \n",
    "driver.close()"
   ]
  },
  {
   "cell_type": "code",
   "execution_count": 12,
   "metadata": {
    "collapsed": true
   },
   "outputs": [
    {
     "data": {
      "text/plain": [
       "'8월초 토요일에 런치메뉴를 먹었습니다. 주말은 예약이 늘 차있어서 약 3주전에 예약해야 갈 수 있었어요. 총 5가지 코스가 나왔고 평소 싱겁게 먹는편도 아닌데 간이 짜다는 느낌이 상당했네요. (4코스,5코스 중 선택할 수 있습니다.)서비스는 딱딱하고 건조했어요. 정말 안좋았던 기억은, 마지막 디저트였던 파이를 포크로 가르는 순간 엄청 긴 머리카락이 나왔습니다. 일행이 파이를 시켰고 저는 돌하르방 아이스크림을 선택했는데 만약 제 아이스크림에서 그런것이 나왔다고 생각하면... 엄청 화가 났을겁니다.컴플레인은 아니고 그냥 조용히 말씀 드렸는데 죄송하다고 다시 만들어드리겠다고 그 한마디로 모든 상황이 종료 되더군요.뉴욕에서는 2스타 미슐랭이라고 들었는데 서울의 정식당은 아닌것 같네요. 그런 일이 있었는데도 디저트에 대한 모든 비용이 청구된건 저로썬 이해가 되지 않습니다. 그리고 결제할때 그 부분에 대한 언급이 단한번도 없었다는게 저는 놀라울 따름이에요... 그냥 작은 이물질이었다면 말도 안하죠. 레스토랑 입장에서도 다떠나서, 참 부끄러운 일이지 않을까요. 마지막 디저트 건을 떠나서 둘이 런치 5코스를 먹고 총 24만원이 나왔는데(투뿔등심과 랍스터를 선택해서 추가요금이 발생한 부분은 있어요) 과연 그 값어치가 있나 몇번이나 생각해봤지만 개인적으로 저는 전혀 아닌것 같아요. 참고로 일행과 먹은 메뉴가 전부 같았으나 딱 하나 다른건 성게비빔밥이었는데 그날 배탈이 심하게 낫네요... 물론 그것 때문이라고 장담할수는 없지만 더운 여름철 충분히 의심은 갈만 했습니다. 주방 바로 앞에 위치했던 저희 2인석 테이블은 자리가 너무나 비좁았고 가방을 놓을 곳 하나 챙겨주는 배려 또한 없었습니다.'"
      ]
     },
     "execution_count": 12,
     "metadata": {},
     "output_type": "execute_result"
    }
   ],
   "source": [
    "comment_list[0]"
   ]
  },
  {
   "cell_type": "code",
   "execution_count": 13,
   "metadata": {},
   "outputs": [
    {
     "data": {
      "text/plain": [
       "10"
      ]
     },
     "execution_count": 13,
     "metadata": {},
     "output_type": "execute_result"
    }
   ],
   "source": [
    "len(comment_list)"
   ]
  },
  {
   "cell_type": "code",
   "execution_count": null,
   "metadata": {},
   "outputs": [],
   "source": []
  },
  {
   "cell_type": "code",
   "execution_count": null,
   "metadata": {},
   "outputs": [],
   "source": []
  },
  {
   "cell_type": "code",
   "execution_count": 17,
   "metadata": {},
   "outputs": [],
   "source": [
    "import time\n",
    "from selenium.webdriver import Chrome\n",
    "from selenium.webdriver import ChromeOptions\n",
    "\n",
    "from selenium.webdriver.common.by import By\n",
    "from selenium.webdriver.support.ui import WebDriverWait\n",
    "from selenium.webdriver.support import expected_conditions as EC\n",
    "# WebDriverWait: element(태그) 가 특정 상태가 될때 까지 기다려 준다.\n",
    "# expected_condtions : 특정 상태\n",
    "# By : element 찾는 조건(css, tag이름..)\n",
    "\n",
    "from bs4 import BeautifulSoup"
   ]
  },
  {
   "cell_type": "code",
   "execution_count": 20,
   "metadata": {
    "scrolled": false
   },
   "outputs": [
    {
     "name": "stdout",
     "output_type": "stream",
     "text": [
      "{'width': 1920, 'height': 1080}\n",
      "['8월초 토요일에 런치메뉴를 먹었습니다. \\n주말은 예약이 늘 차있어서 약 3주전에 ...더 보기', '와인 페어링으로 저녁 메뉴를 4명이 즐겼습니다.\\n\\n와인 페어링은 잔으로  음식에 ...더 보기', '한식이지만 한식같지 않은...코스요리로 빵부터 후식까지 제공됨. 가격대는 좀 있지...더 보기', '뉴욕에서 미슐랭 2스타를 받은 정식당\\n그 한국 본점을 방문했음\\n\\n한식 재료로 다양...더 보기', '한식과 웨스턴의 경계를 허문것인지 불분명한 것인지 딱 집어말하기는 어렵지만\\n한식에...더 보기', '공간이 좁은 감은 있습니다 인테리어가 크게 세련되지 않습니다 식단보가 가죽 비슷한...더 보기', '음식 서비스 모두 만족 할만한 레스토랑이다\\n한식의 세계화에 노력하는 모습이 그대로...더 보기', '점심 메뉴가 reasonable 한 price에 맛있는 요리를 먹을수 있어 좋아요...더 보기', '점심시간에 갔는데 함박스테이크 예쁘게 나오기도하고 맛도좋았어요. 테이블이 적어서 ...더 보기', '남친과 6주년을 기념하기 위해서 미리 예약해서 그런지 자리를 창가자리로 배정해주어...더 보기']\n"
     ]
    }
   ],
   "source": [
    "url = 'https://www.tripadvisor.co.kr/Restaurant_Review-g294197-d3200324-Reviews-or50-Jungsik-Seoul.html'\n",
    "\n",
    "#headless 로 실행 - 웹브라우저가 화면에 나오지 않게 실행.\n",
    "options = ChromeOptions()\n",
    "options.add_argument('headless')\n",
    "#화면사이즈 변경\n",
    "options.add_argument('window-size=1920x1080')\n",
    "driver = Chrome(options=options)\n",
    "\n",
    "#driver 생성 - 웹브라우저 실행\n",
    "# driver = Chrome()\n",
    "# 브라우저 크기 지정\n",
    "print(driver.get_window_size())\n",
    "# driver.set_window_size(width=1920, height=1080)\n",
    "\n",
    "\n",
    "\n",
    "\n",
    "#이동\n",
    "driver.get(url)\n",
    "# 더보기 버튼을 찾아서 클릭\n",
    "# <span class='taLnk  ulBlueLinks'> 클래스를 두개 설정. (공백이 구분자임.)   \n",
    "\n",
    "# driver가 어떤 태그를 찾을 때 최대 10초까지 기다린다.\n",
    "\n",
    "#EC.presence_of_element_located()  찾는 것이 하나일때\n",
    "#EC.presence_of_all_elements_located()  찾는 것이 여러개 일때\n",
    "wc =  WebDriverWait(driver, 10)\n",
    "more_btn = wc.until(EC.presence_of_all_elements_located([By.CSS_SELECTOR, 'span.taLnk.ulBlueLinks']))   \n",
    "\n",
    "more_btn[0].click() #클릭 동작.\n",
    "\n",
    "time.sleep(0.5) #더보기 클릭후 모든 댓글을 받아올때 까지 기다린다.\n",
    "\n",
    "# BeautifulSoup을 이용해 댓글 가져오기\n",
    "# 전체 페이지 조회\n",
    "# driver.page_source\n",
    "soup = BeautifulSoup(driver.page_source, 'lxml')\n",
    "# 댓글 1개  css: p.partial_entry\n",
    "comment_tag_list = soup.select('p.partial_entry')\n",
    "comment_list = [] #각 댓글을 저장.\n",
    "\n",
    "for tag in comment_tag_list:\n",
    "    comment_list.append(tag.get_text().strip())\n",
    "    \n",
    "print(comment_list)    \n",
    "driver.close()"
   ]
  },
  {
   "cell_type": "code",
   "execution_count": null,
   "metadata": {},
   "outputs": [],
   "source": []
  },
  {
   "cell_type": "markdown",
   "metadata": {},
   "source": [
    "# 댓글 페이지 처리 \n",
    "- 전체 댓글 다 가져오기\n",
    "- 마지막 페이지 번호를 가져온다.\n",
    "\n",
    "## 코드순서\n",
    "1. 현재 페이지의 댓글을 가져온다.\n",
    "2. 다음 버튼을 클릭한다.\n",
    "- 1-2를 반복 \n"
   ]
  },
  {
   "cell_type": "code",
   "execution_count": 37,
   "metadata": {},
   "outputs": [],
   "source": [
    "import time\n",
    "\n",
    "from selenium.webdriver import Chrome\n",
    "from selenium.webdriver import ChromeOptions\n",
    "\n",
    "from selenium.webdriver.common.by import By\n",
    "from selenium.webdriver.support.ui import WebDriverWait\n",
    "from selenium.webdriver.support import expected_conditions as EC\n"
   ]
  },
  {
   "cell_type": "code",
   "execution_count": 46,
   "metadata": {},
   "outputs": [
    {
     "name": "stdout",
     "output_type": "stream",
     "text": [
      "22\n",
      "0 1 2 3 4 5 6 7 8 9 10 11 12 13 14 15 16 더보기 클릭 시도 횟수: 0\n",
      "더보기 클릭 시도 횟수: 1\n",
      "더보기 클릭 시도 횟수: 2\n",
      "17 더보기 클릭 시도 횟수: 0\n",
      "더보기 클릭 시도 횟수: 1\n",
      "더보기 클릭 시도 횟수: 2\n",
      "18 더보기 클릭 시도 횟수: 0\n",
      "더보기 클릭 시도 횟수: 1\n",
      "더보기 클릭 시도 횟수: 2\n",
      "19 더보기 클릭 시도 횟수: 0\n",
      "더보기 클릭 시도 횟수: 1\n",
      "더보기 클릭 시도 횟수: 2\n",
      "20 "
     ]
    }
   ],
   "source": [
    "url = 'https://www.tripadvisor.co.kr/Restaurant_Review-g294197-d3200324-Reviews-or50-Jungsik-Seoul.html'\n",
    "\n",
    "\n",
    "driver = Chrome()\n",
    "driver.get(url)\n",
    "wait = WebDriverWait(driver, 10)\n",
    "#마지막 페이지 번호 - div.pageNumbers > a:last-child\n",
    "a_tag = wait.until(EC.presence_of_element_located([By.CSS_SELECTOR,'div.pageNumbers > a:last-child']))\n",
    "print(a_tag.text)\n",
    "\n",
    "last_page = int(a_tag.text.strip())\n",
    "#댓글들을 저장할 리스트\n",
    "comment_list = []\n",
    "for i in range(last_page-1):\n",
    "    \n",
    "    # 더보기 링크 클릭\n",
    "    attempt = 0\n",
    "    while attempt != 3:  #최대시도횟수\n",
    "        try:\n",
    "            more_btn = wait.until(EC.presence_of_all_elements_located([By.CSS_SELECTOR, 'span.taLnk.ulBlueLinks']))\n",
    "            more_btn[0].click()\n",
    "            break  #클릭을 정상처리한 경우 더 시도 하지 않고 반복문 나온다.\n",
    "        except:\n",
    "            #클릭실패 - 잠시 기다렸다 다시 시도.\n",
    "            time.sleep(0.5)\n",
    "            print(\"더보기 클릭 시도 횟수:\", attempt)\n",
    "            attempt += 1\n",
    "    \n",
    "    # 댓글 조회\n",
    "    time.sleep(1) #댓글 내용이 모두 나오길 기다린다.\n",
    "    comment_tag_list = driver.find_elements_by_css_selector('p.partial_entry')\n",
    "    for tag in comment_tag_list:\n",
    "        comment_list.append(tag.text)  #댓글 텍스트 조회\n",
    "    \n",
    "    # 다음 버튼 클릭 : a.nav.next.taLnk.ui_button.primary\n",
    "    next_btn = driver.find_element_by_css_selector('a.nav.next.taLnk.ui_button.primary')\n",
    "    next_btn.click()\n",
    "    \n",
    "    print(i, end=' ')\n",
    "    time.sleep(1) #다음 페이지로 이동할 때 까지의 기다린다.\n",
    "\n",
    "#for문 종료\n",
    "driver.close()    "
   ]
  },
  {
   "cell_type": "code",
   "execution_count": 47,
   "metadata": {},
   "outputs": [
    {
     "data": {
      "text/plain": [
       "205"
      ]
     },
     "execution_count": 47,
     "metadata": {},
     "output_type": "execute_result"
    }
   ],
   "source": [
    "len(comment_list)"
   ]
  },
  {
   "cell_type": "code",
   "execution_count": 48,
   "metadata": {},
   "outputs": [
    {
     "name": "stdout",
     "output_type": "stream",
     "text": [
      "레스토랑 은 추천 맛집 친구 가 나 에게 새롭 은 한식 레스토랑.\n",
      "\n",
      "나 ㄴ 이곳 에서 점심 시키 는 5 코스 시식 메뉴. 음식 도 맛있 었고 잘 제시, 특히 디저트. 하지만 스테이크 중식 에서 식사 는 기대 하 였던 것 만큼 좋 았습니다, 아마도 그것 은 좀 이상 하 ㄴ 데 가 서 김치 소스.\n",
      "\n",
      "서비스 와 장식 도 최대 표준. 얘기 하 자면, 레스토랑 이 주 는 상당히 어렵 었어요 streed.\n"
     ]
    }
   ],
   "source": [
    "print(comment_list[-1])"
   ]
  },
  {
   "cell_type": "code",
   "execution_count": null,
   "metadata": {},
   "outputs": [],
   "source": []
  },
  {
   "cell_type": "code",
   "execution_count": null,
   "metadata": {},
   "outputs": [],
   "source": []
  },
  {
   "cell_type": "code",
   "execution_count": null,
   "metadata": {},
   "outputs": [],
   "source": []
  }
 ],
 "metadata": {
  "kernelspec": {
   "display_name": "Python 3",
   "language": "python",
   "name": "python3"
  },
  "language_info": {
   "codemirror_mode": {
    "name": "ipython",
    "version": 3
   },
   "file_extension": ".py",
   "mimetype": "text/x-python",
   "name": "python",
   "nbconvert_exporter": "python",
   "pygments_lexer": "ipython3",
   "version": "3.7.3"
  }
 },
 "nbformat": 4,
 "nbformat_minor": 2
}
