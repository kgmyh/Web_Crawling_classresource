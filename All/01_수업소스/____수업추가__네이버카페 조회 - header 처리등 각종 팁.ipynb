{
 "cells": [
  {
   "cell_type": "code",
   "execution_count": 2,
   "metadata": {
    "ExecuteTime": {
     "end_time": "2019-06-27T07:13:20.151747Z",
     "start_time": "2019-06-27T07:13:19.873474Z"
    }
   },
   "outputs": [],
   "source": [
    "import requests"
   ]
  },
  {
   "cell_type": "markdown",
   "metadata": {},
   "source": [
    "# User-agent  가 필요한 사이트\n",
    "- **웹브라우저에서는 접속이 되는데 Python에서는 안되는 경우** User-Agent 항목을 추가한다.\n",
    "- 웹브라우저 User-Agent 검색\n",
    "    - 구글에서 `my user agent` 로 검색"
   ]
  },
  {
   "cell_type": "code",
   "execution_count": 3,
   "metadata": {
    "ExecuteTime": {
     "end_time": "2019-06-27T07:16:33.921982Z",
     "start_time": "2019-06-27T07:16:33.875038Z"
    }
   },
   "outputs": [
    {
     "data": {
      "text/plain": [
       "500"
      ]
     },
     "execution_count": 3,
     "metadata": {},
     "output_type": "execute_result"
    }
   ],
   "source": [
    "url = 'https://onoffmix.com'\n",
    "res = requests.get(url)\n",
    "res.status_code"
   ]
  },
  {
   "cell_type": "code",
   "execution_count": 4,
   "metadata": {
    "ExecuteTime": {
     "end_time": "2019-06-27T07:16:37.271299Z",
     "start_time": "2019-06-27T07:16:37.266337Z"
    }
   },
   "outputs": [
    {
     "data": {
      "text/plain": [
       "'<html>\\r\\n<head><title>500 Internal Server Error</title></head>\\r\\n<body>\\r\\n<center><h1>500 Internal Server Error</h1></center>\\r\\n<hr><center>nginx</center>\\r\\n</body>\\r\\n</html>\\r\\n'"
      ]
     },
     "execution_count": 4,
     "metadata": {},
     "output_type": "execute_result"
    }
   ],
   "source": [
    "res.text"
   ]
  },
  {
   "cell_type": "code",
   "execution_count": 5,
   "metadata": {
    "ExecuteTime": {
     "end_time": "2019-06-27T07:17:41.467387Z",
     "start_time": "2019-06-27T07:17:40.331048Z"
    }
   },
   "outputs": [
    {
     "data": {
      "text/plain": [
       "200"
      ]
     },
     "execution_count": 5,
     "metadata": {},
     "output_type": "execute_result"
    }
   ],
   "source": [
    "ua = 'Mozilla/5.0 (Windows NT 10.0; Win64; x64) AppleWebKit/537.36 (KHTML, like Gecko) Chrome/75.0.3770.100 Safari/537.36'\n",
    "res = requests.get(url, headers={'User-Agent':ua})\n",
    "res.status_code"
   ]
  },
  {
   "cell_type": "code",
   "execution_count": 10,
   "metadata": {
    "ExecuteTime": {
     "end_time": "2019-06-27T07:23:44.410213Z",
     "start_time": "2019-06-27T07:23:44.371316Z"
    }
   },
   "outputs": [
    {
     "name": "stdout",
     "output_type": "stream",
     "text": [
      "<!DOCTYPE html>\n",
      "<html lang=\"ko\">\n",
      " <head>\n",
      "  <meta charset=\"utf-8\"/>\n",
      "  <meta content=\"IE=edge, chrome=1\" http-equiv=\"X-UA-Compatible\"/>\n",
      "  <meta content=\"onoffmix, event, 온오프믹스, 모임, 행사, 번개, 이벤트\" name=\"keywords\"/>\n",
      "  <meta content=\"세상의 모든 모임 '온오프믹스'\" name=\"description\"/>\n",
      "  <meta content=\"ONOFFMIX Inc. (webmaster@onoffmix.com)\" name=\"author\"/>\n",
      "  <meta content=\"width=1280\" name=\"viewport\"/>\n",
      "  <meta content=\"upgrade-insecure-requests\" http-equiv=\"Content-Security-Policy\"/>\n",
      "  <meta content=\"8de35207d20064f3dde9f0b5fef702447d5ba460\" name=\"naver-site-verification\"/>\n",
      "  <title>\n",
      "   온오프믹스 :: 모임문화 플랫폼\n",
      "  </title>\n",
      "  <meta content=\"https://static.onoffmix.com/images/common/onoffmix_logo_og.png\" property=\"og:image\"/>\n",
      "  <!-- favicon -->\n",
      "  <!-- Common -->\n",
      "  <link href=\"https://static.onoffmix.com/images/common/icon/favicon_32x32.png\" rel=\"icon\" sizes=\"32x32\" type=\"image/png\"/>\n",
      "  <link href=\"https://static.onoffmix.com/images/common/icon/favicon_57x57.png\" rel=\"icon\" sizes=\"57x57\" type=\"image/png\"/>\n",
      "  <link \n"
     ]
    }
   ],
   "source": [
    "from bs4 import BeautifulSoup\n",
    "import re\n",
    "\n",
    "# p = re.compile('[\\s\\u200b]+')\n",
    "# txt = p.sub(' ', res.text)\n",
    "# bs = BeautifulSoup(txt, 'lxml')\n",
    "\n",
    "bs = BeautifulSoup(res.text, 'lxml')\n",
    "html_doc = bs.prettify()\n",
    "print(html_doc[:1000])"
   ]
  },
  {
   "cell_type": "markdown",
   "metadata": {},
   "source": [
    "# 한글이 깨지는 경우\n",
    "- 인코딩 처리"
   ]
  },
  {
   "cell_type": "code",
   "execution_count": 11,
   "metadata": {
    "ExecuteTime": {
     "end_time": "2019-06-27T07:37:10.480284Z",
     "start_time": "2019-06-27T07:37:10.432185Z"
    }
   },
   "outputs": [
    {
     "data": {
      "text/plain": [
       "200"
      ]
     },
     "execution_count": 11,
     "metadata": {},
     "output_type": "execute_result"
    }
   ],
   "source": [
    "import requests\n",
    "from bs4 import BeautifulSoup\n",
    "# 대법원 사이트\n",
    "url = 'http://scourt.go.kr/scourt/index.html'\n",
    "res = requests.get(url)\n",
    "res.status_code"
   ]
  },
  {
   "cell_type": "code",
   "execution_count": 12,
   "metadata": {
    "ExecuteTime": {
     "end_time": "2019-06-27T07:37:31.932457Z",
     "start_time": "2019-06-27T07:37:31.905529Z"
    }
   },
   "outputs": [
    {
     "data": {
      "text/plain": [
       "'´ëÇÑ¹Î±¹ ¹ý¿ø'"
      ]
     },
     "execution_count": 12,
     "metadata": {},
     "output_type": "execute_result"
    }
   ],
   "source": [
    "bs = BeautifulSoup(res.text, 'lxml')\n",
    "bs.title.string"
   ]
  },
  {
   "cell_type": "code",
   "execution_count": 13,
   "metadata": {
    "ExecuteTime": {
     "end_time": "2019-06-27T07:38:05.045502Z",
     "start_time": "2019-06-27T07:38:05.040513Z"
    }
   },
   "outputs": [
    {
     "data": {
      "text/plain": [
       "'ISO-8859-1'"
      ]
     },
     "execution_count": 13,
     "metadata": {},
     "output_type": "execute_result"
    }
   ],
   "source": [
    "res.encoding"
   ]
  },
  {
   "cell_type": "markdown",
   "metadata": {},
   "source": [
    "## requests의 인코딩 처리\n",
    "\n",
    "- 인코딩을 자동 인식하나 가끔 부정확\n",
    "    - 대부분 html 문서상 설정이 잘못된 경우가 많다.\n",
    "- 대법원 사이트의 경우 EUC-KR을 ISO-8859-1로 오인식\n",
    "    - 대법원 사이트는 EUC-KR로 만들긴 했는데 잘못만 들어져서 파이썬이 ISO-8859-1로 인식한다. (charset=euc-kr 로 되있는데 음..)\n",
    "- ISO-8859-1은 서유럽 언어(프랑스, 독일등)를 위한 유니코드 이전 국제표준(Latin-1)\n",
    "\n",
    "\n",
    "## 인코딩 바꾸기\n",
    "\n",
    "- 인코딩 값을 바꿔주면 됨\n",
    "- 국내 사이트의 경우 `euc-kr`과 `utf8` 둘 중에 하나이므로 하나씩 시도 (현재는 UTF-8로 설정하는 추세)\n",
    "  - UTF-8: 유니코드라는 국제 표준의 한 형식 (해외 표준)\n",
    "  - EUC-KR: 완성형 국내 표준 (1989년 국내에서 정한 내부 표준)"
   ]
  },
  {
   "cell_type": "code",
   "execution_count": 14,
   "metadata": {
    "ExecuteTime": {
     "end_time": "2019-06-27T07:41:11.886337Z",
     "start_time": "2019-06-27T07:41:11.864397Z"
    }
   },
   "outputs": [
    {
     "data": {
      "text/plain": [
       "'���ѹα� ����'"
      ]
     },
     "execution_count": 14,
     "metadata": {},
     "output_type": "execute_result"
    }
   ],
   "source": [
    "# 인코딩 변경\n",
    "res.encoding = 'UTF-8'\n",
    "bs = BeautifulSoup(res.text, 'lxml')\n",
    "bs.title.string"
   ]
  },
  {
   "cell_type": "code",
   "execution_count": 15,
   "metadata": {
    "ExecuteTime": {
     "end_time": "2019-06-27T07:41:12.697458Z",
     "start_time": "2019-06-27T07:41:12.632632Z"
    }
   },
   "outputs": [
    {
     "data": {
      "text/plain": [
       "'대한민국 법원'"
      ]
     },
     "execution_count": 15,
     "metadata": {},
     "output_type": "execute_result"
    }
   ],
   "source": [
    "res.encoding = 'EUC-KR'\n",
    "bs = BeautifulSoup(res.text, 'lxml')\n",
    "bs.title.string"
   ]
  },
  {
   "cell_type": "code",
   "execution_count": null,
   "metadata": {},
   "outputs": [],
   "source": []
  },
  {
   "cell_type": "code",
   "execution_count": null,
   "metadata": {},
   "outputs": [],
   "source": []
  }
 ],
 "metadata": {
  "kernelspec": {
   "display_name": "Python 3 (ipykernel)",
   "language": "python",
   "name": "python3"
  },
  "language_info": {
   "codemirror_mode": {
    "name": "ipython",
    "version": 3
   },
   "file_extension": ".py",
   "mimetype": "text/x-python",
   "name": "python",
   "nbconvert_exporter": "python",
   "pygments_lexer": "ipython3",
   "version": "3.11.8"
  },
  "toc": {
   "base_numbering": 1,
   "nav_menu": {},
   "number_sections": false,
   "sideBar": false,
   "skip_h1_title": false,
   "title_cell": "Table of Contents",
   "title_sidebar": "Contents",
   "toc_cell": false,
   "toc_position": {},
   "toc_section_display": true,
   "toc_window_display": false
  },
  "varInspector": {
   "cols": {
    "lenName": 16,
    "lenType": 16,
    "lenVar": 40
   },
   "kernels_config": {
    "python": {
     "delete_cmd_postfix": "",
     "delete_cmd_prefix": "del ",
     "library": "var_list.py",
     "varRefreshCmd": "print(var_dic_list())"
    },
    "r": {
     "delete_cmd_postfix": ") ",
     "delete_cmd_prefix": "rm(",
     "library": "var_list.r",
     "varRefreshCmd": "cat(var_dic_list()) "
    }
   },
   "types_to_exclude": [
    "module",
    "function",
    "builtin_function_or_method",
    "instance",
    "_Feature"
   ],
   "window_display": false
  }
 },
 "nbformat": 4,
 "nbformat_minor": 4
}
