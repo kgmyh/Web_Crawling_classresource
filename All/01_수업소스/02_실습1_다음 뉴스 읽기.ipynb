{
 "cells": [
  {
   "cell_type": "code",
   "execution_count": 2,
   "metadata": {
    "ExecuteTime": {
     "end_time": "2020-07-17T12:16:16.493247Z",
     "start_time": "2020-07-17T12:16:16.217987Z"
    }
   },
   "outputs": [],
   "source": [
    "import requests\n",
    "from bs4 import BeautifulSoup"
   ]
  },
  {
   "cell_type": "markdown",
   "metadata": {},
   "source": [
    "## 다음 뉴스 기사 추출\n",
    "- 뉴스 기사하나를 정해 그 기사에서 제목, 작성자, 작성일, 내용 추출\n",
    "- [뉴스링크](https://news.v.daum.net/v/20190731174015689)\n",
    "- tag를 추출할 때는 가장 그 tag를 쉽게 지정할 수 있는 속성을 사용 \n",
    "    - id의 경우 원칙적으로 한 문서내에서는 유일값이다. "
   ]
  },
  {
   "cell_type": "code",
   "execution_count": 3,
   "metadata": {
    "ExecuteTime": {
     "end_time": "2020-07-17T12:16:18.366838Z",
     "start_time": "2020-07-17T12:16:18.118468Z"
    }
   },
   "outputs": [],
   "source": [
    "url = 'https://news.v.daum.net/v/20190731174015689'\n",
    "res = requests.get(url)"
   ]
  },
  {
   "cell_type": "code",
   "execution_count": 4,
   "metadata": {
    "ExecuteTime": {
     "end_time": "2020-07-17T12:16:20.572042Z",
     "start_time": "2020-07-17T12:16:20.541093Z"
    }
   },
   "outputs": [],
   "source": [
    "# BeautifulSoup 생성\n",
    "soup = BeautifulSoup(res.text)"
   ]
  },
  {
   "cell_type": "code",
   "execution_count": 5,
   "metadata": {
    "ExecuteTime": {
     "end_time": "2020-07-17T12:16:38.652024Z",
     "start_time": "2020-07-17T12:16:38.635101Z"
    }
   },
   "outputs": [
    {
     "name": "stdout",
     "output_type": "stream",
     "text": [
      "<h3 class=\"tit_view\" data-translation=\"true\">'생각만으로 소통하는 시대' 저커버그 꿈 실현되나</h3>\n"
     ]
    },
    {
     "data": {
      "text/plain": [
       "\"'생각만으로 소통하는 시대' 저커버그 꿈 실현되나\""
      ]
     },
     "execution_count": 5,
     "metadata": {},
     "output_type": "execute_result"
    }
   ],
   "source": [
    "#제목 가져오기 - 개발자도구로 경로 확인\n",
    "title = soup.find('h3', class_='tit_view')\n",
    "print(title)\n",
    "title_txt = title.get_text()\n",
    "title_txt"
   ]
  },
  {
   "cell_type": "code",
   "execution_count": 6,
   "metadata": {
    "ExecuteTime": {
     "end_time": "2020-07-17T12:16:41.628832Z",
     "start_time": "2020-07-17T12:16:41.620803Z"
    }
   },
   "outputs": [
    {
     "data": {
      "text/plain": [
       "[<span class=\"txt_info\">고재원 기자</span>,\n",
       " <span class=\"txt_info\">입력 <span class=\"num_date\">2019.07.31. 17:40</span></span>]"
      ]
     },
     "execution_count": 6,
     "metadata": {},
     "output_type": "execute_result"
    }
   ],
   "source": [
    "# 기자, 작성일 조회\n",
    "info = soup.find_all('span', class_='txt_info')\n",
    "info"
   ]
  },
  {
   "cell_type": "code",
   "execution_count": 7,
   "metadata": {
    "ExecuteTime": {
     "end_time": "2020-07-17T12:16:42.597234Z",
     "start_time": "2020-07-17T12:16:42.592246Z"
    }
   },
   "outputs": [
    {
     "name": "stdout",
     "output_type": "stream",
     "text": [
      "고재원 기자 입력 2019.07.31. 17:40\n"
     ]
    }
   ],
   "source": [
    "reporter = info[0].get_text();\n",
    "date = info[1].get_text()\n",
    "print(reporter, date)"
   ]
  },
  {
   "cell_type": "code",
   "execution_count": 8,
   "metadata": {
    "ExecuteTime": {
     "end_time": "2020-07-17T12:16:43.344216Z",
     "start_time": "2020-07-17T12:16:43.332246Z"
    }
   },
   "outputs": [
    {
     "name": "stdout",
     "output_type": "stream",
     "text": [
      "\n",
      "\n",
      "사람 뇌와 컴퓨터를 연결해 생각만으로 소통하는 시대를 열겠다는 마크 저커버그 페이스북 최고경영자(CEO)의 꿈이 한층 더 현실로 다가섰다. 페이스북 연구진을 포함한 미국 연구진이 사람의 뇌 활동을 실시간 분석해 생각을 말로 바꾸는 기술을 개발했다. 아직 정확도는 낮은 수준이지만 심각한 뇌 손상을 입어 의사소통이 불가한 환자들에게 도움이 될 것으로 기대를 모은다.\n",
      "\n",
      "에드워드 챙 미국 샌프란시스코 캘리포니아대 약대 교수 연구팀은 문제를 듣고 답하는 것과 관련된 뇌 활동을 해독해낼 수 있는 신경 디코더를 개발하는데 성공했다는 연구결과를 국제학술지 ‘네이처 커뮤니케이션즈’ 30일자에 발표했다. 이번 연구는 페이스북의 연구부서인 ‘리얼리티랩스’와 함께 공동으로 진행했다.\n",
      "\n",
      "근육이 마비되는 루게릭병을 앓았던 세계적 물리학자 스티븐 호킹은 안면 근육 움직임을 이용하는 의사소통 방식을 택했다. 알파벳 하나하나를 안면 근육을 통해 선택해 단어를 만들었다. 만든 단어는 컴퓨터 화면으로 출력됐다. 하지만 이런 방식은 1분에 말할 수 있는 단어가 1~2개로 한정되어 있다는 한계가 존재했다.\n",
      "\n",
      "과학자들은 뇌 활동을 분석해 인간의 대화를 해독하려는 시도를 이어왔다. 뇌의 피질에는 뇌파를 인코딩하고 대화를 진행하는 특정 영역들이 존재하기 때문이다. 저커버크는 지난 2017년 미국 캘리포니아주 새너제이에서 열린 연례 개발자회의에서 “뇌와 연결된 컴퓨터를 통해 생각만으로 소통하는 시대가 머지않아 열릴 것”이라고 밝혔다. 페이스북이 개발을 추진하는 뇌컴퓨터 인터페이스(BCI) 기술은 뇌파를 이용해 간단한 문장을 만드는 기술이다. 미국 전기차업체 테슬라 창업자이자 민간우주기업 스페이스X를 운영하고 있는 엘론 머스크도 2016년 의료연구 회사인 뉴럴링크를 세우고 뇌 기능을 강화하는 초소형 칩 ‘뉴럴 레이스’를 개발하고 있다. 이달 초 머스크 CEO는 뇌와 컴퓨터를 연결하는 인터페이스 개발에 진전이 있다고 밝히기도 했다.\n",
      "\n",
      "연구팀은 의사소통이 불가한 3명의 뇌전증 환자를 대상으로 뇌에 전극을 심었다. 그런 다음 뇌전증 환자들에게 24가지 질문을 제시하고 답을 요구했다. 예를 들어 ‘0~10 중에 좋아하는 숫자’를 제시하고 ‘6’ 이라고 대답하는 환자들의 뇌 활동을 관찰했다. 그런 다음 뇌 활동을 분석해 컴퓨터에 글자를 출력시켰다.\n",
      "\n",
      "연구팀은 컴퓨터가 뇌전증 환자와의 대화를 실시간으로 해독하는데 성공했다. 연구팀은 “뇌 활동 해독 만으로 환자가 들은 질문의 내용이 곧바로 컴퓨터 화면에 출력됐다”며 “질문에 따른 답도 마찬가지로 곧바로 화면에 출력됐다”고 설명했다.\n",
      "\n",
      "하지만 해독 정확도는 낮은 수준에 머무르는 것으로 드러났다. 연구팀은 “환자가 말하는 내용에 대한 해독 정확도는 61%, 듣는 것에 대한 정확도는 76%에 머물렀다”며 “아직 정확도가 낮고 매우 제한적인 단어를 사용하는 등 제약 있지만 향후 연구를 통해 해독 정확도와 그 범위를 넓힐 것”이라고 말했다.\n",
      "\n",
      "챙 교수는 “이번 연구결과가 생각의 증거를 보여준다”며 “인간 뇌를 해킹한다는 우려도 있지만 그게 가능하더라도 나는 그 부분에 관심이 없으며, 대화를 하고 싶지만 신체적 한계로 인해 의사소통이 불가한 사람들을 기술로 돕는게 과학자와 치료자가 가져야할 책임이라 생각한다”고 밝혔다.\n",
      "\n",
      "[고재원 기자 jawon1212@donga.com]\n",
      "\n",
      "\n"
     ]
    }
   ],
   "source": [
    "# 기사내용 조회\n",
    "# 결과에 \\xa0 : &nbsp; 읽은 것. \n",
    "container = soup.find('div', id='harmonyContainer')\n",
    "p_list = container.find_all('p')\n",
    "article = ''\n",
    "for p in p_list:\n",
    "    article += p.get_text().strip()+\"\\n\\n\"\n",
    "\n",
    "article = article.replace('\\xa0', ' ')\n",
    "print(article)\n",
    "with open('news1.txt', 'wt') as f:\n",
    "    f.write(article)"
   ]
  },
  {
   "cell_type": "code",
   "execution_count": 9,
   "metadata": {
    "ExecuteTime": {
     "end_time": "2020-07-17T12:16:49.569682Z",
     "start_time": "2020-07-17T12:16:49.353716Z"
    }
   },
   "outputs": [
    {
     "name": "stdout",
     "output_type": "stream",
     "text": [
      "제목:  '생각만으로 소통하는 시대' 저커버그 꿈 실현되나\n",
      "기자 : 고재원 기자, 작성일: 입력 2019.07.31. 17:40\n",
      "\n",
      "\n",
      "사람 뇌와 컴퓨터를 연결해 생각만으로 소통하는 시대를 열겠다는 마크 저커버그 페이스북 최고경영자(CEO)의 꿈이 한층 더 현실로 다가섰다. 페이스북 연구진을 포함한 미국 연구진이 사람의 뇌 활동을 실시간 분석해 생각을 말로 바꾸는 기술을 개발했다. 아직 정확도는 낮은 수준이지만 심각한 뇌 손상을 입어 의사소통이 불가한 환자들에게 도움이 될 것으로 기대를 모은다.\n",
      "\n",
      "에드워드 챙 미국 샌프란시스코 캘리포니아대 약대 교수 연구팀은 문제를 듣고 답하는 것과 관련된 뇌 활동을 해독해낼 수 있는 신경 디코더를 개발하는데 성공했다는 연구결과를 국제학술지 ‘네이처 커뮤니케이션즈’ 30일자에 발표했다. 이번 연구는 페이스북의 연구부서인 ‘리얼리티랩스’와 함께 공동으로 진행했다.\n",
      "\n",
      "근육이 마비되는 루게릭병을 앓았던 세계적 물리학자 스티븐 호킹은 안면 근육 움직임을 이용하는 의사소통 방식을 택했다. 알파벳 하나하나를 안면 근육을 통해 선택해 단어를 만들었다. 만든 단어는 컴퓨터 화면으로 출력됐다. 하지만 이런 방식은 1분에 말할 수 있는 단어가 1~2개로 한정되어 있다는 한계가 존재했다.\n",
      "\n",
      "과학자들은 뇌 활동을 분석해 인간의 대화를 해독하려는 시도를 이어왔다. 뇌의 피질에는 뇌파를 인코딩하고 대화를 진행하는 특정 영역들이 존재하기 때문이다. 저커버크는 지난 2017년 미국 캘리포니아주 새너제이에서 열린 연례 개발자회의에서 “뇌와 연결된 컴퓨터를 통해 생각만으로 소통하는 시대가 머지않아 열릴 것”이라고 밝혔다. 페이스북이 개발을 추진하는 뇌컴퓨터 인터페이스(BCI) 기술은 뇌파를 이용해 간단한 문장을 만드는 기술이다. 미국 전기차업체 테슬라 창업자이자 민간우주기업 스페이스X를 운영하고 있는 엘론 머스크도 2016년 의료연구 회사인 뉴럴링크를 세우고 뇌 기능을 강화하는 초소형 칩 ‘뉴럴 레이스’를 개발하고 있다. 이달 초 머스크 CEO는 뇌와 컴퓨터를 연결하는 인터페이스 개발에 진전이 있다고 밝히기도 했다.\n",
      "\n",
      "연구팀은 의사소통이 불가한 3명의 뇌전증 환자를 대상으로 뇌에 전극을 심었다. 그런 다음 뇌전증 환자들에게 24가지 질문을 제시하고 답을 요구했다. 예를 들어 ‘0~10 중에 좋아하는 숫자’를 제시하고 ‘6’ 이라고 대답하는 환자들의 뇌 활동을 관찰했다. 그런 다음 뇌 활동을 분석해 컴퓨터에 글자를 출력시켰다.\n",
      "\n",
      "연구팀은 컴퓨터가 뇌전증 환자와의 대화를 실시간으로 해독하는데 성공했다. 연구팀은 “뇌 활동 해독 만으로 환자가 들은 질문의 내용이 곧바로 컴퓨터 화면에 출력됐다”며 “질문에 따른 답도 마찬가지로 곧바로 화면에 출력됐다”고 설명했다.\n",
      "\n",
      "하지만 해독 정확도는 낮은 수준에 머무르는 것으로 드러났다. 연구팀은 “환자가 말하는 내용에 대한 해독 정확도는 61%, 듣는 것에 대한 정확도는 76%에 머물렀다”며 “아직 정확도가 낮고 매우 제한적인 단어를 사용하는 등 제약 있지만 향후 연구를 통해 해독 정확도와 그 범위를 넓힐 것”이라고 말했다.\n",
      "\n",
      "챙 교수는 “이번 연구결과가 생각의 증거를 보여준다”며 “인간 뇌를 해킹한다는 우려도 있지만 그게 가능하더라도 나는 그 부분에 관심이 없으며, 대화를 하고 싶지만 신체적 한계로 인해 의사소통이 불가한 사람들을 기술로 돕는게 과학자와 치료자가 가져야할 책임이라 생각한다”고 밝혔다.\n",
      "\n",
      "[고재원 기자 jawon1212@donga.com]\n",
      "\n",
      "\n"
     ]
    }
   ],
   "source": [
    "# 위의것 한번에\n",
    "import requests\n",
    "from bs4 import BeautifulSoup\n",
    "\n",
    "url = 'https://news.v.daum.net/v/20190731174015689'\n",
    "res = requests.get(url)\n",
    "\n",
    "if res.status_code == 200:\n",
    "    soup = BeautifulSoup(res.text, 'lxml')\n",
    "    \n",
    "    #기사제목 가져오기 - 개발자 도구로 경로 확인. ctr+f로 확인\n",
    "    h3_title = soup.select_one('h3.tit_view')\n",
    "    # print(h3_title)\n",
    "    title = h3_title.get_text()\n",
    "    print('제목: ',title)\n",
    "\n",
    "    #기자, 작성일 조회\n",
    "    span_infos = soup.select('span.txt_info')\n",
    "    reporter = span_infos[0].get_text()\n",
    "    date = span_infos[1].get_text()\n",
    "    print('기자 : {}, 작성일: {}'.format(reporter,date))\n",
    "\n",
    "    #기사내용\n",
    "    # 결과에 \\xa0 : &nbsp; 읽은 것.\n",
    "    div_container = soup.select_one('div#harmonyContainer')\n",
    "    p_list = div_container.select('p')\n",
    "    article = ''\n",
    "    for p in p_list:\n",
    "        article += p.get_text().strip()+\"\\n\\n\"\n",
    "\n",
    "    article = article.replace('\\xa0', ' ')        \n",
    "    print(article)\n",
    "\n",
    "    with open(title+'txt', 'w', encoding='utf-8') as f:\n",
    "        f.write(article)"
   ]
  },
  {
   "cell_type": "markdown",
   "metadata": {},
   "source": [
    "## 다음 뉴스 메인페이지의 열독률 높은 뉴스리스트 조회\n",
    "- select로 조회"
   ]
  },
  {
   "cell_type": "code",
   "execution_count": 10,
   "metadata": {
    "ExecuteTime": {
     "end_time": "2020-07-17T12:17:04.935870Z",
     "start_time": "2020-07-17T12:17:04.931880Z"
    }
   },
   "outputs": [],
   "source": [
    "import requests\n",
    "from bs4 import BeautifulSoup\n",
    "import re"
   ]
  },
  {
   "cell_type": "code",
   "execution_count": 11,
   "metadata": {
    "ExecuteTime": {
     "end_time": "2020-07-17T12:17:06.933012Z",
     "start_time": "2020-07-17T12:17:06.656754Z"
    }
   },
   "outputs": [
    {
     "data": {
      "text/plain": [
       "200"
      ]
     },
     "execution_count": 11,
     "metadata": {},
     "output_type": "execute_result"
    }
   ],
   "source": [
    "url = 'https://media.daum.net/'\n",
    "res = requests.get(url)\n",
    "res.status_code"
   ]
  },
  {
   "cell_type": "code",
   "execution_count": 12,
   "metadata": {
    "ExecuteTime": {
     "end_time": "2020-07-17T12:17:08.484115Z",
     "start_time": "2020-07-17T12:17:08.439204Z"
    }
   },
   "outputs": [
    {
     "name": "stdout",
     "output_type": "stream",
     "text": [
      "['http://v.media.daum.net/v/20200717154224139', 'http://v.media.daum.net/v/20200717175209134', 'http://v.media.daum.net/v/20200717210627575', 'http://v.media.daum.net/v/20200717203114141', 'http://v.media.daum.net/v/20200717165249563']\n",
      "[\"1 위 '성폭행 목사' 아내로부터 걸려온 전화..가정의 고통 시작됐다\", \"2 위 '성폭행 목사' 아내의 전화 한통..피해자 가정 고통 시작됐다(종합)\", '3 위 메릴랜드 주지사 \"트럼프, 한국인 끔찍하다고 말해\"', '4 위 끓는 물 붓고 불로 지지고..\"그들은 악마였다\"', \"5 위 '저항조차 체념' 고문 같은 가혹행위..영혼까지 무너져 내려\"]\n"
     ]
    }
   ],
   "source": [
    "if res.status_code == 200:\n",
    "    soup = BeautifulSoup(res.text)\n",
    "    li_list = soup.select('div.box_peruse > div > ol > li')\n",
    "    # li 들을 목록으로 조회한 뒤 반복문 돌리면서 link 와 내용가져오기\n",
    "    # 내용\n",
    "    title_list = []\n",
    "    # 링크\n",
    "    link_list = []\n",
    "\n",
    "    # 순위 빼는 것 아래 GUIDE 확인\n",
    "    for li in li_list:\n",
    "    #     print(li)\n",
    "        a_tag = li.find('a')\n",
    "        link_list.append(a_tag.get('href'))\n",
    "#         title_list.append(a_tag.get_text().strip())\n",
    "        txt = re.sub('\\s+', ' ', a_tag.get_text().strip())\n",
    "        title_list.append(txt)\n",
    "    print(link_list)\n",
    "    print(title_list)"
   ]
  },
  {
   "cell_type": "code",
   "execution_count": 13,
   "metadata": {
    "ExecuteTime": {
     "end_time": "2020-07-17T12:17:10.457090Z",
     "start_time": "2020-07-17T12:17:10.451128Z"
    }
   },
   "outputs": [
    {
     "name": "stdout",
     "output_type": "stream",
     "text": [
      "[\"1 위 '성폭행 목사' 아내로부터 걸려온 전화..가정의 고통 시작됐다\", \"2 위 '성폭행 목사' 아내의 전화 한통..피해자 가정 고통 시작됐다(종합)\", '3 위 메릴랜드 주지사 \"트럼프, 한국인 끔찍하다고 말해\"', '4 위 끓는 물 붓고 불로 지지고..\"그들은 악마였다\"', \"5 위 '저항조차 체념' 고문 같은 가혹행위..영혼까지 무너져 내려\"]\n",
      "----------\n",
      "['http://v.media.daum.net/v/20200717154224139', 'http://v.media.daum.net/v/20200717175209134', 'http://v.media.daum.net/v/20200717210627575', 'http://v.media.daum.net/v/20200717203114141', 'http://v.media.daum.net/v/20200717165249563']\n"
     ]
    }
   ],
   "source": [
    "print(title_list)\n",
    "print(\"-\"*10)\n",
    "print(link_list)"
   ]
  },
  {
   "cell_type": "code",
   "execution_count": 14,
   "metadata": {
    "ExecuteTime": {
     "end_time": "2020-07-17T12:17:11.584965Z",
     "start_time": "2020-07-17T12:17:11.181012Z"
    }
   },
   "outputs": [],
   "source": [
    "import pandas as pd\n",
    "df = pd.DataFrame({'title':title_list, 'link':link_list})"
   ]
  },
  {
   "cell_type": "code",
   "execution_count": 15,
   "metadata": {
    "ExecuteTime": {
     "end_time": "2020-07-17T12:17:11.932001Z",
     "start_time": "2020-07-17T12:17:11.914050Z"
    }
   },
   "outputs": [
    {
     "data": {
      "text/html": [
       "<div>\n",
       "<style scoped>\n",
       "    .dataframe tbody tr th:only-of-type {\n",
       "        vertical-align: middle;\n",
       "    }\n",
       "\n",
       "    .dataframe tbody tr th {\n",
       "        vertical-align: top;\n",
       "    }\n",
       "\n",
       "    .dataframe thead th {\n",
       "        text-align: right;\n",
       "    }\n",
       "</style>\n",
       "<table border=\"1\" class=\"dataframe\">\n",
       "  <thead>\n",
       "    <tr style=\"text-align: right;\">\n",
       "      <th></th>\n",
       "      <th>title</th>\n",
       "      <th>link</th>\n",
       "    </tr>\n",
       "  </thead>\n",
       "  <tbody>\n",
       "    <tr>\n",
       "      <th>0</th>\n",
       "      <td>1 위 '성폭행 목사' 아내로부터 걸려온 전화..가정의 고통 시작됐다</td>\n",
       "      <td>http://v.media.daum.net/v/20200717154224139</td>\n",
       "    </tr>\n",
       "    <tr>\n",
       "      <th>1</th>\n",
       "      <td>2 위 '성폭행 목사' 아내의 전화 한통..피해자 가정 고통 시작됐다(종합)</td>\n",
       "      <td>http://v.media.daum.net/v/20200717175209134</td>\n",
       "    </tr>\n",
       "    <tr>\n",
       "      <th>2</th>\n",
       "      <td>3 위 메릴랜드 주지사 \"트럼프, 한국인 끔찍하다고 말해\"</td>\n",
       "      <td>http://v.media.daum.net/v/20200717210627575</td>\n",
       "    </tr>\n",
       "    <tr>\n",
       "      <th>3</th>\n",
       "      <td>4 위 끓는 물 붓고 불로 지지고..\"그들은 악마였다\"</td>\n",
       "      <td>http://v.media.daum.net/v/20200717203114141</td>\n",
       "    </tr>\n",
       "    <tr>\n",
       "      <th>4</th>\n",
       "      <td>5 위 '저항조차 체념' 고문 같은 가혹행위..영혼까지 무너져 내려</td>\n",
       "      <td>http://v.media.daum.net/v/20200717165249563</td>\n",
       "    </tr>\n",
       "  </tbody>\n",
       "</table>\n",
       "</div>"
      ],
      "text/plain": [
       "                                        title  \\\n",
       "0      1 위 '성폭행 목사' 아내로부터 걸려온 전화..가정의 고통 시작됐다   \n",
       "1  2 위 '성폭행 목사' 아내의 전화 한통..피해자 가정 고통 시작됐다(종합)   \n",
       "2            3 위 메릴랜드 주지사 \"트럼프, 한국인 끔찍하다고 말해\"   \n",
       "3              4 위 끓는 물 붓고 불로 지지고..\"그들은 악마였다\"   \n",
       "4       5 위 '저항조차 체념' 고문 같은 가혹행위..영혼까지 무너져 내려   \n",
       "\n",
       "                                          link  \n",
       "0  http://v.media.daum.net/v/20200717154224139  \n",
       "1  http://v.media.daum.net/v/20200717175209134  \n",
       "2  http://v.media.daum.net/v/20200717210627575  \n",
       "3  http://v.media.daum.net/v/20200717203114141  \n",
       "4  http://v.media.daum.net/v/20200717165249563  "
      ]
     },
     "execution_count": 15,
     "metadata": {},
     "output_type": "execute_result"
    }
   ],
   "source": [
    "df"
   ]
  },
  {
   "cell_type": "markdown",
   "metadata": {},
   "source": [
    "## TODO  \n",
    "- 위 링크의 뉴스 페이지를 요청하여 뉴스 내용을 스크래핑하여 파일로 저장. "
   ]
  },
  {
   "cell_type": "code",
   "execution_count": 52,
   "metadata": {
    "ExecuteTime": {
     "end_time": "2019-08-08T08:42:54.513051Z",
     "start_time": "2019-08-08T08:42:54.509061Z"
    }
   },
   "outputs": [],
   "source": [
    "import os\n",
    "news_dir = 'news_dir'\n",
    "if not os.path.isdir(news_dir):\n",
    "    os.makedirs(news_dir)"
   ]
  },
  {
   "cell_type": "code",
   "execution_count": 16,
   "metadata": {
    "ExecuteTime": {
     "end_time": "2020-07-17T13:21:11.006890Z",
     "start_time": "2020-07-17T13:21:08.482924Z"
    }
   },
   "outputs": [
    {
     "name": "stdout",
     "output_type": "stream",
     "text": [
      "\n",
      "(전주=연합뉴스) 임채두 기자 = 여성 신도 여러 명을 성폭행·추행한 혐의(강간 등)로 실형을 선고받은 목사의 부인이 피해 사실을 모르는 피해자 남편에게 합의금 문제로 전화를 걸어 '2차 피해'를 유발했다는 주장이 제기됐다.\n",
      "피해자는 남편이 이 사실을 알게 돼 \"가정이 쑥대밭이 됐다\"면서 피해를 호소했다.\n",
      "목사로부터 성추행을 당했다는 A씨는 17일 연합뉴스와 통화에서 \"목사 부인이 남편에게 전화를 걸어 '합의금 3천만원은 너무 많은 것 아니냐'고 따졌다고 한다\"며 \"합의금을 요구한 적도 없는데 왜 갑자기 남편에게 전화를 걸었는지 모르겠다\"고 하소연했다.\n",
      "그러면서 \"목사 부인은 남편이 이 사실을 모른다는 것을 알고 일부러 전화한 것 같다\"며 \"남편이 나를 끔찍이 아끼기 때문에 어떤 일을 저지를지 몰라서 일부러 알리지 않았다. 나의 고통이 가정의 고통으로 옮아가지 않았으면 하는 바람이었는데…\"라고 말을 잇지 못했다.\n",
      "목사 부인이 A씨 남편에게 전화를 건 시점은 지난 15일 오후 4시께.\n",
      "A씨가 귀가하니 남편은 다짜고짜 \"이게 무슨 일이냐\"며 분통을 터뜨렸다고 한다.\n",
      "A씨가 전한 남편과 목사 부인의 통화 내용은 이렇다.\n",
      "목사 부인은 남편에게 \"어떻게 합의금으로 3천만원이나 요구할 수 있느냐. 그 돈 없어도 살지 않느냐\"고 따져 물었다고 한다.\n",
      "영문을 모르던 남편은 \"그 돈 없어도 먹고 사는 데 문제없다. 그런데 무슨 말이냐\"고 되물었다.\n",
      "그러자 목사의 부인은 자초지종을 설명한 것도 모자라 A씨의 성범죄 피해 고백을 깎아내리는 발언을 했다고 한다.\n",
      "목사 부인은 \"A씨가 명절에 목사에게 선물을 주기 위해 교회를 방문했을 때 피해를 봤다고 주장하는데, 그 때마다 남편이 함께 오지 않았느냐. 그 상황에서 어떻게 성범죄를 당할 수 있느냐\"고 말했다고 A씨는 전했다.\n",
      "전후 상황을 알게 된 남편은 이성을 잃고 이를 자신에게 알리지 않은 A씨에게 화를 냈지만, 현재는 그나마 진정한 상태다.\n",
      "A씨는 \"돈을 바라는 것도 아니고 나쁜 짓을 한 목사가 제대로 처벌받기만을 원한다\"며 \"피해를 본 후 기도하면서 많이 울었다. 그런데 이제 남편까지 알게 됐다. 그토록 지키려고 했던 가정의 평화가 이렇게 깨졌다\"고 울먹였다.\n",
      "A씨는 2016년과 2017년 교회에서 수차례 목사에게 성추행을 당한 것으로 알려졌다. \n",
      "더구나 목사는 A씨의 미성년자 자녀에게도 몹쓸 짓을 한 것으로 파악됐다.\n",
      "A씨는 \"교회 성가대 소속인 우리 딸이 평소 잘 따르던 목사를 어느 순간부터 피했다\"라며 \"알고 보니 목사가 신체 여러 곳을 만졌다고 하더라. 우리 딸의 고통이 나의 죽음으로 사라질 수 있다면 그렇게라도 하고 싶은 심정\"이라고 가슴을 쳤다.\n",
      "앞서 목사의 부인은 성범죄 트라우마에 시달리고 있는 피해자를 사전 연락도 없이 불쑥 찾아가서 합의를 요구해 물의를 빚은 바 있다.\n",
      "목사는 교회와 자택, 별장, 승용차 등에서 여성 신도 9명을 상습 성폭행 또는 추행한 혐의로 구속기소 돼 1심에서 징역 8년을 선고받고 복역 중이다.\n",
      "그는 이후 양형 부당을 이유로 항소했다.\n",
      "doo@yna.co.kr\n"
     ]
    },
    {
     "ename": "NameError",
     "evalue": "name 'news_dir' is not defined",
     "output_type": "error",
     "traceback": [
      "\u001b[1;31m---------------------------------------------------------------------------\u001b[0m",
      "\u001b[1;31mNameError\u001b[0m                                 Traceback (most recent call last)",
      "\u001b[1;32m<ipython-input-16-ab04a71662a3>\u001b[0m in \u001b[0;36m<module>\u001b[1;34m\u001b[0m\n\u001b[0;32m     11\u001b[0m \u001b[1;33m\u001b[0m\u001b[0m\n\u001b[0;32m     12\u001b[0m     \u001b[0mp\u001b[0m \u001b[1;33m=\u001b[0m \u001b[0mre\u001b[0m\u001b[1;33m.\u001b[0m\u001b[0mcompile\u001b[0m\u001b[1;33m(\u001b[0m\u001b[1;34mr'(?<=/)\\d+'\u001b[0m\u001b[1;33m)\u001b[0m\u001b[1;33m\u001b[0m\u001b[1;33m\u001b[0m\u001b[0m\n\u001b[1;32m---> 13\u001b[1;33m     \u001b[1;32mwith\u001b[0m \u001b[0mopen\u001b[0m\u001b[1;33m(\u001b[0m\u001b[1;34m'{}/{}.txt'\u001b[0m\u001b[1;33m.\u001b[0m\u001b[0mformat\u001b[0m\u001b[1;33m(\u001b[0m\u001b[0mnews_dir\u001b[0m\u001b[1;33m,\u001b[0m \u001b[0mp\u001b[0m\u001b[1;33m.\u001b[0m\u001b[0msearch\u001b[0m\u001b[1;33m(\u001b[0m\u001b[0mlink\u001b[0m\u001b[1;33m)\u001b[0m\u001b[1;33m.\u001b[0m\u001b[0mgroup\u001b[0m\u001b[1;33m(\u001b[0m\u001b[1;33m)\u001b[0m\u001b[1;33m)\u001b[0m\u001b[1;33m,\u001b[0m \u001b[1;34m'wt'\u001b[0m\u001b[1;33m,\u001b[0m \u001b[0mencoding\u001b[0m\u001b[1;33m=\u001b[0m\u001b[1;34m'UTF-8'\u001b[0m\u001b[1;33m)\u001b[0m \u001b[1;32mas\u001b[0m \u001b[0mf\u001b[0m\u001b[1;33m:\u001b[0m\u001b[1;33m\u001b[0m\u001b[1;33m\u001b[0m\u001b[0m\n\u001b[0m\u001b[0;32m     14\u001b[0m         \u001b[0mf\u001b[0m\u001b[1;33m.\u001b[0m\u001b[0mwrite\u001b[0m\u001b[1;33m(\u001b[0m\u001b[1;34m'\\n'\u001b[0m\u001b[1;33m.\u001b[0m\u001b[0mjoin\u001b[0m\u001b[1;33m(\u001b[0m\u001b[0mtxt\u001b[0m\u001b[1;33m)\u001b[0m\u001b[1;33m)\u001b[0m\u001b[1;33m\u001b[0m\u001b[1;33m\u001b[0m\u001b[0m\n\u001b[0;32m     15\u001b[0m \u001b[1;33m\u001b[0m\u001b[0m\n",
      "\u001b[1;31mNameError\u001b[0m: name 'news_dir' is not defined"
     ]
    }
   ],
   "source": [
    "import re\n",
    "for link in link_list:\n",
    "    res = requests.get(link)\n",
    "    soup = BeautifulSoup(res.text)\n",
    "    p_list = soup.select('#harmonyContainer p')\n",
    "    txt = []\n",
    "    for p in p_list:\n",
    "        txt.append(p.get_text())\n",
    "        print(p.get_text())\n",
    "    #print('\\n'.join(txt))\n",
    "    \n",
    "    p = re.compile(r'(?<=/)\\d+')\n",
    "    with open('{}/{}.txt'.format(news_dir, p.search(link).group()), 'wt', encoding='UTF-8') as f:\n",
    "        f.write('\\n'.join(txt))\n",
    "    "
   ]
  },
  {
   "cell_type": "code",
   "execution_count": null,
   "metadata": {},
   "outputs": [],
   "source": []
  },
  {
   "cell_type": "markdown",
   "metadata": {},
   "source": [
    "### GUIDE : 내용에서 순위 빼고 읽기. \n",
    "- 1위 xxxxxx 에서 1위 빼기. span에 있으므로 span의 next_siblings 로 조회\n",
    "- 구조 : a > span + 내용     \n",
    "    - a 하위의 span을 찾은 뒤 그 형제노드로 조회하면 순위 빼고 조회가능할 듯."
   ]
  },
  {
   "cell_type": "code",
   "execution_count": 41,
   "metadata": {
    "ExecuteTime": {
     "end_time": "2019-07-31T12:44:44.922386Z",
     "start_time": "2019-07-31T12:44:44.918396Z"
    }
   },
   "outputs": [],
   "source": [
    "t = '''<a class=\"link_txt\" href=\"http://v.media.daum.net/v/20190731153226055\">\n",
    "<span class=\"num_news num1\">1 위</span>\n",
    "                        종로출마? 비례대표후보? 엇갈리는 시선 속 황교안 결단은?\n",
    "                    </a>'''\n",
    "sou = BeautifulSoup(t)"
   ]
  },
  {
   "cell_type": "code",
   "execution_count": 54,
   "metadata": {
    "ExecuteTime": {
     "end_time": "2019-07-31T12:51:04.551053Z",
     "start_time": "2019-07-31T12:51:04.546090Z"
    }
   },
   "outputs": [
    {
     "data": {
      "text/plain": [
       "'김인겸 차장 \"강제징용 판결에 반하는 대통령 개입, 옳지않아\"'"
      ]
     },
     "execution_count": 54,
     "metadata": {},
     "output_type": "execute_result"
    }
   ],
   "source": [
    "a_tag = sou.a\n",
    "a.span.next_sibling.strip()"
   ]
  },
  {
   "cell_type": "code",
   "execution_count": null,
   "metadata": {},
   "outputs": [],
   "source": []
  }
 ],
 "metadata": {
  "kernelspec": {
   "display_name": "Python 3",
   "language": "python",
   "name": "python3"
  },
  "language_info": {
   "codemirror_mode": {
    "name": "ipython",
    "version": 3
   },
   "file_extension": ".py",
   "mimetype": "text/x-python",
   "name": "python",
   "nbconvert_exporter": "python",
   "pygments_lexer": "ipython3",
   "version": "3.7.7"
  },
  "toc": {
   "base_numbering": 1,
   "nav_menu": {},
   "number_sections": false,
   "sideBar": false,
   "skip_h1_title": false,
   "title_cell": "Table of Contents",
   "title_sidebar": "Contents",
   "toc_cell": false,
   "toc_position": {},
   "toc_section_display": true,
   "toc_window_display": false
  },
  "varInspector": {
   "cols": {
    "lenName": 16,
    "lenType": 16,
    "lenVar": 40
   },
   "kernels_config": {
    "python": {
     "delete_cmd_postfix": "",
     "delete_cmd_prefix": "del ",
     "library": "var_list.py",
     "varRefreshCmd": "print(var_dic_list())"
    },
    "r": {
     "delete_cmd_postfix": ") ",
     "delete_cmd_prefix": "rm(",
     "library": "var_list.r",
     "varRefreshCmd": "cat(var_dic_list()) "
    }
   },
   "types_to_exclude": [
    "module",
    "function",
    "builtin_function_or_method",
    "instance",
    "_Feature"
   ],
   "window_display": false
  }
 },
 "nbformat": 4,
 "nbformat_minor": 2
}
