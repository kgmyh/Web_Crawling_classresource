{
 "cells": [
  {
   "cell_type": "code",
   "execution_count": 1,
   "metadata": {
    "ExecuteTime": {
     "end_time": "2019-08-02T15:18:11.978532Z",
     "start_time": "2019-08-02T15:17:40.936859Z"
    }
   },
   "outputs": [],
   "source": [
    "import time\n",
    " \n",
    "from selenium import webdriver\n",
    "from selenium.webdriver.common.keys import Keys\n",
    " \n",
    "browser = webdriver.Chrome()\n",
    " \n",
    "browser.get(\"https://youtube.com\")\n",
    "time.sleep(1)\n",
    " \n",
    " \n",
    "elem = browser.find_element_by_tag_name(\"body\")\n",
    " \n",
    "no_of_pagedowns = 100\n",
    " \n",
    "while no_of_pagedowns:\n",
    "    elem.send_keys(Keys.PAGE_DOWN) # 키보드의 page_down\n",
    "    time.sleep(0.2)\n",
    "    no_of_pagedowns-=1\n",
    " \n",
    "provider_elems = browser.find_elements_by_class_name(\"className\")\n",
    " \n",
    " \n",
    "for post in provider_elems:\n",
    "    print(post.text)"
   ]
  },
  {
   "cell_type": "code",
   "execution_count": null,
   "metadata": {},
   "outputs": [],
   "source": []
  }
 ],
 "metadata": {
  "kernelspec": {
   "display_name": "Python 3",
   "language": "python",
   "name": "python3"
  },
  "language_info": {
   "codemirror_mode": {
    "name": "ipython",
    "version": 3
   },
   "file_extension": ".py",
   "mimetype": "text/x-python",
   "name": "python",
   "nbconvert_exporter": "python",
   "pygments_lexer": "ipython3",
   "version": "3.7.3"
  },
  "toc": {
   "base_numbering": 1,
   "nav_menu": {},
   "number_sections": false,
   "sideBar": false,
   "skip_h1_title": false,
   "title_cell": "Table of Contents",
   "title_sidebar": "Contents",
   "toc_cell": false,
   "toc_position": {},
   "toc_section_display": true,
   "toc_window_display": false
  },
  "varInspector": {
   "cols": {
    "lenName": 16,
    "lenType": 16,
    "lenVar": 40
   },
   "kernels_config": {
    "python": {
     "delete_cmd_postfix": "",
     "delete_cmd_prefix": "del ",
     "library": "var_list.py",
     "varRefreshCmd": "print(var_dic_list())"
    },
    "r": {
     "delete_cmd_postfix": ") ",
     "delete_cmd_prefix": "rm(",
     "library": "var_list.r",
     "varRefreshCmd": "cat(var_dic_list()) "
    }
   },
   "types_to_exclude": [
    "module",
    "function",
    "builtin_function_or_method",
    "instance",
    "_Feature"
   ],
   "window_display": false
  }
 },
 "nbformat": 4,
 "nbformat_minor": 2
}
