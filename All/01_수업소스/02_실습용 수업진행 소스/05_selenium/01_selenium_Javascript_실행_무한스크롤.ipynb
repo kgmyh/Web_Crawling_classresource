{
 "cells": [
  {
   "cell_type": "code",
   "execution_count": 2,
   "metadata": {
    "ExecuteTime": {
     "end_time": "2020-07-23T14:23:48.742947Z",
     "start_time": "2020-07-23T14:23:42.032582Z"
    }
   },
   "outputs": [],
   "source": [
    "from selenium.webdriver import Chrome\n",
    "\n",
    "driver = Chrome()\n",
    "url = 'http://www.youtube.com'\n",
    "driver.get(url)"
   ]
  },
  {
   "cell_type": "code",
   "execution_count": 3,
   "metadata": {
    "ExecuteTime": {
     "end_time": "2020-07-23T14:24:14.156372Z",
     "start_time": "2020-07-23T14:24:14.083570Z"
    }
   },
   "outputs": [
    {
     "name": "stdout",
     "output_type": "stream",
     "text": [
      "YouTube\n",
      "3638\n",
      "2963.199951171875\n"
     ]
    }
   ],
   "source": [
    "driver.execute_script('window.scrollTo(0,10000)')\n",
    "a = driver.execute_script('return document.title')\n",
    "height = driver.execute_script('return document.documentElement.scrollHeight')\n",
    "top = driver.execute_script('return document.documentElement.scrollTop')\n",
    "print(a)\n",
    "print(height)\n",
    "print(top)"
   ]
  },
  {
   "cell_type": "markdown",
   "metadata": {},
   "source": [
    "### 무한스크롤\n",
    "- scrollTo(x, y) : 상하는 y값만 좌우는 x값만 설정\n",
    "- 아래코드는 `document.documentElement.scrollHeight` 스크롤 높이 반환 그러니까 스크롤의 높이 밑이 스크롤 상단으로 이동하는 꼴. 그래서 스크롤이 내려간다."
   ]
  },
  {
   "cell_type": "code",
   "execution_count": 6,
   "metadata": {
    "ExecuteTime": {
     "end_time": "2020-07-23T14:28:21.654759Z",
     "start_time": "2020-07-23T14:28:20.636473Z"
    }
   },
   "outputs": [
    {
     "name": "stdout",
     "output_type": "stream",
     "text": [
      "10065\n",
      "0\n"
     ]
    }
   ],
   "source": [
    "import time\n",
    "# import random\n",
    "SCROLL_PAUSE_TIME = 1\n",
    "last_height = driver.execute_script('return document.documentElement.scrollHeight')\n",
    "print(last_height)\n",
    "while True:\n",
    "#     print(driver.execute_script('return document.documentElement.scrollHeight'))\n",
    "#     driver.execute_script('window.scrollTo(0, document.documentElement.scrollHeight)')\n",
    "    driver.execute_script('window.scrollTo(0, document.documentElement.scrollHeight)')\n",
    "    time.sleep(SCROLL_PAUSE_TIME)\n",
    "    new_height = driver.execute_script('return document.documentElement.scrollHeight')\n",
    "    print(new_height - last_height)\n",
    "    if last_height == new_height:\n",
    "        break\n",
    "    last_height = new_height\n",
    "# print(last_height)    "
   ]
  },
  {
   "cell_type": "code",
   "execution_count": 9,
   "metadata": {
    "ExecuteTime": {
     "end_time": "2020-07-23T14:46:13.217359Z",
     "start_time": "2020-07-23T14:45:56.177945Z"
    }
   },
   "outputs": [
    {
     "name": "stdout",
     "output_type": "stream",
     "text": [
      "3658\n",
      "6066\n",
      "8452\n",
      "10838\n",
      "13223\n",
      "15626\n",
      "18058\n",
      "20502\n",
      "22941\n",
      "23197\n",
      "23197\n"
     ]
    }
   ],
   "source": [
    "from selenium.webdriver import Chrome\n",
    "import time\n",
    "\n",
    "url = \"https://www.youtube.com/?gl=KR&hl=ko\"\n",
    "driver = Chrome()\n",
    "driver.get(url)\n",
    "\n",
    "### 무한스크롤\n",
    "#  execute_script(\"자바스크립트 코드\") : 자바스크립트 코드. JS 코드에서 return 하는 값을 매개변수로 받을 수 있다.\n",
    "# Javascript 함수\n",
    "#  - scrollTo(x, y) : 스크롤바의 위치를 이동시킨다. 상하는 y값만 좌우는 x값만 설정\n",
    "#  - document.documentElement.scrollHeight: 스크롤패인의 높이를 반환. documentElement 대신 body를 하기도 한다. (크롬은 안됨)\n",
    "\n",
    "# 현재 스크롤 높이 저장 변수\n",
    "\n",
    "scrollpane_height = driver.execute_script('return document.documentElement.scrollHeight') # 이동 전 스크롤패인의 높이\n",
    "print(scrollpane_height)\n",
    "while True:\n",
    "    # 스크롤의  스크롤패인의 높이만큼 이동시킨다. (내려간다)\n",
    "    driver.execute_script('window.scrollTo(0, document.documentElement.scrollHeight)')\n",
    "    # 내려가는 동안 약간의 간격을 줘 기다리게 한다.\n",
    "    time.sleep(1)\n",
    "    new_scrollpane_heigh = driver.execute_script('return document.documentElement.scrollHeight') # 이동후 현재 스크롤패인의 높이\n",
    "    print(new_scrollpane_heigh)\n",
    "    if scrollpane_height == new_scrollpane_heigh:\n",
    "        # 스크롤바의 이동이 없었던 것이므로 반복문을 빠져나온다.\n",
    "        break\n",
    "    scrollpane_height = new_scrollpane_heigh\n",
    "    \n",
    " "
   ]
  },
  {
   "cell_type": "markdown",
   "metadata": {},
   "source": [
    "### 제목 링크 가져오기"
   ]
  },
  {
   "cell_type": "code",
   "execution_count": 17,
   "metadata": {
    "ExecuteTime": {
     "end_time": "2020-07-23T14:49:42.982852Z",
     "start_time": "2020-07-23T14:49:41.483833Z"
    }
   },
   "outputs": [],
   "source": [
    "from bs4 import BeautifulSoup\n",
    "from urllib import parse\n",
    "soup = BeautifulSoup(driver.page_source, 'lxml')\n",
    "content_list = soup.select('div#contents div#content a#video-title-link')\n",
    "len(content_list)\n",
    "title = []\n",
    "link = []\n",
    "for content in content_list:\n",
    "#     print(content.text)\n",
    "    title.append(content.text)\n",
    "    link.append(parse.urljoin('https://www.youtube.com/',content.get('href')))\n",
    "    "
   ]
  },
  {
   "cell_type": "code",
   "execution_count": 18,
   "metadata": {
    "ExecuteTime": {
     "end_time": "2020-07-23T14:49:45.396365Z",
     "start_time": "2020-07-23T14:49:45.391379Z"
    }
   },
   "outputs": [
    {
     "data": {
      "text/plain": [
       "['🔥[No.1 채널 멜론둥이의 멜론차트]🔥 2020년 7월 23일 4주차🔥KPOP Chart🔥 최신 인기가요 노래 모음!!🔥🔥',\n",
       " 'Infinite Challenge, Waikiki Brothers(3) #05, 와이키키 브라더스(3) 20130406',\n",
       " '얼음 속 잉어를 노리는 고양이']"
      ]
     },
     "execution_count": 18,
     "metadata": {},
     "output_type": "execute_result"
    }
   ],
   "source": [
    "title[:3]"
   ]
  },
  {
   "cell_type": "code",
   "execution_count": 21,
   "metadata": {
    "ExecuteTime": {
     "end_time": "2020-07-23T14:49:57.257632Z",
     "start_time": "2020-07-23T14:49:57.252645Z"
    }
   },
   "outputs": [
    {
     "name": "stdout",
     "output_type": "stream",
     "text": [
      "https://www.youtube.com/watch?v=m5XO1k28J5A\n"
     ]
    }
   ],
   "source": [
    "print(link[0])"
   ]
  },
  {
   "cell_type": "code",
   "execution_count": null,
   "metadata": {},
   "outputs": [],
   "source": []
  }
 ],
 "metadata": {
  "kernelspec": {
   "display_name": "Python 3",
   "language": "python",
   "name": "python3"
  },
  "language_info": {
   "codemirror_mode": {
    "name": "ipython",
    "version": 3
   },
   "file_extension": ".py",
   "mimetype": "text/x-python",
   "name": "python",
   "nbconvert_exporter": "python",
   "pygments_lexer": "ipython3",
   "version": "3.7.6"
  }
 },
 "nbformat": 4,
 "nbformat_minor": 2
}
