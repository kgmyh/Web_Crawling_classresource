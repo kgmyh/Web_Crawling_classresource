{
 "cells": [
  {
   "cell_type": "code",
   "execution_count": 12,
   "metadata": {},
   "outputs": [],
   "source": [
    "from selenium import webdriver\n",
    "\n",
    "driver = webdriver.Chrome('chromedriver')"
   ]
  },
  {
   "cell_type": "code",
   "execution_count": 13,
   "metadata": {},
   "outputs": [],
   "source": [
    "url = 'https://www.naver.com/'\n",
    "driver.get(url)"
   ]
  },
  {
   "cell_type": "code",
   "execution_count": 14,
   "metadata": {},
   "outputs": [
    {
     "data": {
      "text/plain": [
       "<selenium.webdriver.remote.webelement.WebElement (session=\"829fc819ccf1415f486a44332b2e2802\", element=\"0.5882731298230504-1\")>"
      ]
     },
     "execution_count": 14,
     "metadata": {},
     "output_type": "execute_result"
    }
   ],
   "source": [
    "## //*[@id=\"account\"]/div/a/i\n",
    "selected_xpath = driver.find_element_by_xpath('//*[@id=\"account\"]/div/a/i')\n",
    "selected_xpath"
   ]
  },
  {
   "cell_type": "code",
   "execution_count": 15,
   "metadata": {},
   "outputs": [],
   "source": [
    "selected_xpath.click()"
   ]
  },
  {
   "cell_type": "code",
   "execution_count": 16,
   "metadata": {},
   "outputs": [],
   "source": [
    "id1 = \"inkservice2\"\n",
    "pwd = \"toto1234\"\n",
    "\n",
    "# //*[@id=\"id\"]\n",
    "# //*[@id=\"pw\"]\n",
    "# //*[@id=\"frmNIDLogin\"]/fieldset/input\n",
    "selected_id_xpath = driver.find_element_by_xpath('//*[@id=\"id\"]')\n",
    "selected_pwd_xpath = driver.find_element_by_xpath('//*[@id=\"pw\"]')\n",
    "selected_login = driver.find_element_by_xpath('//*[@id=\"frmNIDLogin\"]/fieldset/input')"
   ]
  },
  {
   "cell_type": "code",
   "execution_count": 17,
   "metadata": {},
   "outputs": [],
   "source": [
    "import time"
   ]
  },
  {
   "cell_type": "code",
   "execution_count": 18,
   "metadata": {},
   "outputs": [],
   "source": [
    "# id1 = \"inkservice2\"\n",
    "# pwd = \"toto1234\"\n",
    "for i in id1:    #네이버의 봇로그인 차단을 피하기 위해서 아이디와 패스워드를 천천히 넣어주는 방법을 사용한다.\n",
    "    \n",
    "    #여기서 고려한 방법이 문자열은 글자 하나하나를 반복문에서 돌려준다.\n",
    "    #그러니까 inkservice를 아이디로 입력할때 알파벳 한자 한자 치는 시간을 1초간격으로 넣어준다.\n",
    "    time.sleep(1)  #1초 쉰다.이렇게 아이디를 다 넣을때까지 반복문으로 돌린다.\n",
    "    \n",
    "    selected_id_xpath.send_keys(i)\n",
    "for i in pwd:\n",
    "    time.sleep(1)\n",
    "    selected_pwd_xpath.send_keys(i)\n",
    "selected_login.click()"
   ]
  },
  {
   "cell_type": "code",
   "execution_count": 10,
   "metadata": {},
   "outputs": [],
   "source": [
    "selected_id_xpath.send_keys(id1)\n",
    "selected_pwd_xpath.send_keys(pwd)\n",
    "selected_login.click()"
   ]
  },
  {
   "cell_type": "code",
   "execution_count": null,
   "metadata": {},
   "outputs": [],
   "source": []
  }
 ],
 "metadata": {
  "kernelspec": {
   "display_name": "Python 3",
   "language": "python",
   "name": "python3"
  },
  "language_info": {
   "codemirror_mode": {
    "name": "ipython",
    "version": 3
   },
   "file_extension": ".py",
   "mimetype": "text/x-python",
   "name": "python",
   "nbconvert_exporter": "python",
   "pygments_lexer": "ipython3",
   "version": "3.7.6"
  }
 },
 "nbformat": 4,
 "nbformat_minor": 2
}
