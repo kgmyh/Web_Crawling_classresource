{
 "cells": [
  {
   "cell_type": "markdown",
   "metadata": {},
   "source": [
    "수업때 vs code말고 이걸로 함"
   ]
  },
  {
   "cell_type": "markdown",
   "metadata": {},
   "source": [
    "# 한페이지의 댓글 가져오기\n",
    "- 크롬브라우저 띄우기\n",
    "- 식당 페이지로 이동\n",
    "- 댓글 더보기 버튼 클릭\n",
    "- 댓글 가져오기\n",
    "- 브라우저 종료"
   ]
  },
  {
   "cell_type": "code",
   "execution_count": 6,
   "metadata": {
    "ExecuteTime": {
     "end_time": "2023-03-21T09:27:42.974368Z",
     "start_time": "2023-03-21T09:27:42.958753Z"
    }
   },
   "outputs": [],
   "source": [
    "from selenium import webdriver\n",
    "from selenium.webdriver.common.by import By\n",
    "from webdriver_manager.chrome import ChromeDriverManager\n",
    "from selenium.webdriver.chrome.service import Service\n",
    "from bs4 import BeautifulSoup\n",
    "import time"
   ]
  },
  {
   "cell_type": "code",
   "execution_count": 7,
   "metadata": {
    "ExecuteTime": {
     "end_time": "2023-03-21T09:27:49.528784Z",
     "start_time": "2023-03-21T09:27:43.454981Z"
    }
   },
   "outputs": [
    {
     "name": "stdout",
     "output_type": "stream",
     "text": [
      "{'width': 1051, 'height': 806}\n",
      "더 보기\n",
      "['들어가는 순간부터 서비스는 나를 편안하게 해주었다. 요리에 대한 부가 설명이 끝까지 명확하고 간결하게 이루어 졌으며, 나의 분자요리에 대한 안좋은 인식을 깨 주었다.', '아기자기한 플레이팅이 돋보이고 돌하루방 아이스크림 등 창의력인 디저트도 선보이는 곳입니다. 한번쯤 가볼만한 곳으로, 화이트 무드의 레스토랑 분위기는 여자분들이 충분히 좋아할 법 합니다~', '부모님 결혼기념일에 다녀온 정식당항상 사람이 많은 곳이라 3주전 미리 예약을 하고 다녀왔습니다.뉴욕에선 미슐랭 2스타를 받은 쉐프가 하는 곳이라 더욱 신뢰가 갔습니다.가보니 맛도 좋았고 서비스도 최고였습니다.기념일이라고하니 사진과같이 소소한 이벤트도 해주고 좋은 추억이 되었습니다.', '교수들이 학위심사턱으로 주로 간다는 정식당. 여기도 여지 없이 김영란법 적용으로 조만간 문 닫을 수도 있을것 같다는. 꽤 고급스런 음식 프리젠테이션때문인지, 대접받는다는 느낌이 들었다. 퓨전 음식이라, 비교대상이 없어서 맛있다 말하긴 좀 거시기하다. 다만, 맛없진 않았다. 새로운 형식의, 모양의, 스타일의 한식이었다고나 할까. 이곳은 절대 맛으로 가는 곳은 아니다. 상대에게 대접했다는 느낌을 줘야만 하는 상황이 아니라면 굳이 내 돈 주고 날 위해 갈것 같지 않다.', '방대한 와인리스트 (다 있는지는 모르겠으나)직원들의 서비스 질도 나쁘지 않고..플레이팅과 맛도 정갈합니다만......두번째가니 모든 느낌이 절반으로 줄어드는 곳이군요.', '8월초 토요일에 런치메뉴를 먹었습니다. 주말은 예약이 늘 차있어서 약 3주전에 예약해야 갈 수 있었어요. 총 5가지 코스가 나왔고 평소 싱겁게 먹는편도 아닌데 간이 짜다는 느낌이 상당했네요. (4코스,5코스 중 선택할 수 있습니다.)서비스는 딱딱하고 건조했어요. 정말 안좋았던 기억은, 마지막 디저트였던 파이를 포크로 가르는 순간 엄청 긴 머리카락이 나왔습니다. 일행이 파이를 시켰고 저는 돌하르방 아이스크림을 선택했는데 만약 제 아이스크림에서 그런것이 나왔다고 생각하면... 엄청 화가 났을겁니다.컴플레인은 아니고 그냥 조용히 말씀 드렸는데 죄송하다고 다시 만들어드리겠다고 그 한마디로 모든 상황이 종료 되더군요.뉴욕에서는 2스타 미슐랭이라고 들었는데 서울의 정식당은 아닌것 같네요. 그런 일이 있었는데도 디저트에 대한 모든 비용이 청구된건 저로썬 이해가 되지 않습니다. 그리고 결제할때 그 부분에 대한 언급이 단한번도 없었다는게 저는 놀라울 따름이에요... 그냥 작은 이물질이었다면 말도 안하죠. 레스토랑 입장에서도 다떠나서, 참 부끄러운 일이지 않을까요. 마지막 디저트 건을 떠나서 둘이 런치 5코스를 먹고 총 24만원이 나왔는데(투뿔등심과 랍스터를 선택해서 추가요금이 발생한 부분은 있어요) 과연 그 값어치가 있나 몇번이나 생각해봤지만 개인적으로 저는 전혀 아닌것 같아요. 참고로 일행과 먹은 메뉴가 전부 같았으나 딱 하나 다른건 성게비빔밥이었는데 그날 배탈이 심하게 낫네요... 물론 그것 때문이라고 장담할수는 없지만 더운 여름철 충분히 의심은 갈만 했습니다. 주방 바로 앞에 위치했던 저희 2인석 테이블은 자리가 너무나 비좁았고 가방을 놓을 곳 하나 챙겨주는 배려 또한 없었습니다.', '와인 페어링으로 저녁 메뉴를 4명이 즐겼습니다.와인 페어링은 잔으로 음식에 맞추어서 서빙이 되는데 좋았습니다.다만 남자 소믈리에 분이 조금 기계적이라할까 서빙에 즐거움이 없으시더군요.그리고 음식 하나 하나와 페어링은 했었겠지만 코스를 먹으면서 페어링을 했을까?하는 의구심이 들었습니다. 손님에게 즐거움을 주지 못하면 무슨 소용이 있을까요.음식은 훌륭하고 창의적입니다. 다만 메뉴의 큰 변화가 없어서 많이 방문을 하여도1년에 2번정도 밖에 방문하지는 않을 듯 합니다.플로워 서비스 메니저님은 관록이 있으시고 매우 세련된 서브를 하셨고 부메니저로 보이는 여자분도 서브는 나쁘지 않았지만 아르바이트로 보이는 분의 서빙은 아쉬움이 컸습니다. 그래도 한국 서울에 이런 레스토랑이 있다는게 어디인가 싶은 생각이 듭니다. 조금 더 직원 교육을 통해서 세련된 다이닝 레스토랑이 되었으면 합니다.', '한식이지만 한식같지 않은...코스요리로 빵부터 후식까지 제공됨. 가격대는 좀 있지만 만족스러운 맛과 서비스로 상쇄가능. 식당도 한적하고 공간을 넓게 써서 느긋하게 식사하기에 안성맞춤. 도산공원 근처임.', '뉴욕에서 미슐랭 2스타를 받은 정식당그 한국 본점을 방문했음한식 재료로 다양한 식감을 살린 것이 새로웠으며메인에서는 식자재는 한국에서도 자주 사용하는 재료들을 가니쉬로 활용했지만메인 재료는 전통적인 양식 조리 방식을 따라서새로움과 안정을 함께 한 접시에 담았음미슐랭 스타급 레스토랑을 많이 가보지는 못했지만추천할 만한 곳임다만 시즌별로 바뀌는 메뉴의 폭이 크지 않아여러번 방문할 만한 것인가는 의문이 있음', '한식과 웨스턴의 경계를 허문것인지 불분명한 것인지 딱 집어말하기는 어렵지만한식에 근접한 새로운 해석을 통한 미각에 즐거움을 주는한번쯤 가볼만한!']\n"
     ]
    }
   ],
   "source": [
    "url = 'https://www.tripadvisor.co.kr/Restaurant_Review-g294197-d3200324-Reviews-or50-Jungsik-Seoul.html'\n",
    "\n",
    "#driver 생성 - 웹브라우저 실행\n",
    "service = Service(executable_path=ChromeDriverManager().install())\n",
    "driver = webdriver.Chrome(service=service)\n",
    "driver.implicitly_wait(5)\n",
    "# 브라우저 크기 지정\n",
    "print(driver.get_window_size())\n",
    "# driver.set_window_size(width=1920, height=1080)\n",
    "driver.maximize_window()\n",
    "#이동\n",
    "driver.get(url)\n",
    "# 더보기 버튼을 찾아서 클릭\n",
    "# <span class='taLnk  ulBlueLinks'> 클래스를 두개 설정. (공백이 구분자임.)\n",
    "more_btn = driver.find_elements(By.CSS_SELECTOR, 'span.taLnk.ulBlueLinks')\n",
    "print(more_btn[0].text)\n",
    "\n",
    "# 더보기 링크가 활성화(클릭가능상태) 될때까지 기다린다. \n",
    "time.sleep(1)\n",
    "more_btn[0].click() #클릭 동작.\n",
    "\n",
    "time.sleep(0.5) #더보기 클릭후 모든 댓글을 받아올때 까지 기다린다.\n",
    "\n",
    "# BeautifulSoup을 이용해 댓글 가져오기\n",
    "# 전체 페이지 조회\n",
    "# driver.page_source\n",
    "soup = BeautifulSoup(driver.page_source, 'lxml')\n",
    "# 댓글 1개  css: p.partial_entry\n",
    "comment_tag_list = soup.select('p.partial_entry')\n",
    "comment_list = [] #각 댓글을 저장.\n",
    "\n",
    "for tag in comment_tag_list:\n",
    "    comment_list.append(tag.get_text().strip())\n",
    "    \n",
    "print(comment_list)    \n",
    "driver.close()"
   ]
  },
  {
   "cell_type": "code",
   "execution_count": 12,
   "metadata": {
    "collapsed": true
   },
   "outputs": [
    {
     "data": {
      "text/plain": [
       "'8월초 토요일에 런치메뉴를 먹었습니다. 주말은 예약이 늘 차있어서 약 3주전에 예약해야 갈 수 있었어요. 총 5가지 코스가 나왔고 평소 싱겁게 먹는편도 아닌데 간이 짜다는 느낌이 상당했네요. (4코스,5코스 중 선택할 수 있습니다.)서비스는 딱딱하고 건조했어요. 정말 안좋았던 기억은, 마지막 디저트였던 파이를 포크로 가르는 순간 엄청 긴 머리카락이 나왔습니다. 일행이 파이를 시켰고 저는 돌하르방 아이스크림을 선택했는데 만약 제 아이스크림에서 그런것이 나왔다고 생각하면... 엄청 화가 났을겁니다.컴플레인은 아니고 그냥 조용히 말씀 드렸는데 죄송하다고 다시 만들어드리겠다고 그 한마디로 모든 상황이 종료 되더군요.뉴욕에서는 2스타 미슐랭이라고 들었는데 서울의 정식당은 아닌것 같네요. 그런 일이 있었는데도 디저트에 대한 모든 비용이 청구된건 저로썬 이해가 되지 않습니다. 그리고 결제할때 그 부분에 대한 언급이 단한번도 없었다는게 저는 놀라울 따름이에요... 그냥 작은 이물질이었다면 말도 안하죠. 레스토랑 입장에서도 다떠나서, 참 부끄러운 일이지 않을까요. 마지막 디저트 건을 떠나서 둘이 런치 5코스를 먹고 총 24만원이 나왔는데(투뿔등심과 랍스터를 선택해서 추가요금이 발생한 부분은 있어요) 과연 그 값어치가 있나 몇번이나 생각해봤지만 개인적으로 저는 전혀 아닌것 같아요. 참고로 일행과 먹은 메뉴가 전부 같았으나 딱 하나 다른건 성게비빔밥이었는데 그날 배탈이 심하게 낫네요... 물론 그것 때문이라고 장담할수는 없지만 더운 여름철 충분히 의심은 갈만 했습니다. 주방 바로 앞에 위치했던 저희 2인석 테이블은 자리가 너무나 비좁았고 가방을 놓을 곳 하나 챙겨주는 배려 또한 없었습니다.'"
      ]
     },
     "execution_count": 12,
     "metadata": {},
     "output_type": "execute_result"
    }
   ],
   "source": [
    "comment_list[0]"
   ]
  },
  {
   "cell_type": "code",
   "execution_count": 13,
   "metadata": {},
   "outputs": [
    {
     "data": {
      "text/plain": [
       "10"
      ]
     },
     "execution_count": 13,
     "metadata": {},
     "output_type": "execute_result"
    }
   ],
   "source": [
    "len(comment_list)"
   ]
  },
  {
   "cell_type": "code",
   "execution_count": null,
   "metadata": {},
   "outputs": [],
   "source": []
  },
  {
   "cell_type": "code",
   "execution_count": null,
   "metadata": {},
   "outputs": [],
   "source": []
  },
  {
   "cell_type": "code",
   "execution_count": null,
   "metadata": {},
   "outputs": [],
   "source": []
  },
  {
   "cell_type": "markdown",
   "metadata": {},
   "source": [
    "# 댓글 페이지 처리 \n",
    "- 전체 댓글 다 가져오기\n",
    "- 마지막 페이지 번호를 가져온다.\n",
    "\n",
    "## 코드순서\n",
    "- 한페이지의 댓글을 읽은 뒤(1. 더보기 버튼 클릭, 2. 댓글 저장) 다음 버튼을 클릭해서 페이지 이동.\n",
    "- 마지막 페이지에서는 다음 버튼이 disabled 되어 click() 시 Exception 발생\n",
    "    - Exception 발생하면 크롤링을 멈춘다."
   ]
  },
  {
   "cell_type": "markdown",
   "metadata": {},
   "source": [
    "## 페이징"
   ]
  },
  {
   "cell_type": "code",
   "execution_count": 11,
   "metadata": {
    "ExecuteTime": {
     "end_time": "2023-03-21T09:33:34.890176Z",
     "start_time": "2023-03-21T09:32:51.887266Z"
    }
   },
   "outputs": [
    {
     "name": "stdout",
     "output_type": "stream",
     "text": [
      "1 2 3 4 5 6 7 8 9 10 11 12 13 14 15 16 17 종료 while\n"
     ]
    }
   ],
   "source": [
    "import time\n",
    "from selenium import webdriver\n",
    "from webdriver_manager.chrome import ChromeDriverManager\n",
    "from selenium.webdriver.chrome.service import Service\n",
    "from selenium.webdriver import ChromeOptions\n",
    "\n",
    "from selenium.webdriver.common.by import By\n",
    "from selenium.webdriver.support.ui import WebDriverWait\n",
    "from selenium.webdriver.support import expected_conditions as EC\n",
    "url = 'https://www.tripadvisor.co.kr/Restaurant_Review-g294197-d3200324-Reviews-or50-Jungsik-Seoul.html'\n",
    "\n",
    "service = Service(executable_path=ChromeDriverManager().install())\n",
    "driver = webdriver.Chrome(service=service)\n",
    "driver.implicitly_wait(5)\n",
    "driver.get(url)\n",
    "# wait = WebDriverWait(driver, 10)\n",
    "i = 0\n",
    "comment_list = []\n",
    "while True:\n",
    "    i+=1\n",
    "    print(i, end=' ')\n",
    "    # 더보기 링크 클릭\n",
    "\n",
    "    more_btn = WebDriverWait(driver, 10).until(EC.presence_of_all_elements_located([By.CSS_SELECTOR, 'span.taLnk.ulBlueLinks']))\n",
    "    more_btn[0].click()\n",
    "    # 댓글 조회\n",
    "    time.sleep(1) #댓글 내용이 모두 나오길 기다린다.\n",
    "    # 이미 있던 거라서 WebDriverWait()가 의미없다. 이건 그냥 시간 줘서 기다려야 한다.\n",
    "    comment_tag_list = driver.find_elements(By.CSS_SELECTOR, 'p.partial_entry')\n",
    "    for tag in comment_tag_list:\n",
    "        comment_list.append(tag.text)  #댓글 텍스트 조회\n",
    "    \n",
    "    # 다음 버튼 클릭 : a.nav.next.taLnk.ui_button.primary\n",
    "    try:\n",
    "        # 이것도 버튼은 이미 있는 상태이므로 WebDriverWait() 안 써도 된다.\n",
    "        next_btn = driver.find_element(By.CSS_SELECTOR, 'a.nav.next.ui_button')\n",
    "        # 마지막 버튼은 disabled  상태여서 클릭이 안되서 ElementClickInterceptedException 발생한다.\n",
    "        next_btn.click()\n",
    "    except:\n",
    "        print('종료 while')\n",
    "        break\n",
    "    \n",
    "    time.sleep(1) #다음 페이지로 이동할 때 까지의 기다린다."
   ]
  },
  {
   "cell_type": "markdown",
   "metadata": {},
   "source": [
    "```python\n",
    "# 더보기버튼 클릭 - 여러번 요청처리 코드\n",
    "    attempt = 0\n",
    "    while attempt != 3:  #최대시도횟수\n",
    "        try:\n",
    "            more_btn = wait.until(EC.presence_of_all_elements_located([By.CSS_SELECTOR, 'span.taLnk.ulBlueLinks']))\n",
    "             more_btn[0].click()\n",
    "             break  #클릭을 정상처리한 경우 더 시도 하지 않고 반복문 나온다.\n",
    "         except:\n",
    "             #클릭실패 - 잠시 기다렸다 다시 시도.\n",
    "             time.sleep(0.5)\n",
    "             print(\"더보기 클릭 시도 횟수:\", attempt)\n",
    "             attempt += 1\n",
    "```"
   ]
  },
  {
   "cell_type": "markdown",
   "metadata": {},
   "source": [
    "### 클릭 처리 함수로 만듬"
   ]
  },
  {
   "cell_type": "code",
   "execution_count": 1,
   "metadata": {},
   "outputs": [],
   "source": [
    "import time\n",
    "from selenium.webdriver import Chrome\n",
    "from selenium.webdriver import ChromeOptions\n",
    "\n",
    "from selenium.webdriver.common.by import By\n",
    "from selenium.webdriver.support.ui import WebDriverWait\n",
    "from selenium.webdriver.support import expected_conditions as EC"
   ]
  },
  {
   "cell_type": "code",
   "execution_count": 7,
   "metadata": {},
   "outputs": [],
   "source": [
    "def retryMoreBtnClick(driver, selector, max_try=3):\n",
    "    \"\"\"\n",
    "    더보기 버튼 클릭 (이건 여러개이므로 find_elements_xx로 조회)\n",
    "    예외 - 클릭 실패하면 Exception발생\n",
    "    \"\"\"\n",
    "    attempt = 0\n",
    "    wait = WebDriverWait(driver, 10)\n",
    "    while attempt < max_try:\n",
    "        try:\n",
    "            tags = wait.until(EC.presence_of_all_elements_located([By.CSS_SELECTOR, selector]))\n",
    "            tags[0].click()\n",
    "            return #클릭성공하면 return\n",
    "        except Exception as e:\n",
    "            time.sleep(1)\n",
    "            print('retryMoreBtnClick: 재시도횟수 - %d' % attempt)\n",
    "            print(e)\n",
    "            attempt+=1\n",
    "            \n",
    "    #여기까지 왔단건 실패한 것이므로 예외발생\n",
    "    raise Exception(\"클릭하지 못했습니다.\")"
   ]
  },
  {
   "cell_type": "code",
   "execution_count": 14,
   "metadata": {},
   "outputs": [],
   "source": [
    "def retryNextBtnClick(driver, selector, max_try=3):\n",
    "    \"\"\"\n",
    "    다음 버튼 클릭 (이건 여러개이므로 find_element_xx로 조회)\n",
    "    예외 - 클릭 실패하면 Exception발생\n",
    "    \"\"\"\n",
    "    attempt = 0\n",
    "    while attempt < max_try:\n",
    "        try:\n",
    "            tag = wait.until(EC.presence_of_element_located([By.CSS_SELECTOR, selector]))\n",
    "            tag.click()\n",
    "            return\n",
    "        except Exception as e:\n",
    "            time.sleep(1)\n",
    "            print('retryNextBtnClick: 재시도횟수 - %d' % attempt)\n",
    "            print(e)\n",
    "            attempt+=1\n",
    "    \n",
    "    raise Exception(\"클릭하지 못했습니다.\")"
   ]
  },
  {
   "cell_type": "code",
   "execution_count": 15,
   "metadata": {},
   "outputs": [
    {
     "name": "stdout",
     "output_type": "stream",
     "text": [
      "22\n",
      "0 1 2 3 4 5 6 7 8 9 10 11 12 13 14 15 16 retryMoreBtnClick: 재시도횟수 - 0\n",
      "Message: element click intercepted: Element <span class=\"taLnk ulBlueLinks\" onclick=\"widgetEvCall('handlers.clickCollapse',event,this);\">...</span> is not clickable at point (168, 8). Other element would receive the click: <a class=\"ui_tab active\" data-tab-name=\"...\">리뷰</a>\n",
      "  (Session info: chrome=78.0.3904.97)\n",
      "\n",
      "retryMoreBtnClick: 재시도횟수 - 1\n",
      "Message: element click intercepted: Element <span class=\"taLnk ulBlueLinks\" onclick=\"widgetEvCall('handlers.clickCollapse',event,this);\">...</span> is not clickable at point (168, 8). Other element would receive the click: <a class=\"ui_tab active\" data-tab-name=\"...\">리뷰</a>\n",
      "  (Session info: chrome=78.0.3904.97)\n",
      "\n",
      "retryMoreBtnClick: 재시도횟수 - 2\n",
      "Message: element click intercepted: Element <span class=\"taLnk ulBlueLinks\" onclick=\"widgetEvCall('handlers.clickCollapse',event,this);\">...</span> is not clickable at point (168, 8). Other element would receive the click: <a class=\"ui_tab active\" data-tab-name=\"...\">리뷰</a>\n",
      "  (Session info: chrome=78.0.3904.97)\n",
      "\n",
      "retryMoreBtnClick: 재시도횟수 - 3\n",
      "Message: element click intercepted: Element <span class=\"taLnk ulBlueLinks\" onclick=\"widgetEvCall('handlers.clickCollapse',event,this);\">...</span> is not clickable at point (168, 8). Other element would receive the click: <a class=\"ui_tab active\" data-tab-name=\"...\">리뷰</a>\n",
      "  (Session info: chrome=78.0.3904.97)\n",
      "\n",
      "retryMoreBtnClick: 재시도횟수 - 4\n",
      "Message: element click intercepted: Element <span class=\"taLnk ulBlueLinks\" onclick=\"widgetEvCall('handlers.clickCollapse',event,this);\">...</span> is not clickable at point (168, 8). Other element would receive the click: <a class=\"ui_tab active\" data-tab-name=\"...\">리뷰</a>\n",
      "  (Session info: chrome=78.0.3904.97)\n",
      "\n"
     ]
    },
    {
     "ename": "Exception",
     "evalue": "클릭하지 못했습니다.",
     "output_type": "error",
     "traceback": [
      "\u001b[1;31m---------------------------------------------------------------------------\u001b[0m",
      "\u001b[1;31mException\u001b[0m                                 Traceback (most recent call last)",
      "\u001b[1;32m<ipython-input-15-9238a090a3c9>\u001b[0m in \u001b[0;36m<module>\u001b[1;34m\u001b[0m\n\u001b[0;32m     38\u001b[0m         \u001b[0mtime\u001b[0m\u001b[1;33m.\u001b[0m\u001b[0msleep\u001b[0m\u001b[1;33m(\u001b[0m\u001b[1;36m1\u001b[0m\u001b[1;33m)\u001b[0m \u001b[1;31m#다음 페이지로 이동할 때 까지의 기다린다.\u001b[0m\u001b[1;33m\u001b[0m\u001b[1;33m\u001b[0m\u001b[0m\n\u001b[0;32m     39\u001b[0m     \u001b[1;32mexcept\u001b[0m \u001b[0mException\u001b[0m \u001b[1;32mas\u001b[0m \u001b[0me\u001b[0m\u001b[1;33m:\u001b[0m\u001b[1;33m\u001b[0m\u001b[1;33m\u001b[0m\u001b[0m\n\u001b[1;32m---> 40\u001b[1;33m         \u001b[1;32mraise\u001b[0m \u001b[0me\u001b[0m\u001b[1;33m\u001b[0m\u001b[1;33m\u001b[0m\u001b[0m\n\u001b[0m\u001b[0;32m     41\u001b[0m \u001b[1;31m#         continue\u001b[0m\u001b[1;33m\u001b[0m\u001b[1;33m\u001b[0m\u001b[1;33m\u001b[0m\u001b[0m\n\u001b[0;32m     42\u001b[0m \u001b[1;33m\u001b[0m\u001b[0m\n",
      "\u001b[1;32m<ipython-input-15-9238a090a3c9>\u001b[0m in \u001b[0;36m<module>\u001b[1;34m\u001b[0m\n\u001b[0;32m     24\u001b[0m     \u001b[1;31m# 더보기 링크 클릭\u001b[0m\u001b[1;33m\u001b[0m\u001b[1;33m\u001b[0m\u001b[1;33m\u001b[0m\u001b[0m\n\u001b[0;32m     25\u001b[0m     \u001b[1;32mtry\u001b[0m\u001b[1;33m:\u001b[0m\u001b[1;33m\u001b[0m\u001b[1;33m\u001b[0m\u001b[0m\n\u001b[1;32m---> 26\u001b[1;33m         \u001b[0mretryMoreBtnClick\u001b[0m\u001b[1;33m(\u001b[0m\u001b[0mdriver\u001b[0m\u001b[1;33m,\u001b[0m \u001b[1;34m'span.taLnk.ulBlueLinks'\u001b[0m\u001b[1;33m,\u001b[0m \u001b[1;36m5\u001b[0m\u001b[1;33m)\u001b[0m\u001b[1;33m\u001b[0m\u001b[1;33m\u001b[0m\u001b[0m\n\u001b[0m\u001b[0;32m     27\u001b[0m \u001b[1;33m\u001b[0m\u001b[0m\n\u001b[0;32m     28\u001b[0m         \u001b[1;31m# 댓글 조회\u001b[0m\u001b[1;33m\u001b[0m\u001b[1;33m\u001b[0m\u001b[1;33m\u001b[0m\u001b[0m\n",
      "\u001b[1;32m<ipython-input-7-57279651a28d>\u001b[0m in \u001b[0;36mretryMoreBtnClick\u001b[1;34m(driver, selector, max_try)\u001b[0m\n\u001b[0;32m     18\u001b[0m \u001b[1;33m\u001b[0m\u001b[0m\n\u001b[0;32m     19\u001b[0m     \u001b[1;31m#여기까지 왔단건 실패한 것이므로 예외발생\u001b[0m\u001b[1;33m\u001b[0m\u001b[1;33m\u001b[0m\u001b[1;33m\u001b[0m\u001b[0m\n\u001b[1;32m---> 20\u001b[1;33m     \u001b[1;32mraise\u001b[0m \u001b[0mException\u001b[0m\u001b[1;33m(\u001b[0m\u001b[1;34m\"클릭하지 못했습니다.\"\u001b[0m\u001b[1;33m)\u001b[0m\u001b[1;33m\u001b[0m\u001b[1;33m\u001b[0m\u001b[0m\n\u001b[0m",
      "\u001b[1;31mException\u001b[0m: 클릭하지 못했습니다."
     ]
    }
   ],
   "source": [
    "url = 'https://www.tripadvisor.co.kr/Restaurant_Review-g294197-d3200324-Reviews-or50-Jungsik-Seoul.html'\n",
    "\n",
    "\n",
    "driver = Chrome()\n",
    "\n",
    "# options = ChromeOptions()\n",
    "# options.add_argument('headless')\n",
    "# #화면사이즈 변경\n",
    "# options.add_argument('window-size=1920x1080')\n",
    "# driver = Chrome(options=options)\n",
    "\n",
    "\n",
    "driver.get(url)\n",
    "wait = WebDriverWait(driver, 10)\n",
    "#마지막 페이지 번호 - div.pageNumbers > a:last-child\n",
    "a_tag = wait.until(EC.presence_of_element_located([By.CSS_SELECTOR,'div.pageNumbers > a:last-child']))\n",
    "print(a_tag.text)\n",
    "\n",
    "last_page = int(a_tag.text.strip())\n",
    "#댓글들을 저장할 리스트\n",
    "comment_list = []\n",
    "for i in range(last_page-1):\n",
    "    \n",
    "    # 더보기 링크 클릭\n",
    "    try:\n",
    "        retryMoreBtnClick(driver, 'span.taLnk.ulBlueLinks', 5)\n",
    "\n",
    "        # 댓글 조회\n",
    "        time.sleep(1) #댓글 내용이 모두 나오길 기다린다.\n",
    "        comment_tag_list = driver.find_elements_by_css_selector('p.partial_entry')\n",
    "        for tag in comment_tag_list:\n",
    "            comment_list.append(tag.text)  #댓글 텍스트 조회\n",
    "\n",
    "        # 다음 버튼 클릭 : a.nav.next.taLnk.ui_button.primary\n",
    "        retryNextBtnClick(driver,'a.nav.next.taLnk.ui_button.primary', 5)\n",
    "\n",
    "        print(i, end=' ')\n",
    "        time.sleep(1) #다음 페이지로 이동할 때 까지의 기다린다.\n",
    "    except Exception as e:\n",
    "        raise e\n",
    "#         continue\n",
    "        \n",
    "#for문 종료\n",
    "driver.close()    "
   ]
  },
  {
   "cell_type": "code",
   "execution_count": null,
   "metadata": {},
   "outputs": [],
   "source": []
  },
  {
   "cell_type": "code",
   "execution_count": null,
   "metadata": {},
   "outputs": [],
   "source": []
  }
 ],
 "metadata": {
  "kernelspec": {
   "display_name": "Python 3 (ipykernel)",
   "language": "python",
   "name": "python3"
  },
  "language_info": {
   "codemirror_mode": {
    "name": "ipython",
    "version": 3
   },
   "file_extension": ".py",
   "mimetype": "text/x-python",
   "name": "python",
   "nbconvert_exporter": "python",
   "pygments_lexer": "ipython3",
   "version": "3.9.13"
  },
  "varInspector": {
   "cols": {
    "lenName": 16,
    "lenType": 16,
    "lenVar": 40
   },
   "kernels_config": {
    "python": {
     "delete_cmd_postfix": "",
     "delete_cmd_prefix": "del ",
     "library": "var_list.py",
     "varRefreshCmd": "print(var_dic_list())"
    },
    "r": {
     "delete_cmd_postfix": ") ",
     "delete_cmd_prefix": "rm(",
     "library": "var_list.r",
     "varRefreshCmd": "cat(var_dic_list()) "
    }
   },
   "types_to_exclude": [
    "module",
    "function",
    "builtin_function_or_method",
    "instance",
    "_Feature"
   ],
   "window_display": false
  }
 },
 "nbformat": 4,
 "nbformat_minor": 2
}
