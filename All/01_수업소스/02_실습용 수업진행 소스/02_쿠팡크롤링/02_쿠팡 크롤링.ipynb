{
 "cells": [
  {
   "cell_type": "markdown",
   "metadata": {},
   "source": [
    "### 크롤링 내용\n",
    "- 상품명\n",
    "- 가격\n",
    "- 링크"
   ]
  },
  {
   "cell_type": "code",
   "execution_count": 1,
   "metadata": {},
   "outputs": [
    {
     "name": "stdout",
     "output_type": "stream",
     "text": [
      "이름 홍길동, 나이 20\n"
     ]
    }
   ],
   "source": [
    "# test = '이름 {name}, 나이 {age}'.format(name='홍길동', age=20)\n",
    "# print(test)"
   ]
  },
  {
   "cell_type": "markdown",
   "metadata": {},
   "source": [
    "# 쿠팡 특징\n",
    "- 조회시 listSize=36 일 경우 27페이지 까지 보여진다. (어떤 상품을 조회해도 페이지는 계속 27페이지이다.)\n",
    "    - listSize=72 로 하면 13페이지 \n",
    "- 그래서 listSize를 크게하면 ex)100 하면 10 페이정도 나온다.\n",
    "- GET 방식 요청이다.\n",
    "- User Agent 설정해야 한다.\n",
    "     - 안넣으면 OSError(\"(10060, 'WSAETIMEDOUT')\" 에러. (해결: https://stackoverflow.com/questions/46862719/pythons-requests-library-timing-out-but-getting-the-response-from-the-browser)"
   ]
  },
  {
   "cell_type": "markdown",
   "metadata": {},
   "source": [
    "# 1페이지 조회\n",
    "\n",
    "- selector\n",
    "    - base: ul#productList li\n",
    "    - 제품명 : div.name : text\n",
    "    - 상세링크: a :href속성\n",
    "    - 판매가: strong.price-value : text"
   ]
  },
  {
   "cell_type": "code",
   "execution_count": null,
   "metadata": {},
   "outputs": [],
   "source": []
  },
  {
   "cell_type": "code",
   "execution_count": 6,
   "metadata": {
    "ExecuteTime": {
     "end_time": "2020-07-23T12:15:54.926979Z",
     "start_time": "2020-07-23T12:15:50.289418Z"
    }
   },
   "outputs": [
    {
     "name": "stdout",
     "output_type": "stream",
     "text": [
      "검색키워드를 입력하시오: 노트북\n",
      "200\n"
     ]
    }
   ],
   "source": [
    "import requests\n",
    "from bs4 import BeautifulSoup\n",
    "from urllib import parse\n",
    "\n",
    "#검색키워드 : keyworkd, 페이지 번호: pagenum\n",
    "base_url = 'https://www.coupang.com/np/search?q={keyword}&page={pagenum}' \n",
    "\n",
    "link_list = []\n",
    "item_name_list = []\n",
    "price_list = []\n",
    "\n",
    "keyword = input('검색키워드를 입력하시오: ')\n",
    "url = base_url.format(keyword=keyword, pagenum=1)\n",
    "\n",
    "headers = {'User-Agent': 'Mozilla/5.0 (Windows NT 10.0; Win64; x64) AppleWebKit/537.36 (KHTML, like Gecko) Chrome/84.0.4147.89 Safari/537.36'}\n",
    "res = requests.get(url, headers=headers)\n",
    "# print(res.status_code)\n",
    "if res.status_code==200:\n",
    "    soup = BeautifulSoup(res.text, 'html.parser')\n",
    "#   item box li\n",
    "    item_li_list = soup.select('ul#productList > li.search-product')\n",
    "    error_cnt = 0 #크롤링 못한 item개수 저장\n",
    "    for item in item_li_list:\n",
    "        #중고의 경우 값이 제목에 붙은 경우가 있다. 이 때 NoneType이라고 Exception 발생. 이것은 대상에서 뺀다.\n",
    "        try:\n",
    "            item_name = item.select_one('div.name').text\n",
    "            link = parse.urljoin(base_url, item.select_one('a').get('href'))\n",
    "            price = item.select_one('strong.price-value').text\n",
    "            price = ''.join(price.split(','))  # 단위구분자 , 제거\n",
    "            link_list.append(link)\n",
    "            item_name_list.append(item_name)\n",
    "            price_list.append(price)\n",
    "        except Exception as e:\n",
    "            error_cnt += 1 #크롤링 못한 item개수 1 증가\n",
    "            print(e)\n",
    "            \n",
    "        "
   ]
  },
  {
   "cell_type": "code",
   "execution_count": 5,
   "metadata": {
    "ExecuteTime": {
     "end_time": "2020-07-22T14:39:21.136611Z",
     "start_time": "2020-07-22T14:39:21.131625Z"
    }
   },
   "outputs": [
    {
     "data": {
      "text/plain": [
       "36"
      ]
     },
     "execution_count": 5,
     "metadata": {},
     "output_type": "execute_result"
    }
   ],
   "source": [
    "len(link_list)"
   ]
  },
  {
   "cell_type": "code",
   "execution_count": 6,
   "metadata": {
    "ExecuteTime": {
     "end_time": "2020-07-22T14:39:41.447260Z",
     "start_time": "2020-07-22T14:39:40.933043Z"
    }
   },
   "outputs": [
    {
     "name": "stdout",
     "output_type": "stream",
     "text": [
      "<class 'pandas.core.frame.DataFrame'>\n",
      "RangeIndex: 36 entries, 0 to 35\n",
      "Data columns (total 3 columns):\n",
      " #   Column  Non-Null Count  Dtype \n",
      "---  ------  --------------  ----- \n",
      " 0   링크      36 non-null     object\n",
      " 1   상품명     36 non-null     object\n",
      " 2   가격      36 non-null     object\n",
      "dtypes: object(3)\n",
      "memory usage: 992.0+ bytes\n"
     ]
    }
   ],
   "source": [
    "import pandas as pd\n",
    "df = pd.DataFrame({'링크':link_list, '상품명':item_name_list, '가격':price_list})\n",
    "df.info()"
   ]
  },
  {
   "cell_type": "code",
   "execution_count": 7,
   "metadata": {
    "ExecuteTime": {
     "end_time": "2020-07-22T14:39:43.677957Z",
     "start_time": "2020-07-22T14:39:43.664016Z"
    }
   },
   "outputs": [
    {
     "data": {
      "text/html": [
       "<div>\n",
       "<style scoped>\n",
       "    .dataframe tbody tr th:only-of-type {\n",
       "        vertical-align: middle;\n",
       "    }\n",
       "\n",
       "    .dataframe tbody tr th {\n",
       "        vertical-align: top;\n",
       "    }\n",
       "\n",
       "    .dataframe thead th {\n",
       "        text-align: right;\n",
       "    }\n",
       "</style>\n",
       "<table border=\"1\" class=\"dataframe\">\n",
       "  <thead>\n",
       "    <tr style=\"text-align: right;\">\n",
       "      <th></th>\n",
       "      <th>링크</th>\n",
       "      <th>상품명</th>\n",
       "      <th>가격</th>\n",
       "    </tr>\n",
       "  </thead>\n",
       "  <tbody>\n",
       "    <tr>\n",
       "      <th>0</th>\n",
       "      <td>/vp/products/1486166393?itemId=2552167861&amp;vend...</td>\n",
       "      <td>삼성전자 노트북 PEN S NT950SBE-K58M (i5-8265U 38.1cm)...</td>\n",
       "      <td>1551170</td>\n",
       "    </tr>\n",
       "    <tr>\n",
       "      <th>1</th>\n",
       "      <td>/vp/products/1149803634?itemId=2123503405&amp;vend...</td>\n",
       "      <td>LG전자 울트라 PC 노트북 14U390-EE1TK 화이트 (인텔 셀러론 N4100...</td>\n",
       "      <td>449000</td>\n",
       "    </tr>\n",
       "    <tr>\n",
       "      <th>2</th>\n",
       "      <td>/vp/products/1348981530?itemId=2376867898&amp;vend...</td>\n",
       "      <td>아이뮤즈 노트북 STORMBOOK (N3350 35.8cm WIN10 Graphic...</td>\n",
       "      <td>264620</td>\n",
       "    </tr>\n",
       "    <tr>\n",
       "      <th>3</th>\n",
       "      <td>/vp/products/1676672325?itemId=2856499922&amp;vend...</td>\n",
       "      <td>레노버 노트북 V14-ARE 82DQ003AKR (R5-4500U 35.56cm W...</td>\n",
       "      <td>459000</td>\n",
       "    </tr>\n",
       "    <tr>\n",
       "      <th>4</th>\n",
       "      <td>/vp/products/1825899405?itemId=3106699714&amp;vend...</td>\n",
       "      <td>삼성 갤럭시 이온 NT950XCJ-X716A 아우라실버 (i7-10510U/16G/...</td>\n",
       "      <td>2231000</td>\n",
       "    </tr>\n",
       "  </tbody>\n",
       "</table>\n",
       "</div>"
      ],
      "text/plain": [
       "                                                  링크  \\\n",
       "0  /vp/products/1486166393?itemId=2552167861&vend...   \n",
       "1  /vp/products/1149803634?itemId=2123503405&vend...   \n",
       "2  /vp/products/1348981530?itemId=2376867898&vend...   \n",
       "3  /vp/products/1676672325?itemId=2856499922&vend...   \n",
       "4  /vp/products/1825899405?itemId=3106699714&vend...   \n",
       "\n",
       "                                                 상품명       가격  \n",
       "0  삼성전자 노트북 PEN S NT950SBE-K58M (i5-8265U 38.1cm)...  1551170  \n",
       "1  LG전자 울트라 PC 노트북 14U390-EE1TK 화이트 (인텔 셀러론 N4100...   449000  \n",
       "2  아이뮤즈 노트북 STORMBOOK (N3350 35.8cm WIN10 Graphic...   264620  \n",
       "3  레노버 노트북 V14-ARE 82DQ003AKR (R5-4500U 35.56cm W...   459000  \n",
       "4  삼성 갤럭시 이온 NT950XCJ-X716A 아우라실버 (i7-10510U/16G/...  2231000  "
      ]
     },
     "execution_count": 7,
     "metadata": {},
     "output_type": "execute_result"
    }
   ],
   "source": [
    "df.head()"
   ]
  },
  {
   "cell_type": "markdown",
   "metadata": {},
   "source": [
    "# 페이징을 통해 검색 item 읽기\n",
    "- 검색하면 맨 아래 pagination에 마지막 페이지 번호가 나온다. 이것부터 크롤링\n",
    "    - div.search-pagination > a.btn-last\n",
    "- 그리고 페이지 단위로 크롤링 한다.    "
   ]
  },
  {
   "cell_type": "code",
   "execution_count": 23,
   "metadata": {
    "ExecuteTime": {
     "end_time": "2020-07-23T12:44:23.572995Z",
     "start_time": "2020-07-23T12:43:57.219501Z"
    },
    "scrolled": true
   },
   "outputs": [
    {
     "name": "stdout",
     "output_type": "stream",
     "text": [
      "검색어를 입력하세요:노트북\n",
      "https://www.coupang.com/np/search?q=노트북&page=1&listSize=72\n",
      "총 페이지수 : 13\n",
      "6 72 미사용 리퍼 Razer Blade Stealth 노트북 13.3 FHD MX150, 단일상품, 단일상품\n",
      "6 72 LG그램 14Z960 i5 4G 256G 14인치 중고노트북, win7\n",
      "7 72 마이크로소프트 서피스 랩탑 i7 8G 256G 버건디 당일배송, SERJKQ-00036\n",
      "7 72 DELL 프리시전 15 5520/i7-7820HQ/쿼드로 M1200M/FHD IPS/16GB/512GB PCIe SSD/정품윈도우/3년, 단일상품, 단일상품, 단일상품\n",
      "7 72 DELL 래티튜드 5300/i5-8365U/인텔 그래픽/HD 디스플레이/8GB/128GB PCIe SSD/정품윈도우/3년무상AS, 단일상품, 단일상품, 단일상품\n",
      "7 72 [예약판매] DELL 에일리언웨어 M15 R2 i7-9750H RTX2060 FHD 240Hz 16GB 512GBSSD WIN10Hom, 단일상품, 단일상품, 단일상품\n",
      "7 72 [예약판매] DELL 인스피론 15 7590 i5-9300H GTX1650 FHD 8GB 1TB SSD WIN10Home 지문인식 1년, 단일상품, 단일상품, 단일상품\n",
      "7 72 [예약판매] DELL 에일리언웨어 Area 51M i7-9700K RTX2080 FHD 144Hz 16GB 듀얼512GBSSD WIN1, 단일상품, 단일상품, 단일상품\n",
      "7 72 DELL 래티튜드 5300 2in1/i5-8365U/인텔 그래픽/FHD 터치/16GB/512GB PCIe SSD/60WHR 배터리/정품, 단일상품, 단일상품, 단일상품\n",
      "7 72 DELL 래티튜드 7390/i5-8250U/인텔 그래픽/FHD 터치/8GB/256GB PCIe SSD/정품윈도우/지문인식/3년무상AS, 단일상품, 단일상품, 단일상품\n",
      "7 72 DELL 인스피론 15 7570 실버/i7-8550U/MX130/FHD IPS/8GB/512GB PCIe SSD/정품윈도우/1년무상AS, 단일상품, 단일상품, 단일상품\n",
      "7 72 [예약판매] DELL 에일리언웨어 Area 51M i7-9700K RTX2080 FHD 144Hz 16GB 듀얼512GBSSD WIN1, 단일상품, 단일상품, 단일상품\n",
      "7 72 [예약판매] DELL G5 15 5500 i5-10300H GTX1650Ti 8GB 512GB SSD WIN10Home 지문인식 1년무, 단일상품, 단일상품, 단일상품\n",
      "7 72 [예약판매] DELL XPS 13 9300 i5-1035G1 인텔그래픽 4K UHD 터치스크린 8GB 512GB SSD WIN10Hom, 단일상품, 단일상품, 단일상품\n",
      "7 72 DELL 래티튜드 7290/i5-8350U/인텔 그래픽/HD 디스플레이/8GB/256GB M.2 SSD/정품윈도우/지문인식/3년무상AS, 단일상품, 단일상품, 단일상품\n",
      "7 72 DELL G3 15 3590/i5-9300H/GTX 1050/FHD/8GB/256GB PCIe SSD/정품윈도우/지문인식, 단일상품, 단일상품, 단일상품\n",
      "7 72 [예약판매] DELL 에일리언웨어 M17 R2 루나라이트 i7-9750H RTX2060 FHD 144Hz 16GB 1TB SSD WIN, 단일상품, 단일상품, 단일상품\n",
      "7 72 DELL XPS 15 7590/i7-9750H/GTX 1650/4K UHD OLED/16GB/512GB PCIe SSD/정품윈도우/지문, 단일상품, 단일상품, 단일상품\n",
      "7 72 DELL 프리시전 15 3541 i7-9850H P620 FHD 32GB 512GB SSD 3년무상AS, 단일상품, 단일상품, 단일상품\n",
      "7 72 DELL G3 15 3590/i5-9300H/GTX 1050/FHD IPS/8GB/512GB PCIe SSD/정품윈도우/지문인식/1년무, 단일상품, 단일상품, 단일상품\n",
      "7 72 DELL 프리시전 15 7530/i7-8750H/WX 4150/FHD IPS/16GB/256GB PCIe SSD/정품윈도우/3년무상AS, 단일상품, 단일상품, 단일상품\n",
      "7 72 DELL 에일리언웨어 M15/i7-8750H/GTX 1660Ti/FHD IPS/16GB/256GB PCIe SSD+1TB HDD/정품윈, 단일상품, 단일상품, 단일상품\n",
      "7 72 DELL G5 15 5590 i7-9750H GTX1660Ti FHD 16GB 256GB SSD+1TB HDD WIN10Home 지문인, 단일상품, 단일상품, 단일상품\n",
      "7 72 [예약판매] DELL 에일리언웨어 M17 R2 다크사이드 i9-9980HK RTX2080 FHD 144Hz 16GB 2TB SSD WI, 단일상품, 단일상품, 단일상품\n",
      "9 72 레노버 X250 무료 중고 리퍼 게이밍 사무용 노트북, 4g, 128G, win7\n",
      "크롤링 못한 item개수 : 25\n"
     ]
    }
   ],
   "source": [
    "import requests\n",
    "from bs4 import BeautifulSoup\n",
    "from urllib import parse\n",
    "from datetime import datetime\n",
    "import pandas as pd\n",
    "\n",
    "# 결과 각각 넣기\n",
    "item_name_list = []\n",
    "link_list = []\n",
    "price_list = []\n",
    "\n",
    "# 다른 방식 조회결과 저장\n",
    "result_list = []  #[(제품1),(제품2),(제품3), .. ] 식으로\n",
    "keyword = input('검색어를 입력하세요:')\n",
    "headers = {\n",
    "    'User-Agent': 'Mozilla/5.0 (Windows NT 10.0; Win64; x64) AppleWebKit/537.36 (KHTML, like Gecko) Chrome/84.0.4147.89 Safari/537.36'\n",
    "}\n",
    "# 이것 보다 패턴문자 쓰는 것이 편함.\n",
    "# params = {\n",
    "#     'q':keyword,\n",
    "#     'page':'1'\n",
    "# }\n",
    "###################################################################\n",
    "# 페이지 번호 조회 - listSize=72\n",
    "###################################################################\n",
    "base_url = 'https://www.coupang.com/np/search?q={keyword}&page={pagenum}&listSize=72'\n",
    "url = base_url.format(keyword=keyword, pagenum=1)\n",
    "print(url)\n",
    "res = requests.get(url, headers=headers)\n",
    "\n",
    "last_page = None\n",
    "if res.status_code == 200:\n",
    "    soup = BeautifulSoup(res.text)\n",
    "    last_page = soup.select_one('div.search-pagination > a.btn-last').text.strip()\n",
    "    print('총 페이지수 : {}'.format(last_page))\n",
    "    \n",
    "###################################################################\n",
    "# 페이지 번호 조회\n",
    "###################################################################\n",
    "error_cnt = 0 #크롤링 못한 item개수 저장\n",
    "coupang_base_url = 'https://www.coupang.com/'\n",
    "#페이지 반복\n",
    "for page in range(1, int(last_page)+1):\n",
    "    \n",
    "    url = base_url.format(keyword=keyword, pagenum=page)\n",
    "    res = requests.get(url, headers=headers)\n",
    "    \n",
    "    if res.status_code==200:\n",
    "        soup = BeautifulSoup(res.text, 'lxml')\n",
    "        #   item box li\n",
    "        item_li_list = soup.select('ul#productList > li.search-product')\n",
    "#         print(len(item_li_list))\n",
    "        # 한페이지내의 item들 반복\n",
    "        for item in item_li_list:\n",
    "\n",
    "            #중고의 경우 값이 제목에 붙은 경우가 있다. 이 때 NoneType이라고 Exception 발생. 이것은 대상에서 뺀다.\n",
    "            try:\n",
    "                item_name = item.select_one('div.name').text.strip()\n",
    "                link = parse.urljoin(coupang_base_url, item.select_one('a').get('href'))\n",
    "                price = item.select_one('strong.price-value').text.strip()\n",
    "                price = ''.join(price.split(','))  # 단위구분자 , 제거\n",
    "                \n",
    "                link_list.append(link)\n",
    "                item_name_list.append(item_name)\n",
    "                price_list.append(price)\n",
    "                \n",
    "                result_list.append([item_name, link, price])\n",
    "            except Exception as e:\n",
    "                error_cnt += 1 #크롤링 못한 item개수 1 증가\n",
    "                print(page, idx,  item_name)\n",
    "\n",
    "                \n",
    "# 저장\n",
    "curr = datetime.now().strftime('%Y-%m-%d')\n",
    "filename = '쿠팡_{}_조회결과_{}.csv'.format(keyword, curr)\n",
    "df = pd.DataFrame(result_list, columns=['상품명','상세페이지링크', '가격'])\n",
    "df.to_csv(filename, index=False, encoding='UTF-8')\n",
    "print('크롤링 못한 item개수 : %s' % error_cnt)            "
   ]
  },
  {
   "cell_type": "code",
   "execution_count": 27,
   "metadata": {
    "ExecuteTime": {
     "end_time": "2020-07-23T12:45:18.968404Z",
     "start_time": "2020-07-23T12:45:18.954444Z"
    }
   },
   "outputs": [
    {
     "data": {
      "text/plain": [
       "(911, 3)"
      ]
     },
     "execution_count": 27,
     "metadata": {},
     "output_type": "execute_result"
    }
   ],
   "source": [
    "item_df = pd.read_csv('쿠팡_노트북_조회결과_2020-07-23.csv', dtype={'가격':'int'}, encoding='UTF-8')\n",
    "item_df.shape"
   ]
  },
  {
   "cell_type": "code",
   "execution_count": 28,
   "metadata": {
    "ExecuteTime": {
     "end_time": "2020-07-23T12:45:31.854928Z",
     "start_time": "2020-07-23T12:45:31.841962Z"
    }
   },
   "outputs": [
    {
     "name": "stdout",
     "output_type": "stream",
     "text": [
      "<class 'pandas.core.frame.DataFrame'>\n",
      "RangeIndex: 911 entries, 0 to 910\n",
      "Data columns (total 3 columns):\n",
      " #   Column   Non-Null Count  Dtype \n",
      "---  ------   --------------  ----- \n",
      " 0   상품명      911 non-null    object\n",
      " 1   상세페이지링크  911 non-null    object\n",
      " 2   가격       911 non-null    int32 \n",
      "dtypes: int32(1), object(2)\n",
      "memory usage: 17.9+ KB\n"
     ]
    }
   ],
   "source": [
    "item_df.info()"
   ]
  },
  {
   "cell_type": "code",
   "execution_count": 29,
   "metadata": {
    "ExecuteTime": {
     "end_time": "2020-07-23T12:45:48.952187Z",
     "start_time": "2020-07-23T12:45:48.942213Z"
    }
   },
   "outputs": [
    {
     "data": {
      "text/html": [
       "<div>\n",
       "<style scoped>\n",
       "    .dataframe tbody tr th:only-of-type {\n",
       "        vertical-align: middle;\n",
       "    }\n",
       "\n",
       "    .dataframe tbody tr th {\n",
       "        vertical-align: top;\n",
       "    }\n",
       "\n",
       "    .dataframe thead th {\n",
       "        text-align: right;\n",
       "    }\n",
       "</style>\n",
       "<table border=\"1\" class=\"dataframe\">\n",
       "  <thead>\n",
       "    <tr style=\"text-align: right;\">\n",
       "      <th></th>\n",
       "      <th>상품명</th>\n",
       "      <th>상세페이지링크</th>\n",
       "      <th>가격</th>\n",
       "    </tr>\n",
       "  </thead>\n",
       "  <tbody>\n",
       "    <tr>\n",
       "      <th>0</th>\n",
       "      <td>삼성전자 노트북 Plus NT550XCJ-K34WA 퓨어 화이트 (i3-10110U...</td>\n",
       "      <td>https://www.coupang.com/vp/products/1548410295...</td>\n",
       "      <td>849000</td>\n",
       "    </tr>\n",
       "    <tr>\n",
       "      <th>1</th>\n",
       "      <td>LG전자 울트라 PC 노트북 14U390-EE1TK 화이트 (인텔 셀러론 N4100...</td>\n",
       "      <td>https://www.coupang.com/vp/products/1149803634...</td>\n",
       "      <td>449000</td>\n",
       "    </tr>\n",
       "    <tr>\n",
       "      <th>2</th>\n",
       "      <td>아이뮤즈 노트북 STORMBOOK (N3350 35.8cm WIN10 Graphic...</td>\n",
       "      <td>https://www.coupang.com/vp/products/1348981530...</td>\n",
       "      <td>264620</td>\n",
       "    </tr>\n",
       "    <tr>\n",
       "      <th>3</th>\n",
       "      <td>LG전자 2019 울트라 PC 노트북 15U490-GR36K 퓨어 화이트 (R3-2...</td>\n",
       "      <td>https://www.coupang.com/vp/products/1662958560...</td>\n",
       "      <td>639000</td>\n",
       "    </tr>\n",
       "    <tr>\n",
       "      <th>4</th>\n",
       "      <td>애니키 F8 접이식 노트북 거치대, 단일상품</td>\n",
       "      <td>https://www.coupang.com/vp/products/1807089733...</td>\n",
       "      <td>16000</td>\n",
       "    </tr>\n",
       "  </tbody>\n",
       "</table>\n",
       "</div>"
      ],
      "text/plain": [
       "                                                 상품명  \\\n",
       "0  삼성전자 노트북 Plus NT550XCJ-K34WA 퓨어 화이트 (i3-10110U...   \n",
       "1  LG전자 울트라 PC 노트북 14U390-EE1TK 화이트 (인텔 셀러론 N4100...   \n",
       "2  아이뮤즈 노트북 STORMBOOK (N3350 35.8cm WIN10 Graphic...   \n",
       "3  LG전자 2019 울트라 PC 노트북 15U490-GR36K 퓨어 화이트 (R3-2...   \n",
       "4                           애니키 F8 접이식 노트북 거치대, 단일상품   \n",
       "\n",
       "                                             상세페이지링크      가격  \n",
       "0  https://www.coupang.com/vp/products/1548410295...  849000  \n",
       "1  https://www.coupang.com/vp/products/1149803634...  449000  \n",
       "2  https://www.coupang.com/vp/products/1348981530...  264620  \n",
       "3  https://www.coupang.com/vp/products/1662958560...  639000  \n",
       "4  https://www.coupang.com/vp/products/1807089733...   16000  "
      ]
     },
     "execution_count": 29,
     "metadata": {},
     "output_type": "execute_result"
    }
   ],
   "source": [
    "item_df.head()"
   ]
  },
  {
   "cell_type": "code",
   "execution_count": 30,
   "metadata": {
    "ExecuteTime": {
     "end_time": "2020-07-23T12:45:49.522662Z",
     "start_time": "2020-07-23T12:45:49.513684Z"
    }
   },
   "outputs": [
    {
     "data": {
      "text/html": [
       "<div>\n",
       "<style scoped>\n",
       "    .dataframe tbody tr th:only-of-type {\n",
       "        vertical-align: middle;\n",
       "    }\n",
       "\n",
       "    .dataframe tbody tr th {\n",
       "        vertical-align: top;\n",
       "    }\n",
       "\n",
       "    .dataframe thead th {\n",
       "        text-align: right;\n",
       "    }\n",
       "</style>\n",
       "<table border=\"1\" class=\"dataframe\">\n",
       "  <thead>\n",
       "    <tr style=\"text-align: right;\">\n",
       "      <th></th>\n",
       "      <th>상품명</th>\n",
       "      <th>상세페이지링크</th>\n",
       "      <th>가격</th>\n",
       "    </tr>\n",
       "  </thead>\n",
       "  <tbody>\n",
       "    <tr>\n",
       "      <th>906</th>\n",
       "      <td>BAGnBAGs 맥북 슬림 노트북 파우치 X-12, 핑크</td>\n",
       "      <td>https://www.coupang.com/vp/products/1086042405...</td>\n",
       "      <td>17820</td>\n",
       "    </tr>\n",
       "    <tr>\n",
       "      <th>907</th>\n",
       "      <td>나비 노트북 쿨링 패드 NV39-NTP10, WHITE</td>\n",
       "      <td>https://www.coupang.com/vp/products/238009631?...</td>\n",
       "      <td>12750</td>\n",
       "    </tr>\n",
       "    <tr>\n",
       "      <th>908</th>\n",
       "      <td>아이리버 2채널 프리미엄 스피커 WOOD BLOCK, IR-S50, 베이지</td>\n",
       "      <td>https://www.coupang.com/vp/products/149570129?...</td>\n",
       "      <td>24060</td>\n",
       "    </tr>\n",
       "    <tr>\n",
       "      <th>909</th>\n",
       "      <td>레토 모니터 받침대 LMS-P03, 블랙</td>\n",
       "      <td>https://www.coupang.com/vp/products/9610265?it...</td>\n",
       "      <td>9100</td>\n",
       "    </tr>\n",
       "    <tr>\n",
       "      <th>910</th>\n",
       "      <td>소이믹스 가죽 장패드 데스크매트 L SOL5L, 블랙, 1개</td>\n",
       "      <td>https://www.coupang.com/vp/products/255887503?...</td>\n",
       "      <td>22150</td>\n",
       "    </tr>\n",
       "  </tbody>\n",
       "</table>\n",
       "</div>"
      ],
      "text/plain": [
       "                                           상품명  \\\n",
       "906            BAGnBAGs 맥북 슬림 노트북 파우치 X-12, 핑크   \n",
       "907             나비 노트북 쿨링 패드 NV39-NTP10, WHITE   \n",
       "908  아이리버 2채널 프리미엄 스피커 WOOD BLOCK, IR-S50, 베이지   \n",
       "909                     레토 모니터 받침대 LMS-P03, 블랙   \n",
       "910          소이믹스 가죽 장패드 데스크매트 L SOL5L, 블랙, 1개   \n",
       "\n",
       "                                               상세페이지링크     가격  \n",
       "906  https://www.coupang.com/vp/products/1086042405...  17820  \n",
       "907  https://www.coupang.com/vp/products/238009631?...  12750  \n",
       "908  https://www.coupang.com/vp/products/149570129?...  24060  \n",
       "909  https://www.coupang.com/vp/products/9610265?it...   9100  \n",
       "910  https://www.coupang.com/vp/products/255887503?...  22150  "
      ]
     },
     "execution_count": 30,
     "metadata": {},
     "output_type": "execute_result"
    }
   ],
   "source": [
    "item_df.tail()"
   ]
  },
  {
   "cell_type": "code",
   "execution_count": 31,
   "metadata": {
    "ExecuteTime": {
     "end_time": "2020-07-23T12:46:04.010899Z",
     "start_time": "2020-07-23T12:46:04.005912Z"
    }
   },
   "outputs": [
    {
     "data": {
      "text/plain": [
       "597797.5301866081"
      ]
     },
     "execution_count": 31,
     "metadata": {},
     "output_type": "execute_result"
    }
   ],
   "source": [
    "item_df['가격'].mean()"
   ]
  },
  {
   "cell_type": "code",
   "execution_count": 32,
   "metadata": {
    "ExecuteTime": {
     "end_time": "2020-07-23T12:46:15.829280Z",
     "start_time": "2020-07-23T12:46:15.824293Z"
    }
   },
   "outputs": [
    {
     "data": {
      "text/plain": [
       "728093.0560960748"
      ]
     },
     "execution_count": 32,
     "metadata": {},
     "output_type": "execute_result"
    }
   ],
   "source": [
    "item_df['가격'].std()"
   ]
  },
  {
   "cell_type": "code",
   "execution_count": 35,
   "metadata": {
    "ExecuteTime": {
     "end_time": "2020-07-23T12:47:55.054039Z",
     "start_time": "2020-07-23T12:47:54.885488Z"
    },
    "scrolled": true
   },
   "outputs": [
    {
     "data": {
      "image/png": "[encoded data removed]",
      "text/plain": [
       "<Figure size 432x288 with 1 Axes>"
      ]
     },
     "metadata": {
      "needs_background": "light"
     },
     "output_type": "display_data"
    }
   ],
   "source": [
    "item_df['가격'].hist(bins=30);"
   ]
  },
  {
   "cell_type": "code",
   "execution_count": 9,
   "metadata": {
    "ExecuteTime": {
     "end_time": "2020-07-22T14:40:51.520666Z",
     "start_time": "2020-07-22T14:40:51.510691Z"
    }
   },
   "outputs": [
    {
     "name": "stdout",
     "output_type": "stream",
     "text": [
      "<class 'pandas.core.frame.DataFrame'>\n",
      "RangeIndex: 910 entries, 0 to 909\n",
      "Data columns (total 3 columns):\n",
      " #   Column  Non-Null Count  Dtype \n",
      "---  ------  --------------  ----- \n",
      " 0   링크      910 non-null    object\n",
      " 1   상품명     910 non-null    object\n",
      " 2   가격      910 non-null    object\n",
      "dtypes: object(3)\n",
      "memory usage: 21.5+ KB\n"
     ]
    }
   ],
   "source": [
    "# import pandas as pd\n",
    "# df = pd.DataFrame({'링크':link_list, '상품명':item_name_list, '가격':price_list})\n",
    "# df.info()"
   ]
  },
  {
   "cell_type": "code",
   "execution_count": 10,
   "metadata": {
    "ExecuteTime": {
     "end_time": "2020-07-22T14:40:53.095341Z",
     "start_time": "2020-07-22T14:40:53.084372Z"
    }
   },
   "outputs": [
    {
     "name": "stdout",
     "output_type": "stream",
     "text": [
      "<class 'pandas.core.frame.DataFrame'>\n",
      "RangeIndex: 910 entries, 0 to 909\n",
      "Data columns (total 3 columns):\n",
      " #   Column  Non-Null Count  Dtype \n",
      "---  ------  --------------  ----- \n",
      " 0   링크      910 non-null    object\n",
      " 1   상품명     910 non-null    object\n",
      " 2   가격      910 non-null    int32 \n",
      "dtypes: int32(1), object(2)\n",
      "memory usage: 17.9+ KB\n"
     ]
    }
   ],
   "source": [
    "df['가격'] = df['가격'].astype('int')\n",
    "df.info()"
   ]
  },
  {
   "cell_type": "code",
   "execution_count": 11,
   "metadata": {
    "ExecuteTime": {
     "end_time": "2020-07-22T14:40:54.409613Z",
     "start_time": "2020-07-22T14:40:54.402634Z"
    }
   },
   "outputs": [
    {
     "data": {
      "text/plain": [
       "637173.6593406594"
      ]
     },
     "execution_count": 11,
     "metadata": {},
     "output_type": "execute_result"
    }
   ],
   "source": [
    "df['가격'].mean()"
   ]
  },
  {
   "cell_type": "code",
   "execution_count": 12,
   "metadata": {
    "ExecuteTime": {
     "end_time": "2020-07-22T14:40:57.390885Z",
     "start_time": "2020-07-22T14:40:57.217681Z"
    }
   },
   "outputs": [],
   "source": [
    "# 엑셀저장위해 xlwt 설치\n",
    "df.to_excel(f'쿠팡 {keyword} 검색결과.xls')"
   ]
  },
  {
   "cell_type": "code",
   "execution_count": null,
   "metadata": {},
   "outputs": [],
   "source": []
  },
  {
   "cell_type": "code",
   "execution_count": 8,
   "metadata": {},
   "outputs": [
    {
     "name": "stdout",
     "output_type": "stream",
     "text": [
      "0.58\n",
      "1.06\n",
      "1.1\n",
      "0.57\n",
      "0.74\n",
      "1.12\n",
      "1.15\n",
      "1.06\n",
      "1.05\n",
      "0.51\n"
     ]
    }
   ],
   "source": [
    "import random\n",
    "import time\n",
    "for _ in range(10):\n",
    "    sec = round(random.uniform(0.3,1.2), 2)\n",
    "    print(sec)\n",
    "    time.sleep(sec)"
   ]
  },
  {
   "cell_type": "code",
   "execution_count": null,
   "metadata": {},
   "outputs": [],
   "source": []
  }
 ],
 "metadata": {
  "kernelspec": {
   "display_name": "Python 3",
   "language": "python",
   "name": "python3"
  },
  "language_info": {
   "codemirror_mode": {
    "name": "ipython",
    "version": 3
   },
   "file_extension": ".py",
   "mimetype": "text/x-python",
   "name": "python",
   "nbconvert_exporter": "python",
   "pygments_lexer": "ipython3",
   "version": "3.7.7"
  }
 },
 "nbformat": 4,
 "nbformat_minor": 4
}
