{
 "cells": [
  {
   "cell_type": "markdown",
   "metadata": {},
   "source": [
    "# 네이버 영화평점\n",
    "\n",
    "## 개요\n",
    "- https://movie.naver.com/ 로 이동\n",
    "- 평점/리뷰 메뉴 클릭\n",
    "\n",
    "## 요청방식\n",
    "- url\n",
    "    - https://movie.naver.com/movie/point/af/list.nhn?&page=2\n",
    "- 요청방식\n",
    "    - get\n",
    "- 요청파라미터\n",
    "    - page: 페이지 번호\n",
    "    \n",
    "## 항목\n",
    "- base : table.list_netizen > tbody > tr > td.title  : 이 td들 안에 다 있다.\n",
    "- 영화제목 : > `a.movie : text`\n",
    "    - href속성은 그 영화의 댓글만 모아놓은 url( 상대경로로 href=\"?st=mcode&sword=185917&target=after\" 형식으로 쿼리 스트링만 있다.)\n",
    "- 평점\n",
    "    - > `div.list_netizen_score > em` 의 text\n",
    "- 댓글\n",
    "    - br의 next_sibling\n",
    "    - text조회하면 안의 하위 태그들의 text도 조회된다.\n",
    "        - **br을 찾은 뒤 그 다음 노드로 찾는다.**\n",
    "            - tag.next_sibling : 텍스트 노드까지 포함 해서 다음 노드를 반환한다.\n",
    "                - br다음의 text node를 조회할 것이므로 next_sibling 사용\n",
    "            - tag.next_element : 다음 element node 반환\n",
    "            \n",
    "```html\n",
    "<td class=\"title\">\n",
    "\t\t\t\n",
    "\t\t\t\n",
    "\t\t\t\t<a href=\"?st=mcode&amp;sword=189633&amp;target=after\" class=\"movie color_b\">야구소녀</a>\n",
    "\t\t\t\n",
    "\t\t\t\n",
    "\t\t\t\n",
    "\t\t\t<div class=\"list_netizen_score\">\n",
    "\t\t\t\t<span class=\"st_off\"><span class=\"st_on\" style=\"width:100%\">별점 - 총 10점 중</span></span><em>10</em>\n",
    "\t\t\t</div>\n",
    "\t\t\t<br>기대없이 시청하는데 나도모르게 눈물을 흘렸네요 \n",
    "\t\t\t\n",
    "\t\t\t\n",
    "\t\t\t\n",
    "\t\t\t\t\n",
    "\t\t\t\t\n",
    "\t\t\t\t\n",
    "\t\t\t\t<a href=\"javascript:report('mkbk****', '3wfKF9kn6UVmVCmf5aXfMSpd8o/GJ1e3/VWl/7hODlk=', '기대없이 시청하는데 나도모르게 눈물을 흘렸네요', '17024530', 'point_after');\" class=\"report\" style=\"color:#8F8F8F\" title=\"새 창\">신고</a>\n",
    "\t\t\t\n",
    "\t\t\t\n",
    "\t\t\t</td>\n",
    "```\n",
    "\n"
   ]
  },
  {
   "cell_type": "markdown",
   "metadata": {},
   "source": [
    "### 1페이지 조회"
   ]
  },
  {
   "cell_type": "code",
   "execution_count": 3,
   "metadata": {
    "ExecuteTime": {
     "end_time": "2020-08-03T11:45:43.278868Z",
     "start_time": "2020-08-03T11:45:43.080399Z"
    },
    "scrolled": true
   },
   "outputs": [
    {
     "name": "stdout",
     "output_type": "stream",
     "text": [
      "<Response [200]>\n",
      "10\n",
      "로드 무비 :: https://movie.naver.com/movie/point/af/list.nhn?st=mcode&sword=34447&target=after :: 9 :: \n",
      "-------------------------------------------------\n",
      "반도 :: https://movie.naver.com/movie/point/af/list.nhn?st=mcode&sword=185917&target=after :: 1 :: 영화보다가 중간에 나오고싶었던적 처음입니다^^ 진짜 내인생 최악 억지감성과 초등학생이 쓴 시나리오같음 ㅋ\n",
      "-------------------------------------------------\n",
      "반도 :: https://movie.naver.com/movie/point/af/list.nhn?st=mcode&sword=185917&target=after :: 7 :: 매드맥스랑 좀비영화를 섞은느낌? 재미있어요!\n",
      "-------------------------------------------------\n",
      "나를 차버린 스파이 :: https://movie.naver.com/movie/point/af/list.nhn?st=mcode&sword=167602&target=after :: 9 :: \n",
      "-------------------------------------------------\n",
      "강철비2: 정상회담 :: https://movie.naver.com/movie/point/af/list.nhn?st=mcode&sword=188909&target=after :: 2 :: 배역선정도 너무 않좋고 스토리와 설정 진짜 최악이었습니다 정치같은건 모르겠고 졸다 나왔습니다 다큐도 아니고 진짜 재미없었어요 마지막 잠수함 전만 조금 재미있었네요\n",
      "-------------------------------------------------\n",
      "강철비2: 정상회담 :: https://movie.naver.com/movie/point/af/list.nhn?st=mcode&sword=188909&target=after :: 6 :: ? 재밌게 봤는데 반응 왜그러지? 강철비 처음 본 사람인데 전 너무 좋았어요 믿고보는 정우성님 연기실력도 좋았구요! 긴장감도 돌고 결론이 잘 되어서 안심했어요 ㅋ 다만 아쉬운점은.. 유연석 배우님 너무 한국인같고 북한말투 어색함ㅋㅋㅋㅋ 영어발음도 어색ㅋㅋㅋ그리고 제가 이걸 좋게 본건 한국인이라서 일꺼임 내가 외국인이라거나.. 저기 출연한 외국배우였다면 좀 그랬을거임 미국대통령 너무 멍청하게 나옴 글고 어뢰 터졌다 사라지는 그래픽 어색함그 외의 모든 스토리와 연출 다 좋았다 생각합니다. 그리고 제발!!! 영화 볼때 기침 하지말고!!!! 팝콘은 조용히 쳐머급시다!! ㅈㄴ 팝콘을 주먹으로 쥐고 아작아작짭짭짭 단체로 하관에 모터 달았냐!!\n",
      "-------------------------------------------------\n",
      "#살아있다 :: https://movie.naver.com/movie/point/af/list.nhn?st=mcode&sword=189537&target=after :: 10 :: 한정된 장소에서 벌어지는 좀비 이야기..스릴있게 잘봤습니다..평점테러 하지 맙시다좋은작품 놓칠뻔했네요..ㅠ\n",
      "-------------------------------------------------\n",
      "아담스 패밀리 :: https://movie.naver.com/movie/point/af/list.nhn?st=mcode&sword=184357&target=after :: 8 :: \n",
      "-------------------------------------------------\n",
      "강철비2: 정상회담 :: https://movie.naver.com/movie/point/af/list.nhn?st=mcode&sword=188909&target=after :: 1 :: 존나재미없음진짜 시간 개아까움 감독 때리고싶은 영화\n",
      "-------------------------------------------------\n",
      "타이타닉 2 :: https://movie.naver.com/movie/point/af/list.nhn?st=mcode&sword=80857&target=after :: 2 :: 4567888445\n",
      "-------------------------------------------------\n"
     ]
    }
   ],
   "source": [
    "import requests\n",
    "from urllib import parse\n",
    "from bs4 import BeautifulSoup\n",
    "base_url = 'https://movie.naver.com/movie/point/af/list.nhn?&page={}'\n",
    "url = base_url.format(1)\n",
    "res=requests.get(url)\n",
    "\n",
    "if res.status_code == 200:\n",
    "    soup = BeautifulSoup(res.text)\n",
    "    tds = soup.select('table.list_netizen > tbody > tr > td.title')\n",
    "    print(len(tds))\n",
    "    for td in tds:\n",
    "        movie_title = td.select_one('a.movie').text.strip()\n",
    "        link = td.select_one('a.movie').get('href')\n",
    "        link = parse.urljoin(base_url, link)\n",
    "        score = td.select_one('div.list_netizen_score > em').text.strip()\n",
    "        comment = td.select_one('br').next_sibling.strip() #textnode 인 경우 text 로 조회할 필요 없다.\n",
    "        print(movie_title, link, score, comment, sep=' :: ')\n",
    "        print('-------------------------------------------------')"
   ]
  },
  {
   "cell_type": "code",
   "execution_count": 7,
   "metadata": {
    "ExecuteTime": {
     "end_time": "2020-08-03T11:47:48.012753Z",
     "start_time": "2020-08-03T11:47:47.993835Z"
    }
   },
   "outputs": [
    {
     "name": "stdout",
     "output_type": "stream",
     "text": [
      "http://www.naver.com/path/test?kkk=10\n",
      "http://www.naver.com/abcdef\n",
      "http://www.naver.com/path/my_path/test.html\n"
     ]
    }
   ],
   "source": [
    "# Guide \n",
    "# query string은 제거하고 붙인다.\n",
    "url = 'http://www.naver.com/path/test?a=b&c=d'\n",
    "print(parse.urljoin(url, '?kkk=10'))\n",
    "print(parse.urljoin(url, '/abcdef'))\n",
    "print(parse.urljoin(url,'my_path/test.html'))"
   ]
  },
  {
   "cell_type": "markdown",
   "metadata": {},
   "source": [
    "## 전체 페이지 조회\n",
    "- 끝페이지 조회하다 tds의 length가 0이면 조회한 것이 없는 것이다. 그렇게 체크하면된다. 그런데 너무 많으므로 100페이지정도만 조회한다."
   ]
  },
  {
   "cell_type": "code",
   "execution_count": 23,
   "metadata": {},
   "outputs": [
    {
     "data": {
      "text/plain": [
       "0.2934325558951632"
      ]
     },
     "execution_count": 23,
     "metadata": {},
     "output_type": "execute_result"
    }
   ],
   "source": [
    "import random\n",
    "random.uniform(0.2, 1.2) #이 사이의 실수를 동일한 확률로 나오게 한다."
   ]
  },
  {
   "cell_type": "code",
   "execution_count": null,
   "metadata": {},
   "outputs": [],
   "source": [
    "import requests\n",
    "import time\n",
    "import random\n",
    "from bs4 import BeautifulSoup\n",
    "\n",
    "\n",
    "base_url = 'https://movie.naver.com/movie/point/af/list.nhn?&page={}'\n",
    "#결과 저장할 리스트\n",
    "comment_list = []\n",
    "for page in range(1, 101):\n",
    "    url = base_url.format(page)\n",
    "    res=requests.get(url)\n",
    "    if res.status_code == 200:\n",
    "        soup = BeautifulSoup(res.text, 'lxml')\n",
    "        tds = soup.select('table.list_netizen > tbody > tr > td.title')\n",
    "#         if len(td): #마지막 페이지 까지 간 경우 조회결과가 없어 0이 된다. (반복문은 while True: 로 변환)\n",
    "        for td in tds:\n",
    "            movie_title = td.select_one('a.movie').text.strip()\n",
    "            score = td.select_one('div.list_netizen_score > em').text.strip()\n",
    "            comment = td.select_one('br').next_sibling.strip()\n",
    "            # 리스트에 저장\n",
    "            comment_list.append((movie_title, score, comment))\n",
    "        interval = round(random.uniform(0.2, 1.2), 2)\n",
    "        time.sleep(interval)\n",
    "#         else:\n",
    "#             break\n",
    "print('종료')        "
   ]
  },
  {
   "cell_type": "code",
   "execution_count": 25,
   "metadata": {},
   "outputs": [
    {
     "data": {
      "text/plain": [
       "1000"
      ]
     },
     "execution_count": 25,
     "metadata": {},
     "output_type": "execute_result"
    }
   ],
   "source": [
    "len(comment_list)"
   ]
  },
  {
   "cell_type": "code",
   "execution_count": 35,
   "metadata": {},
   "outputs": [
    {
     "data": {
      "text/plain": [
       "(1000, 3)"
      ]
     },
     "execution_count": 35,
     "metadata": {},
     "output_type": "execute_result"
    }
   ],
   "source": [
    "import pandas as pd\n",
    "df = pd.DataFrame(comment_list, \n",
    "                  columns=['영화제목','평점','댓글'])\n",
    "df.shape"
   ]
  },
  {
   "cell_type": "code",
   "execution_count": 36,
   "metadata": {},
   "outputs": [
    {
     "name": "stdout",
     "output_type": "stream",
     "text": [
      "<class 'pandas.core.frame.DataFrame'>\n",
      "RangeIndex: 1000 entries, 0 to 999\n",
      "Data columns (total 3 columns):\n",
      " #   Column  Non-Null Count  Dtype \n",
      "---  ------  --------------  ----- \n",
      " 0   영화제목    1000 non-null   object\n",
      " 1   평점      1000 non-null   object\n",
      " 2   댓글      1000 non-null   object\n",
      "dtypes: object(3)\n",
      "memory usage: 23.6+ KB\n"
     ]
    }
   ],
   "source": [
    "df.info()"
   ]
  },
  {
   "cell_type": "code",
   "execution_count": 37,
   "metadata": {},
   "outputs": [
    {
     "data": {
      "text/html": [
       "<div>\n",
       "<style scoped>\n",
       "    .dataframe tbody tr th:only-of-type {\n",
       "        vertical-align: middle;\n",
       "    }\n",
       "\n",
       "    .dataframe tbody tr th {\n",
       "        vertical-align: top;\n",
       "    }\n",
       "\n",
       "    .dataframe thead th {\n",
       "        text-align: right;\n",
       "    }\n",
       "</style>\n",
       "<table border=\"1\" class=\"dataframe\">\n",
       "  <thead>\n",
       "    <tr style=\"text-align: right;\">\n",
       "      <th></th>\n",
       "      <th>영화제목</th>\n",
       "      <th>평점</th>\n",
       "      <th>댓글</th>\n",
       "    </tr>\n",
       "  </thead>\n",
       "  <tbody>\n",
       "    <tr>\n",
       "      <th>0</th>\n",
       "      <td>반도</td>\n",
       "      <td>8</td>\n",
       "      <td>넘넘넘 재밌어요~~!!!!</td>\n",
       "    </tr>\n",
       "    <tr>\n",
       "      <th>1</th>\n",
       "      <td>반도</td>\n",
       "      <td>1</td>\n",
       "      <td>48년을 살아오면서 지구력 인내력에는 자신 있었는데 반도는 나의 한계를 다시금 깨닫...</td>\n",
       "    </tr>\n",
       "    <tr>\n",
       "      <th>2</th>\n",
       "      <td>라이언 일병 구하기</td>\n",
       "      <td>10</td>\n",
       "      <td></td>\n",
       "    </tr>\n",
       "    <tr>\n",
       "      <th>3</th>\n",
       "      <td>키싱 부스 2</td>\n",
       "      <td>10</td>\n",
       "      <td>재밋다 ㅠ 리 너무 존잘이야</td>\n",
       "    </tr>\n",
       "    <tr>\n",
       "      <th>4</th>\n",
       "      <td>반도</td>\n",
       "      <td>6</td>\n",
       "      <td>그냥 킬링타임용이네요.뭐 대단한거 없구요..</td>\n",
       "    </tr>\n",
       "  </tbody>\n",
       "</table>\n",
       "</div>"
      ],
      "text/plain": [
       "         영화제목  평점                                                 댓글\n",
       "0          반도   8                                     넘넘넘 재밌어요~~!!!!\n",
       "1          반도   1  48년을 살아오면서 지구력 인내력에는 자신 있었는데 반도는 나의 한계를 다시금 깨닫...\n",
       "2  라이언 일병 구하기  10                                                   \n",
       "3     키싱 부스 2  10                                    재밋다 ㅠ 리 너무 존잘이야\n",
       "4          반도   6                           그냥 킬링타임용이네요.뭐 대단한거 없구요.."
      ]
     },
     "execution_count": 37,
     "metadata": {},
     "output_type": "execute_result"
    }
   ],
   "source": [
    "df.head()"
   ]
  },
  {
   "cell_type": "code",
   "execution_count": null,
   "metadata": {},
   "outputs": [],
   "source": []
  }
 ],
 "metadata": {
  "kernelspec": {
   "display_name": "Python 3",
   "language": "python",
   "name": "python3"
  },
  "language_info": {
   "codemirror_mode": {
    "name": "ipython",
    "version": 3
   },
   "file_extension": ".py",
   "mimetype": "text/x-python",
   "name": "python",
   "nbconvert_exporter": "python",
   "pygments_lexer": "ipython3",
   "version": "3.7.7"
  },
  "varInspector": {
   "cols": {
    "lenName": 16,
    "lenType": 16,
    "lenVar": 40
   },
   "kernels_config": {
    "python": {
     "delete_cmd_postfix": "",
     "delete_cmd_prefix": "del ",
     "library": "var_list.py",
     "varRefreshCmd": "print(var_dic_list())"
    },
    "r": {
     "delete_cmd_postfix": ") ",
     "delete_cmd_prefix": "rm(",
     "library": "var_list.r",
     "varRefreshCmd": "cat(var_dic_list()) "
    }
   },
   "types_to_exclude": [
    "module",
    "function",
    "builtin_function_or_method",
    "instance",
    "_Feature"
   ],
   "window_display": false
  }
 },
 "nbformat": 4,
 "nbformat_minor": 4
}
