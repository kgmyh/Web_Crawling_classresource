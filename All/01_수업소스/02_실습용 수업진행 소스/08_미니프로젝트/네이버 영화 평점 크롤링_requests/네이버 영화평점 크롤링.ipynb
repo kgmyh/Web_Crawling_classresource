{
 "cells": [
  {
   "cell_type": "markdown",
   "metadata": {},
   "source": [
    "# 네이버 영화평점\n",
    "\n",
    "## 개요\n",
    "- https://movie.naver.com/ 로 이동\n",
    "- 평점/리뷰 메뉴 클릭\n",
    "\n",
    "## 요청방식\n",
    "- url\n",
    "    - https://movie.naver.com/movie/point/af/list.nhn?&page=2\n",
    "- 요청방식\n",
    "    - get\n",
    "- 요청파라미터\n",
    "    - page: 페이지 번호\n",
    "    - 1000 페이지 까지만 조회가능\n",
    "    \n",
    "## 항목\n",
    "- base : table.list_netizen > tbody > tr > td.title  : 이 td들 안에 다 있다.\n",
    "- 영화제목 : > `a.movie : text`\n",
    "    - href속성은 그 영화의 댓글만 모아놓은 url( 상대경로로 href=\"?st=mcode&sword=185917&target=after\" 형식으로 쿼리 스트링만 있다.)\n",
    "- 평점\n",
    "    - > `div.list_netizen_score > em` 의 text\n",
    "- 댓글\n",
    "    - br의 next_sibling\n",
    "    - text조회하면 안의 하위 태그들의 text도 조회된다.\n",
    "        - **br을 찾은 뒤 그 다음 노드로 찾는다.**\n",
    "            - tag.next_sibling : 텍스트 노드까지 포함 해서 다음 노드를 반환한다.\n",
    "                - br다음의 text node를 조회할 것이므로 next_sibling 사용\n",
    "            - tag.next_element : 다음 element node 반환\n",
    "            \n",
    "```html\n",
    "<td class=\"title\">\n",
    "\t\t\t\n",
    "\t\t\t\n",
    "\t\t\t\t<a href=\"?st=mcode&amp;sword=189633&amp;target=after\" class=\"movie color_b\">야구소녀</a>\n",
    "\t\t\t\n",
    "\t\t\t\n",
    "\t\t\t\n",
    "\t\t\t<div class=\"list_netizen_score\">\n",
    "\t\t\t\t<span class=\"st_off\"><span class=\"st_on\" style=\"width:100%\">별점 - 총 10점 중</span></span><em>10</em>\n",
    "\t\t\t</div>\n",
    "\t\t\t<br>기대없이 시청하는데 나도모르게 눈물을 흘렸네요 \n",
    "\t\t\t\n",
    "\t\t\t\n",
    "\t\t\t\n",
    "\t\t\t\t\n",
    "\t\t\t\t\n",
    "\t\t\t\t\n",
    "\t\t\t\t<a href=\"javascript:report('mkbk****', '3wfKF9kn6UVmVCmf5aXfMSpd8o/GJ1e3/VWl/7hODlk=', '기대없이 시청하는데 나도모르게 눈물을 흘렸네요', '17024530', 'point_after');\" class=\"report\" style=\"color:#8F8F8F\" title=\"새 창\">신고</a>\n",
    "\t\t\t\n",
    "\t\t\t\n",
    "\t\t\t</td>\n",
    "```\n",
    "\n"
   ]
  },
  {
   "cell_type": "markdown",
   "metadata": {},
   "source": [
    "### 1페이지 조회"
   ]
  },
  {
   "cell_type": "code",
   "execution_count": 14,
   "metadata": {
    "ExecuteTime": {
     "end_time": "2020-08-03T11:53:26.565201Z",
     "start_time": "2020-08-03T11:53:26.353765Z"
    },
    "scrolled": true
   },
   "outputs": [
    {
     "name": "stdout",
     "output_type": "stream",
     "text": [
      "10\n",
      "성실한 나라의 앨리스 :: https://movie.naver.com/movie/point/af/list.nhn?st=mcode&sword=118323&target=after :: 8 :: 잘봤습니다~이정현연기~~~짱\n",
      "-------------------------------------------------\n",
      "강철비2: 정상회담 :: https://movie.naver.com/movie/point/af/list.nhn?st=mcode&sword=188909&target=after :: 10 :: 일베가 좋으면 공감, 싫으면 비공감 누르세요.\n",
      "-------------------------------------------------\n",
      "강철비2: 정상회담 :: https://movie.naver.com/movie/point/af/list.nhn?st=mcode&sword=188909&target=after :: 10 :: 솔직히 큰기대 안했는데 꽤 재밌게봄잠수함씬 와우 잘봤고 전체적으로 이야기 전개도 나쁘지않음\n",
      "-------------------------------------------------\n",
      "미스터 고 :: https://movie.naver.com/movie/point/af/list.nhn?st=mcode&sword=75397&target=after :: 10 :: \n",
      "-------------------------------------------------\n",
      "더블 타겟 :: https://movie.naver.com/movie/point/af/list.nhn?st=mcode&sword=65113&target=after :: 10 :: 엄청 재밌네요. 긴장감, 스릴감, 제대로 복수..\n",
      "-------------------------------------------------\n",
      "작전 :: https://movie.naver.com/movie/point/af/list.nhn?st=mcode&sword=50176&target=after :: 10 :: 한국 주식영화의 시초라고 볼 수 있는 웰메이드 주식영화\n",
      "-------------------------------------------------\n",
      "강철비2: 정상회담 :: https://movie.naver.com/movie/point/af/list.nhn?st=mcode&sword=188909&target=after :: 1 :: 미국대통령을 너무 가볍게 묘하했고, 북한군 미화 제데로 그려 놓음. 그냥 재미없고 오글거리고 최악의 영화\n",
      "-------------------------------------------------\n",
      "인사이드 아웃 :: https://movie.naver.com/movie/point/af/list.nhn?st=mcode&sword=115622&target=after :: 10 :: 최고의 해석 능력과 스토리전개\n",
      "-------------------------------------------------\n",
      "강철비2: 정상회담 :: https://movie.naver.com/movie/point/af/list.nhn?st=mcode&sword=188909&target=after :: 10 :: 마지막에서 감동 해군 멋져~~\n",
      "-------------------------------------------------\n",
      "반도 :: https://movie.naver.com/movie/point/af/list.nhn?st=mcode&sword=185917&target=after :: 2 :: 오글거리는 대사, 억지 신파, 캐릭터의 역할 모두 엉망.\n",
      "-------------------------------------------------\n"
     ]
    }
   ],
   "source": [
    "import requests\n",
    "from urllib import parse\n",
    "from bs4 import BeautifulSoup\n",
    "base_url = 'https://movie.naver.com/movie/point/af/list.nhn?&page={}'\n",
    "url = base_url.format(1)\n",
    "res=requests.get(url)\n",
    "\n",
    "if res.status_code == 200:\n",
    "    soup = BeautifulSoup(res.text)\n",
    "    tds = soup.select('table.list_netizen > tbody > tr > td.title')\n",
    "    print(len(tds))\n",
    "    for td in tds:\n",
    "        movie_title = td.select_one('a.movie').text.strip()\n",
    "        link = td.select_one('a.movie').get('href')\n",
    "        link = parse.urljoin(base_url, link)\n",
    "        score = td.select_one('div.list_netizen_score > em').text.strip()\n",
    "        comment = td.select_one('br').next_sibling.strip() #textnode 인 경우 text 로 조회할 필요 없다.\n",
    "        print(movie_title, link, score, comment, sep=' :: ')\n",
    "        print('-------------------------------------------------')"
   ]
  },
  {
   "cell_type": "markdown",
   "metadata": {},
   "source": [
    "## 전체 페이지 조회"
   ]
  },
  {
   "cell_type": "code",
   "execution_count": 23,
   "metadata": {},
   "outputs": [
    {
     "data": {
      "text/plain": [
       "0.2934325558951632"
      ]
     },
     "execution_count": 23,
     "metadata": {},
     "output_type": "execute_result"
    }
   ],
   "source": [
    "import random\n",
    "random.uniform(0.2, 1.2) #이 사이의 실수를 동일한 확률로 나오게 한다."
   ]
  },
  {
   "cell_type": "code",
   "execution_count": 8,
   "metadata": {
    "ExecuteTime": {
     "end_time": "2020-08-03T11:52:36.716104Z",
     "start_time": "2020-08-03T11:51:12.997498Z"
    }
   },
   "outputs": [
    {
     "name": "stdout",
     "output_type": "stream",
     "text": [
      "종료\n"
     ]
    }
   ],
   "source": [
    "import requests\n",
    "import time\n",
    "import random\n",
    "from bs4 import BeautifulSoup\n",
    "\n",
    "\n",
    "base_url = 'https://movie.naver.com/movie/point/af/list.nhn?&page={}'\n",
    "#결과 저장할 리스트\n",
    "comment_list = []\n",
    "for page in range(1, 101):\n",
    "    url = base_url.format(page)\n",
    "    res=requests.get(url)\n",
    "    if res.status_code == 200:\n",
    "        soup = BeautifulSoup(res.text, 'lxml')\n",
    "        tds = soup.select('table.list_netizen > tbody > tr > td.title')\n",
    "        for td in tds:\n",
    "            movie_title = td.select_one('a.movie').text.strip()\n",
    "            link = td.select_one('a.movie').get('href')\n",
    "            link = parse.urljoin(base_url, link)\n",
    "            score = td.select_one('div.list_netizen_score > em').text.strip()\n",
    "            comment = td.select_one('br').next_sibling.strip()\n",
    "            # 리스트에 저장\n",
    "            comment_list.append((movie_title, link, score, comment))\n",
    "        interval = round(random.uniform(0.2, 1.2), 2)\n",
    "        time.sleep(interval)\n",
    "print('종료')        "
   ]
  },
  {
   "cell_type": "code",
   "execution_count": 9,
   "metadata": {
    "ExecuteTime": {
     "end_time": "2020-08-03T11:52:44.715521Z",
     "start_time": "2020-08-03T11:52:44.703553Z"
    }
   },
   "outputs": [
    {
     "data": {
      "text/plain": [
       "1000"
      ]
     },
     "execution_count": 9,
     "metadata": {},
     "output_type": "execute_result"
    }
   ],
   "source": [
    "len(comment_list)"
   ]
  },
  {
   "cell_type": "code",
   "execution_count": 11,
   "metadata": {
    "ExecuteTime": {
     "end_time": "2020-08-03T11:53:00.530276Z",
     "start_time": "2020-08-03T11:53:00.486360Z"
    }
   },
   "outputs": [],
   "source": [
    "import pandas as pd\n",
    "df = pd.DataFrame(comment_list, \n",
    "                  columns=['영화제목','영화링크', '평점','댓글'])\n",
    "df.to_csv('naver_comment.csv', encoding='utf-8', index=False)"
   ]
  },
  {
   "cell_type": "code",
   "execution_count": 15,
   "metadata": {
    "ExecuteTime": {
     "end_time": "2020-08-03T11:54:47.013921Z",
     "start_time": "2020-08-03T11:54:46.988987Z"
    }
   },
   "outputs": [],
   "source": [
    "df.to_pickle('naver_comment.pkl',)"
   ]
  },
  {
   "cell_type": "code",
   "execution_count": 12,
   "metadata": {
    "ExecuteTime": {
     "end_time": "2020-08-03T11:53:01.630306Z",
     "start_time": "2020-08-03T11:53:01.605402Z"
    }
   },
   "outputs": [
    {
     "data": {
      "text/html": [
       "<div>\n",
       "<style scoped>\n",
       "    .dataframe tbody tr th:only-of-type {\n",
       "        vertical-align: middle;\n",
       "    }\n",
       "\n",
       "    .dataframe tbody tr th {\n",
       "        vertical-align: top;\n",
       "    }\n",
       "\n",
       "    .dataframe thead th {\n",
       "        text-align: right;\n",
       "    }\n",
       "</style>\n",
       "<table border=\"1\" class=\"dataframe\">\n",
       "  <thead>\n",
       "    <tr style=\"text-align: right;\">\n",
       "      <th></th>\n",
       "      <th>영화제목</th>\n",
       "      <th>영화링크</th>\n",
       "      <th>평점</th>\n",
       "      <th>댓글</th>\n",
       "    </tr>\n",
       "  </thead>\n",
       "  <tbody>\n",
       "    <tr>\n",
       "      <th>0</th>\n",
       "      <td>반도</td>\n",
       "      <td>https://movie.naver.com/movie/point/af/list.nh...</td>\n",
       "      <td>2</td>\n",
       "      <td>오글거리는 대사, 억지 신파, 캐릭터의 역할 모두 엉망.</td>\n",
       "    </tr>\n",
       "    <tr>\n",
       "      <th>1</th>\n",
       "      <td>강철비2: 정상회담</td>\n",
       "      <td>https://movie.naver.com/movie/point/af/list.nh...</td>\n",
       "      <td>10</td>\n",
       "      <td>연기가 아주 좋았어요 ㅎㅎ</td>\n",
       "    </tr>\n",
       "    <tr>\n",
       "      <th>2</th>\n",
       "      <td>엑시트</td>\n",
       "      <td>https://movie.naver.com/movie/point/af/list.nh...</td>\n",
       "      <td>10</td>\n",
       "      <td>킬링타임용 ㅋ 완전 재밌음</td>\n",
       "    </tr>\n",
       "    <tr>\n",
       "      <th>3</th>\n",
       "      <td>반도</td>\n",
       "      <td>https://movie.naver.com/movie/point/af/list.nh...</td>\n",
       "      <td>10</td>\n",
       "      <td></td>\n",
       "    </tr>\n",
       "    <tr>\n",
       "      <th>4</th>\n",
       "      <td>레토</td>\n",
       "      <td>https://movie.naver.com/movie/point/af/list.nh...</td>\n",
       "      <td>10</td>\n",
       "      <td></td>\n",
       "    </tr>\n",
       "  </tbody>\n",
       "</table>\n",
       "</div>"
      ],
      "text/plain": [
       "         영화제목                                               영화링크  평점  \\\n",
       "0          반도  https://movie.naver.com/movie/point/af/list.nh...   2   \n",
       "1  강철비2: 정상회담  https://movie.naver.com/movie/point/af/list.nh...  10   \n",
       "2         엑시트  https://movie.naver.com/movie/point/af/list.nh...  10   \n",
       "3          반도  https://movie.naver.com/movie/point/af/list.nh...  10   \n",
       "4          레토  https://movie.naver.com/movie/point/af/list.nh...  10   \n",
       "\n",
       "                                댓글  \n",
       "0  오글거리는 대사, 억지 신파, 캐릭터의 역할 모두 엉망.  \n",
       "1                   연기가 아주 좋았어요 ㅎㅎ  \n",
       "2                   킬링타임용 ㅋ 완전 재밌음  \n",
       "3                                   \n",
       "4                                   "
      ]
     },
     "execution_count": 12,
     "metadata": {},
     "output_type": "execute_result"
    }
   ],
   "source": [
    "df.head()"
   ]
  },
  {
   "cell_type": "code",
   "execution_count": null,
   "metadata": {},
   "outputs": [],
   "source": []
  }
 ],
 "metadata": {
  "kernelspec": {
   "display_name": "Python 3",
   "language": "python",
   "name": "python3"
  },
  "language_info": {
   "codemirror_mode": {
    "name": "ipython",
    "version": 3
   },
   "file_extension": ".py",
   "mimetype": "text/x-python",
   "name": "python",
   "nbconvert_exporter": "python",
   "pygments_lexer": "ipython3",
   "version": "3.7.7"
  },
  "varInspector": {
   "cols": {
    "lenName": 16,
    "lenType": 16,
    "lenVar": 40
   },
   "kernels_config": {
    "python": {
     "delete_cmd_postfix": "",
     "delete_cmd_prefix": "del ",
     "library": "var_list.py",
     "varRefreshCmd": "print(var_dic_list())"
    },
    "r": {
     "delete_cmd_postfix": ") ",
     "delete_cmd_prefix": "rm(",
     "library": "var_list.r",
     "varRefreshCmd": "cat(var_dic_list()) "
    }
   },
   "types_to_exclude": [
    "module",
    "function",
    "builtin_function_or_method",
    "instance",
    "_Feature"
   ],
   "window_display": false
  }
 },
 "nbformat": 4,
 "nbformat_minor": 4
}
