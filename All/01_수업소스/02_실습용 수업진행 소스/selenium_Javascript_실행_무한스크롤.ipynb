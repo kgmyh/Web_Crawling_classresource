{
 "cells": [
  {
   "cell_type": "code",
   "execution_count": 2,
   "metadata": {
    "ExecuteTime": {
     "end_time": "2020-07-23T14:23:48.742947Z",
     "start_time": "2020-07-23T14:23:42.032582Z"
    }
   },
   "outputs": [],
   "source": [
    "from selenium.webdriver import Chrome\n",
    "\n",
    "driver = Chrome()\n",
    "url = 'http://www.youtube.com'\n",
    "driver.get(url)"
   ]
  },
  {
   "cell_type": "code",
   "execution_count": 3,
   "metadata": {
    "ExecuteTime": {
     "end_time": "2020-07-23T14:24:14.156372Z",
     "start_time": "2020-07-23T14:24:14.083570Z"
    }
   },
   "outputs": [
    {
     "name": "stdout",
     "output_type": "stream",
     "text": [
      "YouTube\n",
      "3638\n",
      "2963.199951171875\n"
     ]
    }
   ],
   "source": [
    "driver.execute_script('window.scrollTo(0,10000)')\n",
    "a = driver.execute_script('return document.title')\n",
    "height = driver.execute_script('return document.documentElement.scrollHeight')\n",
    "top = driver.execute_script('return document.documentElement.scrollTop')\n",
    "print(a)\n",
    "print(height)\n",
    "print(top)"
   ]
  },
  {
   "cell_type": "markdown",
   "metadata": {},
   "source": [
    "### 무한스크롤\n",
    "- scrollTo(x, y) : 상하는 y값만 좌우는 x값만 설정\n",
    "- 아래코드는 `document.documentElement.scrollHeight` 스크롤 높이 반환 그러니까 스크롤의 높이 밑이 스크롤 상단으로 이동하는 꼴. 그래서 스크롤이 내려간다."
   ]
  },
  {
   "cell_type": "code",
   "execution_count": 6,
   "metadata": {
    "ExecuteTime": {
     "end_time": "2020-07-23T14:28:21.654759Z",
     "start_time": "2020-07-23T14:28:20.636473Z"
    }
   },
   "outputs": [
    {
     "name": "stdout",
     "output_type": "stream",
     "text": [
      "10065\n",
      "0\n"
     ]
    }
   ],
   "source": [
    "import time\n",
    "# import random\n",
    "SCROLL_PAUSE_TIME = 1\n",
    "last_height = driver.execute_script('return document.documentElement.scrollHeight')\n",
    "print(last_height)\n",
    "while True:\n",
    "#     print(driver.execute_script('return document.documentElement.scrollHeight'))\n",
    "#     driver.execute_script('window.scrollTo(0, document.documentElement.scrollHeight)')\n",
    "    driver.execute_script('window.scrollTo(0, document.documentElement.scrollHeight)')\n",
    "    time.sleep(SCROLL_PAUSE_TIME)\n",
    "    new_height = driver.execute_script('return document.documentElement.scrollHeight')\n",
    "    print(new_height - last_height)\n",
    "    if last_height == new_height:\n",
    "        break\n",
    "    last_height = new_height\n",
    "# print(last_height)    "
   ]
  },
  {
   "cell_type": "code",
   "execution_count": 1,
   "metadata": {
    "ExecuteTime": {
     "end_time": "2020-07-23T14:46:13.217359Z",
     "start_time": "2020-07-23T14:45:56.177945Z"
    }
   },
   "outputs": [
    {
     "ename": "NoSuchWindowException",
     "evalue": "Message: no such window: target window already closed\nfrom unknown error: web view not found\n  (Session info: chrome=84.0.4147.89)\n",
     "output_type": "error",
     "traceback": [
      "\u001b[1;31m---------------------------------------------------------------------------\u001b[0m",
      "\u001b[1;31mNoSuchWindowException\u001b[0m                     Traceback (most recent call last)",
      "\u001b[1;32m<ipython-input-1-a79e849d8eae>\u001b[0m in \u001b[0;36m<module>\u001b[1;34m\u001b[0m\n\u001b[0;32m     14\u001b[0m \u001b[1;31m# 현재 스크롤 높이 저장 변수\u001b[0m\u001b[1;33m\u001b[0m\u001b[1;33m\u001b[0m\u001b[1;33m\u001b[0m\u001b[0m\n\u001b[0;32m     15\u001b[0m \u001b[1;33m\u001b[0m\u001b[0m\n\u001b[1;32m---> 16\u001b[1;33m \u001b[0mscrollpane_height\u001b[0m \u001b[1;33m=\u001b[0m \u001b[0mdriver\u001b[0m\u001b[1;33m.\u001b[0m\u001b[0mexecute_script\u001b[0m\u001b[1;33m(\u001b[0m\u001b[1;34m'return document.documentElement.scrollHeight'\u001b[0m\u001b[1;33m)\u001b[0m \u001b[1;31m# 이동 전 스크롤패인의 높이\u001b[0m\u001b[1;33m\u001b[0m\u001b[1;33m\u001b[0m\u001b[0m\n\u001b[0m\u001b[0;32m     17\u001b[0m \u001b[1;31m# print(scroll_pane_height)\u001b[0m\u001b[1;33m\u001b[0m\u001b[1;33m\u001b[0m\u001b[1;33m\u001b[0m\u001b[0m\n\u001b[0;32m     18\u001b[0m \u001b[1;32mwhile\u001b[0m \u001b[1;32mTrue\u001b[0m\u001b[1;33m:\u001b[0m\u001b[1;33m\u001b[0m\u001b[1;33m\u001b[0m\u001b[0m\n",
      "\u001b[1;32m~\\anaconda3\\lib\\site-packages\\selenium\\webdriver\\remote\\webdriver.py\u001b[0m in \u001b[0;36mexecute_script\u001b[1;34m(self, script, *args)\u001b[0m\n\u001b[0;32m    634\u001b[0m         return self.execute(command, {\n\u001b[0;32m    635\u001b[0m             \u001b[1;34m'script'\u001b[0m\u001b[1;33m:\u001b[0m \u001b[0mscript\u001b[0m\u001b[1;33m,\u001b[0m\u001b[1;33m\u001b[0m\u001b[1;33m\u001b[0m\u001b[0m\n\u001b[1;32m--> 636\u001b[1;33m             'args': converted_args})['value']\n\u001b[0m\u001b[0;32m    637\u001b[0m \u001b[1;33m\u001b[0m\u001b[0m\n\u001b[0;32m    638\u001b[0m     \u001b[1;32mdef\u001b[0m \u001b[0mexecute_async_script\u001b[0m\u001b[1;33m(\u001b[0m\u001b[0mself\u001b[0m\u001b[1;33m,\u001b[0m \u001b[0mscript\u001b[0m\u001b[1;33m,\u001b[0m \u001b[1;33m*\u001b[0m\u001b[0margs\u001b[0m\u001b[1;33m)\u001b[0m\u001b[1;33m:\u001b[0m\u001b[1;33m\u001b[0m\u001b[1;33m\u001b[0m\u001b[0m\n",
      "\u001b[1;32m~\\anaconda3\\lib\\site-packages\\selenium\\webdriver\\remote\\webdriver.py\u001b[0m in \u001b[0;36mexecute\u001b[1;34m(self, driver_command, params)\u001b[0m\n\u001b[0;32m    319\u001b[0m         \u001b[0mresponse\u001b[0m \u001b[1;33m=\u001b[0m \u001b[0mself\u001b[0m\u001b[1;33m.\u001b[0m\u001b[0mcommand_executor\u001b[0m\u001b[1;33m.\u001b[0m\u001b[0mexecute\u001b[0m\u001b[1;33m(\u001b[0m\u001b[0mdriver_command\u001b[0m\u001b[1;33m,\u001b[0m \u001b[0mparams\u001b[0m\u001b[1;33m)\u001b[0m\u001b[1;33m\u001b[0m\u001b[1;33m\u001b[0m\u001b[0m\n\u001b[0;32m    320\u001b[0m         \u001b[1;32mif\u001b[0m \u001b[0mresponse\u001b[0m\u001b[1;33m:\u001b[0m\u001b[1;33m\u001b[0m\u001b[1;33m\u001b[0m\u001b[0m\n\u001b[1;32m--> 321\u001b[1;33m             \u001b[0mself\u001b[0m\u001b[1;33m.\u001b[0m\u001b[0merror_handler\u001b[0m\u001b[1;33m.\u001b[0m\u001b[0mcheck_response\u001b[0m\u001b[1;33m(\u001b[0m\u001b[0mresponse\u001b[0m\u001b[1;33m)\u001b[0m\u001b[1;33m\u001b[0m\u001b[1;33m\u001b[0m\u001b[0m\n\u001b[0m\u001b[0;32m    322\u001b[0m             response['value'] = self._unwrap_value(\n\u001b[0;32m    323\u001b[0m                 response.get('value', None))\n",
      "\u001b[1;32m~\\anaconda3\\lib\\site-packages\\selenium\\webdriver\\remote\\errorhandler.py\u001b[0m in \u001b[0;36mcheck_response\u001b[1;34m(self, response)\u001b[0m\n\u001b[0;32m    240\u001b[0m                 \u001b[0malert_text\u001b[0m \u001b[1;33m=\u001b[0m \u001b[0mvalue\u001b[0m\u001b[1;33m[\u001b[0m\u001b[1;34m'alert'\u001b[0m\u001b[1;33m]\u001b[0m\u001b[1;33m.\u001b[0m\u001b[0mget\u001b[0m\u001b[1;33m(\u001b[0m\u001b[1;34m'text'\u001b[0m\u001b[1;33m)\u001b[0m\u001b[1;33m\u001b[0m\u001b[1;33m\u001b[0m\u001b[0m\n\u001b[0;32m    241\u001b[0m             \u001b[1;32mraise\u001b[0m \u001b[0mexception_class\u001b[0m\u001b[1;33m(\u001b[0m\u001b[0mmessage\u001b[0m\u001b[1;33m,\u001b[0m \u001b[0mscreen\u001b[0m\u001b[1;33m,\u001b[0m \u001b[0mstacktrace\u001b[0m\u001b[1;33m,\u001b[0m \u001b[0malert_text\u001b[0m\u001b[1;33m)\u001b[0m\u001b[1;33m\u001b[0m\u001b[1;33m\u001b[0m\u001b[0m\n\u001b[1;32m--> 242\u001b[1;33m         \u001b[1;32mraise\u001b[0m \u001b[0mexception_class\u001b[0m\u001b[1;33m(\u001b[0m\u001b[0mmessage\u001b[0m\u001b[1;33m,\u001b[0m \u001b[0mscreen\u001b[0m\u001b[1;33m,\u001b[0m \u001b[0mstacktrace\u001b[0m\u001b[1;33m)\u001b[0m\u001b[1;33m\u001b[0m\u001b[1;33m\u001b[0m\u001b[0m\n\u001b[0m\u001b[0;32m    243\u001b[0m \u001b[1;33m\u001b[0m\u001b[0m\n\u001b[0;32m    244\u001b[0m     \u001b[1;32mdef\u001b[0m \u001b[0m_value_or_default\u001b[0m\u001b[1;33m(\u001b[0m\u001b[0mself\u001b[0m\u001b[1;33m,\u001b[0m \u001b[0mobj\u001b[0m\u001b[1;33m,\u001b[0m \u001b[0mkey\u001b[0m\u001b[1;33m,\u001b[0m \u001b[0mdefault\u001b[0m\u001b[1;33m)\u001b[0m\u001b[1;33m:\u001b[0m\u001b[1;33m\u001b[0m\u001b[1;33m\u001b[0m\u001b[0m\n",
      "\u001b[1;31mNoSuchWindowException\u001b[0m: Message: no such window: target window already closed\nfrom unknown error: web view not found\n  (Session info: chrome=84.0.4147.89)\n"
     ]
    }
   ],
   "source": [
    "from selenium.webdriver import Chrome\n",
    "import time\n",
    "\n",
    "url = \"https://www.youtube.com/?gl=KR&hl=ko\"\n",
    "driver = Chrome()\n",
    "driver.get(url)\n",
    "\n",
    "### 무한스크롤\n",
    "#  execute_script(\"자바스크립트 코드\") : 자바스크립트 코드. JS 코드에서 return 하는 값을 매개변수로 받을 수 있다.\n",
    "# Javascript 함수\n",
    "#  - scrollTo(x, y) : 스크롤바의 위치를 이동시킨다. 상하는 y값만 좌우는 x값만 설정\n",
    "#  - document.documentElement.scrollHeight: 스크롤패인의 높이를 반환. documentElement 대신 body를 하기도 한다. (크롬은 안됨)\n",
    "\n",
    "# 현재 스크롤 높이 저장 변수\n",
    "\n",
    "scrollpane_height = driver.execute_script('return document.documentElement.scrollHeight') # 이동 전 스크롤패인의 높이\n",
    "# print(scroll_pane_height)\n",
    "while True:\n",
    "    # 스크롤바를 스크롤패인의 높이 만큼 이동시킨다.\n",
    "    driver.execute_script('window.scrollTo(0, document.documentElement.scrollHeight)')\n",
    "    # 밑에 붙일 내용을 요청해서 화면을 만들때 까지 약간의 시간차를 둔다.\n",
    "    time.sleep(1)\n",
    "    new_scroll_pane_height = driver.execute_script('return document.documentElement.scrollHeight')\n",
    "#     print(scroll_pane_height, new_scroll_pane_height)\n",
    "    #이동전의 높이와 이동후 높이가 같으면 반복문을 빠져나온다.\n",
    "    if scroll_pane_height == new_scroll_pane_height:\n",
    "        break\n",
    "    scroll_pane_height = new_scroll_pane_height\n",
    "    \n",
    " "
   ]
  },
  {
   "cell_type": "markdown",
   "metadata": {},
   "source": [
    "### 제목 링크 가져오기"
   ]
  },
  {
   "cell_type": "code",
   "execution_count": 17,
   "metadata": {
    "ExecuteTime": {
     "end_time": "2020-07-23T14:49:42.982852Z",
     "start_time": "2020-07-23T14:49:41.483833Z"
    }
   },
   "outputs": [],
   "source": [
    "# 목록의 제목과 동영상링크 가져오기.\n",
    "from bs4 import BeautifulSoup\n",
    "from urllib import parse\n",
    "\n",
    "soup = BeautifulSoup(driver.page_source)\n",
    "a_list = soup.select('div#contents div#content a#video-title-link')\n",
    "result = []\n",
    "for a_tag in a_list:\n",
    "    link = parse.urljoin(url, a_tag.get('href'))\n",
    "    title = a_tag.text\n",
    "    result.append([link, title])\n",
    "\n",
    "driver.close()"
   ]
  },
  {
   "cell_type": "code",
   "execution_count": 18,
   "metadata": {
    "ExecuteTime": {
     "end_time": "2020-07-23T14:49:45.396365Z",
     "start_time": "2020-07-23T14:49:45.391379Z"
    }
   },
   "outputs": [
    {
     "data": {
      "text/plain": [
       "['🔥[No.1 채널 멜론둥이의 멜론차트]🔥 2020년 7월 23일 4주차🔥KPOP Chart🔥 최신 인기가요 노래 모음!!🔥🔥',\n",
       " 'Infinite Challenge, Waikiki Brothers(3) #05, 와이키키 브라더스(3) 20130406',\n",
       " '얼음 속 잉어를 노리는 고양이']"
      ]
     },
     "execution_count": 18,
     "metadata": {},
     "output_type": "execute_result"
    }
   ],
   "source": [
    "title[:3]"
   ]
  },
  {
   "cell_type": "code",
   "execution_count": 21,
   "metadata": {
    "ExecuteTime": {
     "end_time": "2020-07-23T14:49:57.257632Z",
     "start_time": "2020-07-23T14:49:57.252645Z"
    }
   },
   "outputs": [
    {
     "name": "stdout",
     "output_type": "stream",
     "text": [
      "https://www.youtube.com/watch?v=m5XO1k28J5A\n"
     ]
    }
   ],
   "source": [
    "print(link[0])"
   ]
  },
  {
   "cell_type": "code",
   "execution_count": null,
   "metadata": {},
   "outputs": [],
   "source": []
  }
 ],
 "metadata": {
  "kernelspec": {
   "display_name": "Python 3",
   "language": "python",
   "name": "python3"
  },
  "language_info": {
   "codemirror_mode": {
    "name": "ipython",
    "version": 3
   },
   "file_extension": ".py",
   "mimetype": "text/x-python",
   "name": "python",
   "nbconvert_exporter": "python",
   "pygments_lexer": "ipython3",
   "version": "3.7.6"
  }
 },
 "nbformat": 4,
 "nbformat_minor": 2
}
