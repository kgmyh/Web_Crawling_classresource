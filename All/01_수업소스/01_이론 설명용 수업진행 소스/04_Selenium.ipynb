{
 "cells": [
  {
   "cell_type": "markdown",
   "metadata": {},
   "source": [
    "# GUIDE\n",
    "- [대기하기](#대기-하기)  \n",
    "    - https://selenium-python.readthedocs.io/waits.html#explicit-waits\n"
   ]
  },
  {
   "cell_type": "code",
   "execution_count": 4,
   "metadata": {
    "ExecuteTime": {
     "end_time": "2023-04-16T15:44:37.239545Z",
     "start_time": "2023-04-16T15:44:37.224516Z"
    }
   },
   "outputs": [],
   "source": [
    "# pip install selenium\n",
    "# pip install webdriver-manager"
   ]
  },
  {
   "cell_type": "markdown",
   "metadata": {},
   "source": [
    "# [Selenium](https://www.selenium.dev/)\n",
    "\n",
    "- **웹 브라우저 제어 도구**\n",
    "    - 원래는 웹 어플리케이션 자동 테스트를 위한 목적으로 만들어진 프레임워크.\n",
    "    - 웹브라우저를 프로그램을 이용해 제어할 수 있다.\n",
    "- Request 모듈의 문제점    \n",
    "    - Javascript를 이용한 AJAX 기법의 비동기적 요청 처리 페이지 크롤링이 힘들다.\n",
    "    - 로그인 후 요청이 가능한 페이지들에 대한 크롤링이 번거롭다.\n",
    "    - Selenium을 활용하면 이 두가지 모두 쉽게 처리할 수 있다.\n",
    "    \n",
    "- Selenium 단점 \n",
    "    - 속도가 느림\n",
    "- 설치\n",
    "    - 파이썬 패키지 설치\n",
    "    - `conda install selenium`\n",
    "    - `pip install selenium`\n",
    "- [튜토리얼](https://selenium-python.readthedocs.io/)    "
   ]
  },
  {
   "cell_type": "code",
   "execution_count": 1,
   "metadata": {
    "ExecuteTime": {
     "end_time": "2020-07-17T02:15:04.198236Z",
     "start_time": "2020-07-17T02:14:58.999085Z"
    },
    "collapsed": true
   },
   "outputs": [
    {
     "name": "stdout",
     "output_type": "stream",
     "text": [
      "Collecting selenium\n",
      "  Downloading selenium-4.8.2-py3-none-any.whl (6.9 MB)\n",
      "     ---------------------------------------- 6.9/6.9 MB 17.7 MB/s eta 0:00:00\n",
      "Collecting trio-websocket~=0.9\n",
      "  Downloading trio_websocket-0.10.2-py3-none-any.whl (17 kB)\n",
      "Requirement already satisfied: certifi>=2021.10.8 in c:\\users\\kgmyh\\miniconda3\\lib\\site-packages (from selenium) (2022.12.7)\n",
      "Collecting trio~=0.17\n",
      "  Downloading trio-0.22.0-py3-none-any.whl (384 kB)\n",
      "     ------------------------------------- 384.9/384.9 kB 25.0 MB/s eta 0:00:00\n",
      "Requirement already satisfied: urllib3[socks]~=1.26 in c:\\users\\kgmyh\\miniconda3\\lib\\site-packages (from selenium) (1.26.14)\n",
      "Collecting exceptiongroup>=1.0.0rc9\n",
      "  Downloading exceptiongroup-1.1.1-py3-none-any.whl (14 kB)\n",
      "Collecting sortedcontainers\n",
      "  Downloading sortedcontainers-2.4.0-py2.py3-none-any.whl (29 kB)\n",
      "Requirement already satisfied: cffi>=1.14 in c:\\users\\kgmyh\\miniconda3\\lib\\site-packages (from trio~=0.17->selenium) (1.15.1)\n",
      "Requirement already satisfied: sniffio in c:\\users\\kgmyh\\miniconda3\\lib\\site-packages (from trio~=0.17->selenium) (1.3.0)\n",
      "Collecting outcome\n",
      "  Downloading outcome-1.2.0-py2.py3-none-any.whl (9.7 kB)\n",
      "Requirement already satisfied: attrs>=19.2.0 in c:\\users\\kgmyh\\miniconda3\\lib\\site-packages (from trio~=0.17->selenium) (22.2.0)\n",
      "Collecting async-generator>=1.9\n",
      "  Downloading async_generator-1.10-py3-none-any.whl (18 kB)\n",
      "Requirement already satisfied: idna in c:\\users\\kgmyh\\miniconda3\\lib\\site-packages (from trio~=0.17->selenium) (3.4)\n",
      "Collecting wsproto>=0.14\n",
      "  Downloading wsproto-1.2.0-py3-none-any.whl (24 kB)\n",
      "Requirement already satisfied: PySocks!=1.5.7,<2.0,>=1.5.6 in c:\\users\\kgmyh\\miniconda3\\lib\\site-packages (from urllib3[socks]~=1.26->selenium) (1.7.1)\n",
      "Requirement already satisfied: pycparser in c:\\users\\kgmyh\\miniconda3\\lib\\site-packages (from cffi>=1.14->trio~=0.17->selenium) (2.21)\n",
      "Collecting h11<1,>=0.9.0\n",
      "  Downloading h11-0.14.0-py3-none-any.whl (58 kB)\n",
      "     ---------------------------------------- 58.3/58.3 kB 3.0 MB/s eta 0:00:00\n",
      "Installing collected packages: sortedcontainers, outcome, h11, exceptiongroup, async-generator, wsproto, trio, trio-websocket, selenium\n",
      "Successfully installed async-generator-1.10 exceptiongroup-1.1.1 h11-0.14.0 outcome-1.2.0 selenium-4.8.2 sortedcontainers-2.4.0 trio-0.22.0 trio-websocket-0.10.2 wsproto-1.2.0\n"
     ]
    }
   ],
   "source": [
    "!pip install selenium"
   ]
  },
  {
   "cell_type": "markdown",
   "metadata": {},
   "source": [
    "## 드라이버\n",
    "\n",
    "- 드라이버 : 웹브라우저를 제어하는 프로그램\n",
    "    - 웹 브라우저별로 제공된다.\n",
    "    - 위에서 설치한 selenium 패키지의 드라이버객체를 이용해 이 드라이버를 제어하게 된다.\n",
    "    \n",
    "### 설치\n",
    "1. **DriverManager 이용**\n",
    "    - `pip install webdriver-manager` "
   ]
  },
  {
   "cell_type": "markdown",
   "metadata": {},
   "source": [
    "2. **Hard coding**\n",
    "    1. 브라우져별로 드라이버를 다운로드 받는다.\n",
    "        - https://www.selenium.dev/documentation/webdriver/getting_started/install_drivers/#quick-reference\n",
    "    2. Local 컴퓨터에 설치된 크롬브라우져 버전에 맞는 드라이버 선택\n"
   ]
  },
  {
   "cell_type": "markdown",
   "metadata": {},
   "source": [
    "## Selenium 기본 "
   ]
  },
  {
   "cell_type": "code",
   "execution_count": 1,
   "metadata": {
    "ExecuteTime": {
     "end_time": "2023-04-16T15:42:30.869968Z",
     "start_time": "2023-04-16T15:42:30.846932Z"
    }
   },
   "outputs": [
    {
     "data": {
      "text/plain": [
       "'4.8.2'"
      ]
     },
     "execution_count": 1,
     "metadata": {},
     "output_type": "execute_result"
    }
   ],
   "source": [
    "import selenium\n",
    "\n",
    "selenium.__version__"
   ]
  },
  {
   "cell_type": "markdown",
   "metadata": {},
   "source": [
    "### DriverManager를 이용"
   ]
  },
  {
   "cell_type": "code",
   "execution_count": 9,
   "metadata": {
    "ExecuteTime": {
     "end_time": "2023-04-16T15:46:54.587011Z",
     "start_time": "2023-04-16T15:46:53.545244Z"
    }
   },
   "outputs": [
    {
     "data": {
      "text/plain": [
       "'C:\\\\Users\\\\kgmyh\\\\.wdm\\\\drivers\\\\chromedriver\\\\win32\\\\112.0.5615\\\\chromedriver.exe'"
      ]
     },
     "execution_count": 9,
     "metadata": {},
     "output_type": "execute_result"
    }
   ],
   "source": [
    "# ChromeDriverManager().install()  # 처음에는 다운로드후 그 다음은 그냥 경로 반환"
   ]
  },
  {
   "cell_type": "code",
   "execution_count": 11,
   "metadata": {
    "ExecuteTime": {
     "end_time": "2023-04-16T15:50:15.916169Z",
     "start_time": "2023-04-16T15:50:15.906170Z"
    }
   },
   "outputs": [],
   "source": [
    "from webdriver_manager.chrome import ChromeDriverManager\n",
    "from selenium.webdriver.chrome.service import Service\n",
    "from selenium import webdriver"
   ]
  },
  {
   "cell_type": "code",
   "execution_count": 12,
   "metadata": {
    "ExecuteTime": {
     "end_time": "2023-04-16T15:50:20.814807Z",
     "start_time": "2023-04-16T15:50:16.495377Z"
    }
   },
   "outputs": [],
   "source": [
    "service = Service(executable_path=ChromeDriverManager().install())  # 처음 실행시 다운로드 받는다. home/.wdm 디렉토리 아래.\n",
    "driver = webdriver.Chrome(service=service)"
   ]
  },
  {
   "cell_type": "code",
   "execution_count": 13,
   "metadata": {
    "ExecuteTime": {
     "end_time": "2023-04-16T15:50:24.118727Z",
     "start_time": "2023-04-16T15:50:24.002712Z"
    }
   },
   "outputs": [],
   "source": [
    "driver.close()"
   ]
  },
  {
   "cell_type": "markdown",
   "metadata": {},
   "source": [
    "### Chrome Driver 경로 지정"
   ]
  },
  {
   "cell_type": "code",
   "execution_count": 14,
   "metadata": {
    "ExecuteTime": {
     "end_time": "2023-04-16T15:50:36.606558Z",
     "start_time": "2023-04-16T15:50:30.874030Z"
    }
   },
   "outputs": [],
   "source": [
    "# 직접 크롬 드라이버 설치 후\n",
    "from selenium.webdriver.chrome.service import Service\n",
    "from selenium import webdriver\n",
    "\n",
    "service = Service(executable_path=\"./chromedriver/chromedriver.exe\")\n",
    "driver = webdriver.Chrome(service=service)"
   ]
  },
  {
   "cell_type": "code",
   "execution_count": 15,
   "metadata": {
    "ExecuteTime": {
     "end_time": "2023-04-16T15:50:41.549098Z",
     "start_time": "2023-04-16T15:50:40.081660Z"
    }
   },
   "outputs": [
    {
     "name": "stdout",
     "output_type": "stream",
     "text": [
      "a0\n"
     ]
    }
   ],
   "source": [
    "# 페이지 요청\n",
    "driver.get('http://daum.net')\n",
    "driver.implicitly_wait(5) # 페이지 로딩(dom tree완성)될 때까지 최대 5초간 기다린다. (먼저되면 끝남. sleep()은 지정된 시간만큼)\n",
    "print('a0')"
   ]
  },
  {
   "cell_type": "code",
   "execution_count": 16,
   "metadata": {
    "ExecuteTime": {
     "end_time": "2023-04-16T15:50:46.671577Z",
     "start_time": "2023-04-16T15:50:44.425396Z"
    }
   },
   "outputs": [],
   "source": [
    "driver.quit() #driver.close()"
   ]
  },
  {
   "cell_type": "markdown",
   "metadata": {
    "heading_collapsed": true
   },
   "source": [
    "# 주요 메소드\n",
    "### Driver 속성\n",
    "- page_source : 현재 페이지의 html 소스를 반환\n",
    "- page_source로 html을 받아서 BeautifulSoup으로 크롤링할 원소를 찾을 수 있다.\n",
    "\n",
    "### Driver의 Element 조회 메소드\n",
    "- BeautifulSoup을 이용하지 않고 셀레늄 자체 parser를 이용할 수 있다.\n",
    "- 조회결과 : WebElement\n",
    "- find_element_xxxx : 조건을 만족하는 요소 하나를 찾는다.\n",
    "    - find_element_by_id()\n",
    "        - 태그의 id속성으로 element 조회\n",
    "    - find_element_by_class_name()\n",
    "        - 태그의 class속성으로 element 조회\n",
    "    - find_element_by_css_selector()\n",
    "        - css selector로 element 조회\n",
    "    - find_element_by_name()\n",
    "        - 입력 태그의 name 속성으로 element 조회    \n",
    "- find_element**s**_xxx : 조건을 만족하는 모든 요소를 찾는다.\n",
    "    - find_elements_by_id()\n",
    "    - find_elements_by_class_name()\n",
    "    - find_elements_by_css_selector()\n",
    "    - find_elements_by_name()    \n",
    "\n",
    "### WebElement (조회결과) 메소드 / 속성\n",
    "- 메소드\n",
    "    - get_attribute('속성명') : 태그의 속성값 조회\n",
    "    - send_keys(\"문자열\") : 입력폼에 문자열 값을 입력.\n",
    "    - click() : element를 클릭\n",
    "    - submit() : element가 Form인 경우 폼 전송\n",
    "    - clear() : element가 입력폼인 경우 텍스트를 지운다.\n",
    "    - 위 조회 메소드들 : 하위의 elements들 조회\n",
    "- 속성\n",
    "    - text : 태그내의 텍스트\n",
    "    - tag_name : 태그이름 "
   ]
  },
  {
   "cell_type": "code",
   "execution_count": 1,
   "metadata": {
    "ExecuteTime": {
     "end_time": "2023-04-16T15:57:52.657328Z",
     "start_time": "2023-04-16T15:57:52.641286Z"
    }
   },
   "outputs": [],
   "source": [
    "from webdriver_manager.chrome import ChromeDriverManager\n",
    "from selenium import webdriver\n",
    "\n",
    "from selenium.webdriver.chrome.service import Service\n",
    "from selenium.webdriver.common.by import By\n",
    "from selenium.webdriver.common.keys import Keys"
   ]
  },
  {
   "cell_type": "code",
   "execution_count": null,
   "metadata": {
    "ExecuteTime": {
     "end_time": "2023-04-16T15:51:36.396579Z",
     "start_time": "2023-04-16T15:51:28.400313Z"
    }
   },
   "outputs": [],
   "source": [
    "service = Service(executable_path=ChromeDriverManager().install())  # 처음 실행시 다운로드 받는다. home/.wdm 디렉토리 아래.\n",
    "driver = webdriver.Chrome(service=service)"
   ]
  },
  {
   "cell_type": "code",
   "execution_count": 18,
   "metadata": {
    "ExecuteTime": {
     "end_time": "2023-04-16T15:51:36.396579Z",
     "start_time": "2023-04-16T15:51:28.400313Z"
    }
   },
   "outputs": [],
   "source": [
    "driver.get('https://naver.com')"
   ]
  },
  {
   "cell_type": "code",
   "execution_count": 50,
   "metadata": {
    "ExecuteTime": {
     "end_time": "2020-07-26T15:31:17.830153Z",
     "start_time": "2020-07-26T15:31:17.810405Z"
    }
   },
   "outputs": [
    {
     "data": {
      "text/plain": [
       "\"\\nimg = driver.get_screenshot_as_png()\\nwith open('test.png', 'wb') as f:\\n    f.write(img)\\n\""
      ]
     },
     "execution_count": 50,
     "metadata": {},
     "output_type": "execute_result"
    }
   ],
   "source": [
    "# 이미지 캡처\n",
    "if False:\n",
    "    \"\"\"\n",
    "    img = driver.get_screenshot_as_png()\n",
    "    with open('test.png', 'wb') as f:\n",
    "        f.write(img)\n",
    "    \"\"\""
   ]
  },
  {
   "cell_type": "code",
   "execution_count": 19,
   "metadata": {
    "ExecuteTime": {
     "end_time": "2023-04-16T15:52:02.719193Z",
     "start_time": "2023-04-16T15:52:02.228623Z"
    }
   },
   "outputs": [
    {
     "data": {
      "text/plain": [
       "True"
      ]
     },
     "execution_count": 19,
     "metadata": {},
     "output_type": "execute_result"
    }
   ],
   "source": [
    "# 이미지 캡처\n",
    "driver.get_screenshot_as_file('naver_main.png')"
   ]
  },
  {
   "cell_type": "code",
   "execution_count": 20,
   "metadata": {
    "ExecuteTime": {
     "end_time": "2023-04-16T15:52:22.816195Z",
     "start_time": "2023-04-16T15:52:22.771211Z"
    }
   },
   "outputs": [
    {
     "name": "stdout",
     "output_type": "stream",
     "text": [
      "<html lang=\"ko\" data-dark=\"false\" data-useragent=\"Mozilla/5.0 (Windows NT 10.0; Win64; x64) AppleWebKit/537.36 (KHTML, like Gecko) Chrome/112.0.0.0 Safari/537.36\"><head><script async=\"\" type=\"text/javascript\" src=\"https://ssl.pstatic.net/tveta/libs/ndpsdk/prod/ndp-core.js\"></script> <meta charset=\"u\n"
     ]
    }
   ],
   "source": [
    "html = driver.page_source\n",
    "print(html[:300])"
   ]
  },
  {
   "cell_type": "code",
   "execution_count": 22,
   "metadata": {
    "ExecuteTime": {
     "end_time": "2023-04-16T15:53:39.834869Z",
     "start_time": "2023-04-16T15:53:39.787849Z"
    }
   },
   "outputs": [],
   "source": [
    "# 자바스크립트 함수 호출\n",
    "driver.execute_script('alert(10)')"
   ]
  },
  {
   "cell_type": "code",
   "execution_count": 23,
   "metadata": {
    "ExecuteTime": {
     "end_time": "2023-04-16T15:54:04.930959Z",
     "start_time": "2023-04-16T15:54:04.892950Z"
    }
   },
   "outputs": [],
   "source": [
    "# alert 처리 - 테스트중 alert이 뜨는 경우 없애지 않으면 다음 작업을 못한다. alert/confirm 다 없앤다.\n",
    "alert = driver.switch_to.alert\n",
    "alert.accept()"
   ]
  },
  {
   "cell_type": "code",
   "execution_count": 36,
   "metadata": {
    "ExecuteTime": {
     "end_time": "2020-07-26T15:23:25.603831Z",
     "start_time": "2020-07-26T15:23:25.596318Z"
    }
   },
   "outputs": [],
   "source": [
    "# driver.switch_to?"
   ]
  },
  {
   "cell_type": "code",
   "execution_count": 24,
   "metadata": {
    "ExecuteTime": {
     "end_time": "2023-04-16T15:54:30.125355Z",
     "start_time": "2023-04-16T15:54:29.985666Z"
    }
   },
   "outputs": [],
   "source": [
    "# window 사이즈 조절\n",
    "# 셀레니움은 현재 보이는 것에 대한 이벤트(클릭)등을 지원한다. (페이지테스트목적이니까 사람이 안보이는 부분을 클릭할 수는 없잖아) 그래서 테스트시 강제로 키우거나 줄일 경우가 있다. \n",
    "driver.set_window_size(500,400)"
   ]
  },
  {
   "cell_type": "code",
   "execution_count": 25,
   "metadata": {
    "ExecuteTime": {
     "end_time": "2023-04-16T15:54:32.669869Z",
     "start_time": "2023-04-16T15:54:32.513865Z"
    }
   },
   "outputs": [],
   "source": [
    "# 브라우저 창 최대화\n",
    "driver.maximize_window()"
   ]
  },
  {
   "cell_type": "code",
   "execution_count": 26,
   "metadata": {
    "ExecuteTime": {
     "end_time": "2023-04-16T15:54:51.549168Z",
     "start_time": "2023-04-16T15:54:51.537130Z"
    }
   },
   "outputs": [
    {
     "name": "stdout",
     "output_type": "stream",
     "text": [
      "{'width': 2064, 'height': 1119}\n"
     ]
    }
   ],
   "source": [
    "# 화면 크기\n",
    "print(driver.get_window_size())"
   ]
  },
  {
   "cell_type": "code",
   "execution_count": 30,
   "metadata": {
    "ExecuteTime": {
     "end_time": "2023-04-16T15:55:44.923680Z",
     "start_time": "2023-04-16T15:55:44.889679Z"
    }
   },
   "outputs": [],
   "source": [
    "# 스크롤 이동\n",
    "driver.execute_script('window.scrollTo(300,400)') #가로스크롤위치, 세로스크롤위치"
   ]
  },
  {
   "cell_type": "code",
   "execution_count": 29,
   "metadata": {
    "ExecuteTime": {
     "end_time": "2023-04-16T15:55:36.814205Z",
     "start_time": "2023-04-16T15:55:36.791200Z"
    }
   },
   "outputs": [],
   "source": [
    "driver.execute_script('window.scrollTo(300,0)')\n",
    "# driver.execute_script('window.scrollTo(300,0)') #검색으로 돌아가려로 ^^"
   ]
  },
  {
   "cell_type": "code",
   "execution_count": 33,
   "metadata": {
    "ExecuteTime": {
     "end_time": "2023-04-16T15:58:10.974946Z",
     "start_time": "2023-04-16T15:58:10.897948Z"
    }
   },
   "outputs": [],
   "source": [
    "# input 태그에 문자열 입력 - naver는 #query, daum은 #q\n",
    "driver.find_element(By.ID, \"query\").send_keys('파이썬')"
   ]
  },
  {
   "cell_type": "code",
   "execution_count": 34,
   "metadata": {
    "ExecuteTime": {
     "end_time": "2023-04-16T15:58:31.971466Z",
     "start_time": "2023-04-16T15:58:31.889092Z"
    }
   },
   "outputs": [],
   "source": [
    "driver.find_element(By.ID, \"query\").click()"
   ]
  },
  {
   "cell_type": "code",
   "execution_count": 35,
   "metadata": {
    "ExecuteTime": {
     "end_time": "2023-04-16T15:58:51.410136Z",
     "start_time": "2023-04-16T15:58:50.034307Z"
    }
   },
   "outputs": [],
   "source": [
    "driver.find_element(By.ID, 'search_btn').click()"
   ]
  },
  {
   "cell_type": "code",
   "execution_count": 36,
   "metadata": {
    "ExecuteTime": {
     "end_time": "2023-04-16T15:59:08.350667Z",
     "start_time": "2023-04-16T15:59:08.272661Z"
    }
   },
   "outputs": [],
   "source": [
    "# input 에 입력된 것 지우기\n",
    "driver.find_element(By.ID, 'nx_query').clear()"
   ]
  },
  {
   "cell_type": "code",
   "execution_count": 37,
   "metadata": {
    "ExecuteTime": {
     "end_time": "2023-04-16T15:59:18.077106Z",
     "start_time": "2023-04-16T15:59:15.696289Z"
    }
   },
   "outputs": [],
   "source": [
    "# 브라우저 종료\n",
    "driver.quit()"
   ]
  },
  {
   "cell_type": "code",
   "execution_count": null,
   "metadata": {},
   "outputs": [],
   "source": []
  },
  {
   "cell_type": "code",
   "execution_count": 38,
   "metadata": {
    "ExecuteTime": {
     "end_time": "2023-04-16T15:59:46.977563Z",
     "start_time": "2023-04-16T15:59:38.625662Z"
    }
   },
   "outputs": [],
   "source": [
    "# 위의것 한 cell에\n",
    "from selenium.webdriver import Chrome\n",
    "driver = Chrome()\n",
    "driver.get('http://daum.net')\n",
    "img = driver.get_screenshot_as_png()\n",
    "with open('test.png', 'wb') as f:\n",
    "    f.write(img)\n",
    "html = driver.page_source\n",
    "driver.get('https://naver.com')\n",
    "# driver.set_window_size(1024,400)\n",
    "driver.find_element(By.ID, \"query\").send_keys('파이썬')\n",
    "driver.find_element(By.ID, 'search_btn').click()\n",
    "driver.find_element(By.ID, 'nx_query').clear()\n",
    "driver.quit()"
   ]
  },
  {
   "cell_type": "markdown",
   "metadata": {},
   "source": [
    "## TODO : 셀레늄으로 구글 검색\n",
    "- driver.find_element_by_name(name) : 입력 태그의 name 속성으로 조회"
   ]
  },
  {
   "cell_type": "code",
   "execution_count": 45,
   "metadata": {
    "ExecuteTime": {
     "end_time": "2023-04-16T16:09:18.712984Z",
     "start_time": "2023-04-16T16:09:18.704956Z"
    }
   },
   "outputs": [],
   "source": [
    "from webdriver_manager.chrome import ChromeDriverManager\n",
    "from selenium.webdriver.chrome.service import Service\n",
    "from selenium import webdriver\n",
    "from selenium.webdriver.common.by import By\n",
    "from selenium.webdriver.common.keys import Keys  # 엔터, 탭 같은 키보드 치기."
   ]
  },
  {
   "cell_type": "code",
   "execution_count": 40,
   "metadata": {
    "ExecuteTime": {
     "end_time": "2023-04-16T16:06:34.387718Z",
     "start_time": "2023-04-16T16:06:27.952080Z"
    }
   },
   "outputs": [],
   "source": [
    "service = Service(executable_path=ChromeDriverManager().install())  # 처음 실행시 다운로드 받는다. home/.wdm 디렉토리 아래.\n",
    "driver = webdriver.Chrome(service=service)"
   ]
  },
  {
   "cell_type": "code",
   "execution_count": 58,
   "metadata": {},
   "outputs": [],
   "source": [
    "# headless\n",
    "# options = ChromeOptions()\n",
    "# options.add_argument('headless')\n",
    "# options.add_argument('window-size=1920x1080')\n",
    "\n",
    "# driver = Chrome(options=options) "
   ]
  },
  {
   "cell_type": "code",
   "execution_count": 41,
   "metadata": {
    "ExecuteTime": {
     "end_time": "2023-04-16T16:06:35.872987Z",
     "start_time": "2023-04-16T16:06:34.426685Z"
    }
   },
   "outputs": [],
   "source": [
    "# 구글로 접속\n",
    "driver.get('http://www.google.co.kr')"
   ]
  },
  {
   "cell_type": "code",
   "execution_count": 43,
   "metadata": {
    "ExecuteTime": {
     "end_time": "2023-04-16T16:07:43.351954Z",
     "start_time": "2023-04-16T16:07:43.312973Z"
    }
   },
   "outputs": [],
   "source": [
    "# 원하는 태그(Element) 찾기\n",
    "e = driver.find_element(By.NAME, 'q')"
   ]
  },
  {
   "cell_type": "code",
   "execution_count": 47,
   "metadata": {
    "ExecuteTime": {
     "end_time": "2023-04-16T16:10:44.682227Z",
     "start_time": "2023-04-16T16:10:44.529224Z"
    }
   },
   "outputs": [],
   "source": [
    "# 검색어 입력\n",
    "e.send_keys('Python')"
   ]
  },
  {
   "cell_type": "code",
   "execution_count": 48,
   "metadata": {
    "ExecuteTime": {
     "end_time": "2023-04-16T16:10:56.651200Z",
     "start_time": "2023-04-16T16:10:55.193104Z"
    }
   },
   "outputs": [],
   "source": [
    "# 엔터\n",
    "e.send_keys(Keys.ENTER)"
   ]
  },
  {
   "cell_type": "code",
   "execution_count": 62,
   "metadata": {},
   "outputs": [],
   "source": [
    "# 엔터시 저장하겠다고 명시 한것.\n",
    "btn = driver.find_element_by_name('btnK')\n",
    "btn.click()"
   ]
  },
  {
   "cell_type": "code",
   "execution_count": 50,
   "metadata": {
    "ExecuteTime": {
     "end_time": "2023-04-16T16:16:28.826951Z",
     "start_time": "2023-04-16T16:16:28.554045Z"
    }
   },
   "outputs": [
    {
     "name": "stdout",
     "output_type": "stream",
     "text": [
      "https://www.python.org/ - Welcome to Python.org\n",
      "https://namu.wiki/w/Python - Python - 나무위키\n",
      "https://wikidocs.net/43 - 1. 파이썬 시작하기 - 왕초보를 위한 Python\n",
      "https://ko.wikipedia.org/wiki/%ED%8C%8C%EC%9D%B4%EC%8D%AC - 파이썬 - 위키백과, 우리 모두의 백과사전\n",
      "https://aws.amazon.com/ko/what-is/python/ - Python란 무엇인가요? - Python 언어 설명 - AWS\n",
      "https://realpython.com/ - Real Python: Python Tutorials\n",
      "https://www.edwith.org/sogang_python - 기초 PYTHON 프로그래밍 강좌소개 - edwith\n",
      "https://code.visualstudio.com/docs/python/python-tutorial - Get Started Tutorial for Python in Visual Studio Code\n"
     ]
    }
   ],
   "source": [
    "# 검색 결과 조회\n",
    "links = driver.find_elements(By.CSS_SELECTOR, '#rso .yuRUbf > a')\n",
    "titles = driver.find_elements(By.CSS_SELECTOR, '#rso  .yuRUbf > a > h3')\n",
    "for link, title in zip(links, titles):\n",
    "    print(link.get_attribute('href'), title.text, sep=' - ')"
   ]
  },
  {
   "cell_type": "code",
   "execution_count": 51,
   "metadata": {
    "ExecuteTime": {
     "end_time": "2023-04-16T16:16:44.004749Z",
     "start_time": "2023-04-16T16:16:43.791845Z"
    }
   },
   "outputs": [],
   "source": [
    "driver.close()"
   ]
  },
  {
   "cell_type": "markdown",
   "metadata": {},
   "source": [
    "## 브라우저의 headless 모드를 이용.\n",
    "- Headless 브라우저 \n",
    "    - 브라우저의 창을 띄우지 않고 실제 브라우저와 동일하게 동작하도록 하는 방식\n",
    "    - CLI 기반의 OS (리눅스 서버)를 지원하기 위한 브라우저\n",
    "    - 크롬은 버전 60부터 headless 모드 지원\n",
    "- selenium에서 headless 모드\n",
    "    - webdriver option에 headless 설정"
   ]
  },
  {
   "cell_type": "code",
   "execution_count": 61,
   "metadata": {
    "ExecuteTime": {
     "end_time": "2023-04-16T16:29:35.394193Z",
     "start_time": "2023-04-16T16:29:24.543897Z"
    }
   },
   "outputs": [],
   "source": [
    "# 메모리도 절약되는 듯.\n",
    "from selenium import webdriver\n",
    "import time\n",
    "\n",
    "options = webdriver.ChromeOptions()\n",
    "options.add_argument('--headless')\n",
    "# options.add_argument(\"disable-gpu\") #이건 해결된 듯. 크롬 60에서 문제\n",
    "\n",
    "service = Service(executable_path=ChromeDriverManager().install())  # 처음 실행시 다운로드 받는다. home/.wdm 디렉토리 아래.\n",
    "driver = webdriver.Chrome(service=service, options=options)\n",
    "\n",
    "driver.maximize_window()\n",
    "driver.implicitly_wait(3)\n",
    "driver.get('http://naver.com')\n",
    "time.sleep(1)\n",
    "driver.get_screenshot_as_file('naver_main_headless.png')  # 스크린 샷은 하기 전에 잠깐 멈춰야 한다.\n",
    "\n",
    "driver.quit()"
   ]
  },
  {
   "cell_type": "code",
   "execution_count": null,
   "metadata": {},
   "outputs": [],
   "source": []
  },
  {
   "cell_type": "markdown",
   "metadata": {
    "hidden": true
   },
   "source": [
    "# 대기 하기\n",
    "\n",
    "## Explicit Wait\n",
    "- 특정 조건/상황을 만족할 때 까지 대기\n",
    "- `WebDriverWait(driver, 초).until(expected_contition)` 구문 사용\n",
    "- expected_condition 함수\n",
    "     - selenium.webdriver.support.expected_conditions 모듈에 정의된 함수 사용.\n",
    "         - https://selenium-python.readthedocs.io/api.html#module-selenium.webdriver.support.expected_conditions\n",
    "     \n",
    "## Implicit Wait\n",
    "- 현재 페이지에 없는 element나 elememt들이 loading 되기를 설정한 시간만큼 기다린다. \n",
    "- 설정한 시간 이내에 elements가 loading되면 대기가 종료된다.\n",
    "- `implicit_wait(초)` 구문 사용\n",
    "- 한번 설정하면 설정된 WebDriver가 close될때 까지 그 설정이 유지된다.\n",
    "- https://selenium-python.readthedocs.io/waits.html\n",
    "\n",
    "### 예)\n",
    "```python\n",
    "driver.implicitly_wait(5) \n",
    "# 페이지 로딩(dom tree완성)될 때까지 최대 5초간 기다린다. (로딩이 되면 5초가 되지 않아도 대기를 끝낸다.)\n",
    "```\n",
    "<hr>\n",
    "\n",
    "```python\n",
    "from selenium.webdriver.support import expected_conditions as EC\n",
    "\n",
    "...\n",
    "\n",
    "try:\n",
    "    # element가 반환될 때 까지 최대 10초 기다린다.\n",
    "    element = WebDriverWait(driver, 10).until(\n",
    "        EC.presence_of_element_located((By.ID, \"myDynamicElement\"))\n",
    "    )\n",
    "finally:\n",
    "    driver.quit()\n",
    "```"
   ]
  },
  {
   "cell_type": "markdown",
   "metadata": {
    "hidden": true
   },
   "source": [
    "## 다음 로그인 후 메일 목록 가져오기"
   ]
  },
  {
   "cell_type": "code",
   "execution_count": 65,
   "metadata": {},
   "outputs": [],
   "source": [
    "from selenium.webdriver import Chrome\n",
    "with open('account.txt') as f:\n",
    "    id = f.readline().strip()\n",
    "    pwd = f.readline().strip()\n",
    "    \n",
    "driver = Chrome() #맥은 경로 지정해야 한다.\n",
    "url = 'https://logins.daum.net/accounts/signinform.do'\n",
    "\n",
    "driver.get(url)\n",
    "id_input = driver.find_element_by_id('id')\n",
    "pwd_input = driver.find_element_by_id('inputPwd')\n",
    "login_btn = driver.find_element_by_id('loginBtn')\n",
    "\n",
    "id_input.send_keys(id)\n",
    "pwd_input.send_keys(pwd)\n",
    "login_btn.click()\n",
    "mail_url = 'https://mail.daum.net'\n",
    "driver.get(mail_url)\n",
    "html_doc = driver.page_source\n",
    "from bs4 import BeautifulSoup\n",
    "soup = BeautifulSoup(html_doc)\n",
    "a_titles = soup.select('div#mailList ul a.link_subject')\n",
    "for num, a_tag in enumerate(a_titles, start=1):\n",
    "    print(num, a_tag.text.strip(),a_tag.get('href'), sep='-')\n",
    "driver.close()   "
   ]
  },
  {
   "cell_type": "code",
   "execution_count": 43,
   "metadata": {
    "ExecuteTime": {
     "end_time": "2020-07-21T13:37:43.218687Z",
     "start_time": "2020-07-21T13:37:39.542588Z"
    },
    "hidden": true
   },
   "outputs": [],
   "source": [
    "from selenium.webdriver import Chrome\n",
    "driver = Chrome() #맥은 경로 지정해야 한다."
   ]
  },
  {
   "cell_type": "code",
   "execution_count": 44,
   "metadata": {
    "ExecuteTime": {
     "end_time": "2020-07-21T13:37:57.303873Z",
     "start_time": "2020-07-21T13:37:57.292079Z"
    },
    "hidden": true
   },
   "outputs": [],
   "source": [
    "with open('account.txt') as f:\n",
    "    id = f.readline().strip()\n",
    "    pwd = f.readline().strip()"
   ]
  },
  {
   "cell_type": "code",
   "execution_count": 45,
   "metadata": {
    "ExecuteTime": {
     "end_time": "2020-07-21T13:37:59.741470Z",
     "start_time": "2020-07-21T13:37:59.250163Z"
    },
    "hidden": true
   },
   "outputs": [],
   "source": [
    "url = 'https://logins.daum.net/accounts/signinform.do'\n",
    "driver.get(url)"
   ]
  },
  {
   "cell_type": "code",
   "execution_count": 46,
   "metadata": {
    "ExecuteTime": {
     "end_time": "2020-07-21T13:38:09.917588Z",
     "start_time": "2020-07-21T13:38:09.635634Z"
    },
    "hidden": true
   },
   "outputs": [],
   "source": [
    "id_input = driver.find_element_by_id('id')\n",
    "pwd_input = driver.find_element_by_id('inputPwd')\n",
    "login_btn = driver.find_element_by_id('loginBtn')\n",
    "\n",
    "id_input.send_keys(id)\n",
    "pwd_input.send_keys(pwd)"
   ]
  },
  {
   "cell_type": "code",
   "execution_count": 47,
   "metadata": {
    "ExecuteTime": {
     "end_time": "2020-07-21T13:38:11.851882Z",
     "start_time": "2020-07-21T13:38:11.782994Z"
    },
    "hidden": true
   },
   "outputs": [],
   "source": [
    "login_btn.click()"
   ]
  },
  {
   "cell_type": "code",
   "execution_count": 48,
   "metadata": {
    "ExecuteTime": {
     "end_time": "2020-07-21T13:38:19.600017Z",
     "start_time": "2020-07-21T13:38:18.589910Z"
    },
    "hidden": true
   },
   "outputs": [],
   "source": [
    "# 메일 목록 가져오기\n",
    "mail_url = 'https://mail.daum.net'\n",
    "driver.get(mail_url)"
   ]
  },
  {
   "cell_type": "code",
   "execution_count": 49,
   "metadata": {
    "ExecuteTime": {
     "end_time": "2020-07-21T13:38:23.418618Z",
     "start_time": "2020-07-21T13:38:22.853926Z"
    },
    "hidden": true
   },
   "outputs": [],
   "source": [
    "html_doc = driver.page_source\n",
    "from bs4 import BeautifulSoup\n",
    "soup = BeautifulSoup(html_doc)"
   ]
  },
  {
   "cell_type": "code",
   "execution_count": 51,
   "metadata": {
    "ExecuteTime": {
     "end_time": "2020-07-21T13:38:24.446447Z",
     "start_time": "2020-07-21T13:38:24.417357Z"
    },
    "hidden": true,
    "scrolled": false
   },
   "outputs": [
    {
     "name": "stdout",
     "output_type": "stream",
     "text": [
      "1-제목없음-#INBOX/K000000000Eb1mI\n",
      "2-[정보기획팀] K‧PUSH+ 메세지 전송 정책 변경 안내-#INBOX/K000000000Eb1lM\n",
      "3-[아마존웹서비스] 101세미나에 함께 해주셔서 감사합니다 + AWS Builders 프로그램 안내-#INBOX/K000000000Eb1b8\n",
      "4-[장소 : GS타워 25층] 강당 AWS 101 세미나│등록 확인 안내-#INBOX/K000000000Eb1ak\n",
      "5-AWS 101 세미나│등록 확인 안내-#INBOX/K000000000Eb1ag\n",
      "6-FW: 베리베베홍대점입니다 !-#INBOX/K000000000Eb0yS\n",
      "7-Fwd:[CIO 뉴스레터] “블록체인 변곡점에 대비하라”··· 앞선 기업들의 행보는?-#INBOX/K000000000Eb0rG\n",
      "8-Fwd:[CIO 뉴스레터] 깃허브 인수로 본 오픈소스의 미래-#INBOX/K000000000Eb0rE\n",
      "9-Fwd:[ITWorld 뉴스레터] 안드로이드만의 특성 살린 생산성 앱 6가지-#INBOX/K000000000Eb0rD\n",
      "10-제목없음-#INBOX/K000000000Eb0l0\n",
      "11-다음앱 2018년 신년운세 결과입니다.-#INBOX/K000000000Eb0OB\n",
      "12-익숙함이 능률을 저하시킨다-#INBOX/K000000000EazvX\n",
      "13-Fwd:[ITWorld 뉴스레터] “웹과 앱의 경계 없어진???” 웹어셈블리가 약속하는 차세대 앱 환??-#INBOX/K000000000EazsE\n",
      "14-http://directwebremoting.org/dwr/introduction/getting-started.html-#INBOX/K000000000Eauf2\n",
      "15-이한출판사-#INBOX/K0000000002ajxK\n"
     ]
    }
   ],
   "source": [
    "a_titles = soup.select('div#mailList ul a.link_subject')\n",
    "for num, a_tag in enumerate(a_titles, start=1):\n",
    "    print(num, a_tag.text.strip(),a_tag.get('href'), sep='-')"
   ]
  },
  {
   "cell_type": "code",
   "execution_count": 35,
   "metadata": {
    "ExecuteTime": {
     "end_time": "2020-07-21T13:38:31.490207Z",
     "start_time": "2020-07-21T13:38:31.421658Z"
    },
    "hidden": true
   },
   "outputs": [],
   "source": [
    "driver.close()"
   ]
  },
  {
   "cell_type": "code",
   "execution_count": null,
   "metadata": {},
   "outputs": [],
   "source": []
  },
  {
   "cell_type": "markdown",
   "metadata": {
    "hidden": true
   },
   "source": [
    "## G:네이버 로그인 - 캡차땜시 안된다 \n",
    "- copy & paste로 하면 된다. (안됬는데 되네..)\n",
    "- 네이버는 2018년 부터 사용자가 소프트웨어적 입력을 이용한 로그인을 막기 위해 Captcha 시스템을 적용함\n",
    "    - 매크로 방지를 위해 이상 접근으로 감지 되면 확인을 위해 랜덤 이미지를 보여주고 입력하게 하는 방식\n",
    "    "
   ]
  },
  {
   "cell_type": "markdown",
   "metadata": {},
   "source": [
    "## pyperclip 패키지\n",
    "- 클립보드를 이용해 copy & paste 지원"
   ]
  },
  {
   "cell_type": "code",
   "execution_count": 37,
   "metadata": {
    "ExecuteTime": {
     "end_time": "2020-07-21T13:38:55.454166Z",
     "start_time": "2020-07-21T13:38:41.244738Z"
    },
    "collapsed": true,
    "hidden": true
   },
   "outputs": [
    {
     "name": "stdout",
     "output_type": "stream",
     "text": [
      "Collecting pyperclip\n",
      "  Downloading pyperclip-1.8.0.tar.gz (16 kB)\n",
      "Building wheels for collected packages: pyperclip\n",
      "  Building wheel for pyperclip (setup.py): started\n",
      "  Building wheel for pyperclip (setup.py): finished with status 'done'\n",
      "  Created wheel for pyperclip: filename=pyperclip-1.8.0-py3-none-any.whl size=8696 sha256=70d6ac70ad989babca3a5c5516850ecbcdff04c9fad3bddd6f8c00c8397144b4\n",
      "  Stored in directory: c:\\users\\playdata\\appdata\\local\\pip\\cache\\wheels\\e5\\5e\\f7\\441179ddf6ac56f36cb1d84d94f35beedd5da15986ce3d321d\n",
      "Successfully built pyperclip\n",
      "Installing collected packages: pyperclip\n",
      "Successfully installed pyperclip-1.8.0\n"
     ]
    }
   ],
   "source": [
    "#클립보드\n",
    "# https://codetorial.net/pyperclip/index.html\n",
    "!pip install pyperclip"
   ]
  },
  {
   "cell_type": "code",
   "execution_count": null,
   "metadata": {
    "ExecuteTime": {
     "end_time": "2020-07-21T13:38:58.312100Z",
     "start_time": "2020-07-21T13:38:58.292633Z"
    },
    "hidden": true
   },
   "outputs": [],
   "source": [
    "import pyperclip\n",
    "pyperclip.copy('hello') #클립보드에 저장 (이거후 메모장등에 ctr-v하면 hello가 나온다.)"
   ]
  },
  {
   "cell_type": "code",
   "execution_count": 38,
   "metadata": {
    "ExecuteTime": {
     "end_time": "2020-07-21T13:38:58.312100Z",
     "start_time": "2020-07-21T13:38:58.292633Z"
    },
    "hidden": true
   },
   "outputs": [
    {
     "name": "stdout",
     "output_type": "stream",
     "text": [
      "hello\n"
     ]
    }
   ],
   "source": [
    "txt = pyperclip.paste()\n",
    "print(txt)"
   ]
  },
  {
   "cell_type": "code",
   "execution_count": 39,
   "metadata": {
    "ExecuteTime": {
     "end_time": "2020-07-21T13:39:01.605789Z",
     "start_time": "2020-07-21T13:39:01.597642Z"
    },
    "hidden": true
   },
   "outputs": [],
   "source": [
    "import pyperclip\n",
    "import time\n",
    "from selenium.webdriver import Chrome\n",
    "from selenium.webdriver.common.keys import Keys\n",
    "from selenium.webdriver.common.action_chains import ActionChains"
   ]
  },
  {
   "cell_type": "code",
   "execution_count": null,
   "metadata": {},
   "outputs": [],
   "source": []
  },
  {
   "cell_type": "code",
   "execution_count": 40,
   "metadata": {
    "ExecuteTime": {
     "end_time": "2020-07-21T13:39:04.248375Z",
     "start_time": "2020-07-21T13:39:04.241604Z"
    },
    "hidden": true
   },
   "outputs": [],
   "source": [
    "def copy_input(driver, element, txt):\n",
    "    pyperclip.copy(txt)\n",
    "    element.click() #포커스 옮기기\n",
    "    #control-v 누르고 control 올리고\n",
    "#     ActionChains()명령어 모은다.\n",
    "#     ActionChains().perform() -> 모은 Action들을 chain으로 묶인 순서대 실행한다. (paste를 element에 넣어야 하므로 직접 control-v를 누른다.)\n",
    "    ActionChains(driver).key_down(Keys.CONTROL).send_keys('v').key_up(Keys.CONTROL).perform()\n",
    "    time.sleep(1)"
   ]
  },
  {
   "cell_type": "code",
   "execution_count": 41,
   "metadata": {
    "ExecuteTime": {
     "end_time": "2020-07-21T13:39:35.033179Z",
     "start_time": "2020-07-21T13:39:30.466240Z"
    },
    "hidden": true
   },
   "outputs": [],
   "source": [
    "url = 'https://nid.naver.com/nidlogin.login'\n",
    "browser = Chrome()\n",
    "browser.get(url)\n",
    "id_input = browser.find_element_by_id('id')\n",
    "pwd_input = browser.find_element_by_id('pw')\n",
    "#submit 버튼\n",
    "btn = browser.find_element_by_css_selector('input[type=submit]')"
   ]
  },
  {
   "cell_type": "code",
   "execution_count": null,
   "metadata": {},
   "outputs": [],
   "source": [
    "# 캡차나온다.\n",
    "# id_input.send_keys(id)\n",
    "# pwd_input.send_keys(pwd)"
   ]
  },
  {
   "cell_type": "code",
   "execution_count": 42,
   "metadata": {
    "ExecuteTime": {
     "end_time": "2020-07-21T13:39:38.675951Z",
     "start_time": "2020-07-21T13:39:36.366428Z"
    },
    "hidden": true
   },
   "outputs": [],
   "source": [
    "copy_input(browser, id_input, id)\n",
    "copy_input(browser, pwd_input, pwd)\n",
    "btn.click()"
   ]
  },
  {
   "cell_type": "code",
   "execution_count": null,
   "metadata": {
    "hidden": true
   },
   "outputs": [],
   "source": [
    "browser.close()"
   ]
  },
  {
   "cell_type": "code",
   "execution_count": null,
   "metadata": {
    "hidden": true
   },
   "outputs": [],
   "source": []
  },
  {
   "cell_type": "code",
   "execution_count": null,
   "metadata": {
    "hidden": true
   },
   "outputs": [],
   "source": []
  },
  {
   "cell_type": "markdown",
   "metadata": {},
   "source": [
    "# TODO 셀레늄을 이용한 무한 스크롤"
   ]
  },
  {
   "cell_type": "code",
   "execution_count": null,
   "metadata": {},
   "outputs": [],
   "source": [
    "# 무한 스크롤 처리\n",
    "from selenium.webdriver import Chrome\n",
    "import time\n",
    "\n",
    "url = \"https://www.youtube.com/?gl=KR&hl=ko\"\n",
    "driver = Chrome()\n",
    "driver.get(url)\n",
    "\n",
    "### 무한스크롤\n",
    "#  execute_script(\"자바스크립트 코드\") : 자바스크립트 코드. JS 코드에서 return 하는 값을 매개변수로 받을 수 있다.\n",
    "# Javascript 함수\n",
    "#  - scrollTo(x, y) : 스크롤바의 위치를 이동시킨다. 상하는 y값만 좌우는 x값만 설정\n",
    "#  - document.documentElement.scrollHeight: 스크롤패인의 높이를 반환. documentElement 대신 body를 하기도 한다. (크롬은 안됨)\n",
    "\n",
    "# 현재 스크롤 높이 저장 변수\n",
    "\n",
    "scrollpane_height = driver.execute_script('return document.documentElement.scrollHeight') # 이동 전 스크롤패인의 높이\n",
    "print(scrollpane_height)\n",
    "while True:\n",
    "    # 스크롤의  스크롤패인의 높이만큼 이동시킨다. (내려간다)\n",
    "    driver.execute_script('window.scrollTo(0, document.documentElement.scrollHeight)')\n",
    "    # 내려가는 동안 약간의 간격을 줘 기다리게 한다.\n",
    "    time.sleep(1)\n",
    "    new_scrollpane_heigh = driver.execute_script('return document.documentElement.scrollHeight') # 이동후 현재 스크롤패인의 높이\n",
    "    print(new_scrollpane_heigh)\n",
    "    if scrollpane_height == new_scrollpane_heigh:\n",
    "        # 스크롤바의 이동이 없었던 것이므로 반복문을 빠져나온다.\n",
    "        break\n",
    "    scrollpane_height = new_scrollpane_heigh\n",
    "\n"
   ]
  },
  {
   "cell_type": "code",
   "execution_count": 20,
   "metadata": {
    "ExecuteTime": {
     "end_time": "2020-07-21T13:41:04.602204Z",
     "start_time": "2020-07-21T13:41:04.595649Z"
    }
   },
   "outputs": [],
   "source": [
    "# 스크롤 pagedown으로 50번만 내리기 (예전버전)\n",
    "from selenium import webdriver\n",
    "from selenium.webdriver.common.keys import Keys\n",
    "import time\n",
    "\n",
    "browser = webdriver.Chrome()\n",
    "# 유튜브 접속\n",
    "browser.get(\"https://youtube.com\")\n",
    "browser.implicitly_wait(2) #연결 기다리기\n",
    "# body 태그 조회\n",
    "elem = browser.find_element_by_tag_name(\"body\")\n",
    "# 스크롤 내릴 횟수 지정\n",
    "num_of_pagedowns = 50\n",
    "\n",
    "# PAGE_DOWN \n",
    "while num_of_pagedowns:\n",
    "    elem.send_keys(Keys.PAGE_DOWN) # 키보드의 page_down을 body에 전송 => 스크롤이 내려간다.\n",
    "    time.sleep(0.2) #너무 빨리 실행되기 때문에 잠시 멈추게 한다.\n",
    "    num_of_pagedowns-=1\n",
    "# 브라우저 닫기\n",
    "browser.quit()    "
   ]
  },
  {
   "cell_type": "code",
   "execution_count": 21,
   "metadata": {
    "ExecuteTime": {
     "end_time": "2020-07-21T13:41:09.170425Z",
     "start_time": "2020-07-21T13:41:05.682218Z"
    }
   },
   "outputs": [],
   "source": []
  },
  {
   "cell_type": "code",
   "execution_count": 22,
   "metadata": {
    "ExecuteTime": {
     "end_time": "2020-07-21T13:41:15.189240Z",
     "start_time": "2020-07-21T13:41:11.250978Z"
    }
   },
   "outputs": [],
   "source": []
  },
  {
   "cell_type": "code",
   "execution_count": 23,
   "metadata": {
    "ExecuteTime": {
     "end_time": "2020-07-21T13:41:23.570230Z",
     "start_time": "2020-07-21T13:41:23.543206Z"
    }
   },
   "outputs": [],
   "source": []
  },
  {
   "cell_type": "code",
   "execution_count": 24,
   "metadata": {
    "ExecuteTime": {
     "end_time": "2020-07-21T13:41:49.513247Z",
     "start_time": "2020-07-21T13:41:32.265686Z"
    }
   },
   "outputs": [],
   "source": []
  },
  {
   "cell_type": "code",
   "execution_count": 25,
   "metadata": {
    "ExecuteTime": {
     "end_time": "2020-07-21T13:41:59.583398Z",
     "start_time": "2020-07-21T13:41:55.216605Z"
    }
   },
   "outputs": [],
   "source": []
  },
  {
   "cell_type": "code",
   "execution_count": null,
   "metadata": {},
   "outputs": [],
   "source": []
  },
  {
   "cell_type": "code",
   "execution_count": null,
   "metadata": {},
   "outputs": [],
   "source": []
  },
  {
   "cell_type": "markdown",
   "metadata": {},
   "source": [
    "## 다음 로그인"
   ]
  },
  {
   "cell_type": "code",
   "execution_count": null,
   "metadata": {},
   "outputs": [],
   "source": [
    "from selenium.webdriver import Chrome\n",
    "from selenium.webdriver.support.ui import WebDriverWait\n",
    "from selenium.webdriver.common.by import By\n",
    "from selenium.webdriver.support import expected_conditions as EC\n",
    "import time\n",
    "\n",
    "driver = Chrome() #맥은 경로 지정해야함.\n",
    "with open('pwd.txt') as f:\n",
    "    pwd = f.readline()\n",
    "\n",
    "url = 'https://logins.daum.net/accounts/signinform.do'\n",
    "driver.get(url) \n",
    "\n",
    "time.sleep(1)\n",
    "# WebDriverWait(driver, 10).until(EC.presence_of_element_located((By.ID, \"inputPwd\")))\n",
    "id_input = driver.find_element_by_id('id')\n",
    "pwd_input = driver.find_element_by_id('inputPwd')\n",
    "login_btn = driver.find_element_by_id('loginBtn')\n",
    "\n",
    "id_input.send_keys('kgmyh')\n",
    "pwd_input.send_keys(pwd)\n",
    "login_btn.click()\n",
    "\n",
    "# 또는 다음과 같이 처리\n",
    "# import time \n",
    "\n",
    "# 여기서 잠깐 멈춰야 한다. 로그인후 메인 페이지가 나오기 전에 아래가 실행되면서 간격이 생기는 듯하다.\n",
    "time.sleep(1)"
   ]
  },
  {
   "cell_type": "code",
   "execution_count": null,
   "metadata": {},
   "outputs": [],
   "source": []
  },
  {
   "cell_type": "code",
   "execution_count": null,
   "metadata": {},
   "outputs": [],
   "source": []
  },
  {
   "cell_type": "markdown",
   "metadata": {},
   "source": [
    "# TODO : naver에 접속해서 로그인 하기. -- captcha로 막혀 있다. 보안문자 입력하게 함. => 다음은 괜찮음\n",
    "- url : https://nid.naver.com/nidlogin.login\n",
    "- cf) 보안문자 입력은 직접한다."
   ]
  },
  {
   "cell_type": "code",
   "execution_count": 26,
   "metadata": {
    "ExecuteTime": {
     "end_time": "2020-07-21T13:42:10.991659Z",
     "start_time": "2020-07-21T13:42:07.710519Z"
    }
   },
   "outputs": [],
   "source": [
    "from selenium.webdriver import Chrome\n",
    "browser = Chrome()"
   ]
  },
  {
   "cell_type": "code",
   "execution_count": 27,
   "metadata": {
    "ExecuteTime": {
     "end_time": "2020-07-21T13:42:11.442616Z",
     "start_time": "2020-07-21T13:42:10.995678Z"
    }
   },
   "outputs": [],
   "source": [
    "browser.get('https://nid.naver.com/nidlogin.login')"
   ]
  },
  {
   "cell_type": "code",
   "execution_count": 28,
   "metadata": {
    "ExecuteTime": {
     "end_time": "2020-07-21T13:42:13.590885Z",
     "start_time": "2020-07-21T13:42:13.236516Z"
    }
   },
   "outputs": [],
   "source": [
    "id_input = browser.find_element_by_name('id')\n",
    "pwd_input = browser.find_element_by_name('pw')\n",
    "form = browser.find_element_by_tag_name('form')\n",
    "\n",
    "id_input.clear()\n",
    "pwd_input.clear()\n",
    "id_input.send_keys('ikgmyh')\n",
    "pwd_input.send_keys('uky1258!3')\n",
    "\n"
   ]
  },
  {
   "cell_type": "code",
   "execution_count": 29,
   "metadata": {
    "ExecuteTime": {
     "end_time": "2020-07-21T13:42:17.567625Z",
     "start_time": "2020-07-21T13:42:17.322406Z"
    }
   },
   "outputs": [],
   "source": [
    "form.submit()"
   ]
  },
  {
   "cell_type": "markdown",
   "metadata": {},
   "source": [
    "## 트립어드바이저\n",
    "- 한페이지"
   ]
  },
  {
   "cell_type": "code",
   "execution_count": null,
   "metadata": {},
   "outputs": [],
   "source": []
  },
  {
   "cell_type": "code",
   "execution_count": 63,
   "metadata": {
    "ExecuteTime": {
     "end_time": "2020-07-26T16:12:57.043725Z",
     "start_time": "2020-07-26T16:12:40.892033Z"
    }
   },
   "outputs": [
    {
     "name": "stdout",
     "output_type": "stream",
     "text": [
      "{'width': 1555, 'height': 883}\n",
      "{'width': 1555, 'height': 883}\n",
      "['맛있어요! 회식으로 갔었는데 맛도 가격도 괜찮아서 집에갈때 포장해갔네요.그래도 따뜻할 때 먹는게 젤 맛있어요.서비스로 주시는 떡국도 좋았네요.다만 대기가 있어서 일찍 가시는 편을 추천합니다.', '만족오향족발 시청점 정말 맛있어요배달시켜 먹었는데 부드럽고 쫄깃하고마늘소스에 찍어먹으면 느끼하지도 않고유명한 이유가 있어요', '족발을 자주 먹지는 않지만 장충동 족발집도 자주 가고 이곳 저곳 많이 다녀봤어요 근데 여기가 제일 맛있고 생각나는 곳이에요!! 사람이 많은만큼 자리도 많고 직원들도 깔끔하게 유니폼 입고 친절하신거같아서 좋아요 음식도 따뜻하게 유지될 수 있도록 신경도 많이 쓰시고! 가격이 조금만 더 저렴했으면 더 자주갔겠지만 가끔 먹으러가기엔 괜찮아요', '넘쳐나는 손님들을 생각하면 서비스도 훌륭한 편이고, 맛도 특별히 흠잡을 곳이 없음. 특히 따뜻하게 먹을 수 있도록 그릇을 데워주는 것이 인상적이었음.', '여전히 바쁘고 많은 사람들이 찾지만 정작 기다림에 보답하는지는 잘 모르겠다. 다소 평범해진 느낌에 커진 규모를 감당하지 못하는 느낌.', '예전에 비해 체인점이 너무 많이 늘어나서 저는 개인적으로 더 좋아요 그리고 족발이 부드럽고 맛있고 막국수도 맛있고 양도 상당해서 다 좋아요', '족발을 별로 안좋아하는데 여기꺼는 먹을 수 있어요. 만두국나오는 것도 좋고 족발맛도 다른 곳과는 조금 다른 듯 합니다. 친구가 추천해줬어요.', '직영점이 이곳 저곳 많이 생겨 맛을 볼수 있는 기회를 쉽게 얻을 수 있어 좋지만 본점에서 처음 느낀 그 감동은 점차 사라지고 그 맛도 떨어지는 기분. 평타 보단 조금 더 맛있지만 본점도, 직영점도 생각보단 이제 감동을 찾을 맛이 떨어지는 기분입니다. ', '프랜차이즈 사업 시작하고나선 옛날같지 않은느낌. 2층 다락방 시절부터 줄서서 먹었지만 그때의 맛을 바라는건 스스로 생각해도 무리인감이있으나 아쉬움이 드는것도 어쩔수없네요 ', '주로 점심 시간대에 이용하는데 족발 뿐만 아니라 다양한 요리가 적당한 가격에 마련되어 있다. 전반적으로 무슨 요리를 고르든 괜찮게 준비되어 신속히 나온다.']\n"
     ]
    }
   ],
   "source": [
    "import time\n",
    "\n",
    "from selenium.webdriver import Chrome\n",
    "from selenium.webdriver import ChromeOptions\n",
    "\n",
    "from selenium.webdriver.common.by import By\n",
    "from selenium.webdriver.support.ui import WebDriverWait\n",
    "from selenium.webdriver.support import expected_conditions as EC\n",
    "from bs4 import BeautifulSoup \n",
    "\n",
    "# 댓글 많은 식당을 선택한다.\n",
    "url = 'https://www.tripadvisor.co.kr/Restaurant_Review-g294197-d4078612-Reviews-Manjok_Ohyang_Jokbal_City_Hall-Seoul.html'\n",
    "\n",
    "#options는 headless일때. 아니면 크기 조절은 set_window_size()로 한다.\n",
    "options = ChromeOptions()\n",
    "# options.add_argument('headless') #화면 나오지 않게\n",
    "# options.add_argument('window-size=1920x1080')\n",
    "# driver = Chrome(options=options)\n",
    "\n",
    "driver = Chrome()\n",
    "driver.set_window_size(width=1920, height=1080)\n",
    "print(driver.get_window_size())\n",
    "\n",
    "print(driver.get_window_size())\n",
    "driver.implicitly_wait(3)\n",
    "driver.get(url)\n",
    "\n",
    "wc = WebDriverWait(driver, 10)\n",
    "more_link = wc.until(\n",
    "        EC.presence_of_all_elements_located((By.CSS_SELECTOR, 'span.ulBlueLinks'))\n",
    "    )\n",
    "more_link[0].click()\n",
    "\n",
    "#클릭 완료를 기다린다.\n",
    "time.sleep(0.5)\n",
    "\n",
    "page = driver.page_source\n",
    "# driver.quit()\n",
    "\n",
    "soup = BeautifulSoup(page, 'lxml')\n",
    "comment_tag_list = soup.select('p.partial_entry')\n",
    "comment_list = []\n",
    "for tag in comment_tag_list:\n",
    "    comment_list.append(tag.get_text())\n",
    "\n",
    "print(comment_list)\n",
    "driver.close()"
   ]
  },
  {
   "cell_type": "code",
   "execution_count": 62,
   "metadata": {
    "ExecuteTime": {
     "end_time": "2020-07-26T16:11:11.488506Z",
     "start_time": "2020-07-26T16:11:11.476427Z"
    }
   },
   "outputs": [
    {
     "data": {
      "text/plain": [
       "8"
      ]
     },
     "execution_count": 62,
     "metadata": {},
     "output_type": "execute_result"
    }
   ],
   "source": [
    "len(comment_list)"
   ]
  },
  {
   "cell_type": "markdown",
   "metadata": {},
   "source": [
    "## 페이지 넘기기"
   ]
  },
  {
   "cell_type": "code",
   "execution_count": 70,
   "metadata": {
    "ExecuteTime": {
     "end_time": "2020-07-26T16:27:21.097400Z",
     "start_time": "2020-07-26T16:26:26.670019Z"
    }
   },
   "outputs": [
    {
     "ename": "ElementClickInterceptedException",
     "evalue": "Message: element click intercepted: Element <a class=\"nav next ui_button primary disabled  cx_brand_refresh_phase2\">...</a> is not clickable at point (597, 656). Other element would receive the click: <div class=\"unified ui_pagination \">...</div>\n  (Session info: chrome=84.0.4147.89)\n",
     "output_type": "error",
     "traceback": [
      "\u001b[1;31m---------------------------------------------------------------------------\u001b[0m",
      "\u001b[1;31mElementClickInterceptedException\u001b[0m          Traceback (most recent call last)",
      "\u001b[1;32m<ipython-input-70-766a48a5c649>\u001b[0m in \u001b[0;36m<module>\u001b[1;34m\u001b[0m\n\u001b[0;32m     18\u001b[0m \u001b[1;31m#     next_btn = wait.until(EC.element_to_be_clickable((By.CSS_SELECTOR,'#taplc_location_reviews_list_resp_rr_resp_0 > div > div:nth-child(13) > div > div > a.nav.next.ui_button.primary.cx_brand_refresh_phase2')))\u001b[0m\u001b[1;33m\u001b[0m\u001b[1;33m\u001b[0m\u001b[1;33m\u001b[0m\u001b[0m\n\u001b[0;32m     19\u001b[0m     \u001b[1;31m# print(next_btn.text)\u001b[0m\u001b[1;33m\u001b[0m\u001b[1;33m\u001b[0m\u001b[1;33m\u001b[0m\u001b[0m\n\u001b[1;32m---> 20\u001b[1;33m     \u001b[0mnext_btn\u001b[0m\u001b[1;33m.\u001b[0m\u001b[0mclick\u001b[0m\u001b[1;33m(\u001b[0m\u001b[1;33m)\u001b[0m\u001b[1;33m\u001b[0m\u001b[1;33m\u001b[0m\u001b[0m\n\u001b[0m\u001b[0;32m     21\u001b[0m     \u001b[0mtime\u001b[0m\u001b[1;33m.\u001b[0m\u001b[0msleep\u001b[0m\u001b[1;33m(\u001b[0m\u001b[1;36m2\u001b[0m\u001b[1;33m)\u001b[0m \u001b[1;31m#위의 wait는 두번째 부터 안먹는다. one page application이어서 버튼이 계속 남아있다. 그래서 대기기 안된다.\u001b[0m\u001b[1;33m\u001b[0m\u001b[1;33m\u001b[0m\u001b[0m\n",
      "\u001b[1;32m~\\anaconda3\\lib\\site-packages\\selenium\\webdriver\\remote\\webelement.py\u001b[0m in \u001b[0;36mclick\u001b[1;34m(self)\u001b[0m\n\u001b[0;32m     78\u001b[0m     \u001b[1;32mdef\u001b[0m \u001b[0mclick\u001b[0m\u001b[1;33m(\u001b[0m\u001b[0mself\u001b[0m\u001b[1;33m)\u001b[0m\u001b[1;33m:\u001b[0m\u001b[1;33m\u001b[0m\u001b[1;33m\u001b[0m\u001b[0m\n\u001b[0;32m     79\u001b[0m         \u001b[1;34m\"\"\"Clicks the element.\"\"\"\u001b[0m\u001b[1;33m\u001b[0m\u001b[1;33m\u001b[0m\u001b[0m\n\u001b[1;32m---> 80\u001b[1;33m         \u001b[0mself\u001b[0m\u001b[1;33m.\u001b[0m\u001b[0m_execute\u001b[0m\u001b[1;33m(\u001b[0m\u001b[0mCommand\u001b[0m\u001b[1;33m.\u001b[0m\u001b[0mCLICK_ELEMENT\u001b[0m\u001b[1;33m)\u001b[0m\u001b[1;33m\u001b[0m\u001b[1;33m\u001b[0m\u001b[0m\n\u001b[0m\u001b[0;32m     81\u001b[0m \u001b[1;33m\u001b[0m\u001b[0m\n\u001b[0;32m     82\u001b[0m     \u001b[1;32mdef\u001b[0m \u001b[0msubmit\u001b[0m\u001b[1;33m(\u001b[0m\u001b[0mself\u001b[0m\u001b[1;33m)\u001b[0m\u001b[1;33m:\u001b[0m\u001b[1;33m\u001b[0m\u001b[1;33m\u001b[0m\u001b[0m\n",
      "\u001b[1;32m~\\anaconda3\\lib\\site-packages\\selenium\\webdriver\\remote\\webelement.py\u001b[0m in \u001b[0;36m_execute\u001b[1;34m(self, command, params)\u001b[0m\n\u001b[0;32m    631\u001b[0m             \u001b[0mparams\u001b[0m \u001b[1;33m=\u001b[0m \u001b[1;33m{\u001b[0m\u001b[1;33m}\u001b[0m\u001b[1;33m\u001b[0m\u001b[1;33m\u001b[0m\u001b[0m\n\u001b[0;32m    632\u001b[0m         \u001b[0mparams\u001b[0m\u001b[1;33m[\u001b[0m\u001b[1;34m'id'\u001b[0m\u001b[1;33m]\u001b[0m \u001b[1;33m=\u001b[0m \u001b[0mself\u001b[0m\u001b[1;33m.\u001b[0m\u001b[0m_id\u001b[0m\u001b[1;33m\u001b[0m\u001b[1;33m\u001b[0m\u001b[0m\n\u001b[1;32m--> 633\u001b[1;33m         \u001b[1;32mreturn\u001b[0m \u001b[0mself\u001b[0m\u001b[1;33m.\u001b[0m\u001b[0m_parent\u001b[0m\u001b[1;33m.\u001b[0m\u001b[0mexecute\u001b[0m\u001b[1;33m(\u001b[0m\u001b[0mcommand\u001b[0m\u001b[1;33m,\u001b[0m \u001b[0mparams\u001b[0m\u001b[1;33m)\u001b[0m\u001b[1;33m\u001b[0m\u001b[1;33m\u001b[0m\u001b[0m\n\u001b[0m\u001b[0;32m    634\u001b[0m \u001b[1;33m\u001b[0m\u001b[0m\n\u001b[0;32m    635\u001b[0m     \u001b[1;32mdef\u001b[0m \u001b[0mfind_element\u001b[0m\u001b[1;33m(\u001b[0m\u001b[0mself\u001b[0m\u001b[1;33m,\u001b[0m \u001b[0mby\u001b[0m\u001b[1;33m=\u001b[0m\u001b[0mBy\u001b[0m\u001b[1;33m.\u001b[0m\u001b[0mID\u001b[0m\u001b[1;33m,\u001b[0m \u001b[0mvalue\u001b[0m\u001b[1;33m=\u001b[0m\u001b[1;32mNone\u001b[0m\u001b[1;33m)\u001b[0m\u001b[1;33m:\u001b[0m\u001b[1;33m\u001b[0m\u001b[1;33m\u001b[0m\u001b[0m\n",
      "\u001b[1;32m~\\anaconda3\\lib\\site-packages\\selenium\\webdriver\\remote\\webdriver.py\u001b[0m in \u001b[0;36mexecute\u001b[1;34m(self, driver_command, params)\u001b[0m\n\u001b[0;32m    319\u001b[0m         \u001b[0mresponse\u001b[0m \u001b[1;33m=\u001b[0m \u001b[0mself\u001b[0m\u001b[1;33m.\u001b[0m\u001b[0mcommand_executor\u001b[0m\u001b[1;33m.\u001b[0m\u001b[0mexecute\u001b[0m\u001b[1;33m(\u001b[0m\u001b[0mdriver_command\u001b[0m\u001b[1;33m,\u001b[0m \u001b[0mparams\u001b[0m\u001b[1;33m)\u001b[0m\u001b[1;33m\u001b[0m\u001b[1;33m\u001b[0m\u001b[0m\n\u001b[0;32m    320\u001b[0m         \u001b[1;32mif\u001b[0m \u001b[0mresponse\u001b[0m\u001b[1;33m:\u001b[0m\u001b[1;33m\u001b[0m\u001b[1;33m\u001b[0m\u001b[0m\n\u001b[1;32m--> 321\u001b[1;33m             \u001b[0mself\u001b[0m\u001b[1;33m.\u001b[0m\u001b[0merror_handler\u001b[0m\u001b[1;33m.\u001b[0m\u001b[0mcheck_response\u001b[0m\u001b[1;33m(\u001b[0m\u001b[0mresponse\u001b[0m\u001b[1;33m)\u001b[0m\u001b[1;33m\u001b[0m\u001b[1;33m\u001b[0m\u001b[0m\n\u001b[0m\u001b[0;32m    322\u001b[0m             response['value'] = self._unwrap_value(\n\u001b[0;32m    323\u001b[0m                 response.get('value', None))\n",
      "\u001b[1;32m~\\anaconda3\\lib\\site-packages\\selenium\\webdriver\\remote\\errorhandler.py\u001b[0m in \u001b[0;36mcheck_response\u001b[1;34m(self, response)\u001b[0m\n\u001b[0;32m    240\u001b[0m                 \u001b[0malert_text\u001b[0m \u001b[1;33m=\u001b[0m \u001b[0mvalue\u001b[0m\u001b[1;33m[\u001b[0m\u001b[1;34m'alert'\u001b[0m\u001b[1;33m]\u001b[0m\u001b[1;33m.\u001b[0m\u001b[0mget\u001b[0m\u001b[1;33m(\u001b[0m\u001b[1;34m'text'\u001b[0m\u001b[1;33m)\u001b[0m\u001b[1;33m\u001b[0m\u001b[1;33m\u001b[0m\u001b[0m\n\u001b[0;32m    241\u001b[0m             \u001b[1;32mraise\u001b[0m \u001b[0mexception_class\u001b[0m\u001b[1;33m(\u001b[0m\u001b[0mmessage\u001b[0m\u001b[1;33m,\u001b[0m \u001b[0mscreen\u001b[0m\u001b[1;33m,\u001b[0m \u001b[0mstacktrace\u001b[0m\u001b[1;33m,\u001b[0m \u001b[0malert_text\u001b[0m\u001b[1;33m)\u001b[0m\u001b[1;33m\u001b[0m\u001b[1;33m\u001b[0m\u001b[0m\n\u001b[1;32m--> 242\u001b[1;33m         \u001b[1;32mraise\u001b[0m \u001b[0mexception_class\u001b[0m\u001b[1;33m(\u001b[0m\u001b[0mmessage\u001b[0m\u001b[1;33m,\u001b[0m \u001b[0mscreen\u001b[0m\u001b[1;33m,\u001b[0m \u001b[0mstacktrace\u001b[0m\u001b[1;33m)\u001b[0m\u001b[1;33m\u001b[0m\u001b[1;33m\u001b[0m\u001b[0m\n\u001b[0m\u001b[0;32m    243\u001b[0m \u001b[1;33m\u001b[0m\u001b[0m\n\u001b[0;32m    244\u001b[0m     \u001b[1;32mdef\u001b[0m \u001b[0m_value_or_default\u001b[0m\u001b[1;33m(\u001b[0m\u001b[0mself\u001b[0m\u001b[1;33m,\u001b[0m \u001b[0mobj\u001b[0m\u001b[1;33m,\u001b[0m \u001b[0mkey\u001b[0m\u001b[1;33m,\u001b[0m \u001b[0mdefault\u001b[0m\u001b[1;33m)\u001b[0m\u001b[1;33m:\u001b[0m\u001b[1;33m\u001b[0m\u001b[1;33m\u001b[0m\u001b[0m\n",
      "\u001b[1;31mElementClickInterceptedException\u001b[0m: Message: element click intercepted: Element <a class=\"nav next ui_button primary disabled  cx_brand_refresh_phase2\">...</a> is not clickable at point (597, 656). Other element would receive the click: <div class=\"unified ui_pagination \">...</div>\n  (Session info: chrome=84.0.4147.89)\n"
     ]
    }
   ],
   "source": [
    "import time\n",
    "\n",
    "from selenium.webdriver import Chrome\n",
    "from selenium.webdriver import ChromeOptions\n",
    "\n",
    "from selenium.webdriver.common.by import By\n",
    "from selenium.webdriver.support.ui import WebDriverWait\n",
    "from selenium.webdriver.support import expected_conditions as EC\n",
    "\n",
    "from bs4 import BeautifulSoup \n",
    "\n",
    "url = 'https://www.tripadvisor.co.kr/Restaurant_Review-g294197-d3200324-Reviews-Jungsik-Seoul.html'\n",
    "driver = Chrome()\n",
    "driver.get(url)\n",
    "for _ in range(30):   # while 로 돌린뒤 Exception 나며 빠져 나오게. 다 돌면 버튼 조회가 안된다.\n",
    "    next_btn = driver.find_element_by_css_selector('a.nav.next')\n",
    "#     wait = WebDriverWait(driver, 10)\n",
    "#     next_btn = wait.until(EC.element_to_be_clickable((By.CSS_SELECTOR,'#taplc_location_reviews_list_resp_rr_resp_0 > div > div:nth-child(13) > div > div > a.nav.next.ui_button.primary.cx_brand_refresh_phase2')))\n",
    "    # print(next_btn.text)\n",
    "    next_btn.click()\n",
    "    time.sleep(2) #위의 wait는 두번째 부터 안먹는다. one page application이어서 버튼이 계속 남아있다. 그래서 대기기 안된다."
   ]
  },
  {
   "cell_type": "code",
   "execution_count": null,
   "metadata": {},
   "outputs": [],
   "source": []
  },
  {
   "cell_type": "code",
   "execution_count": 80,
   "metadata": {
    "ExecuteTime": {
     "end_time": "2020-07-26T16:49:21.624257Z",
     "start_time": "2020-07-26T16:48:47.582583Z"
    }
   },
   "outputs": [
    {
     "name": "stdout",
     "output_type": "stream",
     "text": [
      "5\n",
      "0 1 2 3 "
     ]
    }
   ],
   "source": [
    "import time\n",
    "\n",
    "from selenium.webdriver import Chrome\n",
    "from selenium.webdriver import ChromeOptions\n",
    "\n",
    "from selenium.common.exceptions import ElementClickInterceptedException\n",
    "from selenium.webdriver.common.by import By\n",
    "from selenium.webdriver.support.ui import WebDriverWait\n",
    "from selenium.webdriver.support import expected_conditions as EC\n",
    "# WaitWebDriver는 처음 로딩후에만 사용한다. 이미 있는 element에 내용만 들어가는 경우는 내용이 나올때 까지기다리지 않으므로 결국 time.sleep()을 사용해야 할 것 같다.\n",
    "url = 'https://www.tripadvisor.co.kr/Restaurant_Review-g294197-d3200324-Reviews-or50-Jungsik-Seoul.html'\n",
    "\n",
    "# options = ChromeOptions()\n",
    "# options.add_argument('headless')\n",
    "# options.add_argument('window-size=1920x1080')\n",
    "\n",
    "# driver = Chrome(options=options)\n",
    "\n",
    "url = 'https://www.tripadvisor.co.kr/Restaurant_Review-g294197-d17423735-Reviews-Jangseng_Geongangwon-Seoul.html'\n",
    "\n",
    "\n",
    "driver = Chrome()\n",
    "driver.get(url)\n",
    "driver.maximize_window()\n",
    "wait = WebDriverWait(driver, 10)\n",
    "#마지막 페이지 번호 - div.pageNumbers > a:last-child\n",
    "a_tag = wait.until(EC.presence_of_element_located([By.CSS_SELECTOR,'div.pageNumbers > a:last-child']))\n",
    "print(a_tag.text)\n",
    "\n",
    "last_page = int(a_tag.text.strip())\n",
    "#댓글들을 저장할 리스트\n",
    "comment_list = []\n",
    "for i in range(last_page):\n",
    "    \n",
    "    # 더보기 링크 클릭\n",
    "    attempt = 0\n",
    "    while attempt != 3:  #최대시도횟수\n",
    "        try:\n",
    "            more_btn = wait.until(EC.presence_of_all_elements_located([By.CSS_SELECTOR, 'span.taLnk.ulBlueLinks']))\n",
    "            more_btn[0].click()\n",
    "            break  #클릭을 정상처리한 경우 더 시도 하지 않고 반복문 나온다.\n",
    "        except:\n",
    "            #클릭실패 - 잠시 기다렸다 다시 시도.\n",
    "            time.sleep(0.5)\n",
    "            print(\"더보기 클릭 시도 횟수:\", attempt)\n",
    "            attempt += 1\n",
    "    \n",
    "    # 댓글 조회\n",
    "    time.sleep(1) #댓글 내용이 모두 나오길 기다린다.\n",
    "    comment_tag_list = driver.find_elements_by_css_selector('p.partial_entry')\n",
    "    for tag in comment_tag_list:\n",
    "        comment_list.append(tag.text)  #댓글 텍스트 조회\n",
    "    \n",
    "    # 다음 버튼 클릭 : a.nav.next.taLnk.ui_button.primary\n",
    "    time.sleep(1.5)\n",
    "    next_btn = driver.find_element_by_css_selector('a.nav.next')\n",
    "    try:\n",
    "        next_btn.click()\n",
    "    except ElementClickInterceptedException: # 다돈 것. 다음 버튼이 없으므로\n",
    "        break\n",
    "    \n",
    "    print(i, end=' ')\n",
    "    time.sleep(1) #다음 페이지로 이동할 때 까지의 기다린다.\n",
    "\n",
    "#for문 종료\n",
    "# driver.close()    \n",
    "\n",
    " "
   ]
  },
  {
   "cell_type": "code",
   "execution_count": 81,
   "metadata": {
    "ExecuteTime": {
     "end_time": "2020-07-26T16:50:06.030757Z",
     "start_time": "2020-07-26T16:50:06.022727Z"
    }
   },
   "outputs": [
    {
     "name": "stdout",
     "output_type": "stream",
     "text": [
      "47\n"
     ]
    }
   ],
   "source": [
    "print(len(comment_list))\n",
    "# for i in range(40):\n",
    "#     print(comment_list[i])"
   ]
  },
  {
   "cell_type": "code",
   "execution_count": null,
   "metadata": {},
   "outputs": [],
   "source": []
  },
  {
   "cell_type": "code",
   "execution_count": null,
   "metadata": {},
   "outputs": [],
   "source": []
  }
 ],
 "metadata": {
  "kernelspec": {
   "display_name": "Python 3 (ipykernel)",
   "language": "python",
   "name": "python3"
  },
  "language_info": {
   "codemirror_mode": {
    "name": "ipython",
    "version": 3
   },
   "file_extension": ".py",
   "mimetype": "text/x-python",
   "name": "python",
   "nbconvert_exporter": "python",
   "pygments_lexer": "ipython3",
   "version": "3.10.9"
  },
  "toc": {
   "base_numbering": 1,
   "nav_menu": {},
   "number_sections": false,
   "sideBar": false,
   "skip_h1_title": false,
   "title_cell": "Table of Contents",
   "title_sidebar": "Contents",
   "toc_cell": false,
   "toc_position": {},
   "toc_section_display": true,
   "toc_window_display": false
  },
  "varInspector": {
   "cols": {
    "lenName": 16,
    "lenType": 16,
    "lenVar": 40
   },
   "kernels_config": {
    "python": {
     "delete_cmd_postfix": "",
     "delete_cmd_prefix": "del ",
     "library": "var_list.py",
     "varRefreshCmd": "print(var_dic_list())"
    },
    "r": {
     "delete_cmd_postfix": ") ",
     "delete_cmd_prefix": "rm(",
     "library": "var_list.r",
     "varRefreshCmd": "cat(var_dic_list()) "
    }
   },
   "types_to_exclude": [
    "module",
    "function",
    "builtin_function_or_method",
    "instance",
    "_Feature"
   ],
   "window_display": false
  }
 },
 "nbformat": 4,
 "nbformat_minor": 2
}
