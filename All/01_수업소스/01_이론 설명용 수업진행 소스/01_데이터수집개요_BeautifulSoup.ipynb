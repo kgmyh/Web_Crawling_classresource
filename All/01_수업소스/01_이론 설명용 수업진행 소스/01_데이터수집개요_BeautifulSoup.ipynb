{
 "cells": [
  {
   "cell_type": "markdown",
   "metadata": {},
   "source": [
    "# GUIDE\n",
    "- html, css를 간단하게 먼저 한다.\n",
    "    - example.html을 같이 만든다."
   ]
  },
  {
   "cell_type": "markdown",
   "metadata": {},
   "source": [
    "# 데이터 수집개요\n",
    "\n",
    "## 데이터 선정\n",
    "\n",
    "- 요구사항 분석을 통해 분석목표가 정해졌다면 어떤 데이터를 수집할지 선정해야 한다.\n",
    "    - 수집 대상 데이터는 그 목적과 직접적 관련이 있는 데이터과 간접적 관련이 있는 데이터가 있다.\n",
    "    - 예: 축구 승리에 미치는 영향을 주는 요인들\n",
    "        - **축구와 직접 관련된 데이터(요인)**\n",
    "            - 축구 기록 관련: 골, 득점 기대수치, 볼 점유율, 패스 성공율, 슈팅 시도, 태클 시도 및 성공등\n",
    "            - 선수 관련: 연봉, 나이, 경력, 최근 경기 성적등\n",
    "            - 기타: 홈 원정 여부, 경기 시작 시간, 최근 5경기 결과, 직전 경기 결과 등\n",
    "        - **간접 관련된 데이터(요인)**\n",
    "            - 경기 당일 날씨\n",
    "            - 관중수, 응원단 수\n",
    "            "
   ]
  },
  {
   "cell_type": "markdown",
   "metadata": {},
   "source": [
    "## 데이터 수집 방법 선정\n",
    "- 수집할 데이터를 선정했다면 그 다음은 어떻게 데이터를 수집할지 그 방법을 정해야 한다.\n",
    "- **어디서 구할 것인가?**\n",
    "    - 사내 데이터베이스\n",
    "    - 외부 데이터\n",
    "        - 외부 데이터일 경우 어디서 구할 수 있는지 조사해야한다.\n",
    "            - 공개 데이터셋\n",
    "            - 유료 데이터셋\n",
    "            - 데이터 크롤링(crawling)\n",
    "                - 크롤링시 법적 문제는 없는지 확인해야 한다.\n",
    "- **수집할 데이터의 양은 충분한지 확인**\n",
    "    - 의미 있는 결과를 얻으려면 다양한 패턴의 데이터를 의미 있는 양만큼 수집해야 한다.\n",
    "    - 수집 데이터가 한쪽에 편향 되지 않아야 한다. \n",
    "        - 스팸메일을 분석하기 위한 데이터를 수집할 때 정상메일이 스팸메일보다 훨씬 만다면?\n",
    "        - 지하철 호선별 평균이용량을 수집하는데 1호선은 7월, 2호선은 2월, 3호선은 12월 같이 다른 기준으로 데이터를 수집한다면?\n",
    "- **수집할 데이터가 신뢰할만 한 데이터인지 확인 필요**\n",
    "    - 4차산업혁명, 인터넷, SNS 발달로 데이터의 양이 급증가하여 데이터 수집이 쉬워짐.\n",
    "    - 쉬어진 만큼 신뢰하기 힘든 데이터들도 급증함. 그래서 **수집한 데이터가 신뢰할 만한 데이터인지 구별하는 것이 중요해졌다.**\n",
    "        - 특히 출처가 불분명한 데이터 (커뮤니티 글, 유튜브 영상, 지식IN 등)일 경우 확인이 필요함."
   ]
  },
  {
   "cell_type": "markdown",
   "metadata": {},
   "source": [
    "## 데이터 수집 주기\n",
    "- 일회성인지 주기적으로 수집해야 하는 데이터인지에 따라 방법과 도구가 달라질 수 있다.\n",
    "- **일회성 데이터**\n",
    "    - 수집한 데이터를 csv, txt등의 파일형식으로 저장하여 활용한다.\n",
    "    - 변하지 않는 데이터셋으로 국가나 도시정보등이 있다.\n",
    "- **주기적으로 수집이 필요한 데이터**\n",
    "    - 자동화 시스템 구축을 하여 데이터베이스에 데이터를 주기적으로 수집, 저장한다.\n",
    "    - 변하는 데이터로 대부분이 여기에 속한다."
   ]
  },
  {
   "cell_type": "code",
   "execution_count": null,
   "metadata": {},
   "outputs": [],
   "source": []
  },
  {
   "cell_type": "markdown",
   "metadata": {},
   "source": [
    "## [크롬개발자 도구](https://developers.google.com/web/tools/chrome-devtools/)"
   ]
  },
  {
   "cell_type": "markdown",
   "metadata": {},
   "source": [
    "# BeautifuSoup\n",
    "- HTML이나 XML 문서 내에서 원하는 정보를 가져오기 위한 파이썬 라이브러리.\n",
    "- https://www.crummy.com/software/BeautifulSoup/\n",
    "- https://www.crummy.com/software/BeautifulSoup/bs4/doc/\n",
    "- 설치\n",
    "```\n",
    "conda install beautifulsoup4\n",
    "pip install beautifulsoup4\n",
    "```"
   ]
  },
  {
   "cell_type": "markdown",
   "metadata": {},
   "source": [
    "## 코딩 패턴\n",
    "1. BeautifulSoup 클래스 import\n",
    "2. BeautifulSoup 객체 생성 \n",
    "    - 생성시 조회할 HTML 문서 전달\n",
    "3. 문서내에서 필요한 정보 조회\n",
    "    - 태그이름과 태그 속성으로 조회\n",
    "    - css selector를 이용해 조회\n",
    "    - . 표기법을 이용한 탐색(Tree 구조 순서대로 탐색)"
   ]
  },
  {
   "cell_type": "code",
   "execution_count": 9,
   "metadata": {},
   "outputs": [
    {
     "data": {
      "text/plain": [
       "[]"
      ]
     },
     "execution_count": 9,
     "metadata": {},
     "output_type": "execute_result"
    }
   ],
   "source": [
    "# bs4.FeatureNotFound: Couldn't find a tree builder with the features you requested: lxml. Do you need to install a parser library?\n",
    "#   Exception 발생: lxml 설치 한 뒤 커널 **restart 한다.**\n",
    "\n",
    "soup = BeautifulSoup(html_doc, \"lxml\")\n",
    "tags = soup.find_all('a')\n",
    "tags = soup.find_all(['a', 'p'])  #여러 태그 조회 => 리스트\n",
    "tags = soup.find_all([], 'cnt') # '' : 모든태그(빈 리스트) 중 class가 cnt인 것\n",
    "tags = soup.find_all('span', attrs={'class':'cnt'}) #속성:값으로 조회 =>attrs:딕셔너리\n",
    "tags = soup.find_all( attrs={'id':'content'})\n",
    "# tags = soup.find_all(\"a\", attrs={'href':re.compile('kr$')})  #값에 정규표현식 가능\n",
    "# tags = soup.find_all('a', attrs={'href':re.compile(\"^https\")})  # https로 시작하는.\n",
    "# tags = soup.find_all('a', attrs={'href':re.compile(\"^http[^s]\")}) #https 로 시작하지 않는\n",
    "tags"
   ]
  },
  {
   "cell_type": "code",
   "execution_count": 24,
   "metadata": {
    "ExecuteTime": {
     "end_time": "2023-03-16T08:40:20.016401Z",
     "start_time": "2023-03-16T08:40:20.004336Z"
    }
   },
   "outputs": [
    {
     "name": "stdout",
     "output_type": "stream",
     "text": [
      "<class 'bs4.element.ResultSet'>\n",
      "['\\n', <div class=\"animal\">사자</div>, '\\n', <div class=\"cnt\">3마리</div>, '\\n']\n",
      "<class 'bs4.element.NavigableString'>\n",
      "<class 'bs4.element.Tag'>\n",
      "<class 'bs4.element.NavigableString'>\n",
      "<class 'bs4.element.Tag'>\n",
      "<class 'bs4.element.NavigableString'>\n"
     ]
    }
   ],
   "source": [
    "tags = soup.find_all('div', attrs={'id':'animal1'})\n",
    "print(type(tags))\n",
    "print(tags[0].contents)\n",
    "for a in tags[0].contents:\n",
    "    print(type(a))\n",
    "\n",
    "# NavigableString : 문자열 element\n",
    "# Tag: 태그 element    # "
   ]
  },
  {
   "cell_type": "markdown",
   "metadata": {},
   "source": [
    "## BeautifulSoup 클래스 import"
   ]
  },
  {
   "cell_type": "code",
   "execution_count": 4,
   "metadata": {
    "ExecuteTime": {
     "end_time": "2023-03-16T08:40:24.132914Z",
     "start_time": "2023-03-16T08:40:24.116656Z"
    }
   },
   "outputs": [],
   "source": [
    "#1. 임포트 * bs4모듈\n",
    "from bs4 import BeautifulSoup"
   ]
  },
  {
   "cell_type": "markdown",
   "metadata": {},
   "source": [
    "## 객체 생성\n",
    "- BeautifulSoup(html str [, 파서])\n",
    "    - 매개변수\n",
    "        1. 정보를 조회할 html을 string으로 전달\n",
    "        2. 파서\n",
    "            - html.parser(기본파서)\n",
    "            - lxml : 매우 빠르다. html, xml 파싱 가능(xml 파싱은 lxml만 가능)\n",
    "                - 사용시 install 필요 \n",
    "                - `conda install lxml`\n",
    "                - `pip install lxml`\n",
    "                - install 후 커널 restart 시킨다."
   ]
  },
  {
   "cell_type": "code",
   "execution_count": 5,
   "metadata": {
    "ExecuteTime": {
     "end_time": "2023-03-16T08:40:28.755039Z",
     "start_time": "2023-03-16T08:40:28.739562Z"
    }
   },
   "outputs": [
    {
     "name": "stdout",
     "output_type": "stream",
     "text": [
      "<html>\n",
      "    <head>\n",
      "\t\t<meta charset=\"utf-8\">\n",
      "        <title>조회할 대상</title>\n",
      "    </head>\n",
      "    <body>\n",
      "\t\t<div id='animal1'>\n",
      "\t\t\t<div class='animal'>사자</div>\n",
      "\t\t\t<div class='cnt'>3마리</div>\n",
      "\t\t</div>\n",
      "\t\t<p>\n",
      "\t\t<div id='animal2'>\n",
      "\t\t\t<div class='animal'>호랑이</div>\n",
      "\t\t\t<div class='cnt'>2마리</div>\n",
      "\t\t</div>\n",
      "\t\t<p>\n",
      "\t\t<div id='animal3'>\n",
      "\t\t\t<div class='animal'>기린</div>\n",
      "\t\t\t<div class='cnt'>5마리</div>\n",
      "\t\t</div>\n",
      "\t\t<p>\n",
      "\t\t<div id='content'>\n",
      "\t\t\t동물원에 <span class='animal'>기린</span>이 <span class='cnt'>5마리</span> 있습니다.\n",
      "\t\t</div>\n",
      "\t\t<p>\n",
      "\t\t<h1>동물원 링크</h1>\n",
      "\t\t<ul>\n",
      "\t\t\t<li><a href='https://grandpark.seoul.go.kr'>서울대공원</a></li>\n",
      "\t\t\t<li><a href='http://www.everland.com'>에버랜드 동물원</a></li>\n",
      "\t\t\t<li><a href='https://www.coexaqua.com'>코엑스 아쿠아리움</a></li>\n",
      "\t\t</ul>\n",
      "\t\t<a href='http://www.google.co.kr'>구글</a>\n",
      "        \n",
      "    </body>\n",
      "</html>\n"
     ]
    }
   ],
   "source": [
    "with open(file=\"example.html\", mode='rt', encoding='utf-8') as f:\n",
    "    html_doc = f.read()\n",
    "    print(html_doc);\n",
    "soup = BeautifulSoup(html_doc)"
   ]
  },
  {
   "cell_type": "code",
   "execution_count": 6,
   "metadata": {
    "ExecuteTime": {
     "end_time": "2023-03-16T08:40:44.719977Z",
     "start_time": "2023-03-16T08:40:44.700201Z"
    }
   },
   "outputs": [
    {
     "name": "stdout",
     "output_type": "stream",
     "text": [
      "<html>\n",
      " <head>\n",
      "  <meta charset=\"utf-8\"/>\n",
      "  <title>\n",
      "   조회할 대상\n",
      "  </title>\n",
      " </head>\n",
      " <body>\n",
      "  <div id=\"animal1\">\n",
      "   <div class=\"animal\">\n",
      "    사자\n",
      "   </div>\n",
      "   <div class=\"cnt\">\n",
      "    3마리\n",
      "   </div>\n",
      "  </div>\n",
      "  <p>\n",
      "  </p>\n",
      "  <div id=\"animal2\">\n",
      "   <div class=\"animal\">\n",
      "    호랑이\n",
      "   </div>\n",
      "   <div class=\"cnt\">\n",
      "    2마리\n",
      "   </div>\n",
      "  </div>\n",
      "  <p>\n",
      "  </p>\n",
      "  <div id=\"animal3\">\n",
      "   <div class=\"animal\">\n",
      "    기린\n",
      "   </div>\n",
      "   <div class=\"cnt\">\n",
      "    5마리\n",
      "   </div>\n",
      "  </div>\n",
      "  <p>\n",
      "  </p>\n",
      "  <div id=\"content\">\n",
      "   동물원에\n",
      "   <span class=\"animal\">\n",
      "    기린\n",
      "   </span>\n",
      "   이\n",
      "   <span class=\"cnt\">\n",
      "    5마리\n",
      "   </span>\n",
      "   있습니다.\n",
      "  </div>\n",
      "  <p>\n",
      "  </p>\n",
      "  <h1>\n",
      "   동물원 링크\n",
      "  </h1>\n",
      "  <ul>\n",
      "   <li>\n",
      "    <a href=\"https://grandpark.seoul.go.kr\">\n",
      "     서울대공원\n",
      "    </a>\n",
      "   </li>\n",
      "   <li>\n",
      "    <a href=\"http://www.everland.com\">\n",
      "     에버랜드 동물원\n",
      "    </a>\n",
      "   </li>\n",
      "   <li>\n",
      "    <a href=\"https://www.coexaqua.com\">\n",
      "     코엑스 아쿠아리움\n",
      "    </a>\n",
      "   </li>\n",
      "  </ul>\n",
      "  <a href=\"http://www.google.co.kr\">\n",
      "   구글\n",
      "  </a>\n",
      " </body>\n",
      "</html>\n"
     ]
    }
   ],
   "source": [
    "# 문서 정리\n",
    "print(soup.prettify())"
   ]
  },
  {
   "cell_type": "markdown",
   "metadata": {},
   "source": [
    "## 문서내에서 원하는 정보 검색\n",
    "\n",
    "### Tag 객체\n",
    "- 하나의 태그(element)에 대한 정보를 다루는 객체.\n",
    "    - BeautifulSoup 조회 메소드들의 조회결과의 반환타입.\n",
    "    - 조회 함수들을 이용해 조회하면 그 결과를 **Tag 객체**나 **Tag 객체들을 담은 List(ResultSet)**로 반환한다.\n",
    "    - Tag 객체를 이용해 element로 부터 text나 attribute등을 조회하거나 그 하위 element 들을 추가로 조회할 수 있다.\n",
    "- 주요 속성/메소드\n",
    "    - **태그의 속성값 조회**\n",
    "        - tag객체.get('속성명') \n",
    "        - tag객체\\['속성명'\\]\n",
    "        - ex) tag.get('href') 또는 tag\\['href'\\]\n",
    "    - **태그내 text값 조회**\n",
    "        - tag객체.get_text()\n",
    "        - tag객체.text\n",
    "        - ex) tag.get_text() 또는 tag.text\n",
    "    - **contents 속성**\n",
    "        - 조회한 태그의 모든 자식 요소들을 리스트로 반환\n",
    "        - ex) child_list = tag.contents"
   ]
  },
  {
   "cell_type": "markdown",
   "metadata": {},
   "source": [
    "## 조회 함수\n",
    "- **태그의 이름으로 조회**\n",
    "    - find_all()\n",
    "    - find()\n",
    "- **css selector를 이용해 조회**\n",
    "    - select(), select_one()\n",
    "- **`.` 표기법(dot notation)**\n",
    "    - dom tree 구조의 계층 순서대로 조회\n",
    "    - 위의 두방식으로 찾은 tag를 기준으로 그 주위의 element 들을 찾을 때 사용"
   ]
  },
  {
   "cell_type": "markdown",
   "metadata": {},
   "source": [
    "### 태그의 이름으로 조회\n",
    "- **find_all**(name=태그명, attrs={속성명:속성값, ..})\n",
    "   - 이름의 모든 태그 element들을 리스트에 담아 반환.\n",
    "   - 여러 이름의 태그를 조회할 경우 List에 태그명들을 묶어서 전달한다.\n",
    "   - 태그의 attribute 조건으로만 조회할 경우 name을 생략한다. \n",
    "- **find**(name=태그명, attrs={속성명:속성값})\n",
    "    - 이름의 태그중 첫번째 태그 element를 반환."
   ]
  },
  {
   "cell_type": "code",
   "execution_count": 2,
   "metadata": {
    "ExecuteTime": {
     "end_time": "2023-03-20T02:25:46.118088Z",
     "start_time": "2023-03-20T02:25:45.995328Z"
    }
   },
   "outputs": [],
   "source": [
    "from bs4 import BeautifulSoup"
   ]
  },
  {
   "cell_type": "code",
   "execution_count": 3,
   "metadata": {
    "ExecuteTime": {
     "end_time": "2023-03-20T02:25:46.819821Z",
     "start_time": "2023-03-20T02:25:46.795439Z"
    },
    "collapsed": true
   },
   "outputs": [
    {
     "name": "stdout",
     "output_type": "stream",
     "text": [
      "<html>\n",
      "    <head>\n",
      "\t\t<meta charset=\"utf-8\">\n",
      "        <title>조회할 대상</title>\n",
      "    </head>\n",
      "    <body>\n",
      "\t\t<div id='animal1'>\n",
      "\t\t\t<div class='animal'>사자</div>\n",
      "\t\t\t<div class='cnt'>3마리</div>\n",
      "\t\t</div>\n",
      "\t\t<p>\n",
      "\t\t<div id='animal2'>\n",
      "\t\t\t<div class='animal'>호랑이</div>\n",
      "\t\t\t<div class='cnt'>2마리</div>\n",
      "\t\t</div>\n",
      "\t\t<p>\n",
      "\t\t<div id='animal3'>\n",
      "\t\t\t<div class='animal'>기린</div>\n",
      "\t\t\t<div class='cnt'>5마리</div>\n",
      "\t\t</div>\n",
      "\t\t<p>\n",
      "\t\t<div id='content'>\n",
      "\t\t\t동물원에 <span class='animal'>기린</span>이 <span class='cnt'>5마리</span> 있습니다.\n",
      "\t\t</div>\n",
      "\t\t<p>\n",
      "\t\t<h1>동물원 링크</h1>\n",
      "\t\t<ul>\n",
      "\t\t\t<li><a href='https://grandpark.seoul.go.kr'>서울대공원</a></li>\n",
      "\t\t\t<li><a href='http://www.everland.com'>에버랜드 동물원</a></li>\n",
      "\t\t\t<li><a href='https://www.coexaqua.com'>코엑스 아쿠아리움</a></li>\n",
      "\t\t</ul>\n",
      "\t\t<a href='http://www.google.co.kr'>구글</a>\n",
      "        \n",
      "    </body>\n",
      "</html>\n"
     ]
    }
   ],
   "source": [
    "with open(file=\"example.html\", mode='rt', encoding='utf-8') as f:\n",
    "    html_doc = f.read()\n",
    "    print(html_doc);\n",
    "soup = BeautifulSoup(html_doc)"
   ]
  },
  {
   "cell_type": "code",
   "execution_count": 4,
   "metadata": {
    "ExecuteTime": {
     "end_time": "2023-03-20T02:25:55.745824Z",
     "start_time": "2023-03-20T02:25:55.715269Z"
    }
   },
   "outputs": [
    {
     "data": {
      "text/plain": [
       "bs4.element.Tag"
      ]
     },
     "execution_count": 4,
     "metadata": {},
     "output_type": "execute_result"
    }
   ],
   "source": [
    "type(soup.find_all('div')[0])"
   ]
  },
  {
   "cell_type": "code",
   "execution_count": 9,
   "metadata": {
    "ExecuteTime": {
     "end_time": "2023-03-20T02:28:01.529705Z",
     "start_time": "2023-03-20T02:28:01.522786Z"
    }
   },
   "outputs": [
    {
     "name": "stdout",
     "output_type": "stream",
     "text": [
      "<div id=\"animal1\">\n",
      "<div class=\"animal\">사자</div>\n",
      "<div class=\"cnt\">3마리</div>\n",
      "</div>\n",
      "==================================================\n",
      "<class 'bs4.element.NavigableString'>: \n",
      "\n",
      "<class 'bs4.element.Tag'>: <div class=\"animal\">사자</div>\n",
      "<class 'bs4.element.NavigableString'>: \n",
      "\n",
      "<class 'bs4.element.Tag'>: <div class=\"cnt\">3마리</div>\n",
      "<class 'bs4.element.NavigableString'>: \n",
      "\n"
     ]
    }
   ],
   "source": [
    "#ani를 돌리면 각 태그사이의 엔터까지 조회된다. = bs4.element.NavigableString\n",
    "\n",
    "ani1 = soup.find('div', attrs={'id':'animal1'})\n",
    "print(ani1)\n",
    "print(\"=\"*50)\n",
    "for t in ani1:\n",
    "    print(type(t), t, sep=\": \")"
   ]
  },
  {
   "cell_type": "code",
   "execution_count": 11,
   "metadata": {
    "ExecuteTime": {
     "end_time": "2023-03-20T02:28:37.717581Z",
     "start_time": "2023-03-20T02:28:37.704642Z"
    }
   },
   "outputs": [
    {
     "name": "stdout",
     "output_type": "stream",
     "text": [
      "사자\n",
      "3마리\n"
     ]
    }
   ],
   "source": [
    "# Tag에서 조건에 맞는 하위태그를 조회 (#animal1 의 하위중 div 태그 조회)\n",
    "\n",
    "ani1_info = ani1.find_all('div')\n",
    "for info in ani1_info:\n",
    "    print(info.text)"
   ]
  },
  {
   "cell_type": "code",
   "execution_count": 12,
   "metadata": {
    "ExecuteTime": {
     "end_time": "2023-03-20T02:29:08.536145Z",
     "start_time": "2023-03-20T02:29:08.523235Z"
    }
   },
   "outputs": [
    {
     "name": "stdout",
     "output_type": "stream",
     "text": [
      "[<div class=\"animal\">사자</div>,\n",
      " <div class=\"animal\">호랑이</div>,\n",
      " <div class=\"animal\">기린</div>,\n",
      " <span class=\"animal\">기린</span>]\n"
     ]
    }
   ],
   "source": [
    "from pprint import pprint\n",
    "# class 가 animal인 태그들 조회 => 속성으로 조회\n",
    "cls_animal_list = soup.find_all(attrs='animal')  #(attrs={'class':'animal'})\n",
    "pprint(cls_animal_list)"
   ]
  },
  {
   "cell_type": "code",
   "execution_count": 13,
   "metadata": {
    "ExecuteTime": {
     "end_time": "2023-03-20T02:30:20.261984Z",
     "start_time": "2023-03-20T02:30:20.250957Z"
    }
   },
   "outputs": [
    {
     "name": "stdout",
     "output_type": "stream",
     "text": [
      "[<div class=\"cnt\">3마리</div>,\n",
      " <div class=\"cnt\">2마리</div>,\n",
      " <div class=\"cnt\">5마리</div>,\n",
      " <span class=\"cnt\">5마리</span>]\n"
     ]
    }
   ],
   "source": [
    "# class 가 cnt인 태그 조회\n",
    "cls_cnt_list = soup.find_all(attrs='cnt')# (attrs={'class':'cnt'})\n",
    "pprint(cls_cnt_list)"
   ]
  },
  {
   "cell_type": "code",
   "execution_count": 15,
   "metadata": {
    "ExecuteTime": {
     "end_time": "2023-03-20T02:31:01.287553Z",
     "start_time": "2023-03-20T02:31:01.274441Z"
    }
   },
   "outputs": [
    {
     "name": "stdout",
     "output_type": "stream",
     "text": [
      "[<div id=\"animal1\">\n",
      "<div class=\"animal\">사자</div>\n",
      "<div class=\"cnt\">3마리</div>\n",
      "</div>,\n",
      " <div class=\"animal\">사자</div>,\n",
      " <div class=\"cnt\">3마리</div>,\n",
      " <div id=\"animal2\">\n",
      "<div class=\"animal\">호랑이</div>\n",
      "<div class=\"cnt\">2마리</div>\n",
      "</div>,\n",
      " <div class=\"animal\">호랑이</div>,\n",
      " <div class=\"cnt\">2마리</div>,\n",
      " <div id=\"animal3\">\n",
      "<div class=\"animal\">기린</div>\n",
      "<div class=\"cnt\">5마리</div>\n",
      "</div>,\n",
      " <div class=\"animal\">기린</div>,\n",
      " <div class=\"cnt\">5마리</div>,\n",
      " <div id=\"content\">\n",
      "\t\t\t동물원에 <span class=\"animal\">기린</span>이 <span class=\"cnt\">5마리</span> 있습니다.\n",
      "\t\t</div>,\n",
      " <span class=\"animal\">기린</span>,\n",
      " <span class=\"cnt\">5마리</span>]\n"
     ]
    }
   ],
   "source": [
    "# 두개 이상의 태그 조회: 묶어서 전달\n",
    "tags = soup.find_all(['div','span'])\n",
    "pprint(tags)"
   ]
  },
  {
   "cell_type": "code",
   "execution_count": 17,
   "metadata": {
    "ExecuteTime": {
     "end_time": "2023-03-20T02:43:53.394789Z",
     "start_time": "2023-03-20T02:43:53.375660Z"
    }
   },
   "outputs": [
    {
     "name": "stdout",
     "output_type": "stream",
     "text": [
      "<div id=\"animal1\">\n",
      "<div class=\"animal\">사자</div>\n",
      "<div class=\"cnt\">3마리</div>\n",
      "</div>\n",
      "----------\n",
      "<div class=\"animal\">사자</div> :: 사자 :: ['animal']\n"
     ]
    }
   ],
   "source": [
    "# id가 animal1 인 것 조회\n",
    "id_animal1 = soup.find(attrs={'id':'animal1'})\n",
    "pprint(id_animal1)\n",
    "print('-'*10)\n",
    "d = id_animal1.find(attrs={'class':'animal'})\n",
    "print(d, d.get_text(), d.get('class'), sep=' :: ')"
   ]
  },
  {
   "cell_type": "code",
   "execution_count": 21,
   "metadata": {
    "ExecuteTime": {
     "end_time": "2023-03-20T02:47:29.015628Z",
     "start_time": "2023-03-20T02:47:29.007429Z"
    }
   },
   "outputs": [
    {
     "name": "stdout",
     "output_type": "stream",
     "text": [
      "[<a href=\"https://grandpark.seoul.go.kr\">서울대공원</a>,\n",
      " <a href=\"http://www.everland.com\">에버랜드 동물원</a>,\n",
      " <a href=\"https://www.coexaqua.com\">코엑스 아쿠아리움</a>,\n",
      " <a href=\"http://www.google.co.kr\">구글</a>]\n"
     ]
    }
   ],
   "source": [
    "# 링크 조회\n",
    "a_list = soup.find_all('a')\n",
    "pprint(a_list)"
   ]
  },
  {
   "cell_type": "code",
   "execution_count": 15,
   "metadata": {
    "ExecuteTime": {
     "end_time": "2023-03-16T08:41:03.673638Z",
     "start_time": "2023-03-16T08:41:03.659563Z"
    }
   },
   "outputs": [
    {
     "data": {
      "text/plain": [
       "['https://grandpark.seoul.go.kr',\n",
       " 'http://www.everland.com',\n",
       " 'https://www.coexaqua.com',\n",
       " 'http://www.google.co.kr']"
      ]
     },
     "execution_count": 15,
     "metadata": {},
     "output_type": "execute_result"
    }
   ],
   "source": [
    "zoo_urls = [a.get('href') for a in a_list]\n",
    "zoo_urls"
   ]
  },
  {
   "cell_type": "code",
   "execution_count": 16,
   "metadata": {
    "ExecuteTime": {
     "end_time": "2023-03-16T08:41:04.064032Z",
     "start_time": "2023-03-16T08:41:04.052325Z"
    }
   },
   "outputs": [
    {
     "data": {
      "text/plain": [
       "<div class=\"animal\">사자</div>"
      ]
     },
     "execution_count": 16,
     "metadata": {},
     "output_type": "execute_result"
    }
   ],
   "source": [
    "# tag.findXXXX() : tag(부모) 내의 element를 찾는다.\n",
    "# soup.findXXXX() : 전체 문서내에서 element를 찾는다.\n",
    "\n",
    "ani_1 = soup.find('div', attrs={'id': 'animal1'})\n",
    "ani = ani_1.find(attrs={'class': 'animal'})\n",
    "ani\n",
    "# soup.find('div', attrs={'id':'animal1'}).find(attrs={'class':'animal'})"
   ]
  },
  {
   "cell_type": "code",
   "execution_count": 23,
   "metadata": {
    "ExecuteTime": {
     "end_time": "2023-03-20T02:48:11.808558Z",
     "start_time": "2023-03-20T02:48:11.799664Z"
    }
   },
   "outputs": [
    {
     "name": "stdout",
     "output_type": "stream",
     "text": [
      "[<div id=\"animal1\">\n",
      "<div class=\"animal\">사자</div>\n",
      "<div class=\"cnt\">3마리</div>\n",
      "</div>,\n",
      " <div id=\"animal2\">\n",
      "<div class=\"animal\">호랑이</div>\n",
      "<div class=\"cnt\">2마리</div>\n",
      "</div>,\n",
      " <div id=\"animal3\">\n",
      "<div class=\"animal\">기린</div>\n",
      "<div class=\"cnt\">5마리</div>\n",
      "</div>]\n"
     ]
    }
   ],
   "source": [
    "# 정규식 이용 (name아니 attrs의 값에 정규식 사용가능. 패턴객체(re.compile())를 전달.)\n",
    "# select에는 사용 못함.\n",
    "# print(type(re.compile(r'animal\\d')))\n",
    "results = soup.find_all(attrs={'id': re.compile(r'animal\\d')})\n",
    "pprint(results)"
   ]
  },
  {
   "cell_type": "code",
   "execution_count": 18,
   "metadata": {
    "ExecuteTime": {
     "end_time": "2023-03-16T08:41:05.011403Z",
     "start_time": "2023-03-16T08:41:04.995955Z"
    }
   },
   "outputs": [
    {
     "data": {
      "text/plain": [
       "[<a href=\"https://grandpark.seoul.go.kr\">서울대공원</a>,\n",
       " <a href=\"http://www.google.co.kr\">구글</a>]"
      ]
     },
     "execution_count": 18,
     "metadata": {},
     "output_type": "execute_result"
    }
   ],
   "source": [
    "soup.find_all('a', attrs={'href':re.compile(r'kr$')})"
   ]
  },
  {
   "cell_type": "markdown",
   "metadata": {},
   "source": [
    "### CSS Selector를 이용해 조회\n",
    "- select(selector='css셀렉터')\n",
    "    - css 셀렉터와 일치하는 tag들을 반환한다.\n",
    "- select_one(selector='css셀렉터')\n",
    "    - css 셀렉터와 일치하는 tag를 반환한다.\n",
    "    - 일치하는 것이 여러개일 경우 첫번째 것 하나만 반환한다."
   ]
  },
  {
   "cell_type": "markdown",
   "metadata": {
    "ExecuteTime": {
     "end_time": "2019-07-27T10:15:55.159805Z",
     "start_time": "2019-07-27T10:15:55.156811Z"
    }
   },
   "source": [
    "#### 태그명으로 조회"
   ]
  },
  {
   "cell_type": "code",
   "execution_count": 19,
   "metadata": {
    "ExecuteTime": {
     "end_time": "2023-03-16T08:41:06.269395Z",
     "start_time": "2023-03-16T08:41:06.243779Z"
    }
   },
   "outputs": [
    {
     "data": {
      "text/plain": [
       "[<div id=\"animal1\">\n",
       " <div class=\"animal\">사자</div>\n",
       " <div class=\"cnt\">3마리</div>\n",
       " </div>,\n",
       " <div class=\"animal\">사자</div>,\n",
       " <div class=\"cnt\">3마리</div>,\n",
       " <div id=\"animal2\">\n",
       " <div class=\"animal\">호랑이</div>\n",
       " <div class=\"cnt\">2마리</div>\n",
       " </div>,\n",
       " <div class=\"animal\">호랑이</div>,\n",
       " <div class=\"cnt\">2마리</div>,\n",
       " <div id=\"animal3\">\n",
       " <div class=\"animal\">기린</div>\n",
       " <div class=\"cnt\">5마리</div>\n",
       " </div>,\n",
       " <div class=\"animal\">기린</div>,\n",
       " <div class=\"cnt\">5마리</div>,\n",
       " <div id=\"content\">\n",
       " \t\t\t동물원에 <span class=\"animal\">기린</span>이 <span class=\"cnt\">5마리</span> 있습니다.\n",
       " \t\t</div>]"
      ]
     },
     "execution_count": 19,
     "metadata": {},
     "output_type": "execute_result"
    }
   ],
   "source": [
    "soup.select('div')"
   ]
  },
  {
   "cell_type": "code",
   "execution_count": 20,
   "metadata": {
    "ExecuteTime": {
     "end_time": "2023-03-16T08:41:06.736411Z",
     "start_time": "2023-03-16T08:41:06.724157Z"
    }
   },
   "outputs": [
    {
     "data": {
      "text/plain": [
       "<div id=\"animal1\">\n",
       "<div class=\"animal\">사자</div>\n",
       "<div class=\"cnt\">3마리</div>\n",
       "</div>"
      ]
     },
     "execution_count": 20,
     "metadata": {},
     "output_type": "execute_result"
    }
   ],
   "source": [
    "soup.select_one('div')"
   ]
  },
  {
   "cell_type": "code",
   "execution_count": 21,
   "metadata": {
    "ExecuteTime": {
     "end_time": "2023-03-16T08:41:07.125347Z",
     "start_time": "2023-03-16T08:41:07.115902Z"
    }
   },
   "outputs": [
    {
     "data": {
      "text/plain": [
       "[<div id=\"animal1\">\n",
       " <div class=\"animal\">사자</div>\n",
       " <div class=\"cnt\">3마리</div>\n",
       " </div>,\n",
       " <div class=\"animal\">사자</div>,\n",
       " <div class=\"cnt\">3마리</div>,\n",
       " <div id=\"animal2\">\n",
       " <div class=\"animal\">호랑이</div>\n",
       " <div class=\"cnt\">2마리</div>\n",
       " </div>,\n",
       " <div class=\"animal\">호랑이</div>,\n",
       " <div class=\"cnt\">2마리</div>,\n",
       " <div id=\"animal3\">\n",
       " <div class=\"animal\">기린</div>\n",
       " <div class=\"cnt\">5마리</div>\n",
       " </div>,\n",
       " <div class=\"animal\">기린</div>,\n",
       " <div class=\"cnt\">5마리</div>,\n",
       " <div id=\"content\">\n",
       " \t\t\t동물원에 <span class=\"animal\">기린</span>이 <span class=\"cnt\">5마리</span> 있습니다.\n",
       " \t\t</div>,\n",
       " <a href=\"https://grandpark.seoul.go.kr\">서울대공원</a>,\n",
       " <a href=\"http://www.everland.com\">에버랜드 동물원</a>,\n",
       " <a href=\"https://www.coexaqua.com\">코엑스 아쿠아리움</a>,\n",
       " <a href=\"http://www.google.co.kr\">구글</a>]"
      ]
     },
     "execution_count": 21,
     "metadata": {},
     "output_type": "execute_result"
    }
   ],
   "source": [
    "soup.select('div, a')"
   ]
  },
  {
   "cell_type": "markdown",
   "metadata": {},
   "source": [
    "#### class와 id로 조회"
   ]
  },
  {
   "cell_type": "code",
   "execution_count": 22,
   "metadata": {
    "ExecuteTime": {
     "end_time": "2023-03-16T08:41:08.150786Z",
     "start_time": "2023-03-16T08:41:08.131389Z"
    }
   },
   "outputs": [
    {
     "data": {
      "text/plain": [
       "[<div class=\"animal\">사자</div>,\n",
       " <div class=\"animal\">호랑이</div>,\n",
       " <div class=\"animal\">기린</div>,\n",
       " <span class=\"animal\">기린</span>]"
      ]
     },
     "execution_count": 22,
     "metadata": {},
     "output_type": "execute_result"
    }
   ],
   "source": [
    "soup.select('.animal')"
   ]
  },
  {
   "cell_type": "code",
   "execution_count": 23,
   "metadata": {
    "ExecuteTime": {
     "end_time": "2023-03-16T08:41:08.838211Z",
     "start_time": "2023-03-16T08:41:08.828240Z"
    }
   },
   "outputs": [
    {
     "data": {
      "text/plain": [
       "[<div id=\"animal1\">\n",
       " <div class=\"animal\">사자</div>\n",
       " <div class=\"cnt\">3마리</div>\n",
       " </div>]"
      ]
     },
     "execution_count": 23,
     "metadata": {},
     "output_type": "execute_result"
    }
   ],
   "source": [
    "soup.select('#animal1')"
   ]
  },
  {
   "cell_type": "code",
   "execution_count": 24,
   "metadata": {
    "ExecuteTime": {
     "end_time": "2023-03-16T08:41:09.926749Z",
     "start_time": "2023-03-16T08:41:09.908661Z"
    }
   },
   "outputs": [
    {
     "data": {
      "text/plain": [
       "[<div class=\"cnt\">3마리</div>]"
      ]
     },
     "execution_count": 24,
     "metadata": {},
     "output_type": "execute_result"
    }
   ],
   "source": [
    "#자식 조회\n",
    "soup.select('#animal1 > .cnt')"
   ]
  },
  {
   "cell_type": "code",
   "execution_count": 25,
   "metadata": {
    "ExecuteTime": {
     "end_time": "2023-03-16T08:41:10.689520Z",
     "start_time": "2023-03-16T08:41:10.676546Z"
    }
   },
   "outputs": [
    {
     "data": {
      "text/plain": [
       "[<a href=\"https://grandpark.seoul.go.kr\">서울대공원</a>,\n",
       " <a href=\"http://www.everland.com\">에버랜드 동물원</a>,\n",
       " <a href=\"https://www.coexaqua.com\">코엑스 아쿠아리움</a>]"
      ]
     },
     "execution_count": 25,
     "metadata": {},
     "output_type": "execute_result"
    }
   ],
   "source": [
    "# 자손 조회\n",
    "soup.select('ul a')\n",
    "# bs.select('ul > a') 이건 조회안된다."
   ]
  },
  {
   "cell_type": "code",
   "execution_count": 26,
   "metadata": {
    "ExecuteTime": {
     "end_time": "2023-03-16T08:41:11.157764Z",
     "start_time": "2023-03-16T08:41:11.138394Z"
    }
   },
   "outputs": [
    {
     "name": "stdout",
     "output_type": "stream",
     "text": [
      "서울대공원 - 서울대공원\n",
      "https://grandpark.seoul.go.kr - https://grandpark.seoul.go.kr\n",
      "에버랜드 동물원 - 에버랜드 동물원\n",
      "http://www.everland.com - http://www.everland.com\n",
      "코엑스 아쿠아리움 - 코엑스 아쿠아리움\n",
      "https://www.coexaqua.com - https://www.coexaqua.com\n"
     ]
    }
   ],
   "source": [
    "a_list = soup.select('ul a')\n",
    "for a_tag in a_list:\n",
    "    print(a_tag.get_text(), a_tag.text, sep=' - ');\n",
    "    print(a_tag.get('href'), a_tag['href'],sep=' - ')"
   ]
  },
  {
   "cell_type": "code",
   "execution_count": 27,
   "metadata": {
    "ExecuteTime": {
     "end_time": "2023-03-16T08:41:11.854171Z",
     "start_time": "2023-03-16T08:41:11.844479Z"
    }
   },
   "outputs": [
    {
     "data": {
      "text/plain": [
       "[<a href=\"https://grandpark.seoul.go.kr\">서울대공원</a>,\n",
       " <a href=\"http://www.google.co.kr\">구글</a>]"
      ]
     },
     "execution_count": 27,
     "metadata": {},
     "output_type": "execute_result"
    }
   ],
   "source": [
    "a_list2 = soup.select('a[href $= kr]')\n",
    "a_list2"
   ]
  },
  {
   "cell_type": "code",
   "execution_count": 28,
   "metadata": {
    "ExecuteTime": {
     "end_time": "2023-03-16T08:41:13.067918Z",
     "start_time": "2023-03-16T08:41:13.059809Z"
    }
   },
   "outputs": [
    {
     "name": "stdout",
     "output_type": "stream",
     "text": [
      "<li><a href=\"https://grandpark.seoul.go.kr\">서울대공원</a></li>\n",
      "<li><a href=\"http://www.everland.com\">에버랜드 동물원</a></li>\n",
      "<li><a href=\"https://www.coexaqua.com\">코엑스 아쿠아리움</a></li>\n"
     ]
    }
   ],
   "source": [
    "from bs4.element import NavigableString\n",
    "uls = soup.find('ul')\n",
    "#print(uls.contents)\n",
    "for li in uls.contents: # 텍스트 element도 조회해서 사이사이 낀 엔터(\\n)도 조회된다.\n",
    "    if type(li)==NavigableString:  #문자열. \n",
    "        continue;\n",
    "    print(li)"
   ]
  },
  {
   "cell_type": "code",
   "execution_count": 29,
   "metadata": {
    "ExecuteTime": {
     "end_time": "2023-03-16T08:41:13.657992Z",
     "start_time": "2023-03-16T08:41:13.644650Z"
    }
   },
   "outputs": [
    {
     "data": {
      "text/plain": [
       "[<div class=\"cnt\">3마리</div>,\n",
       " <div id=\"animal2\">\n",
       " <div class=\"animal\">호랑이</div>\n",
       " <div class=\"cnt\">2마리</div>\n",
       " </div>,\n",
       " <div class=\"cnt\">2마리</div>,\n",
       " <div class=\"cnt\">5마리</div>]"
      ]
     },
     "execution_count": 29,
     "metadata": {},
     "output_type": "execute_result"
    }
   ],
   "source": [
    "soup.select('div:nth-of-type(2)') #같은 부모의 div중 2번째 (div중에서 2번째) -> 형제노드중 div 중에서 2번째인것. (div, p, div -> 세번째자식이지만 div중에는 2번째 이므로 선택된다. nth-child에서는 선택안됨)"
   ]
  },
  {
   "cell_type": "code",
   "execution_count": 30,
   "metadata": {
    "ExecuteTime": {
     "end_time": "2023-03-16T08:41:14.154861Z",
     "start_time": "2023-03-16T08:41:14.146380Z"
    }
   },
   "outputs": [
    {
     "data": {
      "text/plain": [
       "[<div class=\"cnt\">3마리</div>,\n",
       " <div class=\"cnt\">2마리</div>,\n",
       " <div class=\"cnt\">5마리</div>]"
      ]
     },
     "execution_count": 30,
     "metadata": {},
     "output_type": "execute_result"
    }
   ],
   "source": [
    "soup.select('div:nth-child(2)')  #두번째 자식노드인 div"
   ]
  },
  {
   "cell_type": "code",
   "execution_count": null,
   "metadata": {},
   "outputs": [],
   "source": []
  },
  {
   "cell_type": "code",
   "execution_count": null,
   "metadata": {},
   "outputs": [],
   "source": [
    "#  참고 \n",
    "\n",
    "# 찾은 거에서 select로 찾을 수 있다. 원래 selector를 그대로 사용하면 된다.\n",
    "soup = BeautifulSoup(html_doc, \"lxml\")\n",
    "a =soup.select_one('div#animal1')\n",
    "a\n",
    "a.select(\"body div\")"
   ]
  }
 ],
 "metadata": {
  "kernelspec": {
   "display_name": "Python 3 (ipykernel)",
   "language": "python",
   "name": "python3"
  },
  "language_info": {
   "codemirror_mode": {
    "name": "ipython",
    "version": 3
   },
   "file_extension": ".py",
   "mimetype": "text/x-python",
   "name": "python",
   "nbconvert_exporter": "python",
   "pygments_lexer": "ipython3",
   "version": "3.10.9"
  },
  "toc": {
   "base_numbering": 1,
   "nav_menu": {},
   "number_sections": false,
   "sideBar": false,
   "skip_h1_title": false,
   "title_cell": "Table of Contents",
   "title_sidebar": "Contents",
   "toc_cell": false,
   "toc_position": {},
   "toc_section_display": true,
   "toc_window_display": false
  },
  "varInspector": {
   "cols": {
    "lenName": 16,
    "lenType": 16,
    "lenVar": 40
   },
   "kernels_config": {
    "python": {
     "delete_cmd_postfix": "",
     "delete_cmd_prefix": "del ",
     "library": "var_list.py",
     "varRefreshCmd": "print(var_dic_list())"
    },
    "r": {
     "delete_cmd_postfix": ") ",
     "delete_cmd_prefix": "rm(",
     "library": "var_list.r",
     "varRefreshCmd": "cat(var_dic_list()) "
    }
   },
   "types_to_exclude": [
    "module",
    "function",
    "builtin_function_or_method",
    "instance",
    "_Feature"
   ],
   "window_display": false
  }
 },
 "nbformat": 4,
 "nbformat_minor": 2
}
