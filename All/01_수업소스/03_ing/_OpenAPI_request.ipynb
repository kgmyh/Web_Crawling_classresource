{
 "cells": [
  {
   "cell_type": "code",
   "execution_count": 6,
   "id": "13c9d29c-b239-42d5-b020-b5ce294ba6a7",
   "metadata": {},
   "outputs": [],
   "source": [
    "import requests\n",
    "import datetime"
   ]
  },
  {
   "cell_type": "code",
   "execution_count": 23,
   "id": "6a809fcb-78b8-4a30-8cdb-43497e3b7863",
   "metadata": {},
   "outputs": [],
   "source": [
    "url = 'http://apis.data.go.kr/1360000/MidFcstInfoService/getMidFcst'\n",
    "params ={'serviceKey' : 'G7K76RZdwyb7zu%2FPnTYL8YCkq00SQNurw28O55TEMC6VypG5jQvFspEFbK4S1BvM4y9EUd0uLVzysF2jafDItw%3D%3D',\n",
    "         'pageNo' : '1',\n",
    "         'numOfRows' : '10',\n",
    "         'dataType' : 'JSON',\n",
    "         'stnId' : '109', \n",
    "         'tmFc' : f\"{datetime.date.today().strftime('%Y%m%d')}0600\" }\n",
    "\n",
    "response = requests.get(url, params=params)"
   ]
  },
  {
   "cell_type": "code",
   "execution_count": 24,
   "id": "b94ab967-7199-4747-b70b-8135f138281d",
   "metadata": {},
   "outputs": [
    {
     "data": {
      "text/plain": [
       "200"
      ]
     },
     "execution_count": 24,
     "metadata": {},
     "output_type": "execute_result"
    }
   ],
   "source": [
    "response.status_code"
   ]
  },
  {
   "cell_type": "code",
   "execution_count": 25,
   "id": "bbc407cc-5513-4831-b11c-69aadab4d823",
   "metadata": {},
   "outputs": [
    {
     "data": {
      "text/plain": [
       "{'response': {'header': {'resultCode': '00', 'resultMsg': 'NORMAL_SERVICE'},\n",
       "  'body': {'dataType': 'JSON',\n",
       "   'items': {'item': [{'wfSv': '○ (하늘상태) 30일(토)~4월 1일(월)은 대체로 맑겠고, 그 밖의 날은 구름많겠습니다.\\n○ (기온) 이번 예보기간 아침 기온은 0~10도, 낮 기온은 13~20도로 평년(최저기온 1~6도, 최고기온 13~17도)과 비슷하거나 높겠습니다.\\n○ (해상) 서해중부해상의 물결은 0.5~2.0m로 일겠습니다.\\n○ (주말전망) 30일(토)~31일(일)은 대체로 맑겠습니다. 아침 기온은 0~5도, 낮 기온은 13~17도가 되겠습니다.\\n\\n* (강수 변동성) 30일(토)과 4월 3일(수)~4일(목)은 우리나라 주변 기압계 흐름에 따라 날씨가 변동될 가능성이 있겠으니, 앞으로 발표되는 최신 예보를 참고하기 바랍니다.\\n'}]},\n",
       "   'pageNo': 1,\n",
       "   'numOfRows': 10,\n",
       "   'totalCount': 1}}}"
      ]
     },
     "execution_count": 25,
     "metadata": {},
     "output_type": "execute_result"
    }
   ],
   "source": [
    "response.json()"
   ]
  },
  {
   "cell_type": "code",
   "execution_count": 26,
   "id": "ee0f0bd7-0134-4028-bf69-6af86d2a767e",
   "metadata": {},
   "outputs": [
    {
     "name": "stdout",
     "output_type": "stream",
     "text": [
      "○ (하늘상태) 30일(토)~4월 1일(월)은 대체로 맑겠고, 그 밖의 날은 구름많겠습니다.\n",
      "○ (기온) 이번 예보기간 아침 기온은 0~10도, 낮 기온은 13~20도로 평년(최저기온 1~6도, 최고기온 13~17도)과 비슷하거나 높겠습니다.\n",
      "○ (해상) 서해중부해상의 물결은 0.5~2.0m로 일겠습니다.\n",
      "○ (주말전망) 30일(토)~31일(일)은 대체로 맑겠습니다. 아침 기온은 0~5도, 낮 기온은 13~17도가 되겠습니다.\n",
      "\n",
      "* (강수 변동성) 30일(토)과 4월 3일(수)~4일(목)은 우리나라 주변 기압계 흐름에 따라 날씨가 변동될 가능성이 있겠으니, 앞으로 발표되는 최신 예보를 참고하기 바랍니다.\n",
      "\n"
     ]
    }
   ],
   "source": [
    "r = response.json()\n",
    "print(r['response']['body']['items']['item'][0]['wfSv'])"
   ]
  },
  {
   "cell_type": "code",
   "execution_count": null,
   "id": "ae2f90ae-2711-4970-a9ea-53dd10333438",
   "metadata": {},
   "outputs": [],
   "source": []
  }
 ],
 "metadata": {
  "kernelspec": {
   "display_name": "Python 3 (ipykernel)",
   "language": "python",
   "name": "python3"
  },
  "language_info": {
   "codemirror_mode": {
    "name": "ipython",
    "version": 3
   },
   "file_extension": ".py",
   "mimetype": "text/x-python",
   "name": "python",
   "nbconvert_exporter": "python",
   "pygments_lexer": "ipython3",
   "version": "3.11.8"
  }
 },
 "nbformat": 4,
 "nbformat_minor": 5
}
