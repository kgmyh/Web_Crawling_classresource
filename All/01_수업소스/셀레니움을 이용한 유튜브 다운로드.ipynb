{
 "cells": [
  {
   "cell_type": "code",
   "execution_count": 39,
   "metadata": {
    "ExecuteTime": {
     "end_time": "2019-06-30T03:40:47.546325Z",
     "start_time": "2019-06-30T03:40:47.542348Z"
    }
   },
   "outputs": [],
   "source": [
    "from selenium import webdriver\n",
    "from selenium.webdriver.common.keys import Keys\n",
    "\n",
    "import time\n",
    "import os"
   ]
  },
  {
   "cell_type": "code",
   "execution_count": 40,
   "metadata": {
    "ExecuteTime": {
     "end_time": "2019-06-30T03:40:48.818921Z",
     "start_time": "2019-06-30T03:40:48.814969Z"
    }
   },
   "outputs": [],
   "source": [
    "def make_dir(subdir, num=0):\n",
    "    download_base_dir = r'c:\\Temp\\youtube'\n",
    "    temp_subdir = None\n",
    "    if not num==0:\n",
    "        temp_subdir=subdir+str(num)\n",
    "    else:\n",
    "        temp_subdir = subdir\n",
    "        \n",
    "    download_dir = os.path.join(download_base_dir, temp_subdir)\n",
    "    if not os.path.isdir(download_dir):\n",
    "        os.makedirs(download_dir)\n",
    "    else:\n",
    "        num=num+1;\n",
    "        download_dir = make_dir(subdir, num)\n",
    "       \n",
    "    return download_dir"
   ]
  },
  {
   "cell_type": "code",
   "execution_count": null,
   "metadata": {
    "ExecuteTime": {
     "end_time": "2019-06-29T23:50:35.054688Z",
     "start_time": "2019-06-29T23:50:35.047073Z"
    }
   },
   "outputs": [],
   "source": [
    "make_dir(\"뽀로로\")"
   ]
  },
  {
   "cell_type": "code",
   "execution_count": 41,
   "metadata": {
    "ExecuteTime": {
     "end_time": "2019-06-30T03:41:43.978470Z",
     "start_time": "2019-06-30T03:40:53.959196Z"
    }
   },
   "outputs": [
    {
     "name": "stdout",
     "output_type": "stream",
     "text": [
      "0\n",
      "1768.800048828125\n",
      "<html style=\"font-size: 10px;font-family: Roboto, Arial, sans-serif; \" lang=\"ko-KR\"><head><script data-original-src=\"/yts/jsbin/player_ias-vflxACNZ2/ko_KR/remote.js\" src=\"/yts/jsbin/player_ias-vflxACNZ2/ko_KR/remote.js\"></script><meta http-equiv=\"origin-trial\" data-feature=\"Web Components V0\" data-e\n",
      "종료하려면 아무거나 입력해a\n"
     ]
    }
   ],
   "source": [
    "browser = webdriver.Chrome() # 크롬드라이버 있는 경로를 알려준다. 패스로 잡혀있으면 안해도됨\n",
    "\n",
    "base_url = 'https://www.youtube.com/'\n",
    "\n",
    "browser.get(base_url)\n",
    "# 암묵적으로 3초간 웹 자원로드를 위해 3초까지 기다려 준다.\n",
    "browser.implicitly_wait(3)\n",
    "\n",
    "search_tag = browser.find_element_by_id('search')\n",
    "#input에 글 입력\n",
    "search_query = '뽀로로'\n",
    "search_tag.send_keys(search_query)\n",
    "search_btn = browser.find_element_by_id('search-icon-legacy')\n",
    "search_btn.click()\n",
    "\n",
    "body = browser.find_element_by_tag_name('body')\n",
    "browser.implicitly_wait(1)\n",
    "\n",
    "scroll_count = 5\n",
    "#현재 body 스크롤높이 조회\n",
    "print(browser.execute_script(\"return window.scrollY\"))\n",
    "while scroll_count:\n",
    "    body.send_keys(Keys.PAGE_DOWN)\n",
    "    time.sleep(0.5)\n",
    "    scroll_count -= 1\n",
    "\n",
    "html_doc = browser.page_source\n",
    "print(browser.execute_script(\"return window.scrollY\"))\n",
    "print(html_doc[:300])\n",
    "\n",
    "input('종료하려면 아무거나 입력해')\n",
    "browser.close()\n",
    "# 글입력, 이벤트 발생 모드 send_keys()인 듯"
   ]
  },
  {
   "cell_type": "code",
   "execution_count": 42,
   "metadata": {
    "ExecuteTime": {
     "end_time": "2019-06-30T03:41:47.241739Z",
     "start_time": "2019-06-30T03:41:47.236753Z"
    }
   },
   "outputs": [
    {
     "name": "stdout",
     "output_type": "stream",
     "text": [
      "34\n",
      "5\n"
     ]
    }
   ],
   "source": [
    "print(html_doc.count('contents'))\n",
    "print(html_doc.count('이강인'))"
   ]
  },
  {
   "cell_type": "code",
   "execution_count": 43,
   "metadata": {
    "ExecuteTime": {
     "end_time": "2019-06-30T03:41:57.740756Z",
     "start_time": "2019-06-30T03:41:55.583446Z"
    }
   },
   "outputs": [],
   "source": [
    "import re\n",
    "from bs4 import BeautifulSoup\n",
    "bs = BeautifulSoup(html_doc, 'lxml')"
   ]
  },
  {
   "cell_type": "code",
   "execution_count": 47,
   "metadata": {
    "ExecuteTime": {
     "end_time": "2019-06-30T03:43:00.210518Z",
     "start_time": "2019-06-30T03:43:00.170620Z"
    }
   },
   "outputs": [],
   "source": [
    "# tag_list = bs.select('ytd-item-section-renderer div#contents')\n",
    "# for tag in tag_list:\n",
    "#     a_tags = tag.find_all('a', {'href':re.compile(r'\\watch')})\n",
    "#     for a_tag in a_tags:\n",
    "#         print(a_tag.get('href'), a_tag.get('aria-label'), sep=\"++==++\")"
   ]
  },
  {
   "cell_type": "code",
   "execution_count": 56,
   "metadata": {
    "ExecuteTime": {
     "end_time": "2019-06-30T03:47:54.573947Z",
     "start_time": "2019-06-30T03:47:54.558987Z"
    },
    "scrolled": false
   },
   "outputs": [],
   "source": [
    "a_tags = bs.find(id='contents').find_all('a', {'href':re.compile(r'\\watch')})\n",
    "\n",
    "urls = set()\n",
    "titles = set()\n",
    "\n",
    "for a_tag in a_tags:\n",
    "#     print(a_tag.get('href'), a_tag.get('aria-label'), sep=\"++==++\")\n",
    "    urls.add(a_tag.get('href'))\n",
    "    titles.add(a_tag.get('aria-label'))"
   ]
  },
  {
   "cell_type": "code",
   "execution_count": 57,
   "metadata": {
    "ExecuteTime": {
     "end_time": "2019-06-30T03:48:09.521956Z",
     "start_time": "2019-06-30T03:48:09.517007Z"
    }
   },
   "outputs": [
    {
     "data": {
      "text/plain": [
       "26"
      ]
     },
     "execution_count": 57,
     "metadata": {},
     "output_type": "execute_result"
    }
   ],
   "source": [
    "len(urls)"
   ]
  },
  {
   "cell_type": "code",
   "execution_count": 58,
   "metadata": {
    "ExecuteTime": {
     "end_time": "2019-06-30T03:48:14.556503Z",
     "start_time": "2019-06-30T03:48:14.551497Z"
    }
   },
   "outputs": [
    {
     "data": {
      "text/plain": [
       "27"
      ]
     },
     "execution_count": 58,
     "metadata": {},
     "output_type": "execute_result"
    }
   ],
   "source": [
    "len(titles)"
   ]
  },
  {
   "cell_type": "code",
   "execution_count": null,
   "metadata": {},
   "outputs": [],
   "source": []
  }
 ],
 "metadata": {
  "kernelspec": {
   "display_name": "Python 3",
   "language": "python",
   "name": "python3"
  },
  "language_info": {
   "codemirror_mode": {
    "name": "ipython",
    "version": 3
   },
   "file_extension": ".py",
   "mimetype": "text/x-python",
   "name": "python",
   "nbconvert_exporter": "python",
   "pygments_lexer": "ipython3",
   "version": "3.7.3"
  },
  "toc": {
   "base_numbering": 1,
   "nav_menu": {},
   "number_sections": false,
   "sideBar": false,
   "skip_h1_title": false,
   "title_cell": "Table of Contents",
   "title_sidebar": "Contents",
   "toc_cell": false,
   "toc_position": {},
   "toc_section_display": true,
   "toc_window_display": false
  },
  "varInspector": {
   "cols": {
    "lenName": 16,
    "lenType": 16,
    "lenVar": 40
   },
   "kernels_config": {
    "python": {
     "delete_cmd_postfix": "",
     "delete_cmd_prefix": "del ",
     "library": "var_list.py",
     "varRefreshCmd": "print(var_dic_list())"
    },
    "r": {
     "delete_cmd_postfix": ") ",
     "delete_cmd_prefix": "rm(",
     "library": "var_list.r",
     "varRefreshCmd": "cat(var_dic_list()) "
    }
   },
   "position": {
    "height": "567px",
    "left": "1550px",
    "right": "20px",
    "top": "119px",
    "width": "350px"
   },
   "types_to_exclude": [
    "module",
    "function",
    "builtin_function_or_method",
    "instance",
    "_Feature"
   ],
   "window_display": true
  }
 },
 "nbformat": 4,
 "nbformat_minor": 2
}
