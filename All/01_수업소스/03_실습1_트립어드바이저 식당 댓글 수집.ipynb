{
 "cells": [
  {
   "cell_type": "markdown",
   "metadata": {
    "slideshow": {
     "slide_type": "slide"
    }
   },
   "source": [
    "# tripadvisor 식당 댓글 수집"
   ]
  },
  {
   "cell_type": "markdown",
   "metadata": {
    "slideshow": {
     "slide_type": "subslide"
    }
   },
   "source": [
    "## 최근의 웹 트렌드\n",
    "\n",
    "- HTML + 프로그램(JavaScript)\n",
    "- 웹 페이지의 내용이 동적으로 변화\n",
    "- 단순히 HTML만 긁어서 내용 파악이 불가능"
   ]
  },
  {
   "cell_type": "markdown",
   "metadata": {
    "slideshow": {
     "slide_type": "subslide"
    }
   },
   "source": [
    "## 트립어드바이저\n",
    "\n",
    "https://www.tripadvisor.co.kr/Restaurant_Review-g294197-d1371740-Reviews-Mugyodong_Bugeokukjib-Seoul.html\n",
    "\n",
    "- 리뷰의 모든 내용은 '더보기' 버튼을 클릭해야 볼 수 있음\n",
    "- 개발자 도구에서 Network를 확인해보면 더보기 버튼 클릭시 통신이 이뤄지며 리뷰 내용을 가져오는 것을 확인"
   ]
  },
  {
   "cell_type": "markdown",
   "metadata": {},
   "source": [
    "### 크롬드라이버 실행 및 연결"
   ]
  },
  {
   "cell_type": "code",
   "execution_count": 63,
   "metadata": {
    "ExecuteTime": {
     "end_time": "2019-08-11T13:32:11.062513Z",
     "start_time": "2019-08-11T13:32:05.428576Z"
    },
    "slideshow": {
     "slide_type": "fragment"
    }
   },
   "outputs": [],
   "source": [
    "from selenium.webdriver import Chrome\n",
    "browser = Chrome()\n",
    "url = 'https://www.tripadvisor.co.kr/Restaurant_Review-g294197-d1371740-Reviews-Mugyodong_Bugeokukjib-Seoul.html'\n",
    "browser.get(url)"
   ]
  },
  {
   "cell_type": "markdown",
   "metadata": {},
   "source": [
    "### 더보기 링크 찾기"
   ]
  },
  {
   "cell_type": "code",
   "execution_count": 64,
   "metadata": {
    "ExecuteTime": {
     "end_time": "2019-08-11T13:32:11.184188Z",
     "start_time": "2019-08-11T13:32:11.076476Z"
    },
    "slideshow": {
     "slide_type": "fragment"
    }
   },
   "outputs": [],
   "source": [
    "more_links = browser.find_elements_by_css_selector('.ulBlueLinks')"
   ]
  },
  {
   "cell_type": "code",
   "execution_count": 65,
   "metadata": {
    "ExecuteTime": {
     "end_time": "2019-08-11T13:32:13.406248Z",
     "start_time": "2019-08-11T13:32:13.136968Z"
    },
    "slideshow": {
     "slide_type": "fragment"
    }
   },
   "outputs": [],
   "source": [
    "# 더보기 링크 클릭\n",
    "    #하나만 클릭해도 전체가 실행된다. 만약 각각 클릭해야 하는 경우는 아래와 같이 반복문을 사용\n",
    "more_links[0].click()\n",
    "# for link in more_links:\n",
    "#     try:\n",
    "#         link.click()\n",
    "#     except Exception as e:\n",
    "#         print(e)"
   ]
  },
  {
   "cell_type": "markdown",
   "metadata": {
    "slideshow": {
     "slide_type": "slide"
    }
   },
   "source": [
    "## 리뷰 스크래핑\n",
    "\n",
    "- `.text`로 텍스트 확인"
   ]
  },
  {
   "cell_type": "code",
   "execution_count": 66,
   "metadata": {
    "ExecuteTime": {
     "end_time": "2019-08-11T13:32:16.303503Z",
     "start_time": "2019-08-11T13:32:16.278570Z"
    },
    "slideshow": {
     "slide_type": "fragment"
    }
   },
   "outputs": [],
   "source": [
    "reviews = browser.find_elements_by_css_selector('.partial_entry') # 리뷰 써있는 부분"
   ]
  },
  {
   "cell_type": "code",
   "execution_count": 69,
   "metadata": {
    "ExecuteTime": {
     "end_time": "2019-08-11T13:32:39.081174Z",
     "start_time": "2019-08-11T13:32:38.987370Z"
    }
   },
   "outputs": [],
   "source": [
    "data = []\n",
    "for review in reviews:\n",
    "    data.append(review.text)\n",
    "    #print(review.text)\n",
    "    \n",
    "import pandas as pd\n",
    "pd.DataFrame({'text':data}).to_csv(\"리뷰.csv\", encoding='euc-kr')"
   ]
  },
  {
   "cell_type": "code",
   "execution_count": null,
   "metadata": {},
   "outputs": [],
   "source": []
  },
  {
   "cell_type": "markdown",
   "metadata": {},
   "source": [
    "## TODO \n",
    "- 페이지 클릭해서 모든 댓글 가져오기\n",
    "![페이징](img/tripadvisor_paging.png)\n",
    "\n",
    "- 위처럼 23이 마지막 페이지고 **다음** 버튼 클릭하면 다음으로 넘어간다. \n",
    "\n",
    "- 계획\n",
    "    1. 마지막 페이지 번호를 읽어온다.\n",
    "    2. 1 ~ 마지막페이지 까지 반복문을 돌린다.\n",
    "    3. 반복문에서 댓글읽고 다음 버튼 클릭하고를 반복한다.\n",
    "\n",
    "- review 더보기 : .ulBlueLinks\n",
    "- review들 : .partial_entry\n",
    "- 마지막 페이지번호 \n",
    "    - 페이징블럭 : div.mobile-more div.pageNumbers > a:last-child \n",
    "- 다음버튼 찾기 : div.mobile-more  a.nav.next.taLnk.ui_button.primary  (a.nav.next.taLnk.ui_button.primary인데 이게 아래 하나 더 있어서 조상을 찾음)\n"
   ]
  },
  {
   "cell_type": "code",
   "execution_count": 54,
   "metadata": {
    "ExecuteTime": {
     "end_time": "2019-08-11T13:07:17.608114Z",
     "start_time": "2019-08-11T13:07:17.605100Z"
    }
   },
   "outputs": [],
   "source": [
    "from selenium.webdriver import Chrome, ChromeOptions\n",
    "import time"
   ]
  },
  {
   "cell_type": "code",
   "execution_count": 55,
   "metadata": {
    "ExecuteTime": {
     "end_time": "2019-08-11T13:07:18.546584Z",
     "start_time": "2019-08-11T13:07:18.543588Z"
    }
   },
   "outputs": [],
   "source": [
    "url = 'https://www.tripadvisor.co.kr/Restaurant_Review-g294197-d1371740-Reviews-Mugyodong_Bugeokukjib-Seoul.html'"
   ]
  },
  {
   "cell_type": "markdown",
   "metadata": {},
   "source": [
    "# Headless"
   ]
  },
  {
   "cell_type": "code",
   "execution_count": 70,
   "metadata": {
    "ExecuteTime": {
     "end_time": "2019-08-11T13:33:16.124660Z",
     "start_time": "2019-08-11T13:33:16.120672Z"
    }
   },
   "outputs": [],
   "source": [
    "options = ChromeOptions()\n",
    "options.add_argument('headless')\n",
    "options.add_argument('window-size=1920x1080')"
   ]
  },
  {
   "cell_type": "code",
   "execution_count": 71,
   "metadata": {
    "ExecuteTime": {
     "end_time": "2019-08-11T13:33:26.699436Z",
     "start_time": "2019-08-11T13:33:16.922528Z"
    }
   },
   "outputs": [],
   "source": [
    "browser = Chrome(options=options)\n",
    "browser.get(url)"
   ]
  },
  {
   "cell_type": "code",
   "execution_count": 72,
   "metadata": {
    "ExecuteTime": {
     "end_time": "2019-08-11T13:33:28.699044Z",
     "start_time": "2019-08-11T13:33:27.618933Z"
    }
   },
   "outputs": [
    {
     "name": "stdout",
     "output_type": "stream",
     "text": [
      "23\n"
     ]
    }
   ],
   "source": [
    "# 마지막 페이지 번호, 다음버튼 찾기\n",
    "last_page = browser.find_element_by_css_selector('div.mobile-more div.pageNumbers > a:last-child ').text.strip()\n",
    "print(last_page)"
   ]
  },
  {
   "cell_type": "markdown",
   "metadata": {},
   "source": [
    "# Guide page 로딩 시간을 충분히 주지 않으면 예외발생.\n",
    "- 수업엔 0.5하니 괜찮네\n",
    "- 페이지가 로딩되기 전에 클릭되어서\n",
    "- https://stackoverflow.com/questions/12967541/how-to-avoid-staleelementreferenceexception-in-selenium/12967602 여기 반복문 사용하는 구문 참조"
   ]
  },
  {
   "cell_type": "code",
   "execution_count": 73,
   "metadata": {
    "ExecuteTime": {
     "end_time": "2019-08-11T13:33:42.835321Z",
     "start_time": "2019-08-11T13:33:30.314726Z"
    }
   },
   "outputs": [
    {
     "name": "stdout",
     "output_type": "stream",
     "text": [
      "더 보기\n",
      "더 보기\n",
      "숨기기\n",
      "숨기기\n",
      "숨기기\n",
      "더 보기\n",
      "더 보기\n",
      "더 보기\n",
      "더 보기\n",
      "더 보기\n",
      "더 보기\n",
      "더 보기\n",
      "더 보기\n",
      "숨기기\n",
      "숨기기\n",
      "숨기기\n",
      "숨기기\n",
      "숨기기\n",
      "숨기기\n",
      "숨기기\n",
      "더 보기\n",
      "숨기기\n",
      "숨기기\n"
     ]
    }
   ],
   "source": [
    "review_list = []\n",
    "cnt = int(last_page) #문자열 -> 정수\n",
    "\n",
    "while cnt > 0:\n",
    "    attempts = 0\n",
    "    try:\n",
    "        more_btns = browser.find_elements_by_css_selector('.ulBlueLinks')\n",
    "        #print(more_btns[0].text)\n",
    "        more_btns[0].click()\n",
    "        time.sleep(0.7) #적당히 기다리지 않으면 에러난다. \n",
    "        reviews = browser.find_elements_by_css_selector('.partial_entry')\n",
    "        for review in reviews:\n",
    "            review_list.append(review.text)\n",
    "\n",
    "       \n",
    "        # 페이지가 바뀔때 마다 다시 조회해야 한다.(#StaleElementReferenceException 발생)\n",
    "        next_btn = browser.find_element_by_css_selector('div.mobile-more  a.nav.next.taLnk.ui_button.primary')\n",
    "        next_btn.click()\n",
    "        time.sleep(0.5)\n",
    "    except Exception as e:\n",
    "        attempts += 1\n",
    "        \n",
    "    cnt -= 1    "
   ]
  },
  {
   "cell_type": "code",
   "execution_count": 61,
   "metadata": {
    "ExecuteTime": {
     "end_time": "2019-08-11T13:08:56.775912Z",
     "start_time": "2019-08-11T13:08:56.770960Z"
    }
   },
   "outputs": [
    {
     "data": {
      "text/plain": [
       "158"
      ]
     },
     "execution_count": 61,
     "metadata": {},
     "output_type": "execute_result"
    }
   ],
   "source": [
    "len(review_list)"
   ]
  },
  {
   "cell_type": "code",
   "execution_count": 62,
   "metadata": {
    "ExecuteTime": {
     "end_time": "2019-08-11T13:09:02.489636Z",
     "start_time": "2019-08-11T13:09:02.409850Z"
    }
   },
   "outputs": [],
   "source": [
    "browser.close()"
   ]
  },
  {
   "cell_type": "code",
   "execution_count": null,
   "metadata": {},
   "outputs": [],
   "source": []
  },
  {
   "cell_type": "code",
   "execution_count": null,
   "metadata": {},
   "outputs": [],
   "source": []
  },
  {
   "cell_type": "code",
   "execution_count": null,
   "metadata": {},
   "outputs": [],
   "source": []
  },
  {
   "cell_type": "code",
   "execution_count": null,
   "metadata": {},
   "outputs": [],
   "source": []
  }
 ],
 "metadata": {
  "celltoolbar": "Slideshow",
  "kernelspec": {
   "display_name": "Python 3",
   "language": "python",
   "name": "python3"
  },
  "language_info": {
   "codemirror_mode": {
    "name": "ipython",
    "version": 3
   },
   "file_extension": ".py",
   "mimetype": "text/x-python",
   "name": "python",
   "nbconvert_exporter": "python",
   "pygments_lexer": "ipython3",
   "version": "3.7.4"
  },
  "toc": {
   "base_numbering": 1,
   "nav_menu": {},
   "number_sections": false,
   "sideBar": false,
   "skip_h1_title": false,
   "title_cell": "Table of Contents",
   "title_sidebar": "Contents",
   "toc_cell": false,
   "toc_position": {},
   "toc_section_display": true,
   "toc_window_display": false
  },
  "varInspector": {
   "cols": {
    "lenName": 16,
    "lenType": 16,
    "lenVar": 40
   },
   "kernels_config": {
    "python": {
     "delete_cmd_postfix": "",
     "delete_cmd_prefix": "del ",
     "library": "var_list.py",
     "varRefreshCmd": "print(var_dic_list())"
    },
    "r": {
     "delete_cmd_postfix": ") ",
     "delete_cmd_prefix": "rm(",
     "library": "var_list.r",
     "varRefreshCmd": "cat(var_dic_list()) "
    }
   },
   "types_to_exclude": [
    "module",
    "function",
    "builtin_function_or_method",
    "instance",
    "_Feature"
   ],
   "window_display": false
  }
 },
 "nbformat": 4,
 "nbformat_minor": 2
}
