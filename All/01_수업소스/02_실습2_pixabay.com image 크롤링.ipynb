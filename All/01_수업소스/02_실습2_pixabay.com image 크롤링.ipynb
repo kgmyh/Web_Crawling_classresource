{
 "cells": [
  {
   "cell_type": "markdown",
   "metadata": {},
   "source": [
    "# pixabay.com image 크롤링\n",
    "- https://pixabay.com/\n",
    "    - 무료 이미지 제공 사이트\n",
    "    - 메인 페이지의 맨 아래 버튼을 클릭하면 전체 이미지를 볼 수 있다.\n",
    "        - url: https://pixabay.com/images/search/?pagi=페이지번호\n",
    "    - 전체 페이지 수는 **상단 오른쪽**에 보인다.\n",
    "    - 특정 주제의 이미지만 검색후 볼 수 있다.\n",
    "        - url: https://pixabay.com/images/search/검색어/\n",
    "- img 의 링크는 src가 /static/img/blank.gif 인경우 data-lazy 속성을 읽는다. (이미지가 지연로딩처리되 있음)\n",
    "- 이미지 지연로딩\n",
    "    - 현재 보이는 화면에 나오는 이미지만 로딩하고 화면밖의 이미지는 화면에 나올때 나중에 로딩시켜 초기 로딩속도를 개선하는 방식\n",
    "    "
   ]
  },
  {
   "cell_type": "markdown",
   "metadata": {},
   "source": [
    "1. 메인페이지 이미지 크롤링\n",
    "2. 전체 페이지중 N 페이지까지의 이미지 크롤링"
   ]
  },
  {
   "cell_type": "code",
   "execution_count": 1,
   "metadata": {
    "ExecuteTime": {
     "end_time": "2023-03-17T02:23:34.352189Z",
     "start_time": "2023-03-17T02:23:34.145092Z"
    }
   },
   "outputs": [],
   "source": [
    "import requests\n",
    "from bs4 import BeautifulSoup\n",
    "import os"
   ]
  },
  {
   "cell_type": "code",
   "execution_count": null,
   "metadata": {},
   "outputs": [],
   "source": [
    "\n",
    "\n",
    "response = requests.get(url, headers=headers)"
   ]
  },
  {
   "cell_type": "code",
   "execution_count": 9,
   "metadata": {
    "ExecuteTime": {
     "end_time": "2023-03-17T02:28:30.734818Z",
     "start_time": "2023-03-17T02:28:30.680158Z"
    }
   },
   "outputs": [],
   "source": [
    "headers = {'User-Agent': 'Mozilla/5.0 (Macintosh; Intel Mac OS X 10_10_1) AppleWebKit/537.36 (KHTML, like Gecko) Chrome/39.0.2171.95 Safari/537.36'}\n",
    "baseurl = 'https://pixabay.com'\n",
    "res = requests.get(baseurl, headers=headers)\n",
    "img_directory = './pixabay_img' #저장 디렉토리\n",
    "#       저장 디렉토리 확인후 없으면 만들기\n",
    "if not os.path.isdir(img_directory):\n",
    "    os.mkdir(img_directory)"
   ]
  },
  {
   "cell_type": "markdown",
   "metadata": {},
   "source": [
    "- 이미지 컨테이너: div.flex_grid.credits\n",
    "- 각 이미지의 컨테이너 : 이미지 컨테이너 내의 div.item\n",
    "- 이미지: 각 이미지 컨테이너(div.item) 안의 `<a> 내의 <img>`\n",
    "    - img의 src 속성에 이미지 링크가 있다. \n",
    "    - src='/static/img/blank.gif' 인 것들은 lazy 로딩이다. 나중에 로딩할 이미지 경로를 data-lazy 속성으로 제공"
   ]
  },
  {
   "cell_type": "markdown",
   "metadata": {},
   "source": [
    "- **tag.content**: binary \n",
    "- **tag.text**: text"
   ]
  },
  {
   "cell_type": "code",
   "execution_count": 10,
   "metadata": {
    "ExecuteTime": {
     "end_time": "2023-03-17T02:28:39.831009Z",
     "start_time": "2023-03-17T02:28:39.816813Z"
    }
   },
   "outputs": [
    {
     "data": {
      "text/plain": [
       "403"
      ]
     },
     "execution_count": 10,
     "metadata": {},
     "output_type": "execute_result"
    }
   ],
   "source": [
    "res.status_code"
   ]
  },
  {
   "cell_type": "code",
   "execution_count": 8,
   "metadata": {
    "ExecuteTime": {
     "end_time": "2023-03-17T02:27:16.721973Z",
     "start_time": "2023-03-17T02:27:16.712506Z"
    }
   },
   "outputs": [
    {
     "name": "stdout",
     "output_type": "stream",
     "text": [
      "403\n"
     ]
    }
   ],
   "source": [
    "print(res.status_code)\n",
    "if res.status_code==200:    \n",
    "    soup = BeautifulSoup(res.text, 'html.parser')\n",
    "#     print(soup.prettify());\n",
    "    image_elem_list = soup.select('.photo-result-image')\n",
    "    \n",
    "    for img in image_elem_list:\n",
    "#       \n",
    "\n",
    "#       img태그의 src 속성 조회 (이미지 경로 조회 - lazy loading 을 이용했기 때문에 조회결과가 /static/img/blank.gif 인경우 data-lazy 속성을 조회)\n",
    "        img_src = img.get('src').strip()\n",
    "        print(img_src)\n",
    "#         print(img_src) #출력해서 /static/img/blank.gif (자리잡기위한 이미지) 것들 보여주고 이미지 지연로딩 설명\n",
    "\n",
    "        if img_src == '/static/img/blank.gif':\n",
    "            img_src = img.get('data-lazy').strip()\n",
    "        \n",
    "#       이미지 경로에서 파일명만 추출(저장시 사용)\n",
    "        tmp = img_src.split('/')\n",
    "        file_name = tmp[len(tmp)-1]\n",
    "          \n",
    "#      이미지 요청해서 파일로 저장\n",
    "        with open(os.path.join(img_directory, file_name), 'wb') as f:\n",
    "            img_res = requests.get(img_src)\n",
    "            if img_res.status_code == 200:\n",
    "                f.write(img_res.content) #binary는 content로 읽는다."
   ]
  },
  {
   "cell_type": "code",
   "execution_count": 6,
   "metadata": {
    "ExecuteTime": {
     "end_time": "2023-03-17T02:26:42.623130Z",
     "start_time": "2023-03-17T02:26:42.549465Z"
    }
   },
   "outputs": [
    {
     "name": "stdout",
     "output_type": "stream",
     "text": [
      " E 드라이브의 볼륨: samsung_ssd\n",
      " 볼륨 일련 번호: 5C1D-BF98\n",
      "\n",
      " E:\\OneDrive - 둔전초등학교\\01_과목별 수업자료\\03_크롤링\\02_수업소스\\pixabay_img 디렉터리\n",
      "\n",
      "2023-03-17  오전 11:23    <DIR>          .\n",
      "2023-03-17  오전 11:23    <DIR>          ..\n",
      "               0개 파일                   0 바이트\n",
      "               2개 디렉터리  58,679,697,408 바이트 남음\n"
     ]
    }
   ],
   "source": [
    "!cd pixabay_img\n",
    "!dir pixabay_img"
   ]
  },
  {
   "cell_type": "code",
   "execution_count": null,
   "metadata": {},
   "outputs": [],
   "source": []
  },
  {
   "cell_type": "markdown",
   "metadata": {},
   "source": [
    "# TODO pixabay 이미지 다운로드 2\n",
    "- 메인페이지 Discover more 클릭하면 제공 이미지 모두를 받을 수 있다. \n",
    "- 페이지는 페이징 처리되어 Next 버튼을 클릭하면 다음페이지로 이동한다.\n",
    "- 10 page의 image들을 다운 받는다."
   ]
  },
  {
   "cell_type": "code",
   "execution_count": 63,
   "metadata": {
    "ExecuteTime": {
     "end_time": "2019-08-03T18:50:24.768395Z",
     "start_time": "2019-08-03T18:50:24.753452Z"
    }
   },
   "outputs": [],
   "source": [
    "def download_pixabay_images(html_doc):\n",
    "    '''\n",
    "    pixabay 의 image 페이지를 받아서 이미지를 다운 받아 pixabay_img 폴더에 저장한다.\n",
    "    '''\n",
    "    soup = BeautifulSoup(html_doc, 'lxml')\n",
    "#     print(soup.prettify());\n",
    "    div_items = soup.select('div.flex_grid.credits > div.item')\n",
    "    \n",
    "    for div_item in div_items:\n",
    "#       div 하위의 img 태그 조회\n",
    "        img = div_item.find('img')\n",
    "\n",
    "#       img태그의 src 속성 조회 (이미지 경로 조회 - lazy loading 을 이용했기 때문에 조회결과가 /static/img/blank.gif 인경우 data-lazy 속성을 조회)\n",
    "        img_src = img.get('src').strip()\n",
    "        if img_src == '/static/img/blank.gif':\n",
    "            img_src = img.get('data-lazy').strip()\n",
    "        \n",
    "#       이미지 경로에서 파일명만 추출(저장시 사용)\n",
    "        tmp = img_src.split('/')\n",
    "        file_name = tmp[len(tmp)-1]\n",
    "        \n",
    "#       저장 디렉토리 확인후 없으면 만들기\n",
    "        img_directory = './pixabay_img'\n",
    "        if not os.path.isdir(img_directory):\n",
    "            os.mkdir(img_directory)\n",
    "        \n",
    "#       이미지 요청해서 파일로 저장\n",
    "        with open(os.path.join(img_directory, file_name), 'wb') as f:\n",
    "            img_res = requests.get(img_src)\n",
    "            if img_res.status_code == 200:\n",
    "                f.write(img_res.content)"
   ]
  },
  {
   "cell_type": "code",
   "execution_count": 64,
   "metadata": {
    "ExecuteTime": {
     "end_time": "2019-08-03T18:52:23.331460Z",
     "start_time": "2019-08-03T18:50:38.499667Z"
    }
   },
   "outputs": [
    {
     "ename": "PermissionError",
     "evalue": "[Errno 13] Permission denied: './pixabay_img\\\\heart-4366897__340.jpg'",
     "output_type": "error",
     "traceback": [
      "\u001b[1;31m---------------------------------------------------------------------------\u001b[0m",
      "\u001b[1;31mPermissionError\u001b[0m                           Traceback (most recent call last)",
      "\u001b[1;32m<ipython-input-64-6c59000cefbc>\u001b[0m in \u001b[0;36m<module>\u001b[1;34m\u001b[0m\n\u001b[0;32m      4\u001b[0m     \u001b[0mres\u001b[0m \u001b[1;33m=\u001b[0m \u001b[0mrequests\u001b[0m\u001b[1;33m.\u001b[0m\u001b[0mget\u001b[0m\u001b[1;33m(\u001b[0m\u001b[0murl\u001b[0m\u001b[1;33m)\u001b[0m\u001b[1;33m\u001b[0m\u001b[1;33m\u001b[0m\u001b[0m\n\u001b[0;32m      5\u001b[0m     \u001b[1;32mif\u001b[0m \u001b[0mres\u001b[0m\u001b[1;33m.\u001b[0m\u001b[0mstatus_code\u001b[0m \u001b[1;33m==\u001b[0m \u001b[1;36m200\u001b[0m\u001b[1;33m:\u001b[0m\u001b[1;33m\u001b[0m\u001b[1;33m\u001b[0m\u001b[0m\n\u001b[1;32m----> 6\u001b[1;33m         \u001b[0mdownload_pixabay_images\u001b[0m\u001b[1;33m(\u001b[0m\u001b[0mres\u001b[0m\u001b[1;33m.\u001b[0m\u001b[0mtext\u001b[0m\u001b[1;33m)\u001b[0m\u001b[1;33m\u001b[0m\u001b[1;33m\u001b[0m\u001b[0m\n\u001b[0m",
      "\u001b[1;32m<ipython-input-63-20a5d2e188a9>\u001b[0m in \u001b[0;36mdownload_pixabay_images\u001b[1;34m(html_doc)\u001b[0m\n\u001b[0;32m     26\u001b[0m \u001b[1;33m\u001b[0m\u001b[0m\n\u001b[0;32m     27\u001b[0m \u001b[1;31m#       이미지 요청해서 파일로 저장\u001b[0m\u001b[1;33m\u001b[0m\u001b[1;33m\u001b[0m\u001b[1;33m\u001b[0m\u001b[0m\n\u001b[1;32m---> 28\u001b[1;33m         \u001b[1;32mwith\u001b[0m \u001b[0mopen\u001b[0m\u001b[1;33m(\u001b[0m\u001b[0mos\u001b[0m\u001b[1;33m.\u001b[0m\u001b[0mpath\u001b[0m\u001b[1;33m.\u001b[0m\u001b[0mjoin\u001b[0m\u001b[1;33m(\u001b[0m\u001b[0mimg_directory\u001b[0m\u001b[1;33m,\u001b[0m \u001b[0mfile_name\u001b[0m\u001b[1;33m)\u001b[0m\u001b[1;33m,\u001b[0m \u001b[1;34m'wb'\u001b[0m\u001b[1;33m)\u001b[0m \u001b[1;32mas\u001b[0m \u001b[0mf\u001b[0m\u001b[1;33m:\u001b[0m\u001b[1;33m\u001b[0m\u001b[1;33m\u001b[0m\u001b[0m\n\u001b[0m\u001b[0;32m     29\u001b[0m             \u001b[0mimg_res\u001b[0m \u001b[1;33m=\u001b[0m \u001b[0mrequests\u001b[0m\u001b[1;33m.\u001b[0m\u001b[0mget\u001b[0m\u001b[1;33m(\u001b[0m\u001b[0mimg_src\u001b[0m\u001b[1;33m)\u001b[0m\u001b[1;33m\u001b[0m\u001b[1;33m\u001b[0m\u001b[0m\n\u001b[0;32m     30\u001b[0m             \u001b[1;32mif\u001b[0m \u001b[0mimg_res\u001b[0m\u001b[1;33m.\u001b[0m\u001b[0mstatus_code\u001b[0m \u001b[1;33m==\u001b[0m \u001b[1;36m200\u001b[0m\u001b[1;33m:\u001b[0m\u001b[1;33m\u001b[0m\u001b[1;33m\u001b[0m\u001b[0m\n",
      "\u001b[1;31mPermissionError\u001b[0m: [Errno 13] Permission denied: './pixabay_img\\\\heart-4366897__340.jpg'"
     ]
    }
   ],
   "source": [
    "url = 'https://pixabay.com/images/search/?pagi={}'\n",
    "for page in range(30):\n",
    "    url = url.format(page)\n",
    "    res = requests.get(url)\n",
    "    if res.status_code == 200:\n",
    "        download_pixabay_images(res.text)"
   ]
  },
  {
   "cell_type": "code",
   "execution_count": null,
   "metadata": {},
   "outputs": [],
   "source": []
  }
 ],
 "metadata": {
  "kernelspec": {
   "display_name": "Python 3 (ipykernel)",
   "language": "python",
   "name": "python3"
  },
  "language_info": {
   "codemirror_mode": {
    "name": "ipython",
    "version": 3
   },
   "file_extension": ".py",
   "mimetype": "text/x-python",
   "name": "python",
   "nbconvert_exporter": "python",
   "pygments_lexer": "ipython3",
   "version": "3.9.13"
  },
  "toc": {
   "base_numbering": 1,
   "nav_menu": {},
   "number_sections": false,
   "sideBar": false,
   "skip_h1_title": false,
   "title_cell": "Table of Contents",
   "title_sidebar": "Contents",
   "toc_cell": false,
   "toc_position": {},
   "toc_section_display": true,
   "toc_window_display": false
  },
  "varInspector": {
   "cols": {
    "lenName": 16,
    "lenType": 16,
    "lenVar": 40
   },
   "kernels_config": {
    "python": {
     "delete_cmd_postfix": "",
     "delete_cmd_prefix": "del ",
     "library": "var_list.py",
     "varRefreshCmd": "print(var_dic_list())"
    },
    "r": {
     "delete_cmd_postfix": ") ",
     "delete_cmd_prefix": "rm(",
     "library": "var_list.r",
     "varRefreshCmd": "cat(var_dic_list()) "
    }
   },
   "types_to_exclude": [
    "module",
    "function",
    "builtin_function_or_method",
    "instance",
    "_Feature"
   ],
   "window_display": false
  }
 },
 "nbformat": 4,
 "nbformat_minor": 2
}
