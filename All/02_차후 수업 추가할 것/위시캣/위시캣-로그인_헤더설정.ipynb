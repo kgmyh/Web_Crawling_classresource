{
 "cells": [
  {
   "cell_type": "markdown",
   "metadata": {},
   "source": [
    "# requests 포스트 요청\n",
    "- [위시캣](https://www.wishket.com)\n",
    "- IT 아웃소싱 사이트\n",
    "    - 프리랜서 - 개발사를 연결해 주는 사이트"
   ]
  },
  {
   "cell_type": "markdown",
   "metadata": {},
   "source": [
    "1. https://www.wishket.com/accounts/login/ (로그인 사이트) 에서 크롬개발자 도구를 키고 로그인 하면서 Network 흐름을 본다.\n",
    "![img](post_img/위시캣_01.jpg)\n",
    "![img](post_img/위시캣_02.jpg)\n",
    "2. 그냥 연결하면 403 뜬다. - csrf 토큰 쿠키가 필요하고 헤더 정보를 설정 해야 한다.\n",
    "3. csrf 는 보안을 위해 서버가 전송하는 쿠키값이며 요청할 때 마다 요청파라미터로 전송된다. 그런데 우린 웹브라우저가 아니므로 저장이 안된다. 그리고 이건 실행할 때 마다 바뀐다.\n",
    "    - 일단 get방식으로 연결한다. 그럼 csrf 쿠키를 respone로 부터 읽을 수 있다.\n",
    "4. header 정보가 어쩌구 저쩌구 에러난다. (에러메세지)\n",
    "    - 확인해보면 user-agent가 python-requests라고 가므로 에러가 난다.\n",
    "    - 구글에서 my user agent로 조호하거나 개발자 도구에서 확인\n",
    "5. referer 필요 (header에 referer 조회)    "
   ]
  },
  {
   "cell_type": "code",
   "execution_count": 48,
   "metadata": {
    "ExecuteTime": {
     "end_time": "2019-08-07T12:50:33.379751Z",
     "start_time": "2019-08-07T12:50:33.375765Z"
    }
   },
   "outputs": [],
   "source": [
    "import requests\n",
    "from bs4 import BeautifulSoup\n",
    "import json\n",
    "url = 'https://www.wishket.com/accounts/login/'\n",
    "user_info = json.load(open('wishket_pwd.txt')) #id/pwd"
   ]
  },
  {
   "cell_type": "code",
   "execution_count": 55,
   "metadata": {
    "ExecuteTime": {
     "end_time": "2019-08-07T12:55:37.931623Z",
     "start_time": "2019-08-07T12:55:36.615142Z"
    }
   },
   "outputs": [
    {
     "name": "stdout",
     "output_type": "stream",
     "text": [
      "HG0cAQsZ9uwjVD6gyImcn8LOLa3TBPmy\n",
      "{'identification': 'kgmyh92', 'password': 'mptres9273', 'csrfmiddlewaretoken': 'HG0cAQsZ9uwjVD6gyImcn8LOLa3TBPmy'}\n",
      "200\n",
      "[<tr><th>지원한 프로젝트</th><td>0 <span class=\"append-unit\">건</span></td></tr>, <tr><th>계약한 프로젝트</th><td>0 <span class=\"append-unit\">건</span></td></tr>, <tr><th>완료한 프로젝트</th><td>0 <span class=\"append-unit\">건</span></td></tr>]\n",
      "지원한 프로젝트\n",
      "0 건\n",
      "계약한 프로젝트\n",
      "0 건\n",
      "완료한 프로젝트\n",
      "0 건\n"
     ]
    }
   ],
   "source": [
    "with requests.Session() as s:\n",
    "    # csrf 쿠키를 읽기 위해서 일단 연결해 본다.\n",
    "    s.get(url)\n",
    "    csrf_cookie = s.cookies['csrftoken'] #쿠키이름은 개발자도구 application 탭에서 확인\n",
    "    print(s.cookies['csrftoken']) #실행할 때마다 바뀜\n",
    "    PARAM_INFO = {\n",
    "        'identification':user_info['id'],\n",
    "        'password':user_info['pwd'],\n",
    "        'csrfmiddlewaretoken':csrf_cookie        \n",
    "    }\n",
    "#     print(s.headers)\n",
    "    HEADER_INFO = {\n",
    "        'User-Agent':'Mozilla/5.0 (Windows NT 10.0; Win64; x64) AppleWebKit/537.36 (KHTML, like Gecko) Chrome/76.0.3809.100 Safari/537.36',\n",
    "        'Referer': 'https://www.wishket.com/accounts/login/'\n",
    "    }\n",
    "    res = s.post(url, data = PARAM_INFO, headers=HEADER_INFO )\n",
    "    print(res.status_code)\n",
    "    # 403 권한 없는 경우 발생\n",
    "    \n",
    "    # 위시켓 히스토리 가져오기\n",
    "    if res.status_code == 200:\n",
    "        soup = BeautifulSoup(res.text)\n",
    "       \n",
    "        tr_list = soup.select('table.table.table-responsive > tbody > tr')\n",
    "        print(tr_list)\n",
    "        for tr in tr_list:\n",
    "            print(tr.find('th').text.strip())\n",
    "            print(tr.find('td').text.strip())"
   ]
  },
  {
   "cell_type": "code",
   "execution_count": null,
   "metadata": {},
   "outputs": [],
   "source": []
  }
 ],
 "metadata": {
  "kernelspec": {
   "display_name": "Python 3",
   "language": "python",
   "name": "python3"
  },
  "language_info": {
   "codemirror_mode": {
    "name": "ipython",
    "version": 3
   },
   "file_extension": ".py",
   "mimetype": "text/x-python",
   "name": "python",
   "nbconvert_exporter": "python",
   "pygments_lexer": "ipython3",
   "version": "3.7.3"
  },
  "toc": {
   "base_numbering": 1,
   "nav_menu": {},
   "number_sections": false,
   "sideBar": false,
   "skip_h1_title": false,
   "title_cell": "Table of Contents",
   "title_sidebar": "Contents",
   "toc_cell": false,
   "toc_position": {},
   "toc_section_display": true,
   "toc_window_display": false
  },
  "varInspector": {
   "cols": {
    "lenName": 16,
    "lenType": 16,
    "lenVar": 40
   },
   "kernels_config": {
    "python": {
     "delete_cmd_postfix": "",
     "delete_cmd_prefix": "del ",
     "library": "var_list.py",
     "varRefreshCmd": "print(var_dic_list())"
    },
    "r": {
     "delete_cmd_postfix": ") ",
     "delete_cmd_prefix": "rm(",
     "library": "var_list.r",
     "varRefreshCmd": "cat(var_dic_list()) "
    }
   },
   "types_to_exclude": [
    "module",
    "function",
    "builtin_function_or_method",
    "instance",
    "_Feature"
   ],
   "window_display": false
  }
 },
 "nbformat": 4,
 "nbformat_minor": 2
}
