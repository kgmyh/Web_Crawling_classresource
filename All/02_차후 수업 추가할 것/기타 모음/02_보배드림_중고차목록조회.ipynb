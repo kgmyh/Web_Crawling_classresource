{
 "cells": [
  {
   "cell_type": "code",
   "execution_count": 1,
   "metadata": {
    "ExecuteTime": {
     "end_time": "2019-06-26T22:40:14.658973Z",
     "start_time": "2019-06-26T22:40:14.467039Z"
    }
   },
   "outputs": [],
   "source": [
    "import requests\n",
    "from bs4 import BeautifulSoup"
   ]
  },
  {
   "cell_type": "code",
   "execution_count": 2,
   "metadata": {
    "ExecuteTime": {
     "end_time": "2019-06-26T22:41:20.476896Z",
     "start_time": "2019-06-26T22:41:20.299715Z"
    }
   },
   "outputs": [],
   "source": [
    "url = 'http://www.bobaedream.co.kr/mycar/mycar_list.php'\n",
    "res = requests.get(url)"
   ]
  },
  {
   "cell_type": "code",
   "execution_count": 3,
   "metadata": {
    "ExecuteTime": {
     "end_time": "2019-06-26T22:41:27.222526Z",
     "start_time": "2019-06-26T22:41:27.208321Z"
    }
   },
   "outputs": [
    {
     "data": {
      "text/plain": [
       "200"
      ]
     },
     "execution_count": 3,
     "metadata": {},
     "output_type": "execute_result"
    }
   ],
   "source": [
    "res.status_code"
   ]
  },
  {
   "cell_type": "code",
   "execution_count": 7,
   "metadata": {
    "ExecuteTime": {
     "end_time": "2019-06-26T22:42:24.907705Z",
     "start_time": "2019-06-26T22:42:24.711233Z"
    }
   },
   "outputs": [
    {
     "data": {
      "text/plain": [
       "'<!DOCTYPE html>\\n<html lang=\"ko\" xmlns=\"http://www.w3.org/1999/xhtml\">\\n<head>\\n<meta charset=\"utf-8\"/>\\n<meta content=\"user-scalable=yes\" name=\"viewport\"/>\\n<meta content=\"INDEX,FOLLOW\" name=\"ROBOTS\"/>\\n<meta content=\"ALL\" name=\"ROBOTS\"/>\\n<meta content=\"중고차, 중고차시세, 자동차 쇼핑몰, 중고차검색, 구매, 판매, 국산차, 수입차, 내차팔기, 내차사기\" name=\"KEYWORDS\"/>\\n<meta content=\"자동차 검색, 중고차 시세, 수입차, 국산차, 내차사기\" name=\"DESCRIPTION\"/>\\n<meta content=\"중고차 보배드림\" name=\"subject\"/>\\n<meta content=\"중고차 보배드림\" name=\"author\"/>\\n<meta content=\"중고차 보배드림\"'"
      ]
     },
     "execution_count": 7,
     "metadata": {},
     "output_type": "execute_result"
    }
   ],
   "source": [
    "bs = BeautifulSoup(res.text, 'lxml')\n",
    "str(bs)[:500]"
   ]
  },
  {
   "cell_type": "code",
   "execution_count": 10,
   "metadata": {
    "ExecuteTime": {
     "end_time": "2019-06-26T22:43:28.285851Z",
     "start_time": "2019-06-26T22:43:28.273867Z"
    }
   },
   "outputs": [
    {
     "data": {
      "text/plain": [
       "351"
      ]
     },
     "execution_count": 10,
     "metadata": {},
     "output_type": "execute_result"
    }
   ],
   "source": [
    "# 목록의 차이름 조회 - 링크\n",
    "a_tags = bs.find_all('a')\n",
    "len(a_tags)"
   ]
  },
  {
   "cell_type": "code",
   "execution_count": 17,
   "metadata": {
    "ExecuteTime": {
     "end_time": "2019-06-26T22:47:44.904255Z",
     "start_time": "2019-06-26T22:47:44.873700Z"
    }
   },
   "outputs": [
    {
     "data": {
      "text/plain": [
       "20"
      ]
     },
     "execution_count": 17,
     "metadata": {},
     "output_type": "execute_result"
    }
   ],
   "source": [
    "# 링크 : p.tit a\n",
    "# p.tit 찾고 거기서 a 를 찾는다. tree구조\n",
    "p_tags = bs.find_all('p', {'class':'tit'})\n",
    "len(a_tags)"
   ]
  },
  {
   "cell_type": "markdown",
   "metadata": {},
   "source": [
    "### Tag \n",
    "- get_text() : 태그내 text조회\n",
    "- get('attribute이름'): 태그 속성값 조회\n",
    "    - get_attribute_list('attr이름') : get과 동일. 반환타입이 list"
   ]
  },
  {
   "cell_type": "code",
   "execution_count": 30,
   "metadata": {
    "ExecuteTime": {
     "end_time": "2019-06-26T23:04:22.363143Z",
     "start_time": "2019-06-26T23:04:22.352476Z"
    }
   },
   "outputs": [
    {
     "name": "stdout",
     "output_type": "stream",
     "text": [
      "벤츠 스마트 포투 쿠페 - /mycar/mycar_view.php?no=1886517&gubun=I\n",
      "기아 더 뉴 K7 3.0 LPi 럭셔리 - /mycar/mycar_view.php?no=1953413&gubun=K\n",
      "현대 뉴아반떼XD 1.5 VGT 골드 고급형 - /mycar/mycar_view.php?no=1980795&gubun=K\n",
      "벤츠 뉴 A200 - /mycar/mycar_view.php?no=1976911&gubun=I\n",
      "렉서스 ES 350 슈페리엄 - /mycar/mycar_view.php?no=1929839&gubun=I\n",
      "벤츠 뉴 E63 AMG 4매틱 플러스 - /mycar/mycar_view.php?no=1960689&gubun=I\n",
      "아우디 Q7 35 TDI 콰트로 다이내믹 - /mycar/mycar_view.php?no=1963939&gubun=I\n",
      "기아 모하비 KV300 4WD 최고급형 - /mycar/mycar_view.php?no=1978607&gubun=K\n",
      "현대 제네시스 쿠페 380 GT R - /mycar/mycar_view.php?no=1975981&gubun=K\n",
      "현대 제네시스 쿠페 380 GT R - /mycar/mycar_view.php?no=1975980&gubun=K\n",
      "현대 제네시스 쿠페 200 터보 R - /mycar/mycar_view.php?no=1981488&gubun=K\n",
      "현대 제네시스 쿠페 200 터보 P - /mycar/mycar_view.php?no=1981487&gubun=K\n",
      "BMW X5 M50d - /mycar/mycar_view.php?no=1911866&gubun=I\n",
      "랜드로버 뉴 레인지로버 스포츠 3.0 SDV6 HSE 오토바이오그래피 다이나믹 - /mycar/mycar_view.php?no=1958128&gubun=I\n",
      "지프 랭글러 3.6 루비콘 4도어 레콘 에디션 - /mycar/mycar_view.php?no=1981129&gubun=I\n",
      "벤츠 GLC 220d 4매틱 쿠페 프리미엄 - /mycar/mycar_view.php?no=1938524&gubun=I\n",
      "포르쉐 911 카레라 S - /mycar/mycar_view.php?no=1929480&gubun=I\n",
      "랜드로버 뉴 레인지로버 스포츠 3.0 SDV6 HSE 다이나믹 - /mycar/mycar_view.php?no=1975105&gubun=I\n",
      "현대 포터Ⅱ 초장축 더블캡 CRDi  기본형 - /mycar/mycar_view.php?no=1978070&gubun=K\n",
      "현대 포터Ⅱ 초장축 더블캡 CRDi  기본형 - /mycar/mycar_view.php?no=1978068&gubun=K\n"
     ]
    }
   ],
   "source": [
    "# tree 구조 조회. find().find().find()\n",
    "for p_tag in p_tags:\n",
    "    a_tag = p_tag.find('a')\n",
    "    print(a_tag.get_text(), a_tag.get('href'), sep=' - ')"
   ]
  },
  {
   "cell_type": "markdown",
   "metadata": {},
   "source": [
    "## 링크 주소 모으기\n",
    "- 여긴 상대 주소 이므로 "
   ]
  },
  {
   "cell_type": "code",
   "execution_count": 31,
   "metadata": {
    "ExecuteTime": {
     "end_time": "2019-06-26T23:07:44.528664Z",
     "start_time": "2019-06-26T23:07:44.518909Z"
    }
   },
   "outputs": [],
   "source": [
    "import urllib"
   ]
  },
  {
   "cell_type": "code",
   "execution_count": 44,
   "metadata": {
    "ExecuteTime": {
     "end_time": "2019-06-26T23:11:55.717886Z",
     "start_time": "2019-06-26T23:11:55.709633Z"
    }
   },
   "outputs": [
    {
     "data": {
      "text/plain": [
       "'http://www.bobaedream.co.kr'"
      ]
     },
     "execution_count": 44,
     "metadata": {},
     "output_type": "execute_result"
    }
   ],
   "source": [
    "p = urllib.parse.urlparse(url)\n",
    "# p.hostname\n",
    "base_url = p.scheme+'://'+p.hostname\n",
    "base_url"
   ]
  },
  {
   "cell_type": "code",
   "execution_count": 46,
   "metadata": {
    "ExecuteTime": {
     "end_time": "2019-06-26T23:14:37.745753Z",
     "start_time": "2019-06-26T23:14:37.737641Z"
    }
   },
   "outputs": [],
   "source": [
    "urls = []\n",
    "titles = []\n",
    "for p_tag in p_tags:\n",
    "    a_tag = p_tag.find('a')\n",
    "    href = urllib.parse.urljoin(base_url, a_tag.get('href'))\n",
    "    urls.append(href)\n",
    "    titles.append(a_tag.get_text())"
   ]
  },
  {
   "cell_type": "code",
   "execution_count": 47,
   "metadata": {
    "ExecuteTime": {
     "end_time": "2019-06-26T23:14:40.865419Z",
     "start_time": "2019-06-26T23:14:40.854920Z"
    }
   },
   "outputs": [
    {
     "data": {
      "text/plain": [
       "['http://www.bobaedream.co.kr/mycar/mycar_view.php?no=1886517&gubun=I',\n",
       " 'http://www.bobaedream.co.kr/mycar/mycar_view.php?no=1953413&gubun=K',\n",
       " 'http://www.bobaedream.co.kr/mycar/mycar_view.php?no=1980795&gubun=K',\n",
       " 'http://www.bobaedream.co.kr/mycar/mycar_view.php?no=1976911&gubun=I',\n",
       " 'http://www.bobaedream.co.kr/mycar/mycar_view.php?no=1929839&gubun=I',\n",
       " 'http://www.bobaedream.co.kr/mycar/mycar_view.php?no=1960689&gubun=I',\n",
       " 'http://www.bobaedream.co.kr/mycar/mycar_view.php?no=1963939&gubun=I',\n",
       " 'http://www.bobaedream.co.kr/mycar/mycar_view.php?no=1978607&gubun=K',\n",
       " 'http://www.bobaedream.co.kr/mycar/mycar_view.php?no=1975981&gubun=K',\n",
       " 'http://www.bobaedream.co.kr/mycar/mycar_view.php?no=1975980&gubun=K',\n",
       " 'http://www.bobaedream.co.kr/mycar/mycar_view.php?no=1981488&gubun=K',\n",
       " 'http://www.bobaedream.co.kr/mycar/mycar_view.php?no=1981487&gubun=K',\n",
       " 'http://www.bobaedream.co.kr/mycar/mycar_view.php?no=1911866&gubun=I',\n",
       " 'http://www.bobaedream.co.kr/mycar/mycar_view.php?no=1958128&gubun=I',\n",
       " 'http://www.bobaedream.co.kr/mycar/mycar_view.php?no=1981129&gubun=I',\n",
       " 'http://www.bobaedream.co.kr/mycar/mycar_view.php?no=1938524&gubun=I',\n",
       " 'http://www.bobaedream.co.kr/mycar/mycar_view.php?no=1929480&gubun=I',\n",
       " 'http://www.bobaedream.co.kr/mycar/mycar_view.php?no=1975105&gubun=I',\n",
       " 'http://www.bobaedream.co.kr/mycar/mycar_view.php?no=1978070&gubun=K',\n",
       " 'http://www.bobaedream.co.kr/mycar/mycar_view.php?no=1978068&gubun=K']"
      ]
     },
     "execution_count": 47,
     "metadata": {},
     "output_type": "execute_result"
    }
   ],
   "source": [
    "urls"
   ]
  },
  {
   "cell_type": "code",
   "execution_count": 48,
   "metadata": {
    "ExecuteTime": {
     "end_time": "2019-06-26T23:14:48.290851Z",
     "start_time": "2019-06-26T23:14:48.282902Z"
    }
   },
   "outputs": [
    {
     "data": {
      "text/plain": [
       "['벤츠 스마트 포투 쿠페',\n",
       " '기아 더 뉴 K7 3.0 LPi 럭셔리',\n",
       " '현대 뉴아반떼XD 1.5 VGT 골드 고급형',\n",
       " '벤츠 뉴 A200',\n",
       " '렉서스 ES 350 슈페리엄',\n",
       " '벤츠 뉴 E63 AMG 4매틱 플러스',\n",
       " '아우디 Q7 35 TDI 콰트로 다이내믹',\n",
       " '기아 모하비 KV300 4WD 최고급형',\n",
       " '현대 제네시스 쿠페 380 GT R',\n",
       " '현대 제네시스 쿠페 380 GT R',\n",
       " '현대 제네시스 쿠페 200 터보 R',\n",
       " '현대 제네시스 쿠페 200 터보 P',\n",
       " 'BMW X5 M50d',\n",
       " '랜드로버 뉴 레인지로버 스포츠 3.0 SDV6 HSE 오토바이오그래피 다이나믹',\n",
       " '지프 랭글러 3.6 루비콘 4도어 레콘 에디션',\n",
       " '벤츠 GLC 220d 4매틱 쿠페 프리미엄',\n",
       " '포르쉐 911 카레라 S',\n",
       " '랜드로버 뉴 레인지로버 스포츠 3.0 SDV6 HSE 다이나믹',\n",
       " '현대 포터Ⅱ 초장축 더블캡 CRDi  기본형',\n",
       " '현대 포터Ⅱ 초장축 더블캡 CRDi  기본형']"
      ]
     },
     "execution_count": 48,
     "metadata": {},
     "output_type": "execute_result"
    }
   ],
   "source": [
    "titles"
   ]
  },
  {
   "cell_type": "code",
   "execution_count": 49,
   "metadata": {
    "ExecuteTime": {
     "end_time": "2019-06-26T23:16:03.040218Z",
     "start_time": "2019-06-26T23:15:59.345154Z"
    }
   },
   "outputs": [
    {
     "data": {
      "text/html": [
       "<div>\n",
       "<style scoped>\n",
       "    .dataframe tbody tr th:only-of-type {\n",
       "        vertical-align: middle;\n",
       "    }\n",
       "\n",
       "    .dataframe tbody tr th {\n",
       "        vertical-align: top;\n",
       "    }\n",
       "\n",
       "    .dataframe thead th {\n",
       "        text-align: right;\n",
       "    }\n",
       "</style>\n",
       "<table border=\"1\" class=\"dataframe\">\n",
       "  <thead>\n",
       "    <tr style=\"text-align: right;\">\n",
       "      <th></th>\n",
       "      <th>title</th>\n",
       "      <th>link_url</th>\n",
       "    </tr>\n",
       "  </thead>\n",
       "  <tbody>\n",
       "    <tr>\n",
       "      <th>0</th>\n",
       "      <td>벤츠 스마트 포투 쿠페</td>\n",
       "      <td>http://www.bobaedream.co.kr/mycar/mycar_view.p...</td>\n",
       "    </tr>\n",
       "    <tr>\n",
       "      <th>1</th>\n",
       "      <td>기아 더 뉴 K7 3.0 LPi 럭셔리</td>\n",
       "      <td>http://www.bobaedream.co.kr/mycar/mycar_view.p...</td>\n",
       "    </tr>\n",
       "    <tr>\n",
       "      <th>2</th>\n",
       "      <td>현대 뉴아반떼XD 1.5 VGT 골드 고급형</td>\n",
       "      <td>http://www.bobaedream.co.kr/mycar/mycar_view.p...</td>\n",
       "    </tr>\n",
       "    <tr>\n",
       "      <th>3</th>\n",
       "      <td>벤츠 뉴 A200</td>\n",
       "      <td>http://www.bobaedream.co.kr/mycar/mycar_view.p...</td>\n",
       "    </tr>\n",
       "    <tr>\n",
       "      <th>4</th>\n",
       "      <td>렉서스 ES 350 슈페리엄</td>\n",
       "      <td>http://www.bobaedream.co.kr/mycar/mycar_view.p...</td>\n",
       "    </tr>\n",
       "  </tbody>\n",
       "</table>\n",
       "</div>"
      ],
      "text/plain": [
       "                      title                                           link_url\n",
       "0              벤츠 스마트 포투 쿠페  http://www.bobaedream.co.kr/mycar/mycar_view.p...\n",
       "1     기아 더 뉴 K7 3.0 LPi 럭셔리  http://www.bobaedream.co.kr/mycar/mycar_view.p...\n",
       "2  현대 뉴아반떼XD 1.5 VGT 골드 고급형  http://www.bobaedream.co.kr/mycar/mycar_view.p...\n",
       "3                 벤츠 뉴 A200  http://www.bobaedream.co.kr/mycar/mycar_view.p...\n",
       "4           렉서스 ES 350 슈페리엄  http://www.bobaedream.co.kr/mycar/mycar_view.p..."
      ]
     },
     "execution_count": 49,
     "metadata": {},
     "output_type": "execute_result"
    }
   ],
   "source": [
    "import pandas as pd\n",
    "df = pd.DataFrame({'title':titles, 'link_url':urls})\n",
    "df.head()"
   ]
  },
  {
   "cell_type": "code",
   "execution_count": 51,
   "metadata": {
    "ExecuteTime": {
     "end_time": "2019-06-26T23:17:04.079894Z",
     "start_time": "2019-06-26T23:17:04.067944Z"
    }
   },
   "outputs": [],
   "source": [
    "df.to_csv('Usecar.csv', index=False)"
   ]
  },
  {
   "cell_type": "code",
   "execution_count": 53,
   "metadata": {
    "ExecuteTime": {
     "end_time": "2019-06-26T23:36:27.363759Z",
     "start_time": "2019-06-26T23:36:27.359388Z"
    }
   },
   "outputs": [
    {
     "name": "stdout",
     "output_type": "stream",
     "text": [
      "a​k\n"
     ]
    }
   ],
   "source": [
    "print('a\\u200bk')"
   ]
  },
  {
   "cell_type": "code",
   "execution_count": null,
   "metadata": {},
   "outputs": [],
   "source": []
  }
 ],
 "metadata": {
  "kernelspec": {
   "display_name": "Python 3",
   "language": "python",
   "name": "python3"
  },
  "language_info": {
   "codemirror_mode": {
    "name": "ipython",
    "version": 3
   },
   "file_extension": ".py",
   "mimetype": "text/x-python",
   "name": "python",
   "nbconvert_exporter": "python",
   "pygments_lexer": "ipython3",
   "version": "3.7.3"
  },
  "toc": {
   "base_numbering": 1,
   "nav_menu": {},
   "number_sections": false,
   "sideBar": false,
   "skip_h1_title": false,
   "title_cell": "Table of Contents",
   "title_sidebar": "Contents",
   "toc_cell": false,
   "toc_position": {},
   "toc_section_display": true,
   "toc_window_display": false
  },
  "varInspector": {
   "cols": {
    "lenName": 16,
    "lenType": 16,
    "lenVar": 40
   },
   "kernels_config": {
    "python": {
     "delete_cmd_postfix": "",
     "delete_cmd_prefix": "del ",
     "library": "var_list.py",
     "varRefreshCmd": "print(var_dic_list())"
    },
    "r": {
     "delete_cmd_postfix": ") ",
     "delete_cmd_prefix": "rm(",
     "library": "var_list.r",
     "varRefreshCmd": "cat(var_dic_list()) "
    }
   },
   "types_to_exclude": [
    "module",
    "function",
    "builtin_function_or_method",
    "instance",
    "_Feature"
   ],
   "window_display": false
  }
 },
 "nbformat": 4,
 "nbformat_minor": 2
}
