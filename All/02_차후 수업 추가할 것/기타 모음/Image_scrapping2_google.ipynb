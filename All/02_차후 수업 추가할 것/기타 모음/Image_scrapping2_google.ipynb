{
 "cells": [
  {
   "cell_type": "markdown",
   "metadata": {},
   "source": [
    "구글 image 조회 url 구조\n",
    "- https://www.google.com/search?q=BTS&tbm=isch\n",
    "    - url : https://www.google.com/search\n",
    "    - parameter: q=검색어,  tbm=isch (이미지 탭으로 이동)\n",
    "- div#rges 밑에 img 태그\n",
    "- F12로 볼때랑 조회해서 가져온 것을 볼때가 다르다."
   ]
  },
  {
   "cell_type": "code",
   "execution_count": 3,
   "metadata": {
    "ExecuteTime": {
     "end_time": "2019-07-05T07:27:13.304782Z",
     "start_time": "2019-07-05T07:27:13.041441Z"
    }
   },
   "outputs": [],
   "source": [
    "import requests\n",
    "from bs4 import BeautifulSoup"
   ]
  },
  {
   "cell_type": "code",
   "execution_count": 4,
   "metadata": {
    "ExecuteTime": {
     "end_time": "2019-07-05T07:27:13.393524Z",
     "start_time": "2019-07-05T07:27:13.389530Z"
    }
   },
   "outputs": [],
   "source": [
    "search_url = 'https://www.google.com/search'\n",
    "param = {'q':'BTS', 'tbm':'isch'}"
   ]
  },
  {
   "cell_type": "code",
   "execution_count": 5,
   "metadata": {
    "ExecuteTime": {
     "end_time": "2019-07-05T07:27:14.239299Z",
     "start_time": "2019-07-05T07:27:13.739573Z"
    }
   },
   "outputs": [],
   "source": [
    "# url 요청\n",
    "res = requests.get(search_url, param)"
   ]
  },
  {
   "cell_type": "code",
   "execution_count": 9,
   "metadata": {
    "ExecuteTime": {
     "end_time": "2019-07-05T07:29:45.937166Z",
     "start_time": "2019-07-05T07:29:45.880221Z"
    }
   },
   "outputs": [],
   "source": [
    "# if res.status == 200\n",
    "html_doc = res.text\n",
    "soup = BeautifulSoup(html_doc)\n",
    "# soup = BeautifulSoup(html_doc, 'lxml')"
   ]
  },
  {
   "cell_type": "code",
   "execution_count": 20,
   "metadata": {
    "ExecuteTime": {
     "end_time": "2019-07-05T07:39:00.717465Z",
     "start_time": "2019-07-05T07:38:57.061114Z"
    }
   },
   "outputs": [],
   "source": [
    "for idx, img_tag in enumerate(img_tags):\n",
    "    src_attr = img_tag.get('src')\n",
    "    img = requests.get(src_attr)\n",
    "    with open('./google_imgs/{}.jpg'.format(idx), 'wb') as file:\n",
    "        file.write(img.content)"
   ]
  },
  {
   "cell_type": "markdown",
   "metadata": {},
   "source": [
    "### 참고 소스"
   ]
  },
  {
   "cell_type": "code",
   "execution_count": null,
   "metadata": {},
   "outputs": [],
   "source": [
    "#### 참고 소스\n",
    "\n",
    "#  내장함수\n",
    "from urllib.request import urlopen\n",
    "# 명령행 파싱 모듈 argparse 모듈 사용\n",
    "import argparse\n",
    "# request => 요청하는거를 웹에 요청한 결과값을 얻어올수 있는 모듈\n",
    "import requests as req\n",
    "# 웹에 요청한 결과를 보내주는 모듈\n",
    "from bs4 import BeautifulSoup\n",
    "\n",
    "\n",
    "parser = argparse.ArgumentParser()\n",
    "#a\n",
    "parser.add_argument(\"-name\", \"--people\", required=True)\n",
    "#  명령행 옵션을 지정하기 위해 사용합니다 명령행 옵션 인자는 -name으로 지정\n",
    "args = parser.parse_args()\n",
    "#parse에 add_argument()함수 사용해 args 인스턴스생성\n",
    "people = args.people\n",
    "# 명령행에서 받은 인자값을 people에 값을 넘겨줌\n",
    "\n",
    "def main():\n",
    "\n",
    "    # 사용한 구글 url https://www.google.co.kr/search?q=%EB%B2%A4&tbm=isch\n",
    "\n",
    "    url_info = \"https://www.google.co.kr/search?\"\n",
    "\n",
    "    #params에 딕션을 넣어줌\n",
    "    params = {\n",
    "        #명령행에서 받은 인자값을 people로 넣어줌\n",
    "        \"q\" : people,\n",
    "        \"tbm\":\"isch\"\n",
    "    }\n",
    "    #url 요청 파싱값\n",
    "    html_object = req.get(url_info,params) #html_object html source 값\n",
    "\n",
    "    if html_object.status_code == 200:\n",
    "        #페이지 status_code 가 200 일때 2XX 는 성공을 이야기함\n",
    "        bs_object = BeautifulSoup(html_object.text,\"html.parser\")\n",
    "        #인스턴스 생성\n",
    "        img_data = bs_object.find_all(\"img\")\n",
    "        #인스턴스의 find_all 이라는 함수에 img 태그가 있으면 img_data에 넣어줌\n",
    "\n",
    "        for i in enumerate(img_data[1:]):\n",
    "            #딕셔너리를 순서대로 넣어줌\n",
    "            t = urlopen(i[1].attrs['src']).read()\n",
    "\n",
    "\n",
    "            filename = \"byeongwoo_\"+str(i[0]+1)+'.jpg'\n",
    "\n",
    "\n",
    "            with open(filename,\"wb\") as f:\n",
    "\n",
    "\n",
    "                f.write(t)\n",
    "            print(\"Img Save Success\")\n"
   ]
  }
 ],
 "metadata": {
  "kernelspec": {
   "display_name": "Python 3",
   "language": "python",
   "name": "python3"
  },
  "language_info": {
   "codemirror_mode": {
    "name": "ipython",
    "version": 3
   },
   "file_extension": ".py",
   "mimetype": "text/x-python",
   "name": "python",
   "nbconvert_exporter": "python",
   "pygments_lexer": "ipython3",
   "version": "3.7.3"
  },
  "toc": {
   "base_numbering": 1,
   "nav_menu": {},
   "number_sections": false,
   "sideBar": false,
   "skip_h1_title": false,
   "title_cell": "Table of Contents",
   "title_sidebar": "Contents",
   "toc_cell": false,
   "toc_position": {},
   "toc_section_display": true,
   "toc_window_display": false
  },
  "varInspector": {
   "cols": {
    "lenName": 16,
    "lenType": 16,
    "lenVar": 40
   },
   "kernels_config": {
    "python": {
     "delete_cmd_postfix": "",
     "delete_cmd_prefix": "del ",
     "library": "var_list.py",
     "varRefreshCmd": "print(var_dic_list())"
    },
    "r": {
     "delete_cmd_postfix": ") ",
     "delete_cmd_prefix": "rm(",
     "library": "var_list.r",
     "varRefreshCmd": "cat(var_dic_list()) "
    }
   },
   "types_to_exclude": [
    "module",
    "function",
    "builtin_function_or_method",
    "instance",
    "_Feature"
   ],
   "window_display": false
  }
 },
 "nbformat": 4,
 "nbformat_minor": 2
}
