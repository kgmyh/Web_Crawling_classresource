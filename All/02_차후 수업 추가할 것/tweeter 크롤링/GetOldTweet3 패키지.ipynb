{
 "cells": [
  {
   "cell_type": "code",
   "execution_count": 2,
   "metadata": {
    "ExecuteTime": {
     "end_time": "2019-10-12T10:47:57.592944Z",
     "start_time": "2019-10-12T10:47:53.029958Z"
    }
   },
   "outputs": [
    {
     "name": "stdout",
     "output_type": "stream",
     "text": [
      "Collecting GetOldTweets3\n",
      "  Downloading https://files.pythonhosted.org/packages/9b/e6/e0d40bcdff849dd2aede00c043b16862d94f887fffdd8f0a14e4d4a8baf0/GetOldTweets3-0.0.10-py3-none-any.whl\n",
      "Collecting pyquery>=1.2.10 (from GetOldTweets3)\n",
      "  Downloading https://files.pythonhosted.org/packages/09/c7/ce8c9c37ab8ff8337faad3335c088d60bed4a35a4bed33a64f0e64fbcf29/pyquery-1.4.0-py2.py3-none-any.whl\n",
      "Requirement already satisfied: lxml>=3.5.0 in c:\\users\\kgmyh\\miniconda3\\lib\\site-packages (from GetOldTweets3) (4.4.1)\n",
      "Collecting cssselect>0.7.9 (from pyquery>=1.2.10->GetOldTweets3)\n",
      "  Downloading https://files.pythonhosted.org/packages/3b/d4/3b5c17f00cce85b9a1e6f91096e1cc8e8ede2e1be8e96b87ce1ed09e92c5/cssselect-1.1.0-py2.py3-none-any.whl\n",
      "Installing collected packages: cssselect, pyquery, GetOldTweets3\n",
      "Successfully installed GetOldTweets3-0.0.10 cssselect-1.1.0 pyquery-1.4.0\n"
     ]
    }
   ],
   "source": [
    "!pip install GetOldTweets3"
   ]
  },
  {
   "cell_type": "markdown",
   "metadata": {},
   "source": [
    "# GetOldTweets3\n",
    "- https://github.com/Mottl/GetOldTweets3\n",
    "- 트위터 공식 API를 이용할 경우 개발자 계정이 standard (무료계정)일 경우우 최근 7일치 트윗만 받아 올 수있다.\n",
    "- GetOldTweets는 웹 크롤링을 기반으로한 트위터 크롤링 API\n",
    "\n",
    "## 설치\n",
    "- pip install GetOldTweets3\n",
    "\n",
    "## 주요 클래스\n",
    "### Tweet\n",
    "    - 하나의 트윗 데이터를 가지는 클래스\n",
    "    - id : (str) 트윗글 아이디\n",
    "    - permalink : (str)\n",
    "    - username : (str)\n",
    "    - to : (str)\n",
    "    - text : (str)\n",
    "    - date : (datetime) in UTC\n",
    "    - retweets : (int)\n",
    "    - favorites : (int)\n",
    "    - mentions : (str)\n",
    "    - hashtags : (str)\n",
    "    - geo : (str)\n",
    "    \n",
    "### TweetManager\n",
    "    - 트윗들을 조회하는 manager 클래스\n",
    "    - getTweets(**TwitterCriteria): 트윗을 조회하는 메소드\n",
    "\n",
    "### TwitterCriteria\n",
    "    - 트위터로 부터 검색할 대상에 대한 설정을 하는 클래스로 TweetManager로 조회시 전달 된다.\n",
    "    - setUsername(str): 조회할 twitter 계정\n",
    "    - setSince('yyyy-mm-dd': str): 검색 기간의 시작 일자\n",
    "    - setUntil('yyyy-mm-dd': str): 검색 기간의 끝 일자\n",
    "    - setQueryString(str): 조회할 키워드\n",
    "    - setMaxTweets(int): 가져올 최대 트윗개수 설정. 생략하면 가능한 모든 트윗 가져온다."
   ]
  },
  {
   "cell_type": "code",
   "execution_count": 3,
   "metadata": {
    "ExecuteTime": {
     "end_time": "2019-10-12T10:49:17.036487Z",
     "start_time": "2019-10-12T10:49:16.875806Z"
    }
   },
   "outputs": [],
   "source": [
    "import GetOldTweets3 as got"
   ]
  },
  {
   "cell_type": "code",
   "execution_count": 73,
   "metadata": {
    "ExecuteTime": {
     "end_time": "2019-10-12T12:42:30.185763Z",
     "start_time": "2019-10-12T12:42:28.707394Z"
    }
   },
   "outputs": [
    {
     "name": "stdout",
     "output_type": "stream",
     "text": [
      "2019-01-01~2019-10-01기간 #deeplearning로 등록된 트윗 조회\n",
      "총 트윗수 : 10\n"
     ]
    }
   ],
   "source": [
    "# tweetCriteria : 수집기준 설정\n",
    "\n",
    "# 특정 키워드로 검색\n",
    "\n",
    "import time\n",
    "keyword = '#deeplearning'  # twitter 검색시 url q=xxx xxx를 keyword로 넣으면 된다.\n",
    "\n",
    "# 수집기간 설정\n",
    "start_date = '2019-01-01'\n",
    "end_date = '2019-10-01'\n",
    "\n",
    "###  트윗 수집 기준 정의\n",
    "# 기간, 상위, 10개, keyword\n",
    "# tweetCriteria = got.manager.TweetCriteria().setQuerySearch(keyword)\\\n",
    "#                                            .setSince(start_date)\\\n",
    "#                                            .setUntil(end_date)\\\n",
    "#                                            .setTopTweets(True)\\\n",
    "#                                            .setMaxTweets(10)\n",
    "\n",
    "### 사용자로 찾기\n",
    "tweetCriteria = got.manager.TweetCriteria().setUsername('@realDonaldTrump').setSince(start_date).setUntil(end_date).setMaxTweets(10)\n",
    "###  수집하기\n",
    "print(f\"{start_date}~{end_date}기간 {keyword}로 등록된 트윗 조회\")\n",
    "tweets = got.manager.TweetManager.getTweets(tweetCriteria)\n",
    "print(f\"총 트윗수 : {len(tweets)}\")"
   ]
  },
  {
   "cell_type": "markdown",
   "metadata": {},
   "source": [
    "### Error 104\n",
    "- An error occured during an HTTP request: [Errno 104] Connection reset by peer\n",
    "- 너무 많은 트윗이 수집될 경우 발생할 수 잇다.\n",
    "- 발생하면 기간을 줄여서 받는 양을 줄인다.\n",
    "    "
   ]
  },
  {
   "cell_type": "code",
   "execution_count": 74,
   "metadata": {
    "ExecuteTime": {
     "end_time": "2019-10-12T12:42:32.699112Z",
     "start_time": "2019-10-12T12:42:32.697086Z"
    }
   },
   "outputs": [],
   "source": [
    "# 원하는 정보만 뽑아 내기\n",
    "# GetOldTweet3은 유저 아이디, 트윗 링크, 트윗 내용, 날짜, 리트윗 수, 관심글 수를 수집한다."
   ]
  },
  {
   "cell_type": "code",
   "execution_count": 75,
   "metadata": {
    "ExecuteTime": {
     "end_time": "2019-10-12T12:42:33.596484Z",
     "start_time": "2019-10-12T12:42:33.591510Z"
    }
   },
   "outputs": [
    {
     "data": {
      "text/plain": [
       "('realDonaldTrump',\n",
       " '1178821592421404678',\n",
       " datetime.datetime(2019, 9, 30, 23, 59, 3, tzinfo=datetime.timezone.utc),\n",
       " 'pic.twitter.com/DJLYoma7KB',\n",
       " '')"
      ]
     },
     "execution_count": 75,
     "metadata": {},
     "output_type": "execute_result"
    }
   ],
   "source": [
    "t = tweets[0]\n",
    "t.username, t.id, t.date, t.text, t.hashtags"
   ]
  },
  {
   "cell_type": "code",
   "execution_count": 60,
   "metadata": {
    "ExecuteTime": {
     "end_time": "2019-10-12T12:22:47.423210Z",
     "start_time": "2019-10-12T12:22:47.343424Z"
    }
   },
   "outputs": [],
   "source": [
    "from random import uniform\n",
    "\n",
    "tweet_list = []\n",
    "\n",
    "for tweet in tweets: #위에서 조회한 트윗들\n",
    "    # 데이터 조회\n",
    "    username = tweet.username\n",
    "    link = tweet.permalink\n",
    "    text = tweet.text\n",
    "    tweet_date = tweet.date.strftime('%Y-%m-%d')\n",
    "    tweet_time = tweet.date.strftime('%H:%M:%S')\n",
    "    retweets = tweet.retweets\n",
    "    favorites = tweet.favorites\n",
    "    mentions = tweet.mentions\n",
    "    tmp_list = [username, link, text, tweet_date, tweet_time, retweets, favorites, mentions]\n",
    "    tweet_list.append(tmp_list)"
   ]
  },
  {
   "cell_type": "code",
   "execution_count": 61,
   "metadata": {
    "ExecuteTime": {
     "end_time": "2019-10-12T12:22:53.339239Z",
     "start_time": "2019-10-12T12:22:53.277438Z"
    }
   },
   "outputs": [
    {
     "data": {
      "text/html": [
       "<div>\n",
       "<style scoped>\n",
       "    .dataframe tbody tr th:only-of-type {\n",
       "        vertical-align: middle;\n",
       "    }\n",
       "\n",
       "    .dataframe tbody tr th {\n",
       "        vertical-align: top;\n",
       "    }\n",
       "\n",
       "    .dataframe thead th {\n",
       "        text-align: right;\n",
       "    }\n",
       "</style>\n",
       "<table border=\"1\" class=\"dataframe\">\n",
       "  <thead>\n",
       "    <tr style=\"text-align: right;\">\n",
       "      <th></th>\n",
       "      <th>username</th>\n",
       "      <th>link</th>\n",
       "      <th>mention</th>\n",
       "      <th>tweet_date</th>\n",
       "      <th>tweet_time</th>\n",
       "      <th>retweets</th>\n",
       "      <th>favorites</th>\n",
       "      <th>mentions</th>\n",
       "    </tr>\n",
       "  </thead>\n",
       "  <tbody>\n",
       "    <tr>\n",
       "      <td>0</td>\n",
       "      <td>14days_c</td>\n",
       "      <td>https://twitter.com/14days_c/status/1178459405...</td>\n",
       "      <td>* 성헌 「예빈한테서 문자가 왔다네. 『감기라면서요, 괜찮으세요? 저 선생님이 걱정...</td>\n",
       "      <td>2019-09-29</td>\n",
       "      <td>23:59:51</td>\n",
       "      <td>0</td>\n",
       "      <td>0</td>\n",
       "      <td></td>\n",
       "    </tr>\n",
       "    <tr>\n",
       "      <td>1</td>\n",
       "      <td>J_jin0420</td>\n",
       "      <td>https://twitter.com/J_jin0420/status/117845933...</td>\n",
       "      <td>朝は寒いね... 감기 걸렸다((쿨쩍))</td>\n",
       "      <td>2019-09-29</td>\n",
       "      <td>23:59:35</td>\n",
       "      <td>0</td>\n",
       "      <td>0</td>\n",
       "      <td></td>\n",
       "    </tr>\n",
       "    <tr>\n",
       "      <td>2</td>\n",
       "      <td>gyogyo_hjj</td>\n",
       "      <td>https://twitter.com/gyogyo_hjj/status/11784593...</td>\n",
       "      <td>오늘아침 코 안막혀서 감기나앗나??!? 응아냐 ~</td>\n",
       "      <td>2019-09-29</td>\n",
       "      <td>23:59:30</td>\n",
       "      <td>0</td>\n",
       "      <td>0</td>\n",
       "      <td></td>\n",
       "    </tr>\n",
       "    <tr>\n",
       "      <td>3</td>\n",
       "      <td>mireu_grace</td>\n",
       "      <td>https://twitter.com/mireu_grace/status/1178459...</td>\n",
       "      <td>아 감기걸릴걸ㅠ</td>\n",
       "      <td>2019-09-29</td>\n",
       "      <td>23:59:24</td>\n",
       "      <td>0</td>\n",
       "      <td>2</td>\n",
       "      <td></td>\n",
       "    </tr>\n",
       "    <tr>\n",
       "      <td>4</td>\n",
       "      <td>Chaming_Rin</td>\n",
       "      <td>https://twitter.com/Chaming_Rin/status/1178459...</td>\n",
       "      <td>아,아니옵니다...! 감기는 나았사와요...!</td>\n",
       "      <td>2019-09-29</td>\n",
       "      <td>23:59:17</td>\n",
       "      <td>0</td>\n",
       "      <td>0</td>\n",
       "      <td></td>\n",
       "    </tr>\n",
       "  </tbody>\n",
       "</table>\n",
       "</div>"
      ],
      "text/plain": [
       "      username                                               link  \\\n",
       "0     14days_c  https://twitter.com/14days_c/status/1178459405...   \n",
       "1    J_jin0420  https://twitter.com/J_jin0420/status/117845933...   \n",
       "2   gyogyo_hjj  https://twitter.com/gyogyo_hjj/status/11784593...   \n",
       "3  mireu_grace  https://twitter.com/mireu_grace/status/1178459...   \n",
       "4  Chaming_Rin  https://twitter.com/Chaming_Rin/status/1178459...   \n",
       "\n",
       "                                             mention  tweet_date tweet_time  \\\n",
       "0  * 성헌 「예빈한테서 문자가 왔다네. 『감기라면서요, 괜찮으세요? 저 선생님이 걱정...  2019-09-29   23:59:51   \n",
       "1                              朝は寒いね... 감기 걸렸다((쿨쩍))  2019-09-29   23:59:35   \n",
       "2                        오늘아침 코 안막혀서 감기나앗나??!? 응아냐 ~  2019-09-29   23:59:30   \n",
       "3                                           아 감기걸릴걸ㅠ  2019-09-29   23:59:24   \n",
       "4                          아,아니옵니다...! 감기는 나았사와요...!  2019-09-29   23:59:17   \n",
       "\n",
       "   retweets  favorites mentions  \n",
       "0         0          0           \n",
       "1         0          0           \n",
       "2         0          0           \n",
       "3         0          2           \n",
       "4         0          0           "
      ]
     },
     "execution_count": 61,
     "metadata": {},
     "output_type": "execute_result"
    }
   ],
   "source": [
    "import pandas as pd\n",
    "# [[],[],[]] => 안쪽 list가 행으로 들어간다.\n",
    "df = pd.DataFrame(tweet_list, columns=['username','link','mention','tweet_date','tweet_time', 'retweets','favorites', 'mentions'])\n",
    "df.to_csv('twitter_data.csv', index=False)\n",
    "df.head()"
   ]
  },
  {
   "cell_type": "code",
   "execution_count": null,
   "metadata": {},
   "outputs": [],
   "source": []
  }
 ],
 "metadata": {
  "kernelspec": {
   "display_name": "Python 3",
   "language": "python",
   "name": "python3"
  },
  "language_info": {
   "codemirror_mode": {
    "name": "ipython",
    "version": 3
   },
   "file_extension": ".py",
   "mimetype": "text/x-python",
   "name": "python",
   "nbconvert_exporter": "python",
   "pygments_lexer": "ipython3",
   "version": "3.7.4"
  },
  "toc": {
   "base_numbering": 1,
   "nav_menu": {},
   "number_sections": true,
   "sideBar": true,
   "skip_h1_title": false,
   "title_cell": "Table of Contents",
   "title_sidebar": "Contents",
   "toc_cell": false,
   "toc_position": {},
   "toc_section_display": true,
   "toc_window_display": false
  },
  "varInspector": {
   "cols": {
    "lenName": 16,
    "lenType": 16,
    "lenVar": 40
   },
   "kernels_config": {
    "python": {
     "delete_cmd_postfix": "",
     "delete_cmd_prefix": "del ",
     "library": "var_list.py",
     "varRefreshCmd": "print(var_dic_list())"
    },
    "r": {
     "delete_cmd_postfix": ") ",
     "delete_cmd_prefix": "rm(",
     "library": "var_list.r",
     "varRefreshCmd": "cat(var_dic_list()) "
    }
   },
   "types_to_exclude": [
    "module",
    "function",
    "builtin_function_or_method",
    "instance",
    "_Feature"
   ],
   "window_display": false
  }
 },
 "nbformat": 4,
 "nbformat_minor": 2
}
