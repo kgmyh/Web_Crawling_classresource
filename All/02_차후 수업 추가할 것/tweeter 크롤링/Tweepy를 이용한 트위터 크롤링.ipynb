{
 "cells": [
  {
   "cell_type": "markdown",
   "metadata": {},
   "source": [
    "- 트위터개발자 사이트 : https://developer.twitter.com\n",
    "- http://www.tweepy.org/"
   ]
  },
  {
   "cell_type": "markdown",
   "metadata": {},
   "source": [
    "## 트위터 API를 이용한 트윗 크롤링\n",
    "- 트위터 개발자 사이트에 등록 해야 한다.\n",
    "- 무료로 최근 7일치만 제공 그 이상은 일정 금액 지불\n",
    "\n",
    "### 계정등록\n",
    "### create app\n",
    "- 대쉬보드 우상단의 계정을 클릭후 App항목 클릭\n",
    "![apps](img/01_apps.png)\n",
    "\n",
    "- App생성\n",
    "\n",
    "- App Detail 에서 required 항목을 넣는다.\n",
    "    - app name은 중복되면 안된다.\n",
    "- 키 확인\n",
    "    - App이 생성되면 고객 키(Consumer Key) 와 비밀번호(Consumer Secret), 접속 토큰(Access Token) 과 접속 토큰 비밀번호(Access Secret) 를 확인. 만약 의심스러운 경우Regenerate 버튼을 눌러 재생성 할 수 있다.\n",
    "![apps](img/03_apps_key.png)"
   ]
  },
  {
   "cell_type": "markdown",
   "metadata": {},
   "source": [
    "# tweepy 주요 모듈\n",
    "- API : 트위터가 제공하는 API에 접근하는 기능을 제공하는 클래스\n",
    "- Models: Twitter API가 반환하는 Data를 담고 있는 객체. \n",
    "    - API의 메소드를 통해 요청한 데이터가 Models에 담겨 반환된다."
   ]
  },
  {
   "cell_type": "code",
   "execution_count": 2,
   "metadata": {
    "ExecuteTime": {
     "end_time": "2019-10-12T10:20:39.636691Z",
     "start_time": "2019-10-12T10:20:37.868765Z"
    }
   },
   "outputs": [],
   "source": [
    "import tweepy\n",
    "from tweepy import OAuthHandler, API\n",
    "import pandas as pd"
   ]
  },
  {
   "cell_type": "code",
   "execution_count": 3,
   "metadata": {
    "ExecuteTime": {
     "end_time": "2019-10-12T10:20:39.642560Z",
     "start_time": "2019-10-12T10:20:39.638537Z"
    }
   },
   "outputs": [],
   "source": [
    "# tweeter_key = {\n",
    "#     'cunsumer_key':'WgGk5cuwWXzQ2gJqttZhiUvWU',\n",
    "#     'cunsumer_secret_key':'C5fl24dlvRG5Ln7Pp7tPbFLKuwULEgKikMKgVcTn1xkrP6x69S',\n",
    "#     'access_token':'60057133-AbtMAwrcDU2zns9yNdBhLX8voGgeEzz0krixmTTBz',\n",
    "#     'access_token_secret':'6P43ugggEzRwey8gNKVSNS3ncnVASDsjA0yaOJeTYvOFw'\n",
    "# }\n",
    "# import pickle\n",
    "# with open('keys.pkl', 'wb') as f:\n",
    "#     pickle.dump(tweeter_key, f)"
   ]
  },
  {
   "cell_type": "code",
   "execution_count": 4,
   "metadata": {
    "ExecuteTime": {
     "end_time": "2019-10-12T10:20:39.651533Z",
     "start_time": "2019-10-12T10:20:39.644521Z"
    }
   },
   "outputs": [],
   "source": [
    "import pickle\n",
    "with open('keys.pkl', 'rb') as f:\n",
    "    keys = pickle.load(f)  "
   ]
  },
  {
   "cell_type": "code",
   "execution_count": 5,
   "metadata": {
    "ExecuteTime": {
     "end_time": "2019-10-12T10:20:39.657515Z",
     "start_time": "2019-10-12T10:20:39.653504Z"
    }
   },
   "outputs": [],
   "source": [
    "# 인증을 위한 cunsumer_key 등록\n",
    "CONSUMER_KEY = keys['cunsumer_key']\n",
    "CONSUMER_SECRET = keys['cunsumer_secret_key']\n",
    "\n",
    "# access를 위한 access_token 등록\n",
    "ACCESS_TOKEN = keys['access_token']\n",
    "ACCESS_TOKEN_SECRET =keys['access_token_secret']"
   ]
  },
  {
   "cell_type": "code",
   "execution_count": 6,
   "metadata": {
    "ExecuteTime": {
     "end_time": "2019-10-12T10:20:39.665464Z",
     "start_time": "2019-10-12T10:20:39.659481Z"
    }
   },
   "outputs": [],
   "source": [
    "# 인증 받기\n",
    "auth = OAuthHandler(CONSUMER_KEY, CONSUMER_SECRET)\n",
    "# access 토큰 요청\n",
    "auth.set_access_token(ACCESS_TOKEN, ACCESS_TOKEN_SECRET)\n",
    "\n",
    "# API 객체 생성. \n",
    "api = API(auth)"
   ]
  },
  {
   "cell_type": "code",
   "execution_count": 7,
   "metadata": {
    "ExecuteTime": {
     "end_time": "2019-10-12T10:20:45.370437Z",
     "start_time": "2019-10-12T10:20:39.667459Z"
    }
   },
   "outputs": [
    {
     "name": "stdout",
     "output_type": "stream",
     "text": [
      "키워드:bts\n"
     ]
    }
   ],
   "source": [
    "# 키워드 입력 받아 트윗검색\n",
    "keyword = input(\"키워드:\")"
   ]
  },
  {
   "cell_type": "code",
   "execution_count": null,
   "metadata": {},
   "outputs": [],
   "source": [
    "max_tweets = 5\n",
    "searched_tweets = []\n",
    "last_id = -1\n",
    "while len(searched_tweets) < max_tweets:\n",
    "    count = max_tweets - len(searched_tweets)\n",
    "    print(\"count:%d\" % count)\n",
    "    try:\n",
    "        new_tweets = api.search(q=keyword, count=count) #??파라미터 count 역할?\n",
    "        \n",
    "        if not new_tweets:\n",
    "            break\n",
    "        searched_tweets.extend(new_tweets)\n",
    "#         last_id = new_tweets.id\n",
    "        \n",
    "    except tweepy.TweepError as e:\n",
    "        print(e)\n",
    "        break\n",
    "        "
   ]
  },
  {
   "cell_type": "code",
   "execution_count": 14,
   "metadata": {
    "ExecuteTime": {
     "end_time": "2019-10-12T10:30:22.066625Z",
     "start_time": "2019-10-12T10:30:22.062606Z"
    }
   },
   "outputs": [
    {
     "data": {
      "text/plain": [
       "'2019-10-12 10:20:31'"
      ]
     },
     "execution_count": 14,
     "metadata": {},
     "output_type": "execute_result"
    }
   ],
   "source": [
    "a = searched_tweets[0].created_at #datetime.datetime\n",
    "a.strftime('%Y-%m-%d %H:%M:%S')"
   ]
  },
  {
   "cell_type": "code",
   "execution_count": 16,
   "metadata": {
    "ExecuteTime": {
     "end_time": "2019-10-12T10:32:45.044361Z",
     "start_time": "2019-10-12T10:32:45.038377Z"
    }
   },
   "outputs": [
    {
     "name": "stdout",
     "output_type": "stream",
     "text": [
      "id:@smileyhob\n",
      "method:RT @tarem03624691: #mattelbts #btsdoll #repainting #리페인팅 #마텔 #bts  자식자랑을 하러 오신 연탄이 아부지.와 김연탄. “안녕~! 난 뷔부지의 자식 김연탄이야🐶” https://t.co/wam3JfHZ…\n",
      "date:2019-10-12\n",
      "time:10:20:31\n"
     ]
    }
   ],
   "source": [
    "t = searched_tweets[0]\n",
    "#정보추출\n",
    "created_time = t.created_at\n",
    "\n",
    "id = '@'+t.user.screen_name\n",
    "mention = t.text\n",
    "date = created_time.strftime('%Y-%m-%d')\n",
    "time = created_time.strftime('%H:%M:%S')\n",
    "print('id:{}\\nmention:{}\\ndate:{}\\ntime:{}'.format(id,\n",
    "                                                  mention, \n",
    "                                                  date, \n",
    "                                                  time))"
   ]
  },
  {
   "cell_type": "code",
   "execution_count": null,
   "metadata": {},
   "outputs": [],
   "source": []
  }
 ],
 "metadata": {
  "kernelspec": {
   "display_name": "Python 3",
   "language": "python",
   "name": "python3"
  },
  "language_info": {
   "codemirror_mode": {
    "name": "ipython",
    "version": 3
   },
   "file_extension": ".py",
   "mimetype": "text/x-python",
   "name": "python",
   "nbconvert_exporter": "python",
   "pygments_lexer": "ipython3",
   "version": "3.7.4"
  },
  "toc": {
   "base_numbering": 1,
   "nav_menu": {},
   "number_sections": true,
   "sideBar": true,
   "skip_h1_title": false,
   "title_cell": "Table of Contents",
   "title_sidebar": "Contents",
   "toc_cell": false,
   "toc_position": {},
   "toc_section_display": true,
   "toc_window_display": false
  },
  "varInspector": {
   "cols": {
    "lenName": 16,
    "lenType": 16,
    "lenVar": 40
   },
   "kernels_config": {
    "python": {
     "delete_cmd_postfix": "",
     "delete_cmd_prefix": "del ",
     "library": "var_list.py",
     "varRefreshCmd": "print(var_dic_list())"
    },
    "r": {
     "delete_cmd_postfix": ") ",
     "delete_cmd_prefix": "rm(",
     "library": "var_list.r",
     "varRefreshCmd": "cat(var_dic_list()) "
    }
   },
   "types_to_exclude": [
    "module",
    "function",
    "builtin_function_or_method",
    "instance",
    "_Feature"
   ],
   "window_display": false
  }
 },
 "nbformat": 4,
 "nbformat_minor": 2
}
